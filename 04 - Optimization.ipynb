{
 "cells": [
  {
   "cell_type": "markdown",
   "id": "ceb97a6d-a04c-41f7-a68a-9be4e5e36958",
   "metadata": {},
   "source": [
    "# Optimization with DSPY"
   ]
  },
  {
   "cell_type": "code",
   "execution_count": 10,
   "id": "e341c1e3-c6cf-4269-b225-6b0d122e77bd",
   "metadata": {},
   "outputs": [],
   "source": [
    "import dspy\n",
    "from dspy.evaluate import Evaluate\n",
    "from typing import Literal\n",
    "import pandas as pd\n",
    "import numpy as np\n",
    "import time\n",
    "import bert_score\n",
    "import warnings\n",
    "from transformers import logging\n",
    "import os\n",
    "from dotenv import load_dotenv"
   ]
  },
  {
   "cell_type": "code",
   "execution_count": 2,
   "id": "614308fd-b4df-47e6-b94e-9b5d139d0ea3",
   "metadata": {},
   "outputs": [
    {
     "data": {
      "text/plain": [
       "True"
      ]
     },
     "execution_count": 2,
     "metadata": {},
     "output_type": "execute_result"
    }
   ],
   "source": [
    "load_dotenv()"
   ]
  },
  {
   "cell_type": "markdown",
   "id": "3558f5d5-ccd3-4e01-a5c0-9986addae26b",
   "metadata": {},
   "source": [
    "### Settings"
   ]
  },
  {
   "cell_type": "code",
   "execution_count": null,
   "id": "775808a2-1b92-4bf6-b2f0-4a749044b56d",
   "metadata": {},
   "outputs": [],
   "source": [
    "wait_time = 0 # impostare se ci sono rate limits, altrimenti lasciare 0\n",
    "debug_mode = False"
   ]
  },
  {
   "cell_type": "code",
   "execution_count": 3,
   "id": "f9c94d03-3d84-4362-93cb-f06ebf2a03e6",
   "metadata": {},
   "outputs": [],
   "source": [
    "data_folder = './data/'\n",
    "result_folder = './results/'\n",
    "prompt_folder = './prompts/'\n",
    "optimizers_folder = './optimizers/'"
   ]
  },
  {
   "cell_type": "markdown",
   "id": "76467ca9-7259-4d92-a8ed-861087f86595",
   "metadata": {},
   "source": [
    "### LLM"
   ]
  },
  {
   "cell_type": "code",
   "execution_count": 4,
   "id": "1f5dc3e3-6467-482e-86b7-218a08ca19e5",
   "metadata": {},
   "outputs": [],
   "source": [
    "model_name = 'mistral'\n",
    "lm = dspy.LM('mistral/mistral-large-latest', api_key = os.getenv(\"MISTRAL_API_KEY\")) # Default temperature = 0.0\n",
    "dspy.configure(lm = lm)"
   ]
  },
  {
   "cell_type": "code",
   "execution_count": 5,
   "id": "12db2591-11ed-47b8-b690-3886116f77f6",
   "metadata": {},
   "outputs": [],
   "source": [
    "# TEST\n",
    "# model_name = 'chatgpt'\n",
    "# dspy.LM('openai/gpt-4o-mini', api_key = os.getenv(\"OPENAI_API_KEY\"))\n",
    "# dspy.configure(lm = lm)"
   ]
  },
  {
   "cell_type": "code",
   "execution_count": 6,
   "id": "e3167ea4-df24-494b-b204-42ec11647b2f",
   "metadata": {},
   "outputs": [],
   "source": [
    "# TEST\n",
    "#model_name = 'llama'\n",
    "#lm = dspy.LM('ollama_chat/llama3.2', api_base='http://localhost:11434', api_key='')\n",
    "#dspy.configure(lm = lm)"
   ]
  },
  {
   "cell_type": "code",
   "execution_count": 7,
   "id": "a47c4840-832e-4f83-860a-3c9fbba24703",
   "metadata": {},
   "outputs": [],
   "source": [
    "# TEST\n",
    "# model_name = 'qwen'\n",
    "# lm = dspy.LM(\n",
    "#     'openai/qwen2.5-72b-instruct-large-latest', \n",
    "#     api_key = os.getenv('DASHSCOPE_API_KEY'),\n",
    "#     api_base = 'https://dashscope-intl.aliyuncs.com/compatible-mode/v1'\n",
    "# )\n",
    "# dspy.configure(lm = lm)"
   ]
  },
  {
   "cell_type": "code",
   "execution_count": 8,
   "id": "8016b2ab-d1df-4cc5-9fbd-8516542f3de7",
   "metadata": {},
   "outputs": [],
   "source": [
    "# TEST\n",
    "# model_name = 'deepseek'\n",
    "# lm = dspy.LM(\n",
    "#     'deepseek/deepseek-chat', \n",
    "#     api_key = os.getenv('DEEPSEEK_API_KEY'),\n",
    "#     api_base = 'https://api.deepseek.com'\n",
    "# )\n",
    "# dspy.configure(lm = lm)"
   ]
  },
  {
   "cell_type": "code",
   "execution_count": 9,
   "id": "4fcc276e-ba44-4047-b1b8-095050e3c5f3",
   "metadata": {},
   "outputs": [
    {
     "name": "stdout",
     "output_type": "stream",
     "text": [
      "['The sum of 2 + 2 is 4. Here it is:\\n\\n2\\n+2\\n____\\n4']\n"
     ]
    }
   ],
   "source": [
    "# TEST\n",
    "print(lm(\"What is 2+2?\"))"
   ]
  },
  {
   "cell_type": "code",
   "execution_count": 10,
   "id": "5437f891-b75f-4b60-9e22-4ced48801be1",
   "metadata": {},
   "outputs": [],
   "source": []
  },
  {
   "cell_type": "markdown",
   "id": "2a1e43ca-32c4-4766-9ba6-d53c7c3c43e0",
   "metadata": {},
   "source": [
    "### Prompt ToT"
   ]
  },
  {
   "cell_type": "code",
   "execution_count": 11,
   "id": "ab557c48-514c-43b2-af49-060a9c3f15d1",
   "metadata": {},
   "outputs": [
    {
     "name": "stdout",
     "output_type": "stream",
     "text": [
      "Follow this procedure:\n",
      "\n",
      "Imagine three different experts are answering this question.\n",
      "They will brainstorm the answer step by step reasoning carefully and taking all facts into consideration.\n",
      "All experts will write down 1 step of their thinking, then share it with the group.\n",
      "They will each critique their response, and the all the responses of others.\n",
      "They will check their answer on based on the nature of the language and intent.\n",
      "Then all experts will go on to the next step and write down this step of their thinking.\n",
      "They will keep going through steps until they reach their conclusion taking into account the thoughts of the other experts.\n",
      "If at any time they realise that there uncertainty in their logic they will backtrack to where that uncertainty occurred. \n",
      "If any expert realises they're wrong at any point then they acknowledges this and start another train of thought.\n",
      "Each expert will assign a likelihood of their current assertion being correct.\n",
      "Continue until the experts agree on the single most likely classification.\n"
     ]
    }
   ],
   "source": [
    "with open(prompt_folder + 'prompt_tot.txt') as f:\n",
    "    tree_of_thoughts = f.read()\n",
    "print(tree_of_thoughts)"
   ]
  },
  {
   "cell_type": "code",
   "execution_count": null,
   "id": "b43c4486-949f-44e4-885c-dce8348fd4ee",
   "metadata": {},
   "outputs": [],
   "source": []
  },
  {
   "cell_type": "markdown",
   "id": "510edef7-a74a-41b9-9a9b-5d8b2598a6c3",
   "metadata": {},
   "source": [
    "# Stage 1: High Level Categorization"
   ]
  },
  {
   "cell_type": "code",
   "execution_count": 12,
   "id": "6184ff63-19e8-4f26-af29-b0577744d43f",
   "metadata": {},
   "outputs": [],
   "source": [
    "def optimized_classify_stage_1(optimizer, df_hate, result_file, initialize = False):\n",
    "    \n",
    "    if initialize:\n",
    "        # Regenerate output file\n",
    "        df = pd.DataFrame(columns = ['post_id', 'class','confidence','explanation'])\n",
    "        df.to_csv(result_file, encoding = \"utf-8\", index = False)\n",
    "    else:\n",
    "        df_elab = pd.read_csv(result_file, encoding = \"utf-8\")\n",
    "        df_hate = df_hate[~df_hate['post_id'].isin(df_elab['post_id'])]\n",
    "\n",
    "    for idx, row in df_hate.iterrows():\n",
    "    \n",
    "        try:            \n",
    "            time.sleep(wait_time)\n",
    "            classification = optimizer(post = row['post'])\n",
    "        \n",
    "            # Classification stage 1\n",
    "            new_row = {\n",
    "                'post_id': row['post_id'], \n",
    "                'class': classification.hate_class, \n",
    "                'confidence': classification.confidence,\n",
    "                'explanation': classification.explanation\n",
    "            }\n",
    "            df = pd.DataFrame([new_row])\n",
    "            df.to_csv(result_file, encoding = \"utf-8\", mode='a', index=False, header=False)\n",
    "                      \n",
    "        except:\n",
    "          print(\"An exception occurred \" +  str(row['post_id']) ) "
   ]
  },
  {
   "cell_type": "markdown",
   "id": "64b89804-7028-4158-89a0-7865ffd0976f",
   "metadata": {},
   "source": [
    "### Signature"
   ]
  },
  {
   "cell_type": "code",
   "execution_count": 13,
   "id": "0c396770-3866-42ba-a304-414d210ebcc7",
   "metadata": {},
   "outputs": [],
   "source": [
    "with open(prompt_folder + 'prompt_stg1.txt') as f:\n",
    "    prompt_stg1 = f.read()"
   ]
  },
  {
   "cell_type": "code",
   "execution_count": 14,
   "id": "3b088164-e9b0-4ce2-888b-a052bb8756c4",
   "metadata": {},
   "outputs": [],
   "source": [
    "prompt_stg1 = prompt_stg1.replace(\"{tree_of_thoughts}\", tree_of_thoughts)"
   ]
  },
  {
   "cell_type": "code",
   "execution_count": 15,
   "id": "60b4823b-647f-449a-a6a2-3d0e97819c22",
   "metadata": {},
   "outputs": [
    {
     "name": "stdout",
     "output_type": "stream",
     "text": [
      "Your task is to decide whether the following text can be classified an implicit hate speech or not implicit hate speech.\n",
      "\n",
      "Consider the following definition of hate speech:\n",
      "\n",
      "Hate speech is content that targets individuals or groups with abuse based on their perceived membership in protected categories, including but not limited to race, ethnicity, national origin, caste, sexual orientation, gender, gender identity, religious affiliation, age, disability, or serious disease. \n",
      "Specifically, hate speech can contain:\n",
      "\n",
      "- Hateful References: Content referencing forms of violence or violent events where a protected category was the primary target, intended to harass (e.g., genocides like the Holocaust, lynchings).\n",
      "- Incitement: Content inciting fear, spreading fearful stereotypes, or encouraging others to harass or discriminate against members of protected categories (e.g., asserting that members of a religious group are terrorists, urging others to harass individuals wearing religious symbols).\n",
      "- Slurs and Tropes: Repeated use of slurs, tropes, or content intended to degrade or reinforce negative stereotypes about a protected category.\n",
      "- Dehumanization: Content dehumanizing a group of people based on their protected characteristics.\n",
      "- Hateful Imagery: Logos, symbols, or images promoting hostility against others based on protected characteristics (e.g., Nazi swastika, images depicting individuals as less than human).\n",
      "\n",
      "The following definitions and guidelines help classify text as implicit hate speech based on the nature of the language and intent:\n",
      "\n",
      "-Definition of Implicit Hate Speech: Indirect or coded language that conveys prejudicial attitudes without using overt slurs or explicit hate language.\n",
      "-Key Features of Implicit Hate Speech: Abstract or coded references to race, religion, or other protected characteristics. Sarcasm, misinformation, stereotypes, or appeals to racist attitudes without explicit language.\n",
      "\n",
      "\n",
      "Classification Rules\n",
      "\n",
      "If the text uses coded language, abstract references, stereotypes, or other indirect ways of promoting prejudice, classify it as Implicit Hate Speech.\n",
      "Ensure that the identification process considers the context to distinguish between harmful content and permissible expressions, such as consensual use of reclaimed slurs within a community.\n",
      "\n",
      "Follow this procedure:\n",
      "\n",
      "Imagine three different experts are answering this question.\n",
      "They will brainstorm the answer step by step reasoning carefully and taking all facts into consideration.\n",
      "All experts will write down 1 step of their thinking, then share it with the group.\n",
      "They will each critique their response, and the all the responses of others.\n",
      "They will check their answer on based on the nature of the language and intent.\n",
      "Then all experts will go on to the next step and write down this step of their thinking.\n",
      "They will keep going through steps until they reach their conclusion taking into account the thoughts of the other experts.\n",
      "If at any time they realise that there uncertainty in their logic they will backtrack to where that uncertainty occurred. \n",
      "If any expert realises they're wrong at any point then they acknowledges this and start another train of thought.\n",
      "Each expert will assign a likelihood of their current assertion being correct.\n",
      "Continue until the experts agree on the single most likely classification.\n",
      "\n",
      "Give in output \n",
      "1. the final classification as \"implicit_hate\" or \"not_hate\"  \n",
      "2. a confidence level between 0 and 1 for you classification\n",
      "3. an explanation of the most consistent reasoning\n",
      "\n"
     ]
    }
   ],
   "source": [
    "print(prompt_stg1)"
   ]
  },
  {
   "cell_type": "code",
   "execution_count": 16,
   "id": "e249c7aa-9346-4806-b92f-4e0c3d95cdb8",
   "metadata": {},
   "outputs": [],
   "source": [
    "class ClassifyHate(dspy.Signature):\n",
    "    prompt_stg1\n",
    "\n",
    "    post: str = dspy.InputField()\n",
    "    hate_class: Literal[\"implicit_hate\", \"not_hate\"]  = dspy.OutputField()\n",
    "    confidence: float = dspy.OutputField()\n",
    "    explanation : str = dspy.OutputField()\n",
    "\n",
    "classify_hate = dspy.Predict(ClassifyHate)"
   ]
  },
  {
   "cell_type": "markdown",
   "id": "2d7572a5-6fd7-4d4b-944e-afa62f16d722",
   "metadata": {},
   "source": [
    "### Metric"
   ]
  },
  {
   "cell_type": "code",
   "execution_count": 17,
   "id": "f64dbe39-6f17-488a-a5b2-ba9562a9ae3d",
   "metadata": {},
   "outputs": [],
   "source": [
    "def classify_hate_metric(example, prediction, trace=None):\n",
    "    time.sleep(wait_time)\n",
    "    return prediction.hate_class == example.hate_class"
   ]
  },
  {
   "cell_type": "markdown",
   "id": "d9032453-9bf2-495a-90a9-47e002ef3761",
   "metadata": {},
   "source": [
    "### Trainset"
   ]
  },
  {
   "cell_type": "code",
   "execution_count": 18,
   "id": "c0571a01-bcdd-46d7-a033-8311b1441da9",
   "metadata": {},
   "outputs": [],
   "source": [
    "df_train = pd.read_csv(data_folder + \"implicit_hate_train_stg1.csv\", encoding=\"utf-8\")"
   ]
  },
  {
   "cell_type": "code",
   "execution_count": 19,
   "id": "58626bde-a056-4aeb-bd74-89582b3a688c",
   "metadata": {},
   "outputs": [],
   "source": [
    "trainset = []\n",
    "for index, row in df_train.sample(100).iterrows():\n",
    "    example = dspy.Example(post = row['post'], hate_class = row['class']).with_inputs(\"post\")\n",
    "    trainset.append(example)"
   ]
  },
  {
   "cell_type": "markdown",
   "id": "46317b33-58bf-4644-8d74-dece75aecc31",
   "metadata": {},
   "source": [
    "### Evaluator"
   ]
  },
  {
   "cell_type": "code",
   "execution_count": 43,
   "id": "f0c1cca7-f569-47d1-b5c1-232b45af356e",
   "metadata": {},
   "outputs": [
    {
     "name": "stdout",
     "output_type": "stream",
     "text": [
      "Average Metric: 56.00 / 100 (56.0%): 100%|███████████████████████████████████████████| 100/100 [01:40<00:00,  1.01s/it]"
     ]
    },
    {
     "name": "stderr",
     "output_type": "stream",
     "text": [
      "2025/01/08 12:03:10 INFO dspy.evaluate.evaluate: Average Metric: 56 / 100 (56.0%)\n"
     ]
    },
    {
     "name": "stdout",
     "output_type": "stream",
     "text": [
      "\n"
     ]
    },
    {
     "data": {
      "text/html": [
       "<div>\n",
       "<style scoped>\n",
       "    .dataframe tbody tr th:only-of-type {\n",
       "        vertical-align: middle;\n",
       "    }\n",
       "\n",
       "    .dataframe tbody tr th {\n",
       "        vertical-align: top;\n",
       "    }\n",
       "\n",
       "    .dataframe thead th {\n",
       "        text-align: right;\n",
       "    }\n",
       "</style>\n",
       "<table border=\"1\" class=\"dataframe\">\n",
       "  <thead>\n",
       "    <tr style=\"text-align: right;\">\n",
       "      <th></th>\n",
       "      <th>post</th>\n",
       "      <th>example_hate_class</th>\n",
       "      <th>pred_hate_class</th>\n",
       "      <th>confidence</th>\n",
       "      <th>explanation</th>\n",
       "      <th>classify_hate_metric</th>\n",
       "    </tr>\n",
       "  </thead>\n",
       "  <tbody>\n",
       "    <tr>\n",
       "      <th>0</th>\n",
       "      <td>lol ! you guys talk so good . words use to make the fancy statemen...</td>\n",
       "      <td>not_hate</td>\n",
       "      <td>implicit_hate</td>\n",
       "      <td>0.75</td>\n",
       "      <td>The post contains sarcastic language with phrases like \"lol\" and \"...</td>\n",
       "      <td></td>\n",
       "    </tr>\n",
       "    <tr>\n",
       "      <th>1</th>\n",
       "      <td>a petition stop christian court martial policy-check out this arti...</td>\n",
       "      <td>not_hate</td>\n",
       "      <td>not_hate</td>\n",
       "      <td>0.95</td>\n",
       "      <td>The post is sharing an article and expressing a political viewpoin...</td>\n",
       "      <td>✔️ [True]</td>\n",
       "    </tr>\n",
       "    <tr>\n",
       "      <th>2</th>\n",
       "      <td>uk telegraph : racial conflicts will dominate the 21st century via</td>\n",
       "      <td>not_hate</td>\n",
       "      <td>implicit_hate</td>\n",
       "      <td>0.75</td>\n",
       "      <td>The post suggests that racial conflicts will be a significant issu...</td>\n",
       "      <td></td>\n",
       "    </tr>\n",
       "    <tr>\n",
       "      <th>3</th>\n",
       "      <td>what have black people contributed to science ?</td>\n",
       "      <td>implicit_hate</td>\n",
       "      <td>implicit_hate</td>\n",
       "      <td>0.85</td>\n",
       "      <td>The post implies a stereotype or prejudice against black people by...</td>\n",
       "      <td>✔️ [True]</td>\n",
       "    </tr>\n",
       "    <tr>\n",
       "      <th>4</th>\n",
       "      <td>white supremacists are glad boehners leaving via</td>\n",
       "      <td>not_hate</td>\n",
       "      <td>implicit_hate</td>\n",
       "      <td>0.85</td>\n",
       "      <td>The post mentions \"white supremacists\" in a context that suggests ...</td>\n",
       "      <td></td>\n",
       "    </tr>\n",
       "  </tbody>\n",
       "</table>\n",
       "</div>"
      ],
      "text/plain": [
       "                                                                    post  \\\n",
       "0  lol ! you guys talk so good . words use to make the fancy statemen...   \n",
       "1  a petition stop christian court martial policy-check out this arti...   \n",
       "2     uk telegraph : racial conflicts will dominate the 21st century via   \n",
       "3                        what have black people contributed to science ?   \n",
       "4                       white supremacists are glad boehners leaving via   \n",
       "\n",
       "  example_hate_class pred_hate_class  confidence  \\\n",
       "0           not_hate   implicit_hate        0.75   \n",
       "1           not_hate        not_hate        0.95   \n",
       "2           not_hate   implicit_hate        0.75   \n",
       "3      implicit_hate   implicit_hate        0.85   \n",
       "4           not_hate   implicit_hate        0.85   \n",
       "\n",
       "                                                             explanation  \\\n",
       "0  The post contains sarcastic language with phrases like \"lol\" and \"...   \n",
       "1  The post is sharing an article and expressing a political viewpoin...   \n",
       "2  The post suggests that racial conflicts will be a significant issu...   \n",
       "3  The post implies a stereotype or prejudice against black people by...   \n",
       "4  The post mentions \"white supremacists\" in a context that suggests ...   \n",
       "\n",
       "  classify_hate_metric  \n",
       "0                       \n",
       "1            ✔️ [True]  \n",
       "2                       \n",
       "3            ✔️ [True]  \n",
       "4                       "
      ]
     },
     "metadata": {},
     "output_type": "display_data"
    },
    {
     "data": {
      "text/html": [
       "\n",
       "                <div style='\n",
       "                    text-align: center;\n",
       "                    font-size: 16px;\n",
       "                    font-weight: bold;\n",
       "                    color: #555;\n",
       "                    margin: 10px 0;'>\n",
       "                    ... 95 more rows not displayed ...\n",
       "                </div>\n",
       "                "
      ],
      "text/plain": [
       "<IPython.core.display.HTML object>"
      ]
     },
     "metadata": {},
     "output_type": "display_data"
    },
    {
     "data": {
      "text/plain": [
       "56.0"
      ]
     },
     "execution_count": 43,
     "metadata": {},
     "output_type": "execute_result"
    }
   ],
   "source": [
    "evaluator = Evaluate(devset = trainset, num_threads = 1, display_progress = True, display_table = 5)\n",
    "evaluator(classify_hate, metric = classify_hate_metric)"
   ]
  },
  {
   "cell_type": "code",
   "execution_count": 16,
   "id": "f48a4319-c509-4e18-95c3-84d1496f5134",
   "metadata": {},
   "outputs": [],
   "source": [
    "optimized_classify_hate.save(optimizers_folder + model_name + '_' + 'optimizer_stg1_v1.json')"
   ]
  },
  {
   "cell_type": "markdown",
   "id": "1764c772-3838-4511-a6f6-0dc0c68213f8",
   "metadata": {},
   "source": [
    "### Optimization with MIPRO (prompt and examples)"
   ]
  },
  {
   "cell_type": "code",
   "execution_count": 45,
   "id": "fe1d59bf-5d79-4c03-bfa5-5f8cecd7d3d6",
   "metadata": {},
   "outputs": [
    {
     "name": "stderr",
     "output_type": "stream",
     "text": [
      "2025/01/08 12:06:33 INFO dspy.teleprompt.mipro_optimizer_v2: \n",
      "RUNNING WITH THE FOLLOWING HEAVY AUTO RUN SETTINGS:\n",
      "num_trials: 50\n",
      "minibatch: True\n",
      "num_candidates: 38\n",
      "valset size: 80\n",
      "\n"
     ]
    },
    {
     "name": "stdin",
     "output_type": "stream",
     "text": [
      "\u001b[93m\u001b[1mProjected Language Model (LM) Calls\u001b[0m\n",
      "\n",
      "Based on the parameters you have set, the maximum number of LM calls is projected as follows:\n",
      "\n",
      "\u001b[93m- Prompt Generation: \u001b[94m\u001b[1m10\u001b[0m\u001b[93m data summarizer calls + \u001b[94m\u001b[1m38\u001b[0m\u001b[93m * \u001b[94m\u001b[1m1\u001b[0m\u001b[93m lm calls in program + (\u001b[94m\u001b[1m2\u001b[0m\u001b[93m) lm calls in program-aware proposer = \u001b[94m\u001b[1m50\u001b[0m\u001b[93m prompt model calls\u001b[0m\n",
      "\u001b[93m- Program Evaluation: \u001b[94m\u001b[1m25\u001b[0m\u001b[93m examples in minibatch * \u001b[94m\u001b[1m50\u001b[0m\u001b[93m batches + \u001b[94m\u001b[1m80\u001b[0m\u001b[93m examples in val set * \u001b[94m\u001b[1m6\u001b[0m\u001b[93m full evals = \u001b[94m\u001b[1m1730\u001b[0m\u001b[93m LM Program calls\u001b[0m\n",
      "\n",
      "\u001b[93m\u001b[1mEstimated Cost Calculation:\u001b[0m\n",
      "\n",
      "\u001b[93mTotal Cost = (Number of calls to task model * (Avg Input Token Length per Call * Task Model Price per Input Token + Avg Output Token Length per Call * Task Model Price per Output Token) \n",
      "            + (Number of program calls * (Avg Input Token Length per Call * Task Prompt Price per Input Token + Avg Output Token Length per Call * Prompt Model Price per Output Token).\u001b[0m\n",
      "\n",
      "For a preliminary estimate of potential costs, we recommend you perform your own calculations based on the task\n",
      "and prompt models you intend to use. If the projected costs exceed your budget or expectations, you may consider:\n",
      "\n",
      "\u001b[93m- Reducing the number of trials (`num_trials`), the size of the valset, or the number of LM calls in your program.\u001b[0m\n",
      "\u001b[93m- Using a cheaper task model to optimize the prompt.\u001b[0m\n",
      "\u001b[93m- Setting `minibatch=True` if you haven't already.\u001b[0m\n",
      "\n",
      "To proceed with the execution of this program, please confirm by typing \u001b[94m'y'\u001b[0m for yes or \u001b[94m'n'\u001b[0m for no.\n",
      "\n",
      "If you would like to bypass this confirmation step in future executions, set the \u001b[93m`requires_permission_to_run`\u001b[0m flag to \u001b[93m`False`\u001b[0m when calling compile.\n",
      "\n",
      "\u001b[93mAwaiting your input...\u001b[0m\n",
      "\n",
      "Do you wish to continue? (y/n):  y\n"
     ]
    },
    {
     "name": "stderr",
     "output_type": "stream",
     "text": [
      "2025/01/08 12:06:37 INFO dspy.teleprompt.mipro_optimizer_v2: \n",
      "==> STEP 1: BOOTSTRAP FEWSHOT EXAMPLES <==\n",
      "2025/01/08 12:06:37 INFO dspy.teleprompt.mipro_optimizer_v2: These will be used as few-shot example candidates for our program and for creating instructions.\n",
      "\n",
      "2025/01/08 12:06:37 INFO dspy.teleprompt.mipro_optimizer_v2: Bootstrapping N=38 sets of demonstrations...\n"
     ]
    },
    {
     "name": "stdout",
     "output_type": "stream",
     "text": [
      "Bootstrapping set 1/38\n",
      "Bootstrapping set 2/38\n",
      "Bootstrapping set 3/38\n"
     ]
    },
    {
     "name": "stderr",
     "output_type": "stream",
     "text": [
      " 45%|█████████████████████████████████████▎                                             | 9/20 [00:27<00:34,  3.10s/it]\n"
     ]
    },
    {
     "name": "stdout",
     "output_type": "stream",
     "text": [
      "Bootstrapped 8 full traces after 9 examples for up to 1 rounds, amounting to 9 attempts.\n",
      "Bootstrapping set 4/38\n"
     ]
    },
    {
     "name": "stderr",
     "output_type": "stream",
     "text": [
      " 30%|████████████████████████▉                                                          | 6/20 [00:18<00:42,  3.07s/it]\n"
     ]
    },
    {
     "name": "stdout",
     "output_type": "stream",
     "text": [
      "Bootstrapped 6 full traces after 6 examples for up to 1 rounds, amounting to 6 attempts.\n",
      "Bootstrapping set 5/38\n"
     ]
    },
    {
     "name": "stderr",
     "output_type": "stream",
     "text": [
      " 25%|████████████████████▊                                                              | 5/20 [00:27<01:21,  5.46s/it]\n"
     ]
    },
    {
     "name": "stdout",
     "output_type": "stream",
     "text": [
      "Bootstrapped 4 full traces after 5 examples for up to 1 rounds, amounting to 5 attempts.\n",
      "Bootstrapping set 6/38\n"
     ]
    },
    {
     "name": "stderr",
     "output_type": "stream",
     "text": [
      " 10%|████████▎                                                                          | 2/20 [00:06<00:55,  3.07s/it]\n"
     ]
    },
    {
     "name": "stdout",
     "output_type": "stream",
     "text": [
      "Bootstrapped 2 full traces after 2 examples for up to 1 rounds, amounting to 2 attempts.\n",
      "Bootstrapping set 7/38\n"
     ]
    },
    {
     "name": "stderr",
     "output_type": "stream",
     "text": [
      " 20%|████████████████▌                                                                  | 4/20 [00:12<00:49,  3.09s/it]\n"
     ]
    },
    {
     "name": "stdout",
     "output_type": "stream",
     "text": [
      "Bootstrapped 3 full traces after 4 examples for up to 1 rounds, amounting to 4 attempts.\n",
      "Bootstrapping set 8/38\n"
     ]
    },
    {
     "name": "stderr",
     "output_type": "stream",
     "text": [
      " 15%|████████████▍                                                                      | 3/20 [00:08<00:50,  3.00s/it]\n"
     ]
    },
    {
     "name": "stdout",
     "output_type": "stream",
     "text": [
      "Bootstrapped 2 full traces after 3 examples for up to 1 rounds, amounting to 3 attempts.\n",
      "Bootstrapping set 9/38\n"
     ]
    },
    {
     "name": "stderr",
     "output_type": "stream",
     "text": [
      " 15%|████████████▍                                                                      | 3/20 [00:08<00:48,  2.86s/it]\n"
     ]
    },
    {
     "name": "stdout",
     "output_type": "stream",
     "text": [
      "Bootstrapped 3 full traces after 3 examples for up to 1 rounds, amounting to 3 attempts.\n",
      "Bootstrapping set 10/38\n"
     ]
    },
    {
     "name": "stderr",
     "output_type": "stream",
     "text": [
      " 45%|█████████████████████████████████████▎                                             | 9/20 [00:28<00:34,  3.13s/it]\n"
     ]
    },
    {
     "name": "stdout",
     "output_type": "stream",
     "text": [
      "Bootstrapped 7 full traces after 9 examples for up to 1 rounds, amounting to 9 attempts.\n",
      "Bootstrapping set 11/38\n"
     ]
    },
    {
     "name": "stderr",
     "output_type": "stream",
     "text": [
      "  5%|████▏                                                                              | 1/20 [00:03<00:59,  3.12s/it]\n"
     ]
    },
    {
     "name": "stdout",
     "output_type": "stream",
     "text": [
      "Bootstrapped 1 full traces after 1 examples for up to 1 rounds, amounting to 1 attempts.\n",
      "Bootstrapping set 12/38\n"
     ]
    },
    {
     "name": "stderr",
     "output_type": "stream",
     "text": [
      " 35%|█████████████████████████████                                                      | 7/20 [00:20<00:38,  2.93s/it]\n"
     ]
    },
    {
     "name": "stdout",
     "output_type": "stream",
     "text": [
      "Bootstrapped 7 full traces after 7 examples for up to 1 rounds, amounting to 7 attempts.\n",
      "Bootstrapping set 13/38\n"
     ]
    },
    {
     "name": "stderr",
     "output_type": "stream",
     "text": [
      " 30%|████████████████████████▉                                                          | 6/20 [00:18<00:43,  3.10s/it]\n"
     ]
    },
    {
     "name": "stdout",
     "output_type": "stream",
     "text": [
      "Bootstrapped 6 full traces after 6 examples for up to 1 rounds, amounting to 6 attempts.\n",
      "Bootstrapping set 14/38\n"
     ]
    },
    {
     "name": "stderr",
     "output_type": "stream",
     "text": [
      "  5%|████▏                                                                              | 1/20 [00:02<00:56,  2.97s/it]\n"
     ]
    },
    {
     "name": "stdout",
     "output_type": "stream",
     "text": [
      "Bootstrapped 1 full traces after 1 examples for up to 1 rounds, amounting to 1 attempts.\n",
      "Bootstrapping set 15/38\n"
     ]
    },
    {
     "name": "stderr",
     "output_type": "stream",
     "text": [
      " 30%|████████████████████████▉                                                          | 6/20 [00:17<00:40,  2.88s/it]\n"
     ]
    },
    {
     "name": "stdout",
     "output_type": "stream",
     "text": [
      "Bootstrapped 5 full traces after 6 examples for up to 1 rounds, amounting to 6 attempts.\n",
      "Bootstrapping set 16/38\n"
     ]
    },
    {
     "name": "stderr",
     "output_type": "stream",
     "text": [
      "  5%|████▏                                                                              | 1/20 [00:03<00:58,  3.10s/it]\n"
     ]
    },
    {
     "name": "stdout",
     "output_type": "stream",
     "text": [
      "Bootstrapped 1 full traces after 1 examples for up to 1 rounds, amounting to 1 attempts.\n",
      "Bootstrapping set 17/38\n"
     ]
    },
    {
     "name": "stderr",
     "output_type": "stream",
     "text": [
      " 45%|█████████████████████████████████████▎                                             | 9/20 [00:27<00:33,  3.07s/it]\n"
     ]
    },
    {
     "name": "stdout",
     "output_type": "stream",
     "text": [
      "Bootstrapped 8 full traces after 9 examples for up to 1 rounds, amounting to 9 attempts.\n",
      "Bootstrapping set 18/38\n"
     ]
    },
    {
     "name": "stderr",
     "output_type": "stream",
     "text": [
      " 15%|████████████▍                                                                      | 3/20 [00:20<01:55,  6.78s/it]\n"
     ]
    },
    {
     "name": "stdout",
     "output_type": "stream",
     "text": [
      "Bootstrapped 3 full traces after 3 examples for up to 1 rounds, amounting to 3 attempts.\n",
      "Bootstrapping set 19/38\n"
     ]
    },
    {
     "name": "stderr",
     "output_type": "stream",
     "text": [
      " 40%|█████████████████████████████████▏                                                 | 8/20 [00:24<00:37,  3.11s/it]\n"
     ]
    },
    {
     "name": "stdout",
     "output_type": "stream",
     "text": [
      "Bootstrapped 5 full traces after 8 examples for up to 1 rounds, amounting to 8 attempts.\n",
      "Bootstrapping set 20/38\n"
     ]
    },
    {
     "name": "stderr",
     "output_type": "stream",
     "text": [
      " 35%|█████████████████████████████                                                      | 7/20 [00:22<00:41,  3.18s/it]\n"
     ]
    },
    {
     "name": "stdout",
     "output_type": "stream",
     "text": [
      "Bootstrapped 6 full traces after 7 examples for up to 1 rounds, amounting to 7 attempts.\n",
      "Bootstrapping set 21/38\n"
     ]
    },
    {
     "name": "stderr",
     "output_type": "stream",
     "text": [
      " 10%|████████▎                                                                          | 2/20 [00:05<00:53,  2.99s/it]\n"
     ]
    },
    {
     "name": "stdout",
     "output_type": "stream",
     "text": [
      "Bootstrapped 2 full traces after 2 examples for up to 1 rounds, amounting to 2 attempts.\n",
      "Bootstrapping set 22/38\n"
     ]
    },
    {
     "name": "stderr",
     "output_type": "stream",
     "text": [
      " 10%|████████▎                                                                          | 2/20 [00:05<00:49,  2.76s/it]\n"
     ]
    },
    {
     "name": "stdout",
     "output_type": "stream",
     "text": [
      "Bootstrapped 2 full traces after 2 examples for up to 1 rounds, amounting to 2 attempts.\n",
      "Bootstrapping set 23/38\n"
     ]
    },
    {
     "name": "stderr",
     "output_type": "stream",
     "text": [
      " 10%|████████▎                                                                          | 2/20 [00:06<00:55,  3.10s/it]\n"
     ]
    },
    {
     "name": "stdout",
     "output_type": "stream",
     "text": [
      "Bootstrapped 1 full traces after 2 examples for up to 1 rounds, amounting to 2 attempts.\n",
      "Bootstrapping set 24/38\n"
     ]
    },
    {
     "name": "stderr",
     "output_type": "stream",
     "text": [
      " 40%|█████████████████████████████████▏                                                 | 8/20 [00:27<00:40,  3.40s/it]\n"
     ]
    },
    {
     "name": "stdout",
     "output_type": "stream",
     "text": [
      "Bootstrapped 6 full traces after 8 examples for up to 1 rounds, amounting to 8 attempts.\n",
      "Bootstrapping set 25/38\n"
     ]
    },
    {
     "name": "stderr",
     "output_type": "stream",
     "text": [
      " 10%|████████▎                                                                          | 2/20 [00:11<01:39,  5.54s/it]\n"
     ]
    },
    {
     "name": "stdout",
     "output_type": "stream",
     "text": [
      "Bootstrapped 1 full traces after 2 examples for up to 1 rounds, amounting to 2 attempts.\n",
      "Bootstrapping set 26/38\n"
     ]
    },
    {
     "name": "stderr",
     "output_type": "stream",
     "text": [
      " 10%|████████▎                                                                          | 2/20 [00:06<00:55,  3.09s/it]\n"
     ]
    },
    {
     "name": "stdout",
     "output_type": "stream",
     "text": [
      "Bootstrapped 2 full traces after 2 examples for up to 1 rounds, amounting to 2 attempts.\n",
      "Bootstrapping set 27/38\n"
     ]
    },
    {
     "name": "stderr",
     "output_type": "stream",
     "text": [
      "  5%|████▏                                                                              | 1/20 [00:02<00:56,  2.99s/it]\n"
     ]
    },
    {
     "name": "stdout",
     "output_type": "stream",
     "text": [
      "Bootstrapped 1 full traces after 1 examples for up to 1 rounds, amounting to 1 attempts.\n",
      "Bootstrapping set 28/38\n"
     ]
    },
    {
     "name": "stderr",
     "output_type": "stream",
     "text": [
      " 20%|████████████████▌                                                                  | 4/20 [00:11<00:46,  2.91s/it]\n"
     ]
    },
    {
     "name": "stdout",
     "output_type": "stream",
     "text": [
      "Bootstrapped 3 full traces after 4 examples for up to 1 rounds, amounting to 4 attempts.\n",
      "Bootstrapping set 29/38\n"
     ]
    },
    {
     "name": "stderr",
     "output_type": "stream",
     "text": [
      " 25%|████████████████████▊                                                              | 5/20 [00:24<01:13,  4.89s/it]\n"
     ]
    },
    {
     "name": "stdout",
     "output_type": "stream",
     "text": [
      "Bootstrapped 4 full traces after 5 examples for up to 1 rounds, amounting to 5 attempts.\n",
      "Bootstrapping set 30/38\n"
     ]
    },
    {
     "name": "stderr",
     "output_type": "stream",
     "text": [
      " 35%|█████████████████████████████                                                      | 7/20 [00:20<00:38,  2.98s/it]\n"
     ]
    },
    {
     "name": "stdout",
     "output_type": "stream",
     "text": [
      "Bootstrapped 5 full traces after 7 examples for up to 1 rounds, amounting to 7 attempts.\n",
      "Bootstrapping set 31/38\n"
     ]
    },
    {
     "name": "stderr",
     "output_type": "stream",
     "text": [
      " 10%|████████▎                                                                          | 2/20 [00:07<01:09,  3.86s/it]\n"
     ]
    },
    {
     "name": "stdout",
     "output_type": "stream",
     "text": [
      "Bootstrapped 2 full traces after 2 examples for up to 1 rounds, amounting to 2 attempts.\n",
      "Bootstrapping set 32/38\n"
     ]
    },
    {
     "name": "stderr",
     "output_type": "stream",
     "text": [
      " 20%|████████████████▌                                                                  | 4/20 [00:14<00:56,  3.50s/it]\n"
     ]
    },
    {
     "name": "stdout",
     "output_type": "stream",
     "text": [
      "Bootstrapped 2 full traces after 4 examples for up to 1 rounds, amounting to 4 attempts.\n",
      "Bootstrapping set 33/38\n"
     ]
    },
    {
     "name": "stderr",
     "output_type": "stream",
     "text": [
      " 50%|█████████████████████████████████████████                                         | 10/20 [00:33<00:33,  3.37s/it]\n"
     ]
    },
    {
     "name": "stdout",
     "output_type": "stream",
     "text": [
      "Bootstrapped 8 full traces after 10 examples for up to 1 rounds, amounting to 10 attempts.\n",
      "Bootstrapping set 34/38\n"
     ]
    },
    {
     "name": "stderr",
     "output_type": "stream",
     "text": [
      " 15%|████████████▍                                                                      | 3/20 [00:09<00:52,  3.10s/it]\n"
     ]
    },
    {
     "name": "stdout",
     "output_type": "stream",
     "text": [
      "Bootstrapped 3 full traces after 3 examples for up to 1 rounds, amounting to 3 attempts.\n",
      "Bootstrapping set 35/38\n"
     ]
    },
    {
     "name": "stderr",
     "output_type": "stream",
     "text": [
      " 50%|█████████████████████████████████████████                                         | 10/20 [00:32<00:32,  3.21s/it]\n"
     ]
    },
    {
     "name": "stdout",
     "output_type": "stream",
     "text": [
      "Bootstrapped 8 full traces after 10 examples for up to 1 rounds, amounting to 10 attempts.\n",
      "Bootstrapping set 36/38\n"
     ]
    },
    {
     "name": "stderr",
     "output_type": "stream",
     "text": [
      " 30%|████████████████████████▉                                                          | 6/20 [00:21<00:49,  3.57s/it]\n"
     ]
    },
    {
     "name": "stdout",
     "output_type": "stream",
     "text": [
      "Bootstrapped 5 full traces after 6 examples for up to 1 rounds, amounting to 6 attempts.\n",
      "Bootstrapping set 37/38\n"
     ]
    },
    {
     "name": "stderr",
     "output_type": "stream",
     "text": [
      " 40%|█████████████████████████████████▏                                                 | 8/20 [00:26<00:39,  3.28s/it]\n"
     ]
    },
    {
     "name": "stdout",
     "output_type": "stream",
     "text": [
      "Bootstrapped 5 full traces after 8 examples for up to 1 rounds, amounting to 8 attempts.\n",
      "Bootstrapping set 38/38\n"
     ]
    },
    {
     "name": "stderr",
     "output_type": "stream",
     "text": [
      " 25%|████████████████████▊                                                              | 5/20 [00:14<00:44,  2.97s/it]\n",
      "2025/01/08 12:16:17 INFO dspy.teleprompt.mipro_optimizer_v2: \n",
      "==> STEP 2: PROPOSE INSTRUCTION CANDIDATES <==\n",
      "2025/01/08 12:16:17 INFO dspy.teleprompt.mipro_optimizer_v2: We will use the few-shot examples from the previous step, a generated dataset summary, a summary of the program code, and a randomly selected prompting tip to propose instructions.\n"
     ]
    },
    {
     "name": "stdout",
     "output_type": "stream",
     "text": [
      "Bootstrapped 4 full traces after 5 examples for up to 1 rounds, amounting to 5 attempts.\n"
     ]
    },
    {
     "name": "stderr",
     "output_type": "stream",
     "text": [
      "2025/01/08 12:16:32 INFO dspy.teleprompt.mipro_optimizer_v2: \n",
      "Proposing instructions...\n",
      "\n",
      "2025/01/08 12:25:31 INFO dspy.teleprompt.mipro_optimizer_v2: Proposed Instructions for Predictor 0:\n",
      "\n",
      "2025/01/08 12:25:31 INFO dspy.teleprompt.mipro_optimizer_v2: 0: Given the fields `post`, produce the fields `hate_class`, `confidence`, `explanation`.\n",
      "\n",
      "2025/01/08 12:25:31 INFO dspy.teleprompt.mipro_optimizer_v2: 1: You are a content moderator for a large social media platform, and you are tasked with identifying and classifying hate speech in user posts. Given a `post`, your job is to determine the `hate_class` ('not_hate', 'implicit_hate', or 'explicit_hate'), assign a `confidence` score to your classification, and provide a brief `explanation` for your decision. Remember that misclassifications can lead to severe real-world consequences, including the proliferation of harmful content or the unfair silencing of voices. Accuracy and nuanced understanding are crucial in this high-stakes scenario.\n",
      "\n",
      "2025/01/08 12:25:31 INFO dspy.teleprompt.mipro_optimizer_v2: 2: Imagine you are a content moderator for a large social media platform, and you are responsible for identifying and flagging hate speech in real-time during a critical event where public sentiment is highly charged. Given the field `post`, your task is to quickly and accurately produce the fields `hate_class` (which can be 'hate' or 'not_hate'), `confidence` (a score indicating the certainty of your classification), and `explanation` (a brief justification for your classification). Your decisions will directly impact the safety and well-being of the platform's users, so it is crucial to be both thorough and efficient.\n",
      "\n",
      "2025/01/08 12:25:31 INFO dspy.teleprompt.mipro_optimizer_v2: 3: You are a sophisticated language model tasked with analyzing social media posts to detect and classify hate speech. For each post, your job is to determine whether it contains hate speech and classify it into one of the following categories: `implicit_hate`, `explicit_hate`, or `not_hate`. Additionally, provide a confidence score for your classification and an explanation detailing the rationale behind your decision. Consider the nuances of the language, such as sarcasm, rhetorical questions, and references to external sources. Your explanation should highlight the specific elements of the post that led to your classification. Be thorough and insightful in your analysis.\n",
      "\n",
      "For example:\n",
      "- If the post contains subtle derogatory language or negative sentiment directed towards a specific group or individual, classify it as `implicit_hate`.\n",
      "- If the post contains direct derogatory language or threats towards a specific group or individual, classify it as `explicit_hate`.\n",
      "- If the post does not contain hate speech, classify it as `not_hate`.\n",
      "\n",
      "Here are some examples to guide you:\n",
      "\n",
      "Post: \"i printed posters of #khallidmuhammad and i blast diarrhea on them everyday!\"\n",
      "Hate Class: implicit_hate\n",
      "Confidence: 0.9\n",
      "Explanation: The post contains derogatory language and a disrespectful act directed towards a specific individual, Khallid Muhammad, which implies strong negative sentiment and potential hate speech.\n",
      "\n",
      "Post: \"canada : white people are taking up space says anti-white group via\"\n",
      "Hate Class: implicit_hate\n",
      "Confidence: 0.9\n",
      "Explanation: The post references an \"anti-white group\" and mentions \"white people are taking up space,\" which implies a negative sentiment directed towards white people, suggesting implicit hate.\n",
      "\n",
      "Post: \"all those lectures to white america about how evil were . our racist history .\"\n",
      "Hate Class: not_hate\n",
      "Confidence: 0.8\n",
      "Explanation: The post discusses lectures about racism in America's history but does not direct hate towards any specific group. It is more of a commentary on the educational content regarding racism.\n",
      "\n",
      "Now, analyze the following post and provide the `hate_class`, `confidence`, and `explanation`:\n",
      "\n",
      "Post: {post}\n",
      "\n",
      "2025/01/08 12:25:31 INFO dspy.teleprompt.mipro_optimizer_v2: 4: You are a sophisticated language model trained to detect and classify hate speech in textual data. Your task is to analyze the content of a given post and determine whether it contains hate speech, then classify it into one of the following categories: `implicit_hate`, `explicit_hate`, or `not_hate`. For each classification, you will also provide a confidence score and a detailed explanation of your reasoning.\n",
      "\n",
      "Here's how to approach this task:\n",
      "\n",
      "1. **Read the Post**: Carefully read and understand the content of the post. Pay attention to nuances such as sarcasm, rhetorical questions, hashtags, mentions, and any references to external sources or calls to action.\n",
      "\n",
      "2. **Identify Hate Speech**: Determine if the post contains any form of hate speech. Hate speech can be explicit (direct and obvious) or implicit (indirect and subtle). Implicit hate speech may include coded language, dog whistles, or indirect references that promote animosity or prejudice towards a particular group.\n",
      "\n",
      "3. **Classify the Post**: Based on your analysis, classify the post into one of the following categories:\n",
      "   - `implicit_hate`: The post contains subtle or indirect hate speech.\n",
      "   - `explicit_hate`: The post contains direct and obvious hate speech.\n",
      "   - `not_hate`: The post does not contain any form of hate speech.\n",
      "\n",
      "4. **Assign a Confidence Score**: Provide a confidence score between 0 and 1 that indicates the likelihood that your classification is correct. A score of 1 means you are completely confident, while a score of 0 means you are not confident at all.\n",
      "\n",
      "5. **Explain Your Reasoning**: Write a detailed explanation of why you classified the post as you did. Describe the specific phrases, references, or implications that led to your classification. Ensure your explanation is clear, logical, and well-reasoned.\n",
      "\n",
      "For each post, your output should include the following fields:\n",
      "\n",
      "- `hate_class`: The category of hate speech (`implicit_hate`, `explicit_hate`, or `not_hate`).\n",
      "- `confidence`: The confidence score for your classification.\n",
      "- `explanation`: A detailed explanation of your reasoning.\n",
      "\n",
      "Now, let's begin the task with the given post.\n",
      "\n",
      "2025/01/08 12:25:31 INFO dspy.teleprompt.mipro_optimizer_v2: 5: You are a content moderator tasked with identifying and classifying hate speech in online posts. Given a `post`, your job is to analyze the text and determine the following:\n",
      "\n",
      "1. `hate_class`: Categorize the post as either 'hate' or 'not_hate'.\n",
      "2. `confidence`: Provide a confidence score (between 0 and 1) that indicates how certain you are about the classification.\n",
      "3. `explanation`: Write a brief explanation detailing why the post was classified as hate speech or not. Consider the presence of explicit or implicit hate, bias, prejudice, as well as the context and any nuances in the language used.\n",
      "\n",
      "Ensure that your analysis is thorough and takes into account the subtle nuances of the language, including sarcasm, rhetorical questions, and references to external sources.\n",
      "\n",
      "2025/01/08 12:25:31 INFO dspy.teleprompt.mipro_optimizer_v2: 6: You are a hate speech detection expert. Given a `post`, your task is to analyze the text and determine the `hate_class` (either 'implicit_hate' or 'not_hate'), provide a `confidence` score for your classification, and generate a detailed `explanation` for why the post was classified as such. Consider the nuances of the language, including sentiments, styles, and any subtle implications that might indicate implicit hate speech.\n",
      "\n",
      "2025/01/08 12:25:31 INFO dspy.teleprompt.mipro_optimizer_v2: 7: Analyze the given `post` to determine if it contains implicit hate speech. Classify the post as `implicit_hate` if applicable, and provide a `confidence` score for the classification. Additionally, generate an `explanation` that highlights the specific elements or phrases in the post that contribute to the implicit hate speech, detailing the context and reasoning behind the classification.\n",
      "\n",
      "2025/01/08 12:25:31 INFO dspy.teleprompt.mipro_optimizer_v2: 8: You are a language model tasked with detecting and classifying hate speech in short, informal posts. Your goal is to analyze the semantic meaning and context of each post to determine if it contains implicit hate speech. For each post, you will classify it as 'implicit_hate', provide a confidence score indicating the likelihood of this classification, and generate an explanation highlighting the specific elements or implications within the text that contribute to this classification.\n",
      "\n",
      "Here's how you should approach this task:\n",
      "\n",
      "1. **Understand the Post**: Carefully read and comprehend the content of the post. Pay attention to the use of hashtags, mentions, sarcasm, rhetorical questions, and any references to external sources or calls for action.\n",
      "\n",
      "2. **Identify Implicit Hate**: Look for subtle or implied derogatory, dismissive, or hostile attitudes towards any group or individual. Implicit hate speech may not be directly offensive but conveys a negative sentiment through implication.\n",
      "\n",
      "3. **Classify the Post**: Based on your analysis, classify the post as 'implicit_hate' if it contains implicit hate speech.\n",
      "\n",
      "4. **Calculate Confidence Score**: Provide a confidence score between 0 and 1 that indicates the likelihood that the post belongs to the 'implicit_hate' class. A higher score indicates greater confidence in the classification.\n",
      "\n",
      "5. **Generate Explanation**: Write a clear and concise explanation of why the post was classified as 'implicit_hate'. Highlight the specific elements or implications within the text that contribute to this classification. This explanation should provide transparency into the rationale behind your decision.\n",
      "\n",
      "Here are some examples to guide you:\n",
      "\n",
      "- **Post**: \"what have black people contributed to science ?\"\n",
      "  - **Hate Class**: implicit_hate\n",
      "  - **Confidence**: 0.9\n",
      "  - **Explanation**: The post implies a dismissive or skeptical attitude towards the contributions of black people to science, which can be interpreted as implicitly hateful or derogatory.\n",
      "\n",
      "- **Post**: \"i printed posters of #khallidmuhammad and i blast diarrhea on them everyday!\"\n",
      "  - **Hate Class**: implicit_hate\n",
      "  - **Confidence**: 0.85\n",
      "  - **Explanation**: The post mentions defecating on posters of Khalid Abdul Muhammad, who was a prominent black activist. This act suggests a deep disrespect and hostility, implying implicit hate towards the individual and potentially the group they represent.\n",
      "\n",
      "- **Post**: \"i dont think so .. more blacks than whites by tons . easier for everyone they relocate  less blood\"\n",
      "  - **Hate Class**: implicit_hate\n",
      "  - **Confidence**: 0.85\n",
      "  - **Explanation**: The post suggests a negative sentiment towards blacks by implying that their relocation would be beneficial and lead to less conflict, indicated by the phrase \"less blood.\" This implicitly conveys a hateful attitude.\n",
      "\n",
      "Now, given the field `post`, produce the fields `hate_class`, `confidence`, and `explanation`.\n",
      "\n",
      "2025/01/08 12:25:31 INFO dspy.teleprompt.mipro_optimizer_v2: 9: Imagine you are a content moderator tasked with evaluating posts for hate speech. Given a `post`, your job is to carefully analyze its content and determine the `hate_class` it falls into. You should also provide a `confidence` score for your classification and a detailed `explanation` of why you categorized the post that way. Consider the nuances of the language used, the context, and any implicit or explicit derogatory terms or stereotypes. Be thorough and empathetic in your analysis to ensure fair and accurate moderation.\n",
      "\n",
      "2025/01/08 12:25:31 INFO dspy.teleprompt.mipro_optimizer_v2: 10: Given a social media post, your task is to analyze the text for the presence of hate speech, specifically focusing on implicit hate speech. Implicit hate speech is subtle and not immediately apparent, often using coded language, stereotypes, or insinuations to convey hateful sentiments. You should classify the post into one of the following categories: 'not_hate', 'implicit_hate', or 'explicit_hate'. Additionally, provide a confidence score (between 0 and 1) that reflects your certainty in the classification. Finally, generate a detailed explanation of why the post was classified as such, highlighting specific phrases, narratives, or implications that support your classification.\n",
      "\n",
      "For example, consider the following post:\n",
      "Post: \"rt the active shooter in charleston sc is a crazy black man not a white supremacist . i know you democrat race baiters (cont)\"\n",
      "\n",
      "Your output should include:\n",
      "1. **Hate Class**: The category of hate speech detected (e.g., 'implicit_hate').\n",
      "2. **Confidence**: A score between 0 and 1 indicating the confidence in the classification (e.g., 0.85).\n",
      "3. **Explanation**: A detailed explanation of why the post was classified as such, highlighting specific phrases or narratives that promote racial division and animosity.\n",
      "\n",
      "Please ensure your explanation is thorough and clearly justifies the classification based on the content of the post.\n",
      "\n",
      "2025/01/08 12:25:31 INFO dspy.teleprompt.mipro_optimizer_v2: 11: You are a hate speech detection expert. Given a `post`, your task is to analyze the content and determine the `hate_class` (which can be 'implicit_hate', 'explicit_hate', or 'not_hate'), provide a `confidence` score for your classification, and generate a detailed `explanation` for why the post was categorized as such. Consider the nuances of the language, including the use of sarcasm, rhetorical questions, and references to external sources. Ensure that your explanation is clear and helps users understand the reasoning behind the classification.\n",
      "\n",
      "2025/01/08 12:25:31 INFO dspy.teleprompt.mipro_optimizer_v2: 12: Given a textual post, your task is to analyze the content and determine whether it contains hate speech. Classify the post into one of the following categories: `implicit_hate`, `explicit_hate`, or `not_hate`. Provide a confidence score for your classification and an explanation for why the post was categorized as such. Consider the nuances of the text, including the use of hashtags, mentions, sarcasm, rhetorical questions, and any references to external sources or calls for action. Pay special attention to indicators of hate speech such as derogatory language, stereotypes, or negative sentiments directed towards specific groups.\n",
      "\n",
      "Output the fields `hate_class`, `confidence`, and `explanation`.\n",
      "\n",
      "Example:\n",
      "Post: \"hey guys anyway i can join up ? i follow orders really well . just ask anybody  no one does #uncletom like me !\"\n",
      "Hate Class: implicit_hate\n",
      "Confidence: 0.85\n",
      "Explanation: The use of the hashtag \"#uncletom\" in a self-referential and derogatory manner suggests an internalization of racist stereotypes, which implies implicit hate speech. The phrase \"no one does #uncletom like me\" reinforces this interpretation, as it perpetuates a harmful stereotype.\n",
      "\n",
      "2025/01/08 12:25:31 INFO dspy.teleprompt.mipro_optimizer_v2: 13: Given a text `post`, determine if it contains hate speech. If hate speech is detected, classify it as `implicit_hate` and provide a `confidence` score for this classification. Additionally, offer an `explanation` detailing how specific phrases or terms in the post led to this classification.\n",
      "\n",
      "2025/01/08 12:25:31 INFO dspy.teleprompt.mipro_optimizer_v2: 14: Analyze the given `post` and determine the `hate_class` as either 'not_hate' or 'implicit_hate'. Provide a `confidence` score for your classification and an `explanation` detailing the reasoning behind your decision. Consider the context, sentiment, and any implied meanings in the text.\n",
      "\n",
      "2025/01/08 12:25:31 INFO dspy.teleprompt.mipro_optimizer_v2: 15: You are a sophisticated language model tasked with analyzing text posts to detect and classify hate speech. For each given `post`, your job is to determine the `hate_class` ('not_hate', 'implicit_hate', or 'explicit_hate'), assign a `confidence` score to your classification (a value between 0 and 1), and provide a detailed `explanation` for your reasoning. Consider the nuances of the text, such as sarcasm, rhetorical questions, and references to external sources. Be mindful of the subtle cues that might indicate implicit hate speech. Your goal is to make the classification process transparent and understandable.\n",
      "\n",
      "Here's how you should respond:\n",
      "\n",
      "- `hate_class`: Your classification of the post ('not_hate', 'implicit_hate', or 'explicit_hate').\n",
      "- `confidence`: A confidence score between 0 and 1 for your classification.\n",
      "- `explanation`: A detailed explanation of why you classified the post as you did, highlighting the specific parts of the text that influenced your decision.\n",
      "\n",
      "Now, please analyze the following `post`:\n",
      "\n",
      "2025/01/08 12:25:31 INFO dspy.teleprompt.mipro_optimizer_v2: 16: You are a content moderator for a social media platform. Your task is to review a post and determine whether it contains hate speech or not. Given the field `post`, produce the fields `hate_class` (which can be 'not_hate', 'implicit_hate', or 'explicit_hate'), `confidence` (a score between 0 and 1 indicating the certainty of your classification), and `explanation` (a brief description of why you classified the post as such). Consider the nuances of the language used, including sarcasm, rhetorical questions, and references to external sources.\n",
      "\n",
      "2025/01/08 12:25:31 INFO dspy.teleprompt.mipro_optimizer_v2: 17: You are a hate speech detection expert tasked with identifying and classifying implicit hate speech in social media posts. Given a `post`, your job is to analyze the text and determine the `hate_class` (which can be 'implicit_hate'), assign a `confidence` score reflecting the likelihood of implicit hate speech, and provide a detailed `explanation` highlighting the specific elements or implications within the text that contribute to this classification. Consider the nuances of the language, including sarcasm, rhetorical questions, and references to external sources.\n",
      "\n",
      "2025/01/08 12:25:31 INFO dspy.teleprompt.mipro_optimizer_v2: 18: You are a sophisticated language model tasked with analyzing social media posts to detect and classify hate speech. For each post, your job is to determine whether it contains hate speech and categorize it as 'not_hate', 'implicit_hate', or any other relevant categories that may be suggested. Additionally, provide a confidence score for your classification and offer a clear explanation for your decision, highlighting the specific language or implications within the post that led to your classification.\n",
      "\n",
      "Here's what you need to do:\n",
      "\n",
      "1. **Read the Post**: Carefully read and understand the content of the social media post.\n",
      "2. **Classify the Post**: Determine if the post contains hate speech and classify it into one of the following categories:\n",
      "   - `not_hate`: The post does not contain hate speech.\n",
      "   - `implicit_hate`: The post contains subtle language, stereotypes, or implied threats that suggest hate speech.\n",
      "   - Consider other categories like `explicit_hate` if the post contains direct and obvious hate speech.\n",
      "3. **Assign a Confidence Score**: Provide a confidence score (between 0 and 1) that indicates how certain you are about your classification.\n",
      "4. **Explain Your Decision**: Write a brief explanation that highlights the specific language or implications within the post that led to your classification. This should help users understand the context and reasoning behind your decision.\n",
      "\n",
      "Your output should include the following fields:\n",
      "- `hate_class`: The category of hate speech detected.\n",
      "- `confidence`: The confidence score for your classification.\n",
      "- `explanation`: A clear explanation for your classification decision.\n",
      "\n",
      "Be thorough and consider the nuances of language, including sarcasm, rhetorical questions, and references to external sources.\n",
      "\n",
      "2025/01/08 12:25:31 INFO dspy.teleprompt.mipro_optimizer_v2: 19: Given a textual post, your task is to classify it into one of the following categories: 'not_hate', 'implicit_hate', or 'explicit_hate'. For each classification, provide a confidence score (between 0 and 1) that indicates the certainty of your classification. Additionally, offer a detailed explanation for why the post was classified in that particular way. Consider the nuances of the text, such as the use of sarcasm, rhetorical questions, and references to external sources. Ensure that your explanation clearly outlines the reasoning behind the classification, highlighting any implicit or explicit hate speech directed towards any group based on their race, religion, ethnicity, or other protected characteristics.\n",
      "\n",
      "For example:\n",
      "Post: glenn beck will soon announce he is leading his third great awakening followers to guyana to build becktown .\n",
      "Hate Class: not_hate\n",
      "Confidence: 0.9\n",
      "Explanation: The post discusses Glenn Beck's plans to lead his followers to Guyana to build \"Becktown.\" There is no implicit or explicit hate speech directed towards any group. The content is neutral and does not target or denigrate any particular group based on their race, religion, ethnicity, or other protected characteristics.\n",
      "\n",
      "Please follow this format for your response:\n",
      "- Hate Class: [your classification]\n",
      "- Confidence: [your confidence score]\n",
      "- Explanation: [your detailed explanation]\n",
      "\n",
      "2025/01/08 12:25:31 INFO dspy.teleprompt.mipro_optimizer_v2: 20: Imagine you are a content moderator for a large social media platform, and you are tasked with identifying and classifying hate speech in user posts. Given the field `post`, your job is to produce the fields `hate_class` (which can be `not_hate`, `implicit_hate`, or `explicit_hate`), `confidence` (a score indicating the likelihood of the classification being accurate), and `explanation` (a brief description of how the model interpreted the post and why it assigned the particular hate class). Your classifications will directly impact the safety and well-being of users on the platform, so it is crucial to be as accurate and thoughtful as possible.\n",
      "\n",
      "2025/01/08 12:25:31 INFO dspy.teleprompt.mipro_optimizer_v2: 21: Imagine you are a content moderator for a large social media platform, and you are responsible for identifying and categorizing hate speech in real-time during a critical event where public safety is at stake. Given the field `post`, your task is to swiftly and accurately produce the fields `hate_class`, `confidence`, and `explanation`. Your classification will directly impact the platform's response to potential threats and the safety of its users. Ensure your explanation is clear and concise, as it will be used to inform immediate actions by the moderation team.\n",
      "\n",
      "2025/01/08 12:25:31 INFO dspy.teleprompt.mipro_optimizer_v2: 22: You are an advanced language model trained to detect and classify hate speech in text data, specifically from social media posts. Your task is to analyze the input text (the `post` field) and determine if it contains hate speech. You will classify the hate speech into one of the following categories: 'not_hate', 'implicit_hate', or 'explicit_hate'. Additionally, you will provide a confidence score for your classification and an explanation for why the text was classified as such.\n",
      "\n",
      "Here's how you should approach this task:\n",
      "\n",
      "1. **Understand the Nuances**: Pay close attention to the nuances of the text, including the use of hashtags, mentions, sarcasm, rhetorical questions, and any references to external sources or calls for action.\n",
      "2. **Classify the Hate Speech**: Determine if the post contains hate speech and classify it as 'not_hate', 'implicit_hate', or 'explicit_hate'.\n",
      "3. **Provide a Confidence Score**: Assign a confidence score to your classification, indicating how certain you are of your categorization.\n",
      "4. **Explain the Classification**: Provide a detailed explanation for why the post was classified in the chosen category. This explanation should highlight the specific elements of the text that led to your classification.\n",
      "\n",
      "Your output should include the following fields:\n",
      "- `hate_class`: The classification of the post ('not_hate', 'implicit_hate', or 'explicit_hate').\n",
      "- `confidence`: The confidence score for your classification (a value between 0 and 1).\n",
      "- `explanation`: A detailed explanation of why the post was classified as such.\n",
      "\n",
      "Here is an example of how your output should be structured:\n",
      "\n",
      "Post: more like this to come if white people don't stand up for ourselves . of offers sound hate free advice unlike left\n",
      "Hate Class: implicit_hate\n",
      "Confidence: 0.85\n",
      "Explanation: The post implies a threat or warning directed towards white people, suggesting that if they do not \"stand up for ourselves,\" there will be negative consequences. This phrasing subtly promotes a divisive and potentially hateful narrative, although it is not explicitly hateful.\n",
      "\n",
      "Please ensure your explanations are clear, concise, and informative, providing insight into the reasoning behind your classification.\n",
      "\n",
      "2025/01/08 12:25:31 INFO dspy.teleprompt.mipro_optimizer_v2: 23: Imagine you are a content moderator tasked with evaluating social media posts. Your job is to carefully read each post and determine if it contains any form of hate speech. For each post, you need to provide the following details:\n",
      "\n",
      "1. **Hate Class**: Categorize the post as `not_hate`, `implicit_hate`, or any other relevant category based on your analysis.\n",
      "2. **Confidence**: Assign a confidence score between 0 and 1 to indicate how certain you are of your classification.\n",
      "3. **Explanation**: Explain why you categorized the post as you did. Highlight any explicit or implicit expressions of hate, including derogatory language, racial slurs, threats, or language that promotes racial tension or division. Provide contextual information to support your explanation.\n",
      "\n",
      "Remember, hate speech can be subtle and implicit, so pay close attention to the nuances of the language used. Consider the use of hashtags, mentions, sarcasm, and rhetorical questions, as well as any references to external sources or calls for action.\n",
      "\n",
      "Now, let's evaluate the following post:\n",
      "\n",
      "Post: {post}\n",
      "\n",
      "Please provide your assessment in the format below:\n",
      "\n",
      "Hate Class:\n",
      "Confidence:\n",
      "Explanation:\n",
      "\n",
      "Let's work together to create a respectful and inclusive online environment!\n",
      "\n",
      "2025/01/08 12:25:31 INFO dspy.teleprompt.mipro_optimizer_v2: 24: You are tasked with analyzing a textual post to determine if it contains hate speech. Your goal is to classify the type of hate speech and provide a confidence score for your classification. Additionally, you should generate an explanation for why the post was classified as hate speech, highlighting the specific elements that contribute to the hateful content. The post may exhibit a range of sentiments and styles, including the use of hashtags, mentions, sarcasm, and rhetorical questions. It might also reference external sources or call for action.\n",
      "\n",
      "Here are the steps to follow:\n",
      "\n",
      "1. **Read the Post**: Carefully read the provided post to understand its context and nuances.\n",
      "2. **Identify Hate Speech**: Determine if the post contains hate speech. Consider the following categories:\n",
      "   - `not_hate`: The post does not contain hate speech.\n",
      "   - `implicit_hate`: The post contains subtle or indirect hate speech.\n",
      "   - `explicit_hate`: The post contains clear and direct hate speech.\n",
      "3. **Classify the Hate Speech**: If the post contains hate speech, classify it as either `implicit_hate` or `explicit_hate`.\n",
      "4. **Calculate Confidence Score**: Provide a confidence score (between 0 and 1) that reflects your certainty in the classification.\n",
      "5. **Generate Explanation**: Write a detailed explanation of why the post was classified as hate speech. Highlight the specific elements, such as words, phrases, or implications, that contribute to the hateful content. Explain how these elements promote divisive or hostile viewpoints.\n",
      "\n",
      "Output your results in the following format:\n",
      "- `hate_class`: The classified category of hate speech (`not_hate`, `implicit_hate`, or `explicit_hate`).\n",
      "- `confidence`: The confidence score for your classification.\n",
      "- `explanation`: A detailed explanation of why the post was classified as hate speech.\n",
      "\n",
      "Example:\n",
      "- Post: \"diversity always means fewer ( or no ) whites\"\n",
      "- `hate_class`: implicit_hate\n",
      "- `confidence`: 0.9\n",
      "- `explanation`: The post implies a negative attitude towards diversity, suggesting that it leads to the exclusion of white people. This insinuation promotes a divisive and hostile viewpoint, characteristic of implicit hate speech.\n",
      "\n",
      "Please ensure your analysis is thorough and considers the nuances of the language used in the post.\n",
      "\n",
      "2025/01/08 12:25:31 INFO dspy.teleprompt.mipro_optimizer_v2: 25: You are tasked with analyzing a social media post to detect and classify hate speech. The post may contain various sentiments and styles, including hashtags, mentions, sarcasm, and rhetorical questions. Your goal is to determine if the post contains hate speech and, if so, categorize it as \"implicit_hate.\" Provide a confidence score (between 0 and 1) indicating the likelihood that the post contains hate speech. Additionally, offer an explanation of why the post was classified as such, highlighting specific elements like derogatory terms, racist stereotypes, or disrespectful language directed towards individuals or groups.\n",
      "\n",
      "Here are some examples to guide you:\n",
      "\n",
      "Example 1:\n",
      "- Post: \"rt the active shooter in charleston sc is a crazy black man not a white supremacist . i know you democrat race baiters (cont\"\n",
      "- Hate Class: implicit_hate\n",
      "- Confidence: 0.9\n",
      "- Explanation: The post implies a racist stereotype by assuming that the shooter is a \"crazy black man\" and dismisses the possibility of a white supremacist being involved. It also includes a derogatory term \"democrat race baiters,\" which contributes to the implicit hate speech.\n",
      "\n",
      "Example 2:\n",
      "- Post: \"i printed posters of #khallidmuhammad and i blast diarrhea on them everyday!\"\n",
      "- Hate Class: implicit_hate\n",
      "- Confidence: 0.9\n",
      "- Explanation: The post contains derogatory language and actions directed towards a specific individual, Khallid Muhammad, which implies disrespect and hatred. The use of profanity and the described action of disrespecting posters of the individual suggest underlying hate.\n",
      "\n",
      "Using these examples, analyze the given post and produce the fields `hate_class`, `confidence`, and `explanation`.\n",
      "\n",
      "2025/01/08 12:25:31 INFO dspy.teleprompt.mipro_optimizer_v2: 26: Your task is to analyze a given social media post and determine whether it contains hate speech or not. Provide the following outputs:\n",
      "\n",
      "1. `Hate Class`: Clearly state whether the post is 'hate' or 'not_hate'.\n",
      "2. `Confidence`: Assign a confidence score between 0 and 1 for your classification.\n",
      "3. `Explanation`: Explain why the post was classified as hate speech or not, considering the content, context, and any nuances such as sarcasm, rhetorical questions, or references to external sources. Take into account the presence of implicit hate speech and the use of hashtags, mentions, and different sentiments.\n",
      "\n",
      "Ensure your analysis is thorough and takes into account the complexities of the dataset, which includes both explicit and implicit forms of hate speech, as well as neutral statements.\n",
      "\n",
      "2025/01/08 12:25:31 INFO dspy.teleprompt.mipro_optimizer_v2: 27: Imagine you are a content moderator for a large social media platform, and you are tasked with identifying and classifying hate speech in user posts. Your job is critical in maintaining a safe and respectful environment for all users. Given a `post`, your task is to determine the `hate_class` (which could be 'implicit_hate', 'explicit_hate', or 'not_hate'), assign a `confidence` score to your classification, and provide a detailed `explanation` for your decision. Your explanation should highlight specific phrases or sentiments within the post that contributed to your classification. Remember, the accuracy of your classification and the clarity of your explanation are crucial in ensuring that the platform remains a positive space for all users.\n",
      "\n",
      "2025/01/08 12:25:31 INFO dspy.teleprompt.mipro_optimizer_v2: 28: Given a textual post, your task is to analyze the content and determine whether it contains hate speech. If hate speech is present, classify it into one of the following categories: 'implicit_hate' or 'not_hate'. Additionally, provide a confidence score for your classification and an explanation detailing the reasoning behind your categorization. Consider the nuances of the text, such as the use of sarcasm, rhetorical questions, and references to external sources. Ensure that your explanation clearly outlines why the post was classified as containing implicit hate or not.\n",
      "\n",
      "For example:\n",
      "- If the post mentions an \"anti-white group\" and the phrase \"white people are taking up space,\" explain how this implies a negative sentiment directed towards white people, classifying it as implicit hate.\n",
      "- If the post discusses a public figure's plans without targeting any particular group with hateful language, explain why it is classified as not hate.\n",
      "\n",
      "Please respond with the fields `hate_class`, `confidence`, and `explanation`.\n",
      "\n",
      "2025/01/08 12:25:31 INFO dspy.teleprompt.mipro_optimizer_v2: 29: Imagine you are a content moderator for a large social media platform, and you must quickly and accurately identify and classify hate speech in user posts to prevent the spread of harmful content. Given a `post`, your task is to determine the `hate_class` ('implicit_hate', 'explicit_hate', or 'not_hate'), assign a `confidence` score to your classification, and provide a clear `explanation` for your decision. Your analysis will directly impact the safety and well-being of the platform's users, so it is crucial to consider the nuances of language, such as sarcasm, rhetorical questions, and references to external sources. Remember that some posts may express implicit hate speech, which requires careful interpretation of underlying biases and sentiments. Your vigilance and accuracy are vital in maintaining a respectful and inclusive online community.\n",
      "\n",
      "2025/01/08 12:25:31 INFO dspy.teleprompt.mipro_optimizer_v2: 30: You are tasked with analyzing a short, informal post to determine if it contains hate speech. The post may include various sentiments, styles, hashtags, mentions, sarcasm, rhetorical questions, references to external sources, or calls for action. Your goal is to classify the post into one of the following categories: 'implicit_hate', 'explicit_hate', or 'not_hate'.\n",
      "\n",
      "For each post, provide the following:\n",
      "1. **Hate Class**: The category that best describes the post ('implicit_hate', 'explicit_hate', or 'not_hate').\n",
      "2. **Confidence**: A confidence score (between 0 and 1) indicating the certainty of your classification.\n",
      "3. **Explanation**: A detailed explanation of why the post was classified as such. Highlight specific phrases, implications, or contextual clues that contribute to the hate speech classification. This explanation should provide transparency into your decision-making process.\n",
      "\n",
      "Ensure that your explanation is thorough and considers the nuances of the post, such as the use of sarcasm, rhetorical questions, or indirect references that might imply hate speech.\n",
      "\n",
      "Here are some examples to guide you:\n",
      "\n",
      "**Example 1:**\n",
      "- Post: \"rt the active shooter in charleston sc is a crazy black man not a white supremacist . i know you democrat race baiters (cont\"\n",
      "- Hate Class: implicit_hate\n",
      "- Confidence: 0.85\n",
      "- Explanation: The post implies a racist stereotype by assuming that the shooter is a \"crazy black man\" and dismisses the possibility of a white supremacist being involved. Additionally, it uses derogatory language like \"democrat race baiters,\" which contributes to a divisive and hateful narrative.\n",
      "\n",
      "**Example 2:**\n",
      "- Post: \"glenn beck will soon announce he is leading his third great awakening followers to guyana to build becktown .\"\n",
      "- Hate Class: not_hate\n",
      "- Confidence: 0.9\n",
      "- Explanation: This post discusses a public figure's plans and does not target any particular group with hate or negative sentiment.\n",
      "\n",
      "Please follow these guidelines to accurately classify the posts and provide clear, informative explanations.\n",
      "\n",
      "2025/01/08 12:25:31 INFO dspy.teleprompt.mipro_optimizer_v2: 31: You are a sophisticated language model tasked with detecting and classifying hate speech in social media posts. For each given `post`, your job is to analyze the text and determine if it contains hate speech. If hate speech is detected, classify it into one of the predefined categories: `not_hate`, `implicit_hate`, or `explicit_hate`. Additionally, provide a `confidence` score for your classification, ranging from 0 to 1, which indicates the certainty of your prediction. Finally, generate an `explanation` that highlights the specific phrases or language in the post that led to your classification decision. This explanation should provide clear insights into the context and reasoning behind your detection and classification.\n",
      "\n",
      "Here are some guidelines to help you:\n",
      "\n",
      "1. **Detection**: Carefully examine the post for any language that could be considered offensive, derogatory, or discriminatory. Pay attention to subtle implications and indirect expressions of hate (implicit hate).\n",
      "\n",
      "2. **Classification**:\n",
      "   - `not_hate`: The post does not contain any hate speech.\n",
      "   - `implicit_hate`: The post contains subtle or implied hate speech that might not be immediately apparent.\n",
      "   - `explicit_hate`: The post contains clear and direct hate speech.\n",
      "\n",
      "3. **Confidence Score**: Assign a confidence score between 0 and 1 to indicate how certain you are about your classification. A score of 1 means you are absolutely certain, while a score of 0 means you are not certain at all.\n",
      "\n",
      "4. **Explanation**: clearly explain why you classified the post as you did. Highlight the specific phrases or language that influenced your decision. This helps in understanding the context and reasoning behind your classification.\n",
      "\n",
      "For example:\n",
      "- Post: \"i printed posters of #khallidmuhammad and i blast diarrhea on them everyday!\"\n",
      "  - Hate Class: `implicit_hate`\n",
      "  - Confidence: `0.85`\n",
      "  - Explanation: \"The post contains derogatory language and a disrespectful act directed towards a specific individual, Khallid Muhammad, which implies strong negative sentiment and potential hate.\"\n",
      "\n",
      "Please follow these guidelines to ensure accurate and insightful hate speech detection and classification.\n",
      "\n",
      "2025/01/08 12:25:31 INFO dspy.teleprompt.mipro_optimizer_v2: 32: You are a content moderator for a social media platform, and you've just received a urgent report about a surge of controversial posts. Your task is to swiftly and accurately identify and classify any instances of hate speech. For each given `post`, you must determine the `hate_class` (e.g., 'not_hate', 'implicit_hate'), assign a `confidence` score to your classification, and provide a detailed `explanation` for your decision. Your responses will directly impact the platform's ability to maintain a safe and respectful environment, and failure to accurately classify these posts could result in severe consequences, including harm to users and damage to the platform's reputation.\n",
      "\n",
      "Please format your response as follows:\n",
      "```\n",
      "Hate Class: [your_classification]\n",
      "Confidence: [your_confidence_score]\n",
      "Explanation: [your_explanation]\n",
      "```\n",
      "\n",
      "Now, let's begin. Here is the first `post`:\n",
      "\n",
      "2025/01/08 12:25:31 INFO dspy.teleprompt.mipro_optimizer_v2: 33: Analyze the given `post` to determine if it contains hate speech. Classify it as either `not_hate` or `implicit_hate`, provide a `confidence` score for your classification, and explain the reasoning behind your classification in the `explanation` field.\n",
      "\n",
      "2025/01/08 12:25:31 INFO dspy.teleprompt.mipro_optimizer_v2: 34: Imagine you are a moderator for an online forum, and your job is to review posts and determine if they contain hate speech. For each `post`, carefully read and analyze the content to identify any derogatory or hostile language targeted at specific groups. Classify the post as either `not_hate` or `implicit_hate`. Provide a `confidence` score between 0 and 1 to indicate how certain you are of your classification. Additionally, write a brief `explanation` to justify your classification, highlighting any specific phrases or context that influenced your decision. Be mindful of subtle cues, such as sarcasm or rhetorical questions, that might indicate implicit hate. Your goal is to ensure the forum remains respectful and inclusive.\n",
      "\n",
      "2025/01/08 12:25:31 INFO dspy.teleprompt.mipro_optimizer_v2: 35: You are a sophisticated language model tasked with analyzing short, informal posts that often touch on sensitive topics. Your goal is to determine whether each post contains hate speech and, if so, classify it as either 'implicit_hate' or 'explicit_hate'. For each post, provide a confidence score indicating the likelihood of your classification being correct, along with a detailed explanation of your reasoning. Consider the nuances of the posts, such as the use of hashtags, mentions, sarcasm, rhetorical questions, and references to external sources. Be mindful of neutral statements and the subtle differences between implicit and explicit hate speech.\n",
      "\n",
      "Here's how to structure your response:\n",
      "1. **Hate Class**: Classify the post as 'implicit_hate', 'explicit_hate', or 'not_hate'.\n",
      "2. **Confidence**: Assign a confidence score (between 0 and 1) to your classification.\n",
      "3. **Explanation**: Provide a clear and concise explanation for your classification, highlighting the specific elements of the post that led to your decision.\n",
      "\n",
      "Let's analyze the following post:\n",
      "\n",
      "Post: [Insert Post Here]\n",
      "\n",
      "Please provide your analysis in the format:\n",
      "- Hate Class:\n",
      "- Confidence:\n",
      "- Explanation:\n",
      "\n",
      "2025/01/08 12:25:31 INFO dspy.teleprompt.mipro_optimizer_v2: 36: Analyze the content of the given `post` to determine if it contains hate speech. Classify it as 'not_hate', 'implicit_hate', or 'explicit_hate'. Provide a `confidence` score for your classification and an `explanation` detailing the reasoning behind your decision, including any targeted groups, the type of negative sentiment or language used, and the context and intent behind the language.\n",
      "\n",
      "2025/01/08 12:25:31 INFO dspy.teleprompt.mipro_optimizer_v2: 37: You are a sophisticated language model trained to detect and classify subtle forms of hate speech. Your task is to analyze the given `post` and determine if it contains implicit hate speech. Implicit hate speech is not openly offensive but carries underlying prejudiced or hateful connotations. For each post, generate the following:\n",
      "\n",
      "1. `hate_class`: Classify the post as 'implicit_hate' if it contains implicit hate speech, or 'not_hate' if it does not.\n",
      "2. `confidence`: Assign a confidence score (between 0 and 1) indicating the likelihood of the post being implicit hate speech.\n",
      "3. `explanation`: Provide a detailed explanation of why the post was classified as implicit hate speech, highlighting specific phrases, implications, or nuances that led to this classification. Consider the use of sarcasm, rhetorical questions, hashtags, mentions, and external references that might contribute to the implicit hate speech.\n",
      "\n",
      "Be mindful of the nuances in the dataset, such as the presence of neutral statements and the challenge of distinguishing between implicit hate speech and benign content. Your goal is to identify and explain subtle forms of hate speech that might go unnoticed by simple detection methods.\n",
      "\n",
      "Here are some examples to guide you:\n",
      "\n",
      "**Example 1:**\n",
      "- Post: \"i dont think so .. more blacks than whites by tons . easier for everyone they relocate  less blood\"\n",
      "- Hate Class: implicit_hate\n",
      "- Confidence: 0.85\n",
      "- Explanation: The post suggests a negative sentiment towards blacks by implying that their relocation would be beneficial and lead to less conflict, indicated by the phrase \"less blood.\" This implicitly conveys a hateful attitude.\n",
      "\n",
      "**Example 2:**\n",
      "- Post: \"what have black people contributed to science ?\"\n",
      "- Hate Class: implicit_hate\n",
      "- Confidence: 0.85\n",
      "- Explanation: The post implies a dismissive and derogatory attitude towards the contributions of black people to science, which can be interpreted as implicit hate speech. The confidence level is high because the phrasing strongly suggests a bias against a specific racial group.\n",
      "\n",
      "**Example 3:**\n",
      "- Post: \"hey guys anyway i can join up ? i follow orders really well . just ask anybody  no one does #uncletom like me !\"\n",
      "- Hate Class: implicit_hate\n",
      "- Confidence: 0.85\n",
      "- Explanation: The use of the hashtag \"#uncletom\" is a derogatory reference to the stereotype of a subservient African American, which implies self-deprecation and reinforces negative racial stereotypes. This suggests implicit hate speech.\n",
      "\n",
      "Now, apply this analysis to the given `post`.\n",
      "\n",
      "2025/01/08 12:25:31 INFO dspy.teleprompt.mipro_optimizer_v2: \n",
      "\n",
      "2025/01/08 12:25:31 INFO dspy.teleprompt.mipro_optimizer_v2: Evaluating the default program...\n",
      "\n"
     ]
    },
    {
     "name": "stdout",
     "output_type": "stream",
     "text": [
      "Average Metric: 44.00 / 80 (55.0%): 100%|██████████████████████████████████████████████| 80/80 [00:14<00:00,  5.71it/s]"
     ]
    },
    {
     "name": "stderr",
     "output_type": "stream",
     "text": [
      "2025/01/08 12:25:45 INFO dspy.evaluate.evaluate: Average Metric: 44 / 80 (55.0%)\n",
      "2025/01/08 12:25:45 INFO dspy.teleprompt.mipro_optimizer_v2: Default program score: 55.0\n",
      "\n",
      "2025/01/08 12:25:45 INFO dspy.teleprompt.mipro_optimizer_v2: ==> STEP 3: FINDING OPTIMAL PROMPT PARAMETERS <==\n",
      "2025/01/08 12:25:45 INFO dspy.teleprompt.mipro_optimizer_v2: We will evaluate the program over a series of trials with different combinations of instructions and few-shot examples to find the optimal combination using Bayesian Optimization.\n",
      "\n",
      "C:\\Users\\giovannt\\AppData\\Local\\Programs\\Python\\Python312\\Lib\\site-packages\\optuna\\_experimental.py:31: ExperimentalWarning: Argument ``multivariate`` is an experimental feature. The interface can change in the future.\n",
      "  warnings.warn(\n",
      "2025/01/08 12:25:45 INFO dspy.teleprompt.mipro_optimizer_v2: == Minibatch Trial 1 / 50 ==\n"
     ]
    },
    {
     "name": "stdout",
     "output_type": "stream",
     "text": [
      "\n",
      "Average Metric: 19.00 / 25 (76.0%): 100%|██████████████████████████████████████████████| 25/25 [00:19<00:00,  1.25it/s]"
     ]
    },
    {
     "name": "stderr",
     "output_type": "stream",
     "text": [
      "2025/01/08 12:26:05 INFO dspy.evaluate.evaluate: Average Metric: 19 / 25 (76.0%)\n",
      "2025/01/08 12:26:05 INFO dspy.teleprompt.mipro_optimizer_v2: Score: 76.0 on minibatch of size 25 with parameters ['Predictor 0: Instruction 26', 'Predictor 0: Few-Shot Set 10'].\n",
      "2025/01/08 12:26:05 INFO dspy.teleprompt.mipro_optimizer_v2: Minibatch scores so far: [76.0]\n",
      "2025/01/08 12:26:05 INFO dspy.teleprompt.mipro_optimizer_v2: Full eval scores so far: [55.0]\n",
      "2025/01/08 12:26:05 INFO dspy.teleprompt.mipro_optimizer_v2: Best full score so far: 55.0\n",
      "2025/01/08 12:26:05 INFO dspy.teleprompt.mipro_optimizer_v2: ============================\n",
      "\n",
      "\n",
      "2025/01/08 12:26:05 INFO dspy.teleprompt.mipro_optimizer_v2: == Minibatch Trial 2 / 50 ==\n"
     ]
    },
    {
     "name": "stdout",
     "output_type": "stream",
     "text": [
      "\n",
      "Average Metric: 20.00 / 25 (80.0%): 100%|██████████████████████████████████████████████| 25/25 [00:20<00:00,  1.21it/s]"
     ]
    },
    {
     "name": "stderr",
     "output_type": "stream",
     "text": [
      "2025/01/08 12:26:26 INFO dspy.evaluate.evaluate: Average Metric: 20 / 25 (80.0%)\n",
      "2025/01/08 12:26:26 INFO dspy.teleprompt.mipro_optimizer_v2: Score: 80.0 on minibatch of size 25 with parameters ['Predictor 0: Instruction 7', 'Predictor 0: Few-Shot Set 15'].\n",
      "2025/01/08 12:26:26 INFO dspy.teleprompt.mipro_optimizer_v2: Minibatch scores so far: [76.0, 80.0]\n",
      "2025/01/08 12:26:26 INFO dspy.teleprompt.mipro_optimizer_v2: Full eval scores so far: [55.0]\n",
      "2025/01/08 12:26:26 INFO dspy.teleprompt.mipro_optimizer_v2: Best full score so far: 55.0\n",
      "2025/01/08 12:26:26 INFO dspy.teleprompt.mipro_optimizer_v2: ============================\n",
      "\n",
      "\n",
      "2025/01/08 12:26:26 INFO dspy.teleprompt.mipro_optimizer_v2: == Minibatch Trial 3 / 50 ==\n"
     ]
    },
    {
     "name": "stdout",
     "output_type": "stream",
     "text": [
      "\n",
      "Average Metric: 17.00 / 25 (68.0%): 100%|██████████████████████████████████████████████| 25/25 [00:20<00:00,  1.20it/s]"
     ]
    },
    {
     "name": "stderr",
     "output_type": "stream",
     "text": [
      "2025/01/08 12:26:47 INFO dspy.evaluate.evaluate: Average Metric: 17 / 25 (68.0%)\n",
      "2025/01/08 12:26:47 INFO dspy.teleprompt.mipro_optimizer_v2: Score: 68.0 on minibatch of size 25 with parameters ['Predictor 0: Instruction 8', 'Predictor 0: Few-Shot Set 20'].\n",
      "2025/01/08 12:26:47 INFO dspy.teleprompt.mipro_optimizer_v2: Minibatch scores so far: [76.0, 80.0, 68.0]\n",
      "2025/01/08 12:26:47 INFO dspy.teleprompt.mipro_optimizer_v2: Full eval scores so far: [55.0]\n",
      "2025/01/08 12:26:47 INFO dspy.teleprompt.mipro_optimizer_v2: Best full score so far: 55.0\n",
      "2025/01/08 12:26:47 INFO dspy.teleprompt.mipro_optimizer_v2: ============================\n",
      "\n",
      "\n",
      "2025/01/08 12:26:47 INFO dspy.teleprompt.mipro_optimizer_v2: == Minibatch Trial 4 / 50 ==\n"
     ]
    },
    {
     "name": "stdout",
     "output_type": "stream",
     "text": [
      "\n",
      "Average Metric: 14.00 / 25 (56.0%): 100%|██████████████████████████████████████████████| 25/25 [00:20<00:00,  1.19it/s]"
     ]
    },
    {
     "name": "stderr",
     "output_type": "stream",
     "text": [
      "2025/01/08 12:27:08 INFO dspy.evaluate.evaluate: Average Metric: 14 / 25 (56.0%)\n",
      "2025/01/08 12:27:08 INFO dspy.teleprompt.mipro_optimizer_v2: Score: 56.0 on minibatch of size 25 with parameters ['Predictor 0: Instruction 7', 'Predictor 0: Few-Shot Set 11'].\n",
      "2025/01/08 12:27:08 INFO dspy.teleprompt.mipro_optimizer_v2: Minibatch scores so far: [76.0, 80.0, 68.0, 56.0]\n",
      "2025/01/08 12:27:08 INFO dspy.teleprompt.mipro_optimizer_v2: Full eval scores so far: [55.0]\n",
      "2025/01/08 12:27:08 INFO dspy.teleprompt.mipro_optimizer_v2: Best full score so far: 55.0\n",
      "2025/01/08 12:27:08 INFO dspy.teleprompt.mipro_optimizer_v2: ============================\n",
      "\n",
      "\n",
      "2025/01/08 12:27:08 INFO dspy.teleprompt.mipro_optimizer_v2: == Minibatch Trial 5 / 50 ==\n"
     ]
    },
    {
     "name": "stdout",
     "output_type": "stream",
     "text": [
      "\n",
      "Average Metric: 18.00 / 25 (72.0%): 100%|██████████████████████████████████████████████| 25/25 [00:26<00:00,  1.07s/it]"
     ]
    },
    {
     "name": "stderr",
     "output_type": "stream",
     "text": [
      "2025/01/08 12:27:34 INFO dspy.evaluate.evaluate: Average Metric: 18 / 25 (72.0%)\n",
      "2025/01/08 12:27:34 INFO dspy.teleprompt.mipro_optimizer_v2: Score: 72.0 on minibatch of size 25 with parameters ['Predictor 0: Instruction 5', 'Predictor 0: Few-Shot Set 20'].\n",
      "2025/01/08 12:27:34 INFO dspy.teleprompt.mipro_optimizer_v2: Minibatch scores so far: [76.0, 80.0, 68.0, 56.0, 72.0]\n",
      "2025/01/08 12:27:34 INFO dspy.teleprompt.mipro_optimizer_v2: Full eval scores so far: [55.0]\n",
      "2025/01/08 12:27:34 INFO dspy.teleprompt.mipro_optimizer_v2: Best full score so far: 55.0\n",
      "2025/01/08 12:27:34 INFO dspy.teleprompt.mipro_optimizer_v2: ============================\n",
      "\n",
      "\n",
      "2025/01/08 12:27:34 INFO dspy.teleprompt.mipro_optimizer_v2: == Minibatch Trial 6 / 50 ==\n"
     ]
    },
    {
     "name": "stdout",
     "output_type": "stream",
     "text": [
      "\n",
      "Average Metric: 15.00 / 25 (60.0%): 100%|██████████████████████████████████████████████| 25/25 [00:21<00:00,  1.19it/s]"
     ]
    },
    {
     "name": "stderr",
     "output_type": "stream",
     "text": [
      "2025/01/08 12:27:55 INFO dspy.evaluate.evaluate: Average Metric: 15 / 25 (60.0%)\n",
      "2025/01/08 12:27:55 INFO dspy.teleprompt.mipro_optimizer_v2: Score: 60.0 on minibatch of size 25 with parameters ['Predictor 0: Instruction 21', 'Predictor 0: Few-Shot Set 0'].\n",
      "2025/01/08 12:27:55 INFO dspy.teleprompt.mipro_optimizer_v2: Minibatch scores so far: [76.0, 80.0, 68.0, 56.0, 72.0, 60.0]\n",
      "2025/01/08 12:27:55 INFO dspy.teleprompt.mipro_optimizer_v2: Full eval scores so far: [55.0]\n",
      "2025/01/08 12:27:55 INFO dspy.teleprompt.mipro_optimizer_v2: Best full score so far: 55.0\n",
      "2025/01/08 12:27:55 INFO dspy.teleprompt.mipro_optimizer_v2: ============================\n",
      "\n",
      "\n",
      "2025/01/08 12:27:55 INFO dspy.teleprompt.mipro_optimizer_v2: == Minibatch Trial 7 / 50 ==\n"
     ]
    },
    {
     "name": "stdout",
     "output_type": "stream",
     "text": [
      "\n",
      "Average Metric: 20.00 / 25 (80.0%): 100%|██████████████████████████████████████████████| 25/25 [00:20<00:00,  1.21it/s]"
     ]
    },
    {
     "name": "stderr",
     "output_type": "stream",
     "text": [
      "2025/01/08 12:28:16 INFO dspy.evaluate.evaluate: Average Metric: 20 / 25 (80.0%)\n",
      "2025/01/08 12:28:16 INFO dspy.teleprompt.mipro_optimizer_v2: Score: 80.0 on minibatch of size 25 with parameters ['Predictor 0: Instruction 34', 'Predictor 0: Few-Shot Set 9'].\n",
      "2025/01/08 12:28:16 INFO dspy.teleprompt.mipro_optimizer_v2: Minibatch scores so far: [76.0, 80.0, 68.0, 56.0, 72.0, 60.0, 80.0]\n",
      "2025/01/08 12:28:16 INFO dspy.teleprompt.mipro_optimizer_v2: Full eval scores so far: [55.0]\n",
      "2025/01/08 12:28:16 INFO dspy.teleprompt.mipro_optimizer_v2: Best full score so far: 55.0\n",
      "2025/01/08 12:28:16 INFO dspy.teleprompt.mipro_optimizer_v2: ============================\n",
      "\n",
      "\n",
      "2025/01/08 12:28:16 INFO dspy.teleprompt.mipro_optimizer_v2: == Minibatch Trial 8 / 50 ==\n"
     ]
    },
    {
     "name": "stdout",
     "output_type": "stream",
     "text": [
      "\n",
      "Average Metric: 20.00 / 25 (80.0%): 100%|██████████████████████████████████████████████| 25/25 [00:19<00:00,  1.28it/s]"
     ]
    },
    {
     "name": "stderr",
     "output_type": "stream",
     "text": [
      "2025/01/08 12:28:36 INFO dspy.evaluate.evaluate: Average Metric: 20 / 25 (80.0%)\n",
      "2025/01/08 12:28:36 INFO dspy.teleprompt.mipro_optimizer_v2: Score: 80.0 on minibatch of size 25 with parameters ['Predictor 0: Instruction 32', 'Predictor 0: Few-Shot Set 3'].\n",
      "2025/01/08 12:28:36 INFO dspy.teleprompt.mipro_optimizer_v2: Minibatch scores so far: [76.0, 80.0, 68.0, 56.0, 72.0, 60.0, 80.0, 80.0]\n",
      "2025/01/08 12:28:36 INFO dspy.teleprompt.mipro_optimizer_v2: Full eval scores so far: [55.0]\n",
      "2025/01/08 12:28:36 INFO dspy.teleprompt.mipro_optimizer_v2: Best full score so far: 55.0\n",
      "2025/01/08 12:28:36 INFO dspy.teleprompt.mipro_optimizer_v2: ============================\n",
      "\n",
      "\n",
      "2025/01/08 12:28:36 INFO dspy.teleprompt.mipro_optimizer_v2: == Minibatch Trial 9 / 50 ==\n"
     ]
    },
    {
     "name": "stdout",
     "output_type": "stream",
     "text": [
      "\n",
      "Average Metric: 19.00 / 25 (76.0%): 100%|██████████████████████████████████████████████| 25/25 [00:21<00:00,  1.19it/s]"
     ]
    },
    {
     "name": "stderr",
     "output_type": "stream",
     "text": [
      "2025/01/08 12:28:57 INFO dspy.evaluate.evaluate: Average Metric: 19 / 25 (76.0%)\n",
      "2025/01/08 12:28:57 INFO dspy.teleprompt.mipro_optimizer_v2: Score: 76.0 on minibatch of size 25 with parameters ['Predictor 0: Instruction 21', 'Predictor 0: Few-Shot Set 26'].\n",
      "2025/01/08 12:28:57 INFO dspy.teleprompt.mipro_optimizer_v2: Minibatch scores so far: [76.0, 80.0, 68.0, 56.0, 72.0, 60.0, 80.0, 80.0, 76.0]\n",
      "2025/01/08 12:28:57 INFO dspy.teleprompt.mipro_optimizer_v2: Full eval scores so far: [55.0]\n",
      "2025/01/08 12:28:57 INFO dspy.teleprompt.mipro_optimizer_v2: Best full score so far: 55.0\n",
      "2025/01/08 12:28:57 INFO dspy.teleprompt.mipro_optimizer_v2: ============================\n",
      "\n",
      "\n",
      "2025/01/08 12:28:57 INFO dspy.teleprompt.mipro_optimizer_v2: == Minibatch Trial 10 / 50 ==\n"
     ]
    },
    {
     "name": "stdout",
     "output_type": "stream",
     "text": [
      "\n",
      "Average Metric: 16.00 / 25 (64.0%): 100%|██████████████████████████████████████████████| 25/25 [00:24<00:00,  1.01it/s]"
     ]
    },
    {
     "name": "stderr",
     "output_type": "stream",
     "text": [
      "2025/01/08 12:29:22 INFO dspy.evaluate.evaluate: Average Metric: 16 / 25 (64.0%)\n",
      "2025/01/08 12:29:22 INFO dspy.teleprompt.mipro_optimizer_v2: Score: 64.0 on minibatch of size 25 with parameters ['Predictor 0: Instruction 2', 'Predictor 0: Few-Shot Set 24'].\n",
      "2025/01/08 12:29:22 INFO dspy.teleprompt.mipro_optimizer_v2: Minibatch scores so far: [76.0, 80.0, 68.0, 56.0, 72.0, 60.0, 80.0, 80.0, 76.0, 64.0]\n",
      "2025/01/08 12:29:22 INFO dspy.teleprompt.mipro_optimizer_v2: Full eval scores so far: [55.0]\n",
      "2025/01/08 12:29:22 INFO dspy.teleprompt.mipro_optimizer_v2: Best full score so far: 55.0\n",
      "2025/01/08 12:29:22 INFO dspy.teleprompt.mipro_optimizer_v2: =============================\n",
      "\n",
      "\n",
      "2025/01/08 12:29:22 INFO dspy.teleprompt.mipro_optimizer_v2: ===== Full Eval 1 =====\n",
      "2025/01/08 12:29:22 INFO dspy.teleprompt.mipro_optimizer_v2: Doing full eval on next top averaging program (Avg Score: 80.0) from minibatch trials...\n"
     ]
    },
    {
     "name": "stdout",
     "output_type": "stream",
     "text": [
      "\n",
      "Average Metric: 56.00 / 80 (70.0%): 100%|██████████████████████████████████████████████| 80/80 [00:45<00:00,  1.77it/s]"
     ]
    },
    {
     "name": "stderr",
     "output_type": "stream",
     "text": [
      "2025/01/08 12:30:07 INFO dspy.evaluate.evaluate: Average Metric: 56 / 80 (70.0%)\n",
      "2025/01/08 12:30:07 INFO dspy.teleprompt.mipro_optimizer_v2: \u001b[92mNew best full eval score!\u001b[0m Score: 70.0\n",
      "2025/01/08 12:30:07 INFO dspy.teleprompt.mipro_optimizer_v2: Full eval scores so far: [55.0, 70.0]\n",
      "2025/01/08 12:30:07 INFO dspy.teleprompt.mipro_optimizer_v2: Best full score so far: 70.0\n",
      "2025/01/08 12:30:07 INFO dspy.teleprompt.mipro_optimizer_v2: =======================\n",
      "2025/01/08 12:30:07 INFO dspy.teleprompt.mipro_optimizer_v2: \n",
      "\n",
      "2025/01/08 12:30:07 INFO dspy.teleprompt.mipro_optimizer_v2: == Minibatch Trial 11 / 50 ==\n"
     ]
    },
    {
     "name": "stdout",
     "output_type": "stream",
     "text": [
      "\n",
      "Average Metric: 17.00 / 25 (68.0%): 100%|██████████████████████████████████████████████| 25/25 [00:20<00:00,  1.23it/s]"
     ]
    },
    {
     "name": "stderr",
     "output_type": "stream",
     "text": [
      "2025/01/08 12:30:27 INFO dspy.evaluate.evaluate: Average Metric: 17 / 25 (68.0%)\n",
      "2025/01/08 12:30:27 INFO dspy.teleprompt.mipro_optimizer_v2: Score: 68.0 on minibatch of size 25 with parameters ['Predictor 0: Instruction 7', 'Predictor 0: Few-Shot Set 16'].\n",
      "2025/01/08 12:30:27 INFO dspy.teleprompt.mipro_optimizer_v2: Minibatch scores so far: [76.0, 80.0, 68.0, 56.0, 72.0, 60.0, 80.0, 80.0, 76.0, 64.0, 68.0]\n",
      "2025/01/08 12:30:27 INFO dspy.teleprompt.mipro_optimizer_v2: Full eval scores so far: [55.0, 70.0]\n",
      "2025/01/08 12:30:27 INFO dspy.teleprompt.mipro_optimizer_v2: Best full score so far: 70.0\n",
      "2025/01/08 12:30:27 INFO dspy.teleprompt.mipro_optimizer_v2: =============================\n",
      "\n",
      "\n",
      "2025/01/08 12:30:27 INFO dspy.teleprompt.mipro_optimizer_v2: == Minibatch Trial 12 / 50 ==\n"
     ]
    },
    {
     "name": "stdout",
     "output_type": "stream",
     "text": [
      "\n",
      "Average Metric: 16.00 / 25 (64.0%): 100%|██████████████████████████████████████████████| 25/25 [00:21<00:00,  1.15it/s]"
     ]
    },
    {
     "name": "stderr",
     "output_type": "stream",
     "text": [
      "2025/01/08 12:30:49 INFO dspy.evaluate.evaluate: Average Metric: 16 / 25 (64.0%)\n",
      "2025/01/08 12:30:49 INFO dspy.teleprompt.mipro_optimizer_v2: Score: 64.0 on minibatch of size 25 with parameters ['Predictor 0: Instruction 1', 'Predictor 0: Few-Shot Set 9'].\n",
      "2025/01/08 12:30:49 INFO dspy.teleprompt.mipro_optimizer_v2: Minibatch scores so far: [76.0, 80.0, 68.0, 56.0, 72.0, 60.0, 80.0, 80.0, 76.0, 64.0, 68.0, 64.0]\n",
      "2025/01/08 12:30:49 INFO dspy.teleprompt.mipro_optimizer_v2: Full eval scores so far: [55.0, 70.0]\n",
      "2025/01/08 12:30:49 INFO dspy.teleprompt.mipro_optimizer_v2: Best full score so far: 70.0\n",
      "2025/01/08 12:30:49 INFO dspy.teleprompt.mipro_optimizer_v2: =============================\n",
      "\n",
      "\n",
      "2025/01/08 12:30:49 INFO dspy.teleprompt.mipro_optimizer_v2: == Minibatch Trial 13 / 50 ==\n"
     ]
    },
    {
     "name": "stdout",
     "output_type": "stream",
     "text": [
      "\n",
      "Average Metric: 12.00 / 25 (48.0%): 100%|██████████████████████████████████████████████| 25/25 [00:23<00:00,  1.07it/s]"
     ]
    },
    {
     "name": "stderr",
     "output_type": "stream",
     "text": [
      "2025/01/08 12:31:12 INFO dspy.evaluate.evaluate: Average Metric: 12 / 25 (48.0%)\n",
      "2025/01/08 12:31:12 INFO dspy.teleprompt.mipro_optimizer_v2: Score: 48.0 on minibatch of size 25 with parameters ['Predictor 0: Instruction 24', 'Predictor 0: Few-Shot Set 15'].\n",
      "2025/01/08 12:31:12 INFO dspy.teleprompt.mipro_optimizer_v2: Minibatch scores so far: [76.0, 80.0, 68.0, 56.0, 72.0, 60.0, 80.0, 80.0, 76.0, 64.0, 68.0, 64.0, 48.0]\n",
      "2025/01/08 12:31:12 INFO dspy.teleprompt.mipro_optimizer_v2: Full eval scores so far: [55.0, 70.0]\n",
      "2025/01/08 12:31:12 INFO dspy.teleprompt.mipro_optimizer_v2: Best full score so far: 70.0\n",
      "2025/01/08 12:31:12 INFO dspy.teleprompt.mipro_optimizer_v2: =============================\n",
      "\n",
      "\n",
      "2025/01/08 12:31:12 INFO dspy.teleprompt.mipro_optimizer_v2: == Minibatch Trial 14 / 50 ==\n"
     ]
    },
    {
     "name": "stdout",
     "output_type": "stream",
     "text": [
      "\n",
      "Average Metric: 17.00 / 25 (68.0%): 100%|██████████████████████████████████████████████| 25/25 [00:19<00:00,  1.29it/s]"
     ]
    },
    {
     "name": "stderr",
     "output_type": "stream",
     "text": [
      "2025/01/08 12:31:32 INFO dspy.evaluate.evaluate: Average Metric: 17 / 25 (68.0%)\n",
      "2025/01/08 12:31:32 INFO dspy.teleprompt.mipro_optimizer_v2: Score: 68.0 on minibatch of size 25 with parameters ['Predictor 0: Instruction 27', 'Predictor 0: Few-Shot Set 9'].\n",
      "2025/01/08 12:31:32 INFO dspy.teleprompt.mipro_optimizer_v2: Minibatch scores so far: [76.0, 80.0, 68.0, 56.0, 72.0, 60.0, 80.0, 80.0, 76.0, 64.0, 68.0, 64.0, 48.0, 68.0]\n",
      "2025/01/08 12:31:32 INFO dspy.teleprompt.mipro_optimizer_v2: Full eval scores so far: [55.0, 70.0]\n",
      "2025/01/08 12:31:32 INFO dspy.teleprompt.mipro_optimizer_v2: Best full score so far: 70.0\n",
      "2025/01/08 12:31:32 INFO dspy.teleprompt.mipro_optimizer_v2: =============================\n",
      "\n",
      "\n",
      "2025/01/08 12:31:32 INFO dspy.teleprompt.mipro_optimizer_v2: == Minibatch Trial 15 / 50 ==\n"
     ]
    },
    {
     "name": "stdout",
     "output_type": "stream",
     "text": [
      "\n",
      "Average Metric: 18.00 / 25 (72.0%): 100%|██████████████████████████████████████████████| 25/25 [00:22<00:00,  1.11it/s]"
     ]
    },
    {
     "name": "stderr",
     "output_type": "stream",
     "text": [
      "2025/01/08 12:31:54 INFO dspy.evaluate.evaluate: Average Metric: 18 / 25 (72.0%)\n",
      "2025/01/08 12:31:54 INFO dspy.teleprompt.mipro_optimizer_v2: Score: 72.0 on minibatch of size 25 with parameters ['Predictor 0: Instruction 34', 'Predictor 0: Few-Shot Set 30'].\n",
      "2025/01/08 12:31:54 INFO dspy.teleprompt.mipro_optimizer_v2: Minibatch scores so far: [76.0, 80.0, 68.0, 56.0, 72.0, 60.0, 80.0, 80.0, 76.0, 64.0, 68.0, 64.0, 48.0, 68.0, 72.0]\n",
      "2025/01/08 12:31:54 INFO dspy.teleprompt.mipro_optimizer_v2: Full eval scores so far: [55.0, 70.0]\n",
      "2025/01/08 12:31:54 INFO dspy.teleprompt.mipro_optimizer_v2: Best full score so far: 70.0\n",
      "2025/01/08 12:31:54 INFO dspy.teleprompt.mipro_optimizer_v2: =============================\n",
      "\n",
      "\n",
      "2025/01/08 12:31:54 INFO dspy.teleprompt.mipro_optimizer_v2: == Minibatch Trial 16 / 50 ==\n"
     ]
    },
    {
     "name": "stdout",
     "output_type": "stream",
     "text": [
      "\n",
      "Average Metric: 15.00 / 25 (60.0%): 100%|██████████████████████████████████████████████| 25/25 [00:18<00:00,  1.36it/s]"
     ]
    },
    {
     "name": "stderr",
     "output_type": "stream",
     "text": [
      "2025/01/08 12:32:13 INFO dspy.evaluate.evaluate: Average Metric: 15 / 25 (60.0%)\n",
      "2025/01/08 12:32:13 INFO dspy.teleprompt.mipro_optimizer_v2: Score: 60.0 on minibatch of size 25 with parameters ['Predictor 0: Instruction 18', 'Predictor 0: Few-Shot Set 15'].\n",
      "2025/01/08 12:32:13 INFO dspy.teleprompt.mipro_optimizer_v2: Minibatch scores so far: [76.0, 80.0, 68.0, 56.0, 72.0, 60.0, 80.0, 80.0, 76.0, 64.0, 68.0, 64.0, 48.0, 68.0, 72.0, 60.0]\n",
      "2025/01/08 12:32:13 INFO dspy.teleprompt.mipro_optimizer_v2: Full eval scores so far: [55.0, 70.0]\n",
      "2025/01/08 12:32:13 INFO dspy.teleprompt.mipro_optimizer_v2: Best full score so far: 70.0\n",
      "2025/01/08 12:32:13 INFO dspy.teleprompt.mipro_optimizer_v2: =============================\n",
      "\n",
      "\n",
      "2025/01/08 12:32:13 INFO dspy.teleprompt.mipro_optimizer_v2: == Minibatch Trial 17 / 50 ==\n"
     ]
    },
    {
     "name": "stdout",
     "output_type": "stream",
     "text": [
      "\n",
      "Average Metric: 20.00 / 25 (80.0%): 100%|██████████████████████████████████████████████| 25/25 [00:26<00:00,  1.05s/it]"
     ]
    },
    {
     "name": "stderr",
     "output_type": "stream",
     "text": [
      "2025/01/08 12:32:39 INFO dspy.evaluate.evaluate: Average Metric: 20 / 25 (80.0%)\n",
      "2025/01/08 12:32:39 INFO dspy.teleprompt.mipro_optimizer_v2: Score: 80.0 on minibatch of size 25 with parameters ['Predictor 0: Instruction 0', 'Predictor 0: Few-Shot Set 36'].\n",
      "2025/01/08 12:32:39 INFO dspy.teleprompt.mipro_optimizer_v2: Minibatch scores so far: [76.0, 80.0, 68.0, 56.0, 72.0, 60.0, 80.0, 80.0, 76.0, 64.0, 68.0, 64.0, 48.0, 68.0, 72.0, 60.0, 80.0]\n",
      "2025/01/08 12:32:39 INFO dspy.teleprompt.mipro_optimizer_v2: Full eval scores so far: [55.0, 70.0]\n",
      "2025/01/08 12:32:39 INFO dspy.teleprompt.mipro_optimizer_v2: Best full score so far: 70.0\n",
      "2025/01/08 12:32:39 INFO dspy.teleprompt.mipro_optimizer_v2: =============================\n",
      "\n",
      "\n",
      "2025/01/08 12:32:39 INFO dspy.teleprompt.mipro_optimizer_v2: == Minibatch Trial 18 / 50 ==\n"
     ]
    },
    {
     "name": "stdout",
     "output_type": "stream",
     "text": [
      "\n",
      "Average Metric: 18.00 / 25 (72.0%): 100%|██████████████████████████████████████████████| 25/25 [00:19<00:00,  1.27it/s]"
     ]
    },
    {
     "name": "stderr",
     "output_type": "stream",
     "text": [
      "2025/01/08 12:32:59 INFO dspy.evaluate.evaluate: Average Metric: 18 / 25 (72.0%)\n",
      "2025/01/08 12:32:59 INFO dspy.teleprompt.mipro_optimizer_v2: Score: 72.0 on minibatch of size 25 with parameters ['Predictor 0: Instruction 34', 'Predictor 0: Few-Shot Set 7'].\n",
      "2025/01/08 12:32:59 INFO dspy.teleprompt.mipro_optimizer_v2: Minibatch scores so far: [76.0, 80.0, 68.0, 56.0, 72.0, 60.0, 80.0, 80.0, 76.0, 64.0, 68.0, 64.0, 48.0, 68.0, 72.0, 60.0, 80.0, 72.0]\n",
      "2025/01/08 12:32:59 INFO dspy.teleprompt.mipro_optimizer_v2: Full eval scores so far: [55.0, 70.0]\n",
      "2025/01/08 12:32:59 INFO dspy.teleprompt.mipro_optimizer_v2: Best full score so far: 70.0\n",
      "2025/01/08 12:32:59 INFO dspy.teleprompt.mipro_optimizer_v2: =============================\n",
      "\n",
      "\n",
      "2025/01/08 12:32:59 INFO dspy.teleprompt.mipro_optimizer_v2: == Minibatch Trial 19 / 50 ==\n"
     ]
    },
    {
     "name": "stdout",
     "output_type": "stream",
     "text": [
      "\n",
      "Average Metric: 21.00 / 25 (84.0%): 100%|██████████████████████████████████████████████| 25/25 [00:21<00:00,  1.15it/s]"
     ]
    },
    {
     "name": "stderr",
     "output_type": "stream",
     "text": [
      "2025/01/08 12:33:21 INFO dspy.evaluate.evaluate: Average Metric: 21 / 25 (84.0%)\n",
      "2025/01/08 12:33:21 INFO dspy.teleprompt.mipro_optimizer_v2: Score: 84.0 on minibatch of size 25 with parameters ['Predictor 0: Instruction 3', 'Predictor 0: Few-Shot Set 8'].\n",
      "2025/01/08 12:33:21 INFO dspy.teleprompt.mipro_optimizer_v2: Minibatch scores so far: [76.0, 80.0, 68.0, 56.0, 72.0, 60.0, 80.0, 80.0, 76.0, 64.0, 68.0, 64.0, 48.0, 68.0, 72.0, 60.0, 80.0, 72.0, 84.0]\n",
      "2025/01/08 12:33:21 INFO dspy.teleprompt.mipro_optimizer_v2: Full eval scores so far: [55.0, 70.0]\n",
      "2025/01/08 12:33:21 INFO dspy.teleprompt.mipro_optimizer_v2: Best full score so far: 70.0\n",
      "2025/01/08 12:33:21 INFO dspy.teleprompt.mipro_optimizer_v2: =============================\n",
      "\n",
      "\n",
      "2025/01/08 12:33:21 INFO dspy.teleprompt.mipro_optimizer_v2: == Minibatch Trial 20 / 50 ==\n"
     ]
    },
    {
     "name": "stdout",
     "output_type": "stream",
     "text": [
      "\n",
      "Average Metric: 17.00 / 25 (68.0%): 100%|██████████████████████████████████████████████| 25/25 [00:19<00:00,  1.29it/s]"
     ]
    },
    {
     "name": "stderr",
     "output_type": "stream",
     "text": [
      "2025/01/08 12:33:40 INFO dspy.evaluate.evaluate: Average Metric: 17 / 25 (68.0%)\n",
      "2025/01/08 12:33:40 INFO dspy.teleprompt.mipro_optimizer_v2: Score: 68.0 on minibatch of size 25 with parameters ['Predictor 0: Instruction 24', 'Predictor 0: Few-Shot Set 8'].\n",
      "2025/01/08 12:33:40 INFO dspy.teleprompt.mipro_optimizer_v2: Minibatch scores so far: [76.0, 80.0, 68.0, 56.0, 72.0, 60.0, 80.0, 80.0, 76.0, 64.0, 68.0, 64.0, 48.0, 68.0, 72.0, 60.0, 80.0, 72.0, 84.0, 68.0]\n",
      "2025/01/08 12:33:40 INFO dspy.teleprompt.mipro_optimizer_v2: Full eval scores so far: [55.0, 70.0]\n",
      "2025/01/08 12:33:40 INFO dspy.teleprompt.mipro_optimizer_v2: Best full score so far: 70.0\n",
      "2025/01/08 12:33:40 INFO dspy.teleprompt.mipro_optimizer_v2: =============================\n",
      "\n",
      "\n",
      "2025/01/08 12:33:40 INFO dspy.teleprompt.mipro_optimizer_v2: ===== Full Eval 2 =====\n",
      "2025/01/08 12:33:40 INFO dspy.teleprompt.mipro_optimizer_v2: Doing full eval on next top averaging program (Avg Score: 84.0) from minibatch trials...\n"
     ]
    },
    {
     "name": "stdout",
     "output_type": "stream",
     "text": [
      "\n",
      "Average Metric: 21.00 / 34 (61.8%):  42%|███████████████████▌                          | 34/80 [00:18<00:26,  1.76it/s]"
     ]
    },
    {
     "name": "stderr",
     "output_type": "stream",
     "text": [
      "2025/01/08 12:34:00 ERROR dspy.utils.parallelizer: Error processing item Example({'post': 'what ? that is white ? i said #whitelivesmatter too', 'hate_class': 'implicit_hate'}) (input_keys={'post'}): litellm.RateLimitError: RateLimitError: MistralException - Error code: 429 - {'message': 'Requests rate limit exceeded'}. Set `provide_traceback=True` to see the stack trace.\n"
     ]
    },
    {
     "name": "stdout",
     "output_type": "stream",
     "text": [
      "Average Metric: 43.00 / 69 (62.3%):  88%|████████████████████████████████████████▎     | 70/80 [00:42<00:07,  1.34it/s]"
     ]
    },
    {
     "name": "stderr",
     "output_type": "stream",
     "text": [
      "2025/01/08 12:34:23 ERROR dspy.utils.parallelizer: Error processing item Example({'post': \"do i think mlk was wrong for calling out the founding fathers for being white supremacists in his book ... and saying too many whites are not willing to go the extra mile to end white supremacy ... no ... i don't\", 'hate_class': 'not_hate'}) (input_keys={'post'}): litellm.RateLimitError: RateLimitError: MistralException - Error code: 429 - {'message': 'Requests rate limit exceeded'}. Set `provide_traceback=True` to see the stack trace.\n"
     ]
    },
    {
     "name": "stdout",
     "output_type": "stream",
     "text": [
      "Average Metric: 51.00 / 78 (65.4%): 100%|██████████████████████████████████████████████| 80/80 [00:48<00:00,  1.65it/s]"
     ]
    },
    {
     "name": "stderr",
     "output_type": "stream",
     "text": [
      "2025/01/08 12:34:29 INFO dspy.evaluate.evaluate: Average Metric: 51.0 / 80 (63.8%)\n",
      "2025/01/08 12:34:29 INFO dspy.teleprompt.mipro_optimizer_v2: Full eval scores so far: [55.0, 70.0, 63.75]\n",
      "2025/01/08 12:34:29 INFO dspy.teleprompt.mipro_optimizer_v2: Best full score so far: 70.0\n",
      "2025/01/08 12:34:29 INFO dspy.teleprompt.mipro_optimizer_v2: =======================\n",
      "2025/01/08 12:34:29 INFO dspy.teleprompt.mipro_optimizer_v2: \n",
      "\n",
      "2025/01/08 12:34:29 INFO dspy.teleprompt.mipro_optimizer_v2: == Minibatch Trial 21 / 50 ==\n"
     ]
    },
    {
     "name": "stdout",
     "output_type": "stream",
     "text": [
      "\n",
      "Average Metric: 17.00 / 25 (68.0%): 100%|██████████████████████████████████████████████| 25/25 [00:05<00:00,  4.98it/s]"
     ]
    },
    {
     "name": "stderr",
     "output_type": "stream",
     "text": [
      "2025/01/08 12:34:34 INFO dspy.evaluate.evaluate: Average Metric: 17 / 25 (68.0%)\n",
      "2025/01/08 12:34:34 INFO dspy.teleprompt.mipro_optimizer_v2: Score: 68.0 on minibatch of size 25 with parameters ['Predictor 0: Instruction 3', 'Predictor 0: Few-Shot Set 8'].\n",
      "2025/01/08 12:34:34 INFO dspy.teleprompt.mipro_optimizer_v2: Minibatch scores so far: [76.0, 80.0, 68.0, 56.0, 72.0, 60.0, 80.0, 80.0, 76.0, 64.0, 68.0, 64.0, 48.0, 68.0, 72.0, 60.0, 80.0, 72.0, 84.0, 68.0, 68.0]\n",
      "2025/01/08 12:34:34 INFO dspy.teleprompt.mipro_optimizer_v2: Full eval scores so far: [55.0, 70.0, 63.75]\n",
      "2025/01/08 12:34:34 INFO dspy.teleprompt.mipro_optimizer_v2: Best full score so far: 70.0\n",
      "2025/01/08 12:34:34 INFO dspy.teleprompt.mipro_optimizer_v2: =============================\n",
      "\n",
      "\n",
      "2025/01/08 12:34:34 INFO dspy.teleprompt.mipro_optimizer_v2: == Minibatch Trial 22 / 50 ==\n"
     ]
    },
    {
     "name": "stdout",
     "output_type": "stream",
     "text": [
      "\n",
      "Average Metric: 21.00 / 25 (84.0%): 100%|██████████████████████████████████████████████| 25/25 [00:14<00:00,  1.67it/s]"
     ]
    },
    {
     "name": "stderr",
     "output_type": "stream",
     "text": [
      "2025/01/08 12:34:49 INFO dspy.evaluate.evaluate: Average Metric: 21 / 25 (84.0%)\n",
      "2025/01/08 12:34:49 INFO dspy.teleprompt.mipro_optimizer_v2: Score: 84.0 on minibatch of size 25 with parameters ['Predictor 0: Instruction 34', 'Predictor 0: Few-Shot Set 9'].\n",
      "2025/01/08 12:34:49 INFO dspy.teleprompt.mipro_optimizer_v2: Minibatch scores so far: [76.0, 80.0, 68.0, 56.0, 72.0, 60.0, 80.0, 80.0, 76.0, 64.0, 68.0, 64.0, 48.0, 68.0, 72.0, 60.0, 80.0, 72.0, 84.0, 68.0, 68.0, 84.0]\n",
      "2025/01/08 12:34:49 INFO dspy.teleprompt.mipro_optimizer_v2: Full eval scores so far: [55.0, 70.0, 63.75]\n",
      "2025/01/08 12:34:49 INFO dspy.teleprompt.mipro_optimizer_v2: Best full score so far: 70.0\n",
      "2025/01/08 12:34:49 INFO dspy.teleprompt.mipro_optimizer_v2: =============================\n",
      "\n",
      "\n",
      "2025/01/08 12:34:49 INFO dspy.teleprompt.mipro_optimizer_v2: == Minibatch Trial 23 / 50 ==\n"
     ]
    },
    {
     "name": "stdout",
     "output_type": "stream",
     "text": [
      "\n",
      "Average Metric: 17.00 / 25 (68.0%): 100%|██████████████████████████████████████████████| 25/25 [00:24<00:00,  1.04it/s]"
     ]
    },
    {
     "name": "stderr",
     "output_type": "stream",
     "text": [
      "2025/01/08 12:35:13 INFO dspy.evaluate.evaluate: Average Metric: 17 / 25 (68.0%)\n",
      "2025/01/08 12:35:13 INFO dspy.teleprompt.mipro_optimizer_v2: Score: 68.0 on minibatch of size 25 with parameters ['Predictor 0: Instruction 3', 'Predictor 0: Few-Shot Set 32'].\n",
      "2025/01/08 12:35:13 INFO dspy.teleprompt.mipro_optimizer_v2: Minibatch scores so far: [76.0, 80.0, 68.0, 56.0, 72.0, 60.0, 80.0, 80.0, 76.0, 64.0, 68.0, 64.0, 48.0, 68.0, 72.0, 60.0, 80.0, 72.0, 84.0, 68.0, 68.0, 84.0, 68.0]\n",
      "2025/01/08 12:35:13 INFO dspy.teleprompt.mipro_optimizer_v2: Full eval scores so far: [55.0, 70.0, 63.75]\n",
      "2025/01/08 12:35:13 INFO dspy.teleprompt.mipro_optimizer_v2: Best full score so far: 70.0\n",
      "2025/01/08 12:35:13 INFO dspy.teleprompt.mipro_optimizer_v2: =============================\n",
      "\n",
      "\n",
      "2025/01/08 12:35:13 INFO dspy.teleprompt.mipro_optimizer_v2: == Minibatch Trial 24 / 50 ==\n"
     ]
    },
    {
     "name": "stdout",
     "output_type": "stream",
     "text": [
      "\n",
      "Average Metric: 8.00 / 10 (80.0%):  40%|██████████████████▊                            | 10/25 [00:10<00:12,  1.22it/s]"
     ]
    },
    {
     "name": "stderr",
     "output_type": "stream",
     "text": [
      "2025/01/08 12:35:24 ERROR dspy.utils.parallelizer: Error processing item Example({'post': ' that\\'s why i hate to see infighting amongst members of the  \" alt-lite \" \"  alt right  far right  etc . they \"', 'hate_class': 'not_hate'}) (input_keys={'post'}): litellm.RateLimitError: RateLimitError: MistralException - Error code: 429 - {'message': 'Requests rate limit exceeded'}. Set `provide_traceback=True` to see the stack trace.\n"
     ]
    },
    {
     "name": "stdout",
     "output_type": "stream",
     "text": [
      "Average Metric: 19.00 / 24 (79.2%): 100%|██████████████████████████████████████████████| 25/25 [00:22<00:00,  1.10it/s]"
     ]
    },
    {
     "name": "stderr",
     "output_type": "stream",
     "text": [
      "2025/01/08 12:35:36 INFO dspy.evaluate.evaluate: Average Metric: 19.0 / 25 (76.0%)\n",
      "2025/01/08 12:35:36 INFO dspy.teleprompt.mipro_optimizer_v2: Score: 76.0 on minibatch of size 25 with parameters ['Predictor 0: Instruction 4', 'Predictor 0: Few-Shot Set 1'].\n",
      "2025/01/08 12:35:36 INFO dspy.teleprompt.mipro_optimizer_v2: Minibatch scores so far: [76.0, 80.0, 68.0, 56.0, 72.0, 60.0, 80.0, 80.0, 76.0, 64.0, 68.0, 64.0, 48.0, 68.0, 72.0, 60.0, 80.0, 72.0, 84.0, 68.0, 68.0, 84.0, 68.0, 76.0]\n",
      "2025/01/08 12:35:36 INFO dspy.teleprompt.mipro_optimizer_v2: Full eval scores so far: [55.0, 70.0, 63.75]\n",
      "2025/01/08 12:35:36 INFO dspy.teleprompt.mipro_optimizer_v2: Best full score so far: 70.0\n",
      "2025/01/08 12:35:36 INFO dspy.teleprompt.mipro_optimizer_v2: =============================\n",
      "\n",
      "\n",
      "2025/01/08 12:35:36 INFO dspy.teleprompt.mipro_optimizer_v2: == Minibatch Trial 25 / 50 ==\n"
     ]
    },
    {
     "name": "stdout",
     "output_type": "stream",
     "text": [
      "\n",
      "Average Metric: 17.00 / 25 (68.0%): 100%|██████████████████████████████████████████████| 25/25 [00:22<00:00,  1.09it/s]"
     ]
    },
    {
     "name": "stderr",
     "output_type": "stream",
     "text": [
      "2025/01/08 12:35:59 INFO dspy.evaluate.evaluate: Average Metric: 17 / 25 (68.0%)\n",
      "2025/01/08 12:35:59 INFO dspy.teleprompt.mipro_optimizer_v2: Score: 68.0 on minibatch of size 25 with parameters ['Predictor 0: Instruction 37', 'Predictor 0: Few-Shot Set 27'].\n",
      "2025/01/08 12:35:59 INFO dspy.teleprompt.mipro_optimizer_v2: Minibatch scores so far: [76.0, 80.0, 68.0, 56.0, 72.0, 60.0, 80.0, 80.0, 76.0, 64.0, 68.0, 64.0, 48.0, 68.0, 72.0, 60.0, 80.0, 72.0, 84.0, 68.0, 68.0, 84.0, 68.0, 76.0, 68.0]\n",
      "2025/01/08 12:35:59 INFO dspy.teleprompt.mipro_optimizer_v2: Full eval scores so far: [55.0, 70.0, 63.75]\n",
      "2025/01/08 12:35:59 INFO dspy.teleprompt.mipro_optimizer_v2: Best full score so far: 70.0\n",
      "2025/01/08 12:35:59 INFO dspy.teleprompt.mipro_optimizer_v2: =============================\n",
      "\n",
      "\n",
      "2025/01/08 12:35:59 INFO dspy.teleprompt.mipro_optimizer_v2: == Minibatch Trial 26 / 50 ==\n"
     ]
    },
    {
     "name": "stdout",
     "output_type": "stream",
     "text": [
      "\n",
      "Average Metric: 8.00 / 12 (66.7%):  44%|████████████████████▋                          | 11/25 [00:09<00:13,  1.04it/s]"
     ]
    },
    {
     "name": "stderr",
     "output_type": "stream",
     "text": [
      "2025/01/08 12:36:09 ERROR dspy.utils.parallelizer: Error processing item Example({'post': \"if the alt right hadn't alienated the oath keepers who had to step up and be the adults ...\", 'hate_class': 'not_hate'}) (input_keys={'post'}): litellm.RateLimitError: RateLimitError: MistralException - Error code: 429 - {'message': 'Requests rate limit exceeded'}. Set `provide_traceback=True` to see the stack trace.\n"
     ]
    },
    {
     "name": "stdout",
     "output_type": "stream",
     "text": [
      "Average Metric: 15.00 / 24 (62.5%): 100%|██████████████████████████████████████████████| 25/25 [00:22<00:00,  1.09it/s]"
     ]
    },
    {
     "name": "stderr",
     "output_type": "stream",
     "text": [
      "2025/01/08 12:36:21 INFO dspy.evaluate.evaluate: Average Metric: 15.0 / 25 (60.0%)\n",
      "2025/01/08 12:36:21 INFO dspy.teleprompt.mipro_optimizer_v2: Score: 60.0 on minibatch of size 25 with parameters ['Predictor 0: Instruction 29', 'Predictor 0: Few-Shot Set 22'].\n",
      "2025/01/08 12:36:21 INFO dspy.teleprompt.mipro_optimizer_v2: Minibatch scores so far: [76.0, 80.0, 68.0, 56.0, 72.0, 60.0, 80.0, 80.0, 76.0, 64.0, 68.0, 64.0, 48.0, 68.0, 72.0, 60.0, 80.0, 72.0, 84.0, 68.0, 68.0, 84.0, 68.0, 76.0, 68.0, 60.0]\n",
      "2025/01/08 12:36:21 INFO dspy.teleprompt.mipro_optimizer_v2: Full eval scores so far: [55.0, 70.0, 63.75]\n",
      "2025/01/08 12:36:21 INFO dspy.teleprompt.mipro_optimizer_v2: Best full score so far: 70.0\n",
      "2025/01/08 12:36:21 INFO dspy.teleprompt.mipro_optimizer_v2: =============================\n",
      "\n",
      "\n",
      "2025/01/08 12:36:21 INFO dspy.teleprompt.mipro_optimizer_v2: == Minibatch Trial 27 / 50 ==\n"
     ]
    },
    {
     "name": "stdout",
     "output_type": "stream",
     "text": [
      "\n",
      "Average Metric: 14.00 / 25 (56.0%): 100%|██████████████████████████████████████████████| 25/25 [00:04<00:00,  5.02it/s]"
     ]
    },
    {
     "name": "stderr",
     "output_type": "stream",
     "text": [
      "2025/01/08 12:36:27 INFO dspy.evaluate.evaluate: Average Metric: 14 / 25 (56.0%)\n",
      "2025/01/08 12:36:27 INFO dspy.teleprompt.mipro_optimizer_v2: Score: 56.0 on minibatch of size 25 with parameters ['Predictor 0: Instruction 7', 'Predictor 0: Few-Shot Set 15'].\n",
      "2025/01/08 12:36:27 INFO dspy.teleprompt.mipro_optimizer_v2: Minibatch scores so far: [76.0, 80.0, 68.0, 56.0, 72.0, 60.0, 80.0, 80.0, 76.0, 64.0, 68.0, 64.0, 48.0, 68.0, 72.0, 60.0, 80.0, 72.0, 84.0, 68.0, 68.0, 84.0, 68.0, 76.0, 68.0, 60.0, 56.0]\n",
      "2025/01/08 12:36:27 INFO dspy.teleprompt.mipro_optimizer_v2: Full eval scores so far: [55.0, 70.0, 63.75]\n",
      "2025/01/08 12:36:27 INFO dspy.teleprompt.mipro_optimizer_v2: Best full score so far: 70.0\n",
      "2025/01/08 12:36:27 INFO dspy.teleprompt.mipro_optimizer_v2: =============================\n",
      "\n",
      "\n",
      "2025/01/08 12:36:27 INFO dspy.teleprompt.mipro_optimizer_v2: == Minibatch Trial 28 / 50 ==\n"
     ]
    },
    {
     "name": "stdout",
     "output_type": "stream",
     "text": [
      "\n",
      "Average Metric: 21.00 / 25 (84.0%): 100%|██████████████████████████████████████████████| 25/25 [00:23<00:00,  1.04it/s]"
     ]
    },
    {
     "name": "stderr",
     "output_type": "stream",
     "text": [
      "2025/01/08 12:36:51 INFO dspy.evaluate.evaluate: Average Metric: 21 / 25 (84.0%)\n",
      "2025/01/08 12:36:51 INFO dspy.teleprompt.mipro_optimizer_v2: Score: 84.0 on minibatch of size 25 with parameters ['Predictor 0: Instruction 30', 'Predictor 0: Few-Shot Set 23'].\n",
      "2025/01/08 12:36:51 INFO dspy.teleprompt.mipro_optimizer_v2: Minibatch scores so far: [76.0, 80.0, 68.0, 56.0, 72.0, 60.0, 80.0, 80.0, 76.0, 64.0, 68.0, 64.0, 48.0, 68.0, 72.0, 60.0, 80.0, 72.0, 84.0, 68.0, 68.0, 84.0, 68.0, 76.0, 68.0, 60.0, 56.0, 84.0]\n",
      "2025/01/08 12:36:51 INFO dspy.teleprompt.mipro_optimizer_v2: Full eval scores so far: [55.0, 70.0, 63.75]\n",
      "2025/01/08 12:36:51 INFO dspy.teleprompt.mipro_optimizer_v2: Best full score so far: 70.0\n",
      "2025/01/08 12:36:51 INFO dspy.teleprompt.mipro_optimizer_v2: =============================\n",
      "\n",
      "\n",
      "2025/01/08 12:36:51 INFO dspy.teleprompt.mipro_optimizer_v2: == Minibatch Trial 29 / 50 ==\n"
     ]
    },
    {
     "name": "stdout",
     "output_type": "stream",
     "text": [
      "\n",
      "Average Metric: 8.00 / 10 (80.0%):  40%|██████████████████▊                            | 10/25 [00:09<00:14,  1.05it/s]"
     ]
    },
    {
     "name": "stderr",
     "output_type": "stream",
     "text": [
      "2025/01/08 12:37:02 ERROR dspy.utils.parallelizer: Error processing item Example({'post': 'mr . those who fell into the hands of islamic invaders had only two choices - either convert or get killed .', 'hate_class': 'implicit_hate'}) (input_keys={'post'}): litellm.RateLimitError: RateLimitError: MistralException - Error code: 429 - {'message': 'Requests rate limit exceeded'}. Set `provide_traceback=True` to see the stack trace.\n"
     ]
    },
    {
     "name": "stdout",
     "output_type": "stream",
     "text": [
      "Average Metric: 17.00 / 24 (70.8%): 100%|██████████████████████████████████████████████| 25/25 [00:22<00:00,  1.11it/s]"
     ]
    },
    {
     "name": "stderr",
     "output_type": "stream",
     "text": [
      "2025/01/08 12:37:13 INFO dspy.evaluate.evaluate: Average Metric: 17.0 / 25 (68.0%)\n",
      "2025/01/08 12:37:13 INFO dspy.teleprompt.mipro_optimizer_v2: Score: 68.0 on minibatch of size 25 with parameters ['Predictor 0: Instruction 30', 'Predictor 0: Few-Shot Set 12'].\n",
      "2025/01/08 12:37:13 INFO dspy.teleprompt.mipro_optimizer_v2: Minibatch scores so far: [76.0, 80.0, 68.0, 56.0, 72.0, 60.0, 80.0, 80.0, 76.0, 64.0, 68.0, 64.0, 48.0, 68.0, 72.0, 60.0, 80.0, 72.0, 84.0, 68.0, 68.0, 84.0, 68.0, 76.0, 68.0, 60.0, 56.0, 84.0, 68.0]\n",
      "2025/01/08 12:37:13 INFO dspy.teleprompt.mipro_optimizer_v2: Full eval scores so far: [55.0, 70.0, 63.75]\n",
      "2025/01/08 12:37:13 INFO dspy.teleprompt.mipro_optimizer_v2: Best full score so far: 70.0\n",
      "2025/01/08 12:37:13 INFO dspy.teleprompt.mipro_optimizer_v2: =============================\n",
      "\n",
      "\n",
      "2025/01/08 12:37:13 INFO dspy.teleprompt.mipro_optimizer_v2: == Minibatch Trial 30 / 50 ==\n"
     ]
    },
    {
     "name": "stdout",
     "output_type": "stream",
     "text": [
      "\n",
      "Average Metric: 17.00 / 25 (68.0%): 100%|██████████████████████████████████████████████| 25/25 [00:23<00:00,  1.08it/s]"
     ]
    },
    {
     "name": "stderr",
     "output_type": "stream",
     "text": [
      "2025/01/08 12:37:36 INFO dspy.evaluate.evaluate: Average Metric: 17 / 25 (68.0%)\n",
      "2025/01/08 12:37:36 INFO dspy.teleprompt.mipro_optimizer_v2: Score: 68.0 on minibatch of size 25 with parameters ['Predictor 0: Instruction 31', 'Predictor 0: Few-Shot Set 14'].\n",
      "2025/01/08 12:37:36 INFO dspy.teleprompt.mipro_optimizer_v2: Minibatch scores so far: [76.0, 80.0, 68.0, 56.0, 72.0, 60.0, 80.0, 80.0, 76.0, 64.0, 68.0, 64.0, 48.0, 68.0, 72.0, 60.0, 80.0, 72.0, 84.0, 68.0, 68.0, 84.0, 68.0, 76.0, 68.0, 60.0, 56.0, 84.0, 68.0, 68.0]\n",
      "2025/01/08 12:37:36 INFO dspy.teleprompt.mipro_optimizer_v2: Full eval scores so far: [55.0, 70.0, 63.75]\n",
      "2025/01/08 12:37:36 INFO dspy.teleprompt.mipro_optimizer_v2: Best full score so far: 70.0\n",
      "2025/01/08 12:37:36 INFO dspy.teleprompt.mipro_optimizer_v2: =============================\n",
      "\n",
      "\n",
      "2025/01/08 12:37:36 INFO dspy.teleprompt.mipro_optimizer_v2: ===== Full Eval 3 =====\n",
      "2025/01/08 12:37:36 INFO dspy.teleprompt.mipro_optimizer_v2: Doing full eval on next top averaging program (Avg Score: 84.0) from minibatch trials...\n"
     ]
    },
    {
     "name": "stdout",
     "output_type": "stream",
     "text": [
      "\n",
      "Average Metric: 59.00 / 80 (73.8%): 100%|██████████████████████████████████████████████| 80/80 [00:48<00:00,  1.65it/s]"
     ]
    },
    {
     "name": "stderr",
     "output_type": "stream",
     "text": [
      "2025/01/08 12:38:25 INFO dspy.evaluate.evaluate: Average Metric: 59 / 80 (73.8%)\n",
      "2025/01/08 12:38:25 INFO dspy.teleprompt.mipro_optimizer_v2: \u001b[92mNew best full eval score!\u001b[0m Score: 73.75\n",
      "2025/01/08 12:38:25 INFO dspy.teleprompt.mipro_optimizer_v2: Full eval scores so far: [55.0, 70.0, 63.75, 73.75]\n",
      "2025/01/08 12:38:25 INFO dspy.teleprompt.mipro_optimizer_v2: Best full score so far: 73.75\n",
      "2025/01/08 12:38:25 INFO dspy.teleprompt.mipro_optimizer_v2: =======================\n",
      "2025/01/08 12:38:25 INFO dspy.teleprompt.mipro_optimizer_v2: \n",
      "\n",
      "2025/01/08 12:38:25 INFO dspy.teleprompt.mipro_optimizer_v2: == Minibatch Trial 31 / 50 ==\n"
     ]
    },
    {
     "name": "stdout",
     "output_type": "stream",
     "text": [
      "\n",
      "Average Metric: 17.00 / 25 (68.0%): 100%|██████████████████████████████████████████████| 25/25 [00:23<00:00,  1.06it/s]"
     ]
    },
    {
     "name": "stderr",
     "output_type": "stream",
     "text": [
      "2025/01/08 12:38:49 INFO dspy.evaluate.evaluate: Average Metric: 17 / 25 (68.0%)\n",
      "2025/01/08 12:38:49 INFO dspy.teleprompt.mipro_optimizer_v2: Score: 68.0 on minibatch of size 25 with parameters ['Predictor 0: Instruction 20', 'Predictor 0: Few-Shot Set 18'].\n",
      "2025/01/08 12:38:49 INFO dspy.teleprompt.mipro_optimizer_v2: Minibatch scores so far: [76.0, 80.0, 68.0, 56.0, 72.0, 60.0, 80.0, 80.0, 76.0, 64.0, 68.0, 64.0, 48.0, 68.0, 72.0, 60.0, 80.0, 72.0, 84.0, 68.0, 68.0, 84.0, 68.0, 76.0, 68.0, 60.0, 56.0, 84.0, 68.0, 68.0, 68.0]\n",
      "2025/01/08 12:38:49 INFO dspy.teleprompt.mipro_optimizer_v2: Full eval scores so far: [55.0, 70.0, 63.75, 73.75]\n",
      "2025/01/08 12:38:49 INFO dspy.teleprompt.mipro_optimizer_v2: Best full score so far: 73.75\n",
      "2025/01/08 12:38:49 INFO dspy.teleprompt.mipro_optimizer_v2: =============================\n",
      "\n",
      "\n",
      "2025/01/08 12:38:49 INFO dspy.teleprompt.mipro_optimizer_v2: == Minibatch Trial 32 / 50 ==\n"
     ]
    },
    {
     "name": "stdout",
     "output_type": "stream",
     "text": [
      "\n",
      "Average Metric: 13.00 / 25 (52.0%): 100%|██████████████████████████████████████████████| 25/25 [00:22<00:00,  1.13it/s]"
     ]
    },
    {
     "name": "stderr",
     "output_type": "stream",
     "text": [
      "2025/01/08 12:39:11 INFO dspy.evaluate.evaluate: Average Metric: 13 / 25 (52.0%)\n",
      "2025/01/08 12:39:11 INFO dspy.teleprompt.mipro_optimizer_v2: Score: 52.0 on minibatch of size 25 with parameters ['Predictor 0: Instruction 10', 'Predictor 0: Few-Shot Set 21'].\n",
      "2025/01/08 12:39:11 INFO dspy.teleprompt.mipro_optimizer_v2: Minibatch scores so far: [76.0, 80.0, 68.0, 56.0, 72.0, 60.0, 80.0, 80.0, 76.0, 64.0, 68.0, 64.0, 48.0, 68.0, 72.0, 60.0, 80.0, 72.0, 84.0, 68.0, 68.0, 84.0, 68.0, 76.0, 68.0, 60.0, 56.0, 84.0, 68.0, 68.0, 68.0, 52.0]\n",
      "2025/01/08 12:39:11 INFO dspy.teleprompt.mipro_optimizer_v2: Full eval scores so far: [55.0, 70.0, 63.75, 73.75]\n",
      "2025/01/08 12:39:11 INFO dspy.teleprompt.mipro_optimizer_v2: Best full score so far: 73.75\n",
      "2025/01/08 12:39:11 INFO dspy.teleprompt.mipro_optimizer_v2: =============================\n",
      "\n",
      "\n",
      "2025/01/08 12:39:11 INFO dspy.teleprompt.mipro_optimizer_v2: == Minibatch Trial 33 / 50 ==\n"
     ]
    },
    {
     "name": "stdout",
     "output_type": "stream",
     "text": [
      "\n",
      "Average Metric: 17.00 / 25 (68.0%): 100%|██████████████████████████████████████████████| 25/25 [00:23<00:00,  1.06it/s]"
     ]
    },
    {
     "name": "stderr",
     "output_type": "stream",
     "text": [
      "2025/01/08 12:39:35 INFO dspy.evaluate.evaluate: Average Metric: 17 / 25 (68.0%)\n",
      "2025/01/08 12:39:35 INFO dspy.teleprompt.mipro_optimizer_v2: Score: 68.0 on minibatch of size 25 with parameters ['Predictor 0: Instruction 33', 'Predictor 0: Few-Shot Set 23'].\n",
      "2025/01/08 12:39:35 INFO dspy.teleprompt.mipro_optimizer_v2: Minibatch scores so far: [76.0, 80.0, 68.0, 56.0, 72.0, 60.0, 80.0, 80.0, 76.0, 64.0, 68.0, 64.0, 48.0, 68.0, 72.0, 60.0, 80.0, 72.0, 84.0, 68.0, 68.0, 84.0, 68.0, 76.0, 68.0, 60.0, 56.0, 84.0, 68.0, 68.0, 68.0, 52.0, 68.0]\n",
      "2025/01/08 12:39:35 INFO dspy.teleprompt.mipro_optimizer_v2: Full eval scores so far: [55.0, 70.0, 63.75, 73.75]\n",
      "2025/01/08 12:39:35 INFO dspy.teleprompt.mipro_optimizer_v2: Best full score so far: 73.75\n",
      "2025/01/08 12:39:35 INFO dspy.teleprompt.mipro_optimizer_v2: =============================\n",
      "\n",
      "\n",
      "2025/01/08 12:39:35 INFO dspy.teleprompt.mipro_optimizer_v2: == Minibatch Trial 34 / 50 ==\n"
     ]
    },
    {
     "name": "stdout",
     "output_type": "stream",
     "text": [
      "\n",
      "Average Metric: 18.00 / 25 (72.0%): 100%|██████████████████████████████████████████████| 25/25 [00:20<00:00,  1.24it/s]"
     ]
    },
    {
     "name": "stderr",
     "output_type": "stream",
     "text": [
      "2025/01/08 12:39:55 INFO dspy.evaluate.evaluate: Average Metric: 18 / 25 (72.0%)\n",
      "2025/01/08 12:39:55 INFO dspy.teleprompt.mipro_optimizer_v2: Score: 72.0 on minibatch of size 25 with parameters ['Predictor 0: Instruction 30', 'Predictor 0: Few-Shot Set 8'].\n",
      "2025/01/08 12:39:55 INFO dspy.teleprompt.mipro_optimizer_v2: Minibatch scores so far: [76.0, 80.0, 68.0, 56.0, 72.0, 60.0, 80.0, 80.0, 76.0, 64.0, 68.0, 64.0, 48.0, 68.0, 72.0, 60.0, 80.0, 72.0, 84.0, 68.0, 68.0, 84.0, 68.0, 76.0, 68.0, 60.0, 56.0, 84.0, 68.0, 68.0, 68.0, 52.0, 68.0, 72.0]\n",
      "2025/01/08 12:39:55 INFO dspy.teleprompt.mipro_optimizer_v2: Full eval scores so far: [55.0, 70.0, 63.75, 73.75]\n",
      "2025/01/08 12:39:55 INFO dspy.teleprompt.mipro_optimizer_v2: Best full score so far: 73.75\n",
      "2025/01/08 12:39:55 INFO dspy.teleprompt.mipro_optimizer_v2: =============================\n",
      "\n",
      "\n",
      "2025/01/08 12:39:55 INFO dspy.teleprompt.mipro_optimizer_v2: == Minibatch Trial 35 / 50 ==\n"
     ]
    },
    {
     "name": "stdout",
     "output_type": "stream",
     "text": [
      "\n",
      "Average Metric: 21.00 / 25 (84.0%): 100%|██████████████████████████████████████████████| 25/25 [00:22<00:00,  1.11it/s]"
     ]
    },
    {
     "name": "stderr",
     "output_type": "stream",
     "text": [
      "2025/01/08 12:40:18 INFO dspy.evaluate.evaluate: Average Metric: 21 / 25 (84.0%)\n",
      "2025/01/08 12:40:18 INFO dspy.teleprompt.mipro_optimizer_v2: Score: 84.0 on minibatch of size 25 with parameters ['Predictor 0: Instruction 9', 'Predictor 0: Few-Shot Set 25'].\n",
      "2025/01/08 12:40:18 INFO dspy.teleprompt.mipro_optimizer_v2: Minibatch scores so far: [76.0, 80.0, 68.0, 56.0, 72.0, 60.0, 80.0, 80.0, 76.0, 64.0, 68.0, 64.0, 48.0, 68.0, 72.0, 60.0, 80.0, 72.0, 84.0, 68.0, 68.0, 84.0, 68.0, 76.0, 68.0, 60.0, 56.0, 84.0, 68.0, 68.0, 68.0, 52.0, 68.0, 72.0, 84.0]\n",
      "2025/01/08 12:40:18 INFO dspy.teleprompt.mipro_optimizer_v2: Full eval scores so far: [55.0, 70.0, 63.75, 73.75]\n",
      "2025/01/08 12:40:18 INFO dspy.teleprompt.mipro_optimizer_v2: Best full score so far: 73.75\n",
      "2025/01/08 12:40:18 INFO dspy.teleprompt.mipro_optimizer_v2: =============================\n",
      "\n",
      "\n",
      "2025/01/08 12:40:18 INFO dspy.teleprompt.mipro_optimizer_v2: == Minibatch Trial 36 / 50 ==\n"
     ]
    },
    {
     "name": "stdout",
     "output_type": "stream",
     "text": [
      "\n",
      "Average Metric: 21.00 / 25 (84.0%): 100%|██████████████████████████████████████████████| 25/25 [00:25<00:00,  1.02s/it]"
     ]
    },
    {
     "name": "stderr",
     "output_type": "stream",
     "text": [
      "2025/01/08 12:40:43 INFO dspy.evaluate.evaluate: Average Metric: 21 / 25 (84.0%)\n",
      "2025/01/08 12:40:43 INFO dspy.teleprompt.mipro_optimizer_v2: Score: 84.0 on minibatch of size 25 with parameters ['Predictor 0: Instruction 12', 'Predictor 0: Few-Shot Set 17'].\n",
      "2025/01/08 12:40:43 INFO dspy.teleprompt.mipro_optimizer_v2: Minibatch scores so far: [76.0, 80.0, 68.0, 56.0, 72.0, 60.0, 80.0, 80.0, 76.0, 64.0, 68.0, 64.0, 48.0, 68.0, 72.0, 60.0, 80.0, 72.0, 84.0, 68.0, 68.0, 84.0, 68.0, 76.0, 68.0, 60.0, 56.0, 84.0, 68.0, 68.0, 68.0, 52.0, 68.0, 72.0, 84.0, 84.0]\n",
      "2025/01/08 12:40:43 INFO dspy.teleprompt.mipro_optimizer_v2: Full eval scores so far: [55.0, 70.0, 63.75, 73.75]\n",
      "2025/01/08 12:40:43 INFO dspy.teleprompt.mipro_optimizer_v2: Best full score so far: 73.75\n",
      "2025/01/08 12:40:43 INFO dspy.teleprompt.mipro_optimizer_v2: =============================\n",
      "\n",
      "\n",
      "2025/01/08 12:40:43 INFO dspy.teleprompt.mipro_optimizer_v2: == Minibatch Trial 37 / 50 ==\n"
     ]
    },
    {
     "name": "stdout",
     "output_type": "stream",
     "text": [
      "\n",
      "Average Metric: 19.00 / 25 (76.0%): 100%|██████████████████████████████████████████████| 25/25 [00:22<00:00,  1.10it/s]"
     ]
    },
    {
     "name": "stderr",
     "output_type": "stream",
     "text": [
      "2025/01/08 12:41:06 INFO dspy.evaluate.evaluate: Average Metric: 19 / 25 (76.0%)\n",
      "2025/01/08 12:41:06 INFO dspy.teleprompt.mipro_optimizer_v2: Score: 76.0 on minibatch of size 25 with parameters ['Predictor 0: Instruction 15', 'Predictor 0: Few-Shot Set 25'].\n",
      "2025/01/08 12:41:06 INFO dspy.teleprompt.mipro_optimizer_v2: Minibatch scores so far: [76.0, 80.0, 68.0, 56.0, 72.0, 60.0, 80.0, 80.0, 76.0, 64.0, 68.0, 64.0, 48.0, 68.0, 72.0, 60.0, 80.0, 72.0, 84.0, 68.0, 68.0, 84.0, 68.0, 76.0, 68.0, 60.0, 56.0, 84.0, 68.0, 68.0, 68.0, 52.0, 68.0, 72.0, 84.0, 84.0, 76.0]\n",
      "2025/01/08 12:41:06 INFO dspy.teleprompt.mipro_optimizer_v2: Full eval scores so far: [55.0, 70.0, 63.75, 73.75]\n",
      "2025/01/08 12:41:06 INFO dspy.teleprompt.mipro_optimizer_v2: Best full score so far: 73.75\n",
      "2025/01/08 12:41:06 INFO dspy.teleprompt.mipro_optimizer_v2: =============================\n",
      "\n",
      "\n",
      "2025/01/08 12:41:06 INFO dspy.teleprompt.mipro_optimizer_v2: == Minibatch Trial 38 / 50 ==\n"
     ]
    },
    {
     "name": "stdout",
     "output_type": "stream",
     "text": [
      "\n",
      "Average Metric: 17.00 / 25 (68.0%): 100%|██████████████████████████████████████████████| 25/25 [00:19<00:00,  1.26it/s]"
     ]
    },
    {
     "name": "stderr",
     "output_type": "stream",
     "text": [
      "2025/01/08 12:41:26 INFO dspy.evaluate.evaluate: Average Metric: 17 / 25 (68.0%)\n",
      "2025/01/08 12:41:26 INFO dspy.teleprompt.mipro_optimizer_v2: Score: 68.0 on minibatch of size 25 with parameters ['Predictor 0: Instruction 9', 'Predictor 0: Few-Shot Set 20'].\n",
      "2025/01/08 12:41:26 INFO dspy.teleprompt.mipro_optimizer_v2: Minibatch scores so far: [76.0, 80.0, 68.0, 56.0, 72.0, 60.0, 80.0, 80.0, 76.0, 64.0, 68.0, 64.0, 48.0, 68.0, 72.0, 60.0, 80.0, 72.0, 84.0, 68.0, 68.0, 84.0, 68.0, 76.0, 68.0, 60.0, 56.0, 84.0, 68.0, 68.0, 68.0, 52.0, 68.0, 72.0, 84.0, 84.0, 76.0, 68.0]\n",
      "2025/01/08 12:41:26 INFO dspy.teleprompt.mipro_optimizer_v2: Full eval scores so far: [55.0, 70.0, 63.75, 73.75]\n",
      "2025/01/08 12:41:26 INFO dspy.teleprompt.mipro_optimizer_v2: Best full score so far: 73.75\n",
      "2025/01/08 12:41:26 INFO dspy.teleprompt.mipro_optimizer_v2: =============================\n",
      "\n",
      "\n",
      "2025/01/08 12:41:26 INFO dspy.teleprompt.mipro_optimizer_v2: == Minibatch Trial 39 / 50 ==\n"
     ]
    },
    {
     "name": "stdout",
     "output_type": "stream",
     "text": [
      "\n",
      "Average Metric: 17.00 / 25 (68.0%): 100%|██████████████████████████████████████████████| 25/25 [00:21<00:00,  1.16it/s]"
     ]
    },
    {
     "name": "stderr",
     "output_type": "stream",
     "text": [
      "2025/01/08 12:41:48 INFO dspy.evaluate.evaluate: Average Metric: 17 / 25 (68.0%)\n",
      "2025/01/08 12:41:48 INFO dspy.teleprompt.mipro_optimizer_v2: Score: 68.0 on minibatch of size 25 with parameters ['Predictor 0: Instruction 23', 'Predictor 0: Few-Shot Set 28'].\n",
      "2025/01/08 12:41:48 INFO dspy.teleprompt.mipro_optimizer_v2: Minibatch scores so far: [76.0, 80.0, 68.0, 56.0, 72.0, 60.0, 80.0, 80.0, 76.0, 64.0, 68.0, 64.0, 48.0, 68.0, 72.0, 60.0, 80.0, 72.0, 84.0, 68.0, 68.0, 84.0, 68.0, 76.0, 68.0, 60.0, 56.0, 84.0, 68.0, 68.0, 68.0, 52.0, 68.0, 72.0, 84.0, 84.0, 76.0, 68.0, 68.0]\n",
      "2025/01/08 12:41:48 INFO dspy.teleprompt.mipro_optimizer_v2: Full eval scores so far: [55.0, 70.0, 63.75, 73.75]\n",
      "2025/01/08 12:41:48 INFO dspy.teleprompt.mipro_optimizer_v2: Best full score so far: 73.75\n",
      "2025/01/08 12:41:48 INFO dspy.teleprompt.mipro_optimizer_v2: =============================\n",
      "\n",
      "\n",
      "2025/01/08 12:41:48 INFO dspy.teleprompt.mipro_optimizer_v2: == Minibatch Trial 40 / 50 ==\n"
     ]
    },
    {
     "name": "stdout",
     "output_type": "stream",
     "text": [
      "\n",
      "Average Metric: 16.00 / 25 (64.0%): 100%|██████████████████████████████████████████████| 25/25 [00:20<00:00,  1.21it/s]"
     ]
    },
    {
     "name": "stderr",
     "output_type": "stream",
     "text": [
      "2025/01/08 12:42:09 INFO dspy.evaluate.evaluate: Average Metric: 16 / 25 (64.0%)\n",
      "2025/01/08 12:42:09 INFO dspy.teleprompt.mipro_optimizer_v2: Score: 64.0 on minibatch of size 25 with parameters ['Predictor 0: Instruction 35', 'Predictor 0: Few-Shot Set 31'].\n",
      "2025/01/08 12:42:09 INFO dspy.teleprompt.mipro_optimizer_v2: Minibatch scores so far: [76.0, 80.0, 68.0, 56.0, 72.0, 60.0, 80.0, 80.0, 76.0, 64.0, 68.0, 64.0, 48.0, 68.0, 72.0, 60.0, 80.0, 72.0, 84.0, 68.0, 68.0, 84.0, 68.0, 76.0, 68.0, 60.0, 56.0, 84.0, 68.0, 68.0, 68.0, 52.0, 68.0, 72.0, 84.0, 84.0, 76.0, 68.0, 68.0, 64.0]\n",
      "2025/01/08 12:42:09 INFO dspy.teleprompt.mipro_optimizer_v2: Full eval scores so far: [55.0, 70.0, 63.75, 73.75]\n",
      "2025/01/08 12:42:09 INFO dspy.teleprompt.mipro_optimizer_v2: Best full score so far: 73.75\n",
      "2025/01/08 12:42:09 INFO dspy.teleprompt.mipro_optimizer_v2: =============================\n",
      "\n",
      "\n",
      "2025/01/08 12:42:09 INFO dspy.teleprompt.mipro_optimizer_v2: ===== Full Eval 4 =====\n",
      "2025/01/08 12:42:09 INFO dspy.teleprompt.mipro_optimizer_v2: Doing full eval on next top averaging program (Avg Score: 84.0) from minibatch trials...\n"
     ]
    },
    {
     "name": "stdout",
     "output_type": "stream",
     "text": [
      "\n",
      "Average Metric: 57.00 / 80 (71.2%): 100%|██████████████████████████████████████████████| 80/80 [00:49<00:00,  1.63it/s]"
     ]
    },
    {
     "name": "stderr",
     "output_type": "stream",
     "text": [
      "2025/01/08 12:42:58 INFO dspy.evaluate.evaluate: Average Metric: 57 / 80 (71.2%)\n",
      "2025/01/08 12:42:58 INFO dspy.teleprompt.mipro_optimizer_v2: Full eval scores so far: [55.0, 70.0, 63.75, 73.75, 71.25]\n",
      "2025/01/08 12:42:58 INFO dspy.teleprompt.mipro_optimizer_v2: Best full score so far: 73.75\n",
      "2025/01/08 12:42:58 INFO dspy.teleprompt.mipro_optimizer_v2: =======================\n",
      "2025/01/08 12:42:58 INFO dspy.teleprompt.mipro_optimizer_v2: \n",
      "\n",
      "2025/01/08 12:42:58 INFO dspy.teleprompt.mipro_optimizer_v2: == Minibatch Trial 41 / 50 ==\n"
     ]
    },
    {
     "name": "stdout",
     "output_type": "stream",
     "text": [
      "\n",
      "Average Metric: 16.00 / 25 (64.0%): 100%|██████████████████████████████████████████████| 25/25 [00:24<00:00,  1.03it/s]"
     ]
    },
    {
     "name": "stderr",
     "output_type": "stream",
     "text": [
      "2025/01/08 12:43:22 INFO dspy.evaluate.evaluate: Average Metric: 16 / 25 (64.0%)\n",
      "2025/01/08 12:43:22 INFO dspy.teleprompt.mipro_optimizer_v2: Score: 64.0 on minibatch of size 25 with parameters ['Predictor 0: Instruction 28', 'Predictor 0: Few-Shot Set 5'].\n",
      "2025/01/08 12:43:22 INFO dspy.teleprompt.mipro_optimizer_v2: Minibatch scores so far: [76.0, 80.0, 68.0, 56.0, 72.0, 60.0, 80.0, 80.0, 76.0, 64.0, 68.0, 64.0, 48.0, 68.0, 72.0, 60.0, 80.0, 72.0, 84.0, 68.0, 68.0, 84.0, 68.0, 76.0, 68.0, 60.0, 56.0, 84.0, 68.0, 68.0, 68.0, 52.0, 68.0, 72.0, 84.0, 84.0, 76.0, 68.0, 68.0, 64.0, 64.0]\n",
      "2025/01/08 12:43:22 INFO dspy.teleprompt.mipro_optimizer_v2: Full eval scores so far: [55.0, 70.0, 63.75, 73.75, 71.25]\n",
      "2025/01/08 12:43:22 INFO dspy.teleprompt.mipro_optimizer_v2: Best full score so far: 73.75\n",
      "2025/01/08 12:43:22 INFO dspy.teleprompt.mipro_optimizer_v2: =============================\n",
      "\n",
      "\n",
      "2025/01/08 12:43:22 INFO dspy.teleprompt.mipro_optimizer_v2: == Minibatch Trial 42 / 50 ==\n"
     ]
    },
    {
     "name": "stdout",
     "output_type": "stream",
     "text": [
      "\n",
      "Average Metric: 16.00 / 25 (64.0%): 100%|██████████████████████████████████████████████| 25/25 [00:20<00:00,  1.21it/s]"
     ]
    },
    {
     "name": "stderr",
     "output_type": "stream",
     "text": [
      "2025/01/08 12:43:43 INFO dspy.evaluate.evaluate: Average Metric: 16 / 25 (64.0%)\n",
      "2025/01/08 12:43:43 INFO dspy.teleprompt.mipro_optimizer_v2: Score: 64.0 on minibatch of size 25 with parameters ['Predictor 0: Instruction 22', 'Predictor 0: Few-Shot Set 33'].\n",
      "2025/01/08 12:43:43 INFO dspy.teleprompt.mipro_optimizer_v2: Minibatch scores so far: [76.0, 80.0, 68.0, 56.0, 72.0, 60.0, 80.0, 80.0, 76.0, 64.0, 68.0, 64.0, 48.0, 68.0, 72.0, 60.0, 80.0, 72.0, 84.0, 68.0, 68.0, 84.0, 68.0, 76.0, 68.0, 60.0, 56.0, 84.0, 68.0, 68.0, 68.0, 52.0, 68.0, 72.0, 84.0, 84.0, 76.0, 68.0, 68.0, 64.0, 64.0, 64.0]\n",
      "2025/01/08 12:43:43 INFO dspy.teleprompt.mipro_optimizer_v2: Full eval scores so far: [55.0, 70.0, 63.75, 73.75, 71.25]\n",
      "2025/01/08 12:43:43 INFO dspy.teleprompt.mipro_optimizer_v2: Best full score so far: 73.75\n",
      "2025/01/08 12:43:43 INFO dspy.teleprompt.mipro_optimizer_v2: =============================\n",
      "\n",
      "\n",
      "2025/01/08 12:43:43 INFO dspy.teleprompt.mipro_optimizer_v2: == Minibatch Trial 43 / 50 ==\n"
     ]
    },
    {
     "name": "stdout",
     "output_type": "stream",
     "text": [
      "\n",
      "Average Metric: 20.00 / 25 (80.0%): 100%|██████████████████████████████████████████████| 25/25 [00:25<00:00,  1.01s/it]"
     ]
    },
    {
     "name": "stderr",
     "output_type": "stream",
     "text": [
      "2025/01/08 12:44:08 INFO dspy.evaluate.evaluate: Average Metric: 20 / 25 (80.0%)\n",
      "2025/01/08 12:44:08 INFO dspy.teleprompt.mipro_optimizer_v2: Score: 80.0 on minibatch of size 25 with parameters ['Predictor 0: Instruction 12', 'Predictor 0: Few-Shot Set 6'].\n",
      "2025/01/08 12:44:08 INFO dspy.teleprompt.mipro_optimizer_v2: Minibatch scores so far: [76.0, 80.0, 68.0, 56.0, 72.0, 60.0, 80.0, 80.0, 76.0, 64.0, 68.0, 64.0, 48.0, 68.0, 72.0, 60.0, 80.0, 72.0, 84.0, 68.0, 68.0, 84.0, 68.0, 76.0, 68.0, 60.0, 56.0, 84.0, 68.0, 68.0, 68.0, 52.0, 68.0, 72.0, 84.0, 84.0, 76.0, 68.0, 68.0, 64.0, 64.0, 64.0, 80.0]\n",
      "2025/01/08 12:44:08 INFO dspy.teleprompt.mipro_optimizer_v2: Full eval scores so far: [55.0, 70.0, 63.75, 73.75, 71.25]\n",
      "2025/01/08 12:44:08 INFO dspy.teleprompt.mipro_optimizer_v2: Best full score so far: 73.75\n",
      "2025/01/08 12:44:08 INFO dspy.teleprompt.mipro_optimizer_v2: =============================\n",
      "\n",
      "\n",
      "2025/01/08 12:44:08 INFO dspy.teleprompt.mipro_optimizer_v2: == Minibatch Trial 44 / 50 ==\n"
     ]
    },
    {
     "name": "stdout",
     "output_type": "stream",
     "text": [
      "\n",
      "Average Metric: 14.00 / 25 (56.0%): 100%|██████████████████████████████████████████████| 25/25 [00:15<00:00,  1.66it/s]"
     ]
    },
    {
     "name": "stderr",
     "output_type": "stream",
     "text": [
      "2025/01/08 12:44:23 INFO dspy.evaluate.evaluate: Average Metric: 14 / 25 (56.0%)\n",
      "2025/01/08 12:44:23 INFO dspy.teleprompt.mipro_optimizer_v2: Score: 56.0 on minibatch of size 25 with parameters ['Predictor 0: Instruction 12', 'Predictor 0: Few-Shot Set 17'].\n",
      "2025/01/08 12:44:23 INFO dspy.teleprompt.mipro_optimizer_v2: Minibatch scores so far: [76.0, 80.0, 68.0, 56.0, 72.0, 60.0, 80.0, 80.0, 76.0, 64.0, 68.0, 64.0, 48.0, 68.0, 72.0, 60.0, 80.0, 72.0, 84.0, 68.0, 68.0, 84.0, 68.0, 76.0, 68.0, 60.0, 56.0, 84.0, 68.0, 68.0, 68.0, 52.0, 68.0, 72.0, 84.0, 84.0, 76.0, 68.0, 68.0, 64.0, 64.0, 64.0, 80.0, 56.0]\n",
      "2025/01/08 12:44:23 INFO dspy.teleprompt.mipro_optimizer_v2: Full eval scores so far: [55.0, 70.0, 63.75, 73.75, 71.25]\n",
      "2025/01/08 12:44:23 INFO dspy.teleprompt.mipro_optimizer_v2: Best full score so far: 73.75\n",
      "2025/01/08 12:44:23 INFO dspy.teleprompt.mipro_optimizer_v2: =============================\n",
      "\n",
      "\n",
      "2025/01/08 12:44:23 INFO dspy.teleprompt.mipro_optimizer_v2: == Minibatch Trial 45 / 50 ==\n"
     ]
    },
    {
     "name": "stdout",
     "output_type": "stream",
     "text": [
      "\n",
      "Average Metric: 9.00 / 17 (52.9%):  68%|███████████████████████████████▉               | 17/25 [00:12<00:04,  1.92it/s]"
     ]
    },
    {
     "name": "stderr",
     "output_type": "stream",
     "text": [
      "2025/01/08 12:44:36 ERROR dspy.utils.parallelizer: Error processing item Example({'post': 'bbc fires award-winning white male comedian for being white and male', 'hate_class': 'implicit_hate'}) (input_keys={'post'}): litellm.RateLimitError: RateLimitError: MistralException - Error code: 429 - {'message': 'Requests rate limit exceeded'}. Set `provide_traceback=True` to see the stack trace.\n"
     ]
    },
    {
     "name": "stdout",
     "output_type": "stream",
     "text": [
      "Average Metric: 15.00 / 24 (62.5%): 100%|██████████████████████████████████████████████| 25/25 [00:21<00:00,  1.19it/s]"
     ]
    },
    {
     "name": "stderr",
     "output_type": "stream",
     "text": [
      "2025/01/08 12:44:44 INFO dspy.evaluate.evaluate: Average Metric: 15.0 / 25 (60.0%)\n",
      "2025/01/08 12:44:44 INFO dspy.teleprompt.mipro_optimizer_v2: Score: 60.0 on minibatch of size 25 with parameters ['Predictor 0: Instruction 14', 'Predictor 0: Few-Shot Set 19'].\n",
      "2025/01/08 12:44:44 INFO dspy.teleprompt.mipro_optimizer_v2: Minibatch scores so far: [76.0, 80.0, 68.0, 56.0, 72.0, 60.0, 80.0, 80.0, 76.0, 64.0, 68.0, 64.0, 48.0, 68.0, 72.0, 60.0, 80.0, 72.0, 84.0, 68.0, 68.0, 84.0, 68.0, 76.0, 68.0, 60.0, 56.0, 84.0, 68.0, 68.0, 68.0, 52.0, 68.0, 72.0, 84.0, 84.0, 76.0, 68.0, 68.0, 64.0, 64.0, 64.0, 80.0, 56.0, 60.0]\n",
      "2025/01/08 12:44:44 INFO dspy.teleprompt.mipro_optimizer_v2: Full eval scores so far: [55.0, 70.0, 63.75, 73.75, 71.25]\n",
      "2025/01/08 12:44:44 INFO dspy.teleprompt.mipro_optimizer_v2: Best full score so far: 73.75\n",
      "2025/01/08 12:44:44 INFO dspy.teleprompt.mipro_optimizer_v2: =============================\n",
      "\n",
      "\n",
      "2025/01/08 12:44:44 INFO dspy.teleprompt.mipro_optimizer_v2: == Minibatch Trial 46 / 50 ==\n"
     ]
    },
    {
     "name": "stdout",
     "output_type": "stream",
     "text": [
      "\n",
      "Average Metric: 18.00 / 25 (72.0%): 100%|██████████████████████████████████████████████| 25/25 [00:05<00:00,  4.99it/s]"
     ]
    },
    {
     "name": "stderr",
     "output_type": "stream",
     "text": [
      "2025/01/08 12:44:49 INFO dspy.evaluate.evaluate: Average Metric: 18 / 25 (72.0%)\n",
      "2025/01/08 12:44:49 INFO dspy.teleprompt.mipro_optimizer_v2: Score: 72.0 on minibatch of size 25 with parameters ['Predictor 0: Instruction 9', 'Predictor 0: Few-Shot Set 25'].\n",
      "2025/01/08 12:44:49 INFO dspy.teleprompt.mipro_optimizer_v2: Minibatch scores so far: [76.0, 80.0, 68.0, 56.0, 72.0, 60.0, 80.0, 80.0, 76.0, 64.0, 68.0, 64.0, 48.0, 68.0, 72.0, 60.0, 80.0, 72.0, 84.0, 68.0, 68.0, 84.0, 68.0, 76.0, 68.0, 60.0, 56.0, 84.0, 68.0, 68.0, 68.0, 52.0, 68.0, 72.0, 84.0, 84.0, 76.0, 68.0, 68.0, 64.0, 64.0, 64.0, 80.0, 56.0, 60.0, 72.0]\n",
      "2025/01/08 12:44:49 INFO dspy.teleprompt.mipro_optimizer_v2: Full eval scores so far: [55.0, 70.0, 63.75, 73.75, 71.25]\n",
      "2025/01/08 12:44:49 INFO dspy.teleprompt.mipro_optimizer_v2: Best full score so far: 73.75\n",
      "2025/01/08 12:44:49 INFO dspy.teleprompt.mipro_optimizer_v2: =============================\n",
      "\n",
      "\n",
      "2025/01/08 12:44:49 INFO dspy.teleprompt.mipro_optimizer_v2: == Minibatch Trial 47 / 50 ==\n"
     ]
    },
    {
     "name": "stdout",
     "output_type": "stream",
     "text": [
      "\n",
      "Average Metric: 17.00 / 25 (68.0%): 100%|██████████████████████████████████████████████| 25/25 [00:05<00:00,  4.98it/s]"
     ]
    },
    {
     "name": "stderr",
     "output_type": "stream",
     "text": [
      "2025/01/08 12:44:54 INFO dspy.evaluate.evaluate: Average Metric: 17 / 25 (68.0%)\n",
      "2025/01/08 12:44:54 INFO dspy.teleprompt.mipro_optimizer_v2: Score: 68.0 on minibatch of size 25 with parameters ['Predictor 0: Instruction 30', 'Predictor 0: Few-Shot Set 23'].\n",
      "2025/01/08 12:44:54 INFO dspy.teleprompt.mipro_optimizer_v2: Minibatch scores so far: [76.0, 80.0, 68.0, 56.0, 72.0, 60.0, 80.0, 80.0, 76.0, 64.0, 68.0, 64.0, 48.0, 68.0, 72.0, 60.0, 80.0, 72.0, 84.0, 68.0, 68.0, 84.0, 68.0, 76.0, 68.0, 60.0, 56.0, 84.0, 68.0, 68.0, 68.0, 52.0, 68.0, 72.0, 84.0, 84.0, 76.0, 68.0, 68.0, 64.0, 64.0, 64.0, 80.0, 56.0, 60.0, 72.0, 68.0]\n",
      "2025/01/08 12:44:54 INFO dspy.teleprompt.mipro_optimizer_v2: Full eval scores so far: [55.0, 70.0, 63.75, 73.75, 71.25]\n",
      "2025/01/08 12:44:54 INFO dspy.teleprompt.mipro_optimizer_v2: Best full score so far: 73.75\n",
      "2025/01/08 12:44:54 INFO dspy.teleprompt.mipro_optimizer_v2: =============================\n",
      "\n",
      "\n",
      "2025/01/08 12:44:54 INFO dspy.teleprompt.mipro_optimizer_v2: == Minibatch Trial 48 / 50 ==\n"
     ]
    },
    {
     "name": "stdout",
     "output_type": "stream",
     "text": [
      "\n",
      "Average Metric: 21.00 / 25 (84.0%): 100%|██████████████████████████████████████████████| 25/25 [00:19<00:00,  1.26it/s]"
     ]
    },
    {
     "name": "stderr",
     "output_type": "stream",
     "text": [
      "2025/01/08 12:45:14 INFO dspy.evaluate.evaluate: Average Metric: 21 / 25 (84.0%)\n",
      "2025/01/08 12:45:14 INFO dspy.teleprompt.mipro_optimizer_v2: Score: 84.0 on minibatch of size 25 with parameters ['Predictor 0: Instruction 36', 'Predictor 0: Few-Shot Set 3'].\n",
      "2025/01/08 12:45:14 INFO dspy.teleprompt.mipro_optimizer_v2: Minibatch scores so far: [76.0, 80.0, 68.0, 56.0, 72.0, 60.0, 80.0, 80.0, 76.0, 64.0, 68.0, 64.0, 48.0, 68.0, 72.0, 60.0, 80.0, 72.0, 84.0, 68.0, 68.0, 84.0, 68.0, 76.0, 68.0, 60.0, 56.0, 84.0, 68.0, 68.0, 68.0, 52.0, 68.0, 72.0, 84.0, 84.0, 76.0, 68.0, 68.0, 64.0, 64.0, 64.0, 80.0, 56.0, 60.0, 72.0, 68.0, 84.0]\n",
      "2025/01/08 12:45:14 INFO dspy.teleprompt.mipro_optimizer_v2: Full eval scores so far: [55.0, 70.0, 63.75, 73.75, 71.25]\n",
      "2025/01/08 12:45:14 INFO dspy.teleprompt.mipro_optimizer_v2: Best full score so far: 73.75\n",
      "2025/01/08 12:45:14 INFO dspy.teleprompt.mipro_optimizer_v2: =============================\n",
      "\n",
      "\n",
      "2025/01/08 12:45:14 INFO dspy.teleprompt.mipro_optimizer_v2: == Minibatch Trial 49 / 50 ==\n"
     ]
    },
    {
     "name": "stdout",
     "output_type": "stream",
     "text": [
      "\n",
      "Average Metric: 11.00 / 14 (78.6%):  56%|█████████████████████████▊                    | 14/25 [00:13<00:10,  1.03it/s]"
     ]
    },
    {
     "name": "stderr",
     "output_type": "stream",
     "text": [
      "2025/01/08 12:45:28 ERROR dspy.utils.parallelizer: Error processing item Example({'post': \"racist and supremacist when it's convenient for you.fuck you otherwise  can't help\", 'hate_class': 'not_hate'}) (input_keys={'post'}): litellm.RateLimitError: RateLimitError: MistralException - Error code: 429 - {'message': 'Requests rate limit exceeded'}. Set `provide_traceback=True` to see the stack trace.\n"
     ]
    },
    {
     "name": "stdout",
     "output_type": "stream",
     "text": [
      "Average Metric: 16.00 / 24 (66.7%): 100%|██████████████████████████████████████████████| 25/25 [00:22<00:00,  1.13it/s]"
     ]
    },
    {
     "name": "stderr",
     "output_type": "stream",
     "text": [
      "2025/01/08 12:45:37 INFO dspy.evaluate.evaluate: Average Metric: 16.0 / 25 (64.0%)\n",
      "2025/01/08 12:45:37 INFO dspy.teleprompt.mipro_optimizer_v2: Score: 64.0 on minibatch of size 25 with parameters ['Predictor 0: Instruction 11', 'Predictor 0: Few-Shot Set 34'].\n",
      "2025/01/08 12:45:37 INFO dspy.teleprompt.mipro_optimizer_v2: Minibatch scores so far: [76.0, 80.0, 68.0, 56.0, 72.0, 60.0, 80.0, 80.0, 76.0, 64.0, 68.0, 64.0, 48.0, 68.0, 72.0, 60.0, 80.0, 72.0, 84.0, 68.0, 68.0, 84.0, 68.0, 76.0, 68.0, 60.0, 56.0, 84.0, 68.0, 68.0, 68.0, 52.0, 68.0, 72.0, 84.0, 84.0, 76.0, 68.0, 68.0, 64.0, 64.0, 64.0, 80.0, 56.0, 60.0, 72.0, 68.0, 84.0, 64.0]\n",
      "2025/01/08 12:45:37 INFO dspy.teleprompt.mipro_optimizer_v2: Full eval scores so far: [55.0, 70.0, 63.75, 73.75, 71.25]\n",
      "2025/01/08 12:45:37 INFO dspy.teleprompt.mipro_optimizer_v2: Best full score so far: 73.75\n",
      "2025/01/08 12:45:37 INFO dspy.teleprompt.mipro_optimizer_v2: =============================\n",
      "\n",
      "\n",
      "2025/01/08 12:45:37 INFO dspy.teleprompt.mipro_optimizer_v2: == Minibatch Trial 50 / 50 ==\n"
     ]
    },
    {
     "name": "stdout",
     "output_type": "stream",
     "text": [
      "\n",
      "Average Metric: 10.00 / 18 (55.6%):  72%|█████████████████████████████████             | 18/25 [00:15<00:05,  1.19it/s]"
     ]
    },
    {
     "name": "stderr",
     "output_type": "stream",
     "text": [
      "2025/01/08 12:45:52 ERROR dspy.utils.parallelizer: Error processing item Example({'post': 'didnt blue lives matter just a second ago ? oh thats right  cops kill white people for no reason too sometimes . youd think you just found this out ? or are you all just bigots ?', 'hate_class': 'implicit_hate'}) (input_keys={'post'}): litellm.RateLimitError: RateLimitError: MistralException - Error code: 429 - {'message': 'Requests rate limit exceeded'}. Set `provide_traceback=True` to see the stack trace.\n"
     ]
    },
    {
     "name": "stdout",
     "output_type": "stream",
     "text": [
      "Average Metric: 15.00 / 24 (62.5%): 100%|██████████████████████████████████████████████| 25/25 [00:21<00:00,  1.14it/s]"
     ]
    },
    {
     "name": "stderr",
     "output_type": "stream",
     "text": [
      "2025/01/08 12:45:59 INFO dspy.evaluate.evaluate: Average Metric: 15.0 / 25 (60.0%)\n",
      "2025/01/08 12:45:59 INFO dspy.teleprompt.mipro_optimizer_v2: Score: 60.0 on minibatch of size 25 with parameters ['Predictor 0: Instruction 12', 'Predictor 0: Few-Shot Set 37'].\n",
      "2025/01/08 12:45:59 INFO dspy.teleprompt.mipro_optimizer_v2: Minibatch scores so far: [76.0, 80.0, 68.0, 56.0, 72.0, 60.0, 80.0, 80.0, 76.0, 64.0, 68.0, 64.0, 48.0, 68.0, 72.0, 60.0, 80.0, 72.0, 84.0, 68.0, 68.0, 84.0, 68.0, 76.0, 68.0, 60.0, 56.0, 84.0, 68.0, 68.0, 68.0, 52.0, 68.0, 72.0, 84.0, 84.0, 76.0, 68.0, 68.0, 64.0, 64.0, 64.0, 80.0, 56.0, 60.0, 72.0, 68.0, 84.0, 64.0, 60.0]\n",
      "2025/01/08 12:45:59 INFO dspy.teleprompt.mipro_optimizer_v2: Full eval scores so far: [55.0, 70.0, 63.75, 73.75, 71.25]\n",
      "2025/01/08 12:45:59 INFO dspy.teleprompt.mipro_optimizer_v2: Best full score so far: 73.75\n",
      "2025/01/08 12:45:59 INFO dspy.teleprompt.mipro_optimizer_v2: =============================\n",
      "\n",
      "\n",
      "2025/01/08 12:45:59 INFO dspy.teleprompt.mipro_optimizer_v2: ===== Full Eval 5 =====\n",
      "2025/01/08 12:45:59 INFO dspy.teleprompt.mipro_optimizer_v2: Doing full eval on next top averaging program (Avg Score: 84.0) from minibatch trials...\n"
     ]
    },
    {
     "name": "stdout",
     "output_type": "stream",
     "text": [
      "\n",
      "Average Metric: 57.00 / 80 (71.2%): 100%|██████████████████████████████████████████████| 80/80 [00:51<00:00,  1.57it/s]"
     ]
    },
    {
     "name": "stderr",
     "output_type": "stream",
     "text": [
      "2025/01/08 12:46:50 INFO dspy.evaluate.evaluate: Average Metric: 57 / 80 (71.2%)\n",
      "2025/01/08 12:46:50 INFO dspy.teleprompt.mipro_optimizer_v2: Full eval scores so far: [55.0, 70.0, 63.75, 73.75, 71.25, 71.25]\n",
      "2025/01/08 12:46:50 INFO dspy.teleprompt.mipro_optimizer_v2: Best full score so far: 73.75\n",
      "2025/01/08 12:46:50 INFO dspy.teleprompt.mipro_optimizer_v2: =======================\n",
      "2025/01/08 12:46:50 INFO dspy.teleprompt.mipro_optimizer_v2: \n",
      "\n",
      "2025/01/08 12:46:50 INFO dspy.teleprompt.mipro_optimizer_v2: Returning best identified program with score 73.75!\n"
     ]
    },
    {
     "name": "stdout",
     "output_type": "stream",
     "text": [
      "\n"
     ]
    }
   ],
   "source": [
    "classify_hate_optimizer = dspy.MIPROv2(\n",
    "    metric = classify_hate_metric, \n",
    "    auto = \"heavy\"\n",
    ")\n",
    "\n",
    "optimized_classify_hate = classify_hate_optimizer.compile(\n",
    "    classify_hate, \n",
    "    trainset = trainset, \n",
    "    max_labeled_demos = 8, \n",
    "    max_bootstrapped_demos = 8\n",
    ")"
   ]
  },
  {
   "cell_type": "code",
   "execution_count": 18,
   "id": "17dad558-a896-4fbd-b8b0-9b8a17156566",
   "metadata": {},
   "outputs": [],
   "source": [
    "optimized_classify_hate.save(optimizers_folder + model_name + '_' + 'optimizer_stg1.json')"
   ]
  },
  {
   "cell_type": "markdown",
   "id": "0e717fdf-e4a8-4a4e-b617-5d26e2abaee8",
   "metadata": {},
   "source": [
    "### Run optimized classifier"
   ]
  },
  {
   "cell_type": "code",
   "execution_count": 21,
   "id": "00914bfb-f4c2-4e5d-959d-c5e45871ecc7",
   "metadata": {},
   "outputs": [],
   "source": [
    "optimizer_file_name = optimizers_folder + model_name + '_' + 'optimizer_stg1.json'\n",
    "result_file = result_folder + model_name + \"_\" + \"result_optimizer_stg1.csv\"\n",
    "df_hate = pd.read_csv(data_folder + \"implicit_hate_test_stg1.csv\", encoding=\"utf-8\")"
   ]
  },
  {
   "cell_type": "code",
   "execution_count": 22,
   "id": "f9a69a89-698f-4ff2-916c-83fce0c905a6",
   "metadata": {},
   "outputs": [],
   "source": [
    "if debug_mode:\n",
    "    df_hate = df_hate.sample(2)"
   ]
  },
  {
   "cell_type": "code",
   "execution_count": 23,
   "id": "107dcd70-6161-4840-8c64-757e06805abd",
   "metadata": {},
   "outputs": [],
   "source": [
    "optimized_classify_hate = classify_hate\n",
    "optimized_classify_hate.load(optimizer_file_name)\n",
    "optimized_classify_stage_1(optimized_classify_hate, df_hate, result_file, True)"
   ]
  },
  {
   "cell_type": "code",
   "execution_count": 26,
   "id": "f0d70b0a-baa1-4016-baf8-b8060ba13175",
   "metadata": {},
   "outputs": [],
   "source": [
    "\n"
   ]
  },
  {
   "cell_type": "markdown",
   "id": "a028c9dd-89b5-437e-8715-9e1672113148",
   "metadata": {},
   "source": [
    "# Stage 2: Fine-Grained Implicit Hate"
   ]
  },
  {
   "cell_type": "code",
   "execution_count": 24,
   "id": "2c21d083-f5ed-4502-8771-ab59acdfa89a",
   "metadata": {},
   "outputs": [],
   "source": [
    "def optimized_classify_stage_2(optimizer, df_hate, result_file, initialize = False):\n",
    "    \n",
    "    if initialize:\n",
    "        # Regenerate output file\n",
    "        df = pd.DataFrame(columns = ['post_id', 'implicit_class','confidence','explanation'])\n",
    "        df.to_csv(result_file, encoding = \"utf-8\", index = False)\n",
    "    else:\n",
    "        df_elab = pd.read_csv(result_file, encoding = \"utf-8\")\n",
    "        df_hate = df_hate[~df_hate['post_id'].isin(df_elab['post_id'])]\n",
    "\n",
    "    for idx, row in df_hate.iterrows():\n",
    "    \n",
    "        try:            \n",
    "            time.sleep(wait_time)\n",
    "            classification = optimizer(post = row['post'])\n",
    "        \n",
    "            # Classification stage 2\n",
    "            new_row = {\n",
    "                'post_id': row['post_id'], \n",
    "                'implicit_class': classification.implicit_class, \n",
    "                'confidence': classification.confidence,\n",
    "                'explanation': classification.explanation\n",
    "            }\n",
    "            df = pd.DataFrame([new_row])\n",
    "            df.to_csv(result_file, encoding = \"utf-8\", mode='a', index=False, header=False)\n",
    "                      \n",
    "        except:\n",
    "          print(\"An exception occurred \" +  str(row['post_id']) ) "
   ]
  },
  {
   "cell_type": "markdown",
   "id": "dccfa691-77a5-45d6-9318-96f1e09900bb",
   "metadata": {},
   "source": [
    "### Signature"
   ]
  },
  {
   "cell_type": "code",
   "execution_count": 25,
   "id": "2614e752-6bb1-4c4e-9dc6-6f7e73034c17",
   "metadata": {},
   "outputs": [],
   "source": [
    "with open(prompt_folder + 'prompt_stg2.txt') as f:\n",
    "    prompt_stg2 = f.read()"
   ]
  },
  {
   "cell_type": "code",
   "execution_count": 26,
   "id": "ea0be407-4e52-4517-966e-624dcaec4b53",
   "metadata": {},
   "outputs": [],
   "source": [
    "prompt_tot_stg2 = prompt_stg2.replace(\"{tree_of_thoughts}\", tree_of_thoughts)"
   ]
  },
  {
   "cell_type": "code",
   "execution_count": 27,
   "id": "1be1fb9c-b96d-4ad4-9027-4249c42f1dde",
   "metadata": {},
   "outputs": [
    {
     "name": "stdout",
     "output_type": "stream",
     "text": [
      "The following text has been categorized as \"implicit hate speech\", a more complex and subtle attack on a person or a group of people based on their protected characteristics without relying on explicit keywords.\n",
      "\n",
      "Evaluate the text against the following taxonomy to determine the most likely class.\n",
      "Class taxonomy of implicit hate speech:\n",
      "\n",
      "1. White Grievance: includes frustration over a minority group's perceived privilege and casting majority groups as the real victims of racism. This language is linked to extremist behavior and support for violence. An example is 'Black lives matter and white lives don't? Sounds racist.'\n",
      "2. Incitement to Violence: includes flaunting ingroup unity and power or elevating known hate groups and ideologies. Phrases like 'white brotherhood' operate in the former manner, while statements like 'Hitler was Germany â€“ Germans shall rise again!' operate in the latter, elevating nationalism and Nazism. Article 20 of the UN International Covenant on Civil and Political states that speech which incites violence shall be prohibited by law.\n",
      "3. Inferiority Language: implies one group or individual is inferior to another, and it can include dehumanization (denial of a person's humanity), and toxification (language that compares the target with disease, insects, animals), both of which are early warning signs of genocide. Inferiority language is also related to assaults on human dignity, dominance, and declarations of superiority of the in-group. For example, 'It's not a coincidence the best places to live are majority white.'\n",
      "4. Irony: refers to the use of sarcasm, humor, and satire to attack or demean a protected class or individual. For example, in the context of one hate group, the post 'Horrors... Disney will be forced into hiring Americans' works to discredit Disney for allegedly hiring only non-citizens or, really, nonwhites. Irony is not exempt from our hate speech typology, since it is commonly used by modern online hate groups to mask their hatred and extremism.\n",
      "5. Stereotypes and Misinformation: associate a protected class with negative attributes such as crime, or terrorism as in the rhetorical question, 'Can someone tell the black people in Chicago to stop killing one another before it becomes Detroit?' This class also includes misinformation that feeds stereotypes and vice versa, like holocaust denial and other forms of historical negationism.\n",
      "6. Threatening and Intimidation: convey a speaker commitment to a target's pain, injury, damage, loss, or violation of rights. While explicitly violent threats are well-recognized in the hate speech literature, here we highlight threats related to implicit violation of rights and freedoms, removal of opportunities, and more subtle forms of intimidation, such as 'All immigration of non-whites should be ended'.\n",
      "7. Other: none of the above was identified \n",
      "\n",
      "Follow this procedure:\n",
      "\n",
      "Imagine three different experts are answering this question.\n",
      "They will brainstorm the answer step by step reasoning carefully and taking all facts into consideration.\n",
      "All experts will write down 1 step of their thinking, then share it with the group.\n",
      "They will each critique their response, and the all the responses of others.\n",
      "They will check their answer on based on the nature of the language and intent.\n",
      "Then all experts will go on to the next step and write down this step of their thinking.\n",
      "They will keep going through steps until they reach their conclusion taking into account the thoughts of the other experts.\n",
      "If at any time they realise that there uncertainty in their logic they will backtrack to where that uncertainty occurred. \n",
      "If any expert realises they're wrong at any point then they acknowledges this and start another train of thought.\n",
      "Each expert will assign a likelihood of their current assertion being correct.\n",
      "Continue until the experts agree on the single most likely classification.\n",
      "\n",
      "Return in output\n",
      "\n",
      "1. the most probable class  \n",
      "2. a confidence level between 0 and 1 for you classification\n",
      "3. an explanation for you classification\n"
     ]
    }
   ],
   "source": [
    "print(prompt_tot_stg2)"
   ]
  },
  {
   "cell_type": "code",
   "execution_count": 28,
   "id": "c18318b8-4195-4a39-90b8-c4ad806abf12",
   "metadata": {},
   "outputs": [],
   "source": [
    "class ClassifyImplicitHate(dspy.Signature):\n",
    "    prompt_tot_stg2\n",
    "\n",
    "    post: str = dspy.InputField()\n",
    "    implicit_class: Literal['white_grievance', 'irony', 'stereotypical', 'incitement', 'other', 'threatening', 'inferiority', 'other'] = dspy.OutputField()\n",
    "    confidence: float = dspy.OutputField()\n",
    "    explanation : str = dspy.OutputField()\n",
    "\n",
    "classify_implicit_hate = dspy.Predict(ClassifyImplicitHate)"
   ]
  },
  {
   "cell_type": "markdown",
   "id": "e2011342-59be-4388-85a1-6e40591e9793",
   "metadata": {},
   "source": [
    "### Metric"
   ]
  },
  {
   "cell_type": "code",
   "execution_count": 29,
   "id": "e51b441f-9068-4c83-aa8a-b73626b8ee03",
   "metadata": {},
   "outputs": [],
   "source": [
    "def classify_implicit_hate_metric(example, prediction, trace=None):\n",
    "    time.sleep(wait_time)\n",
    "    return prediction.implicit_class == example.implicit_class"
   ]
  },
  {
   "cell_type": "markdown",
   "id": "79de9275-6b1a-4631-a9d7-d266d03fd43a",
   "metadata": {},
   "source": [
    "### Trainset"
   ]
  },
  {
   "cell_type": "code",
   "execution_count": 30,
   "id": "b6e8b17c-f4ce-43c5-ba1c-08bb28db9a05",
   "metadata": {},
   "outputs": [],
   "source": [
    "df_train_stg2 = pd.read_csv(data_folder + \"implicit_hate_train_stg2.csv\", encoding=\"utf-8\")"
   ]
  },
  {
   "cell_type": "code",
   "execution_count": 31,
   "id": "2ee39663-133b-4c34-abb7-59c7bf16a5a8",
   "metadata": {},
   "outputs": [
    {
     "data": {
      "text/plain": [
       "1000"
      ]
     },
     "execution_count": 31,
     "metadata": {},
     "output_type": "execute_result"
    }
   ],
   "source": [
    "len(df_train_stg2)"
   ]
  },
  {
   "cell_type": "code",
   "execution_count": 32,
   "id": "15f457c5-c722-41da-b687-5ec87e2810cb",
   "metadata": {},
   "outputs": [
    {
     "data": {
      "text/plain": [
       "array(['inferiority', 'incitement', 'irony', 'white_grievance',\n",
       "       'threatening', 'stereotypical', 'other'], dtype=object)"
      ]
     },
     "execution_count": 32,
     "metadata": {},
     "output_type": "execute_result"
    }
   ],
   "source": [
    "df_train_stg2['implicit_class'].unique()"
   ]
  },
  {
   "cell_type": "code",
   "execution_count": 33,
   "id": "b44957af-fd9a-4cca-b4bb-d510af52b5a1",
   "metadata": {},
   "outputs": [],
   "source": [
    "# Select n samples for each class\n",
    "n = 50\n",
    "df_train = pd.DataFrame()\n",
    "for implicit_class in df_train_stg2['implicit_class'].unique():\n",
    "    df_class = df_train_stg2[df_train_stg2['implicit_class'] == implicit_class]\n",
    "    df_class = df_class.sample(np.min((n,len(df_class))))\n",
    "    df_train = pd.concat([df_train, df_class])"
   ]
  },
  {
   "cell_type": "code",
   "execution_count": 34,
   "id": "ce1e63f4-0b51-4056-8fb3-9ccd597b407e",
   "metadata": {},
   "outputs": [],
   "source": [
    "trainset = []\n",
    "for index, row in df_train.iterrows():\n",
    "    example = dspy.Example(post = row['post'], implicit_class = row['implicit_class']).with_inputs(\"post\")\n",
    "    trainset.append(example)"
   ]
  },
  {
   "cell_type": "code",
   "execution_count": null,
   "id": "5e7e9baf-5339-436a-a341-619fe65707ff",
   "metadata": {},
   "outputs": [],
   "source": []
  },
  {
   "cell_type": "markdown",
   "id": "ae3d8cae-38cc-481d-9f21-6b9d2a8c8c27",
   "metadata": {},
   "source": [
    "### Evaluator"
   ]
  },
  {
   "cell_type": "code",
   "execution_count": 41,
   "id": "c2abaaa8-3e49-40ef-b501-cba682da2c18",
   "metadata": {},
   "outputs": [
    {
     "name": "stdout",
     "output_type": "stream",
     "text": [
      "Average Metric: 105.00 / 313 (33.5%): 100%|██████████████████████████████████████████| 313/313 [05:14<00:00,  1.00s/it]"
     ]
    },
    {
     "name": "stderr",
     "output_type": "stream",
     "text": [
      "2025/01/08 17:33:25 INFO dspy.evaluate.evaluate: Average Metric: 105 / 313 (33.5%)\n"
     ]
    },
    {
     "name": "stdout",
     "output_type": "stream",
     "text": [
      "\n"
     ]
    },
    {
     "data": {
      "text/html": [
       "<div>\n",
       "<style scoped>\n",
       "    .dataframe tbody tr th:only-of-type {\n",
       "        vertical-align: middle;\n",
       "    }\n",
       "\n",
       "    .dataframe tbody tr th {\n",
       "        vertical-align: top;\n",
       "    }\n",
       "\n",
       "    .dataframe thead th {\n",
       "        text-align: right;\n",
       "    }\n",
       "</style>\n",
       "<table border=\"1\" class=\"dataframe\">\n",
       "  <thead>\n",
       "    <tr style=\"text-align: right;\">\n",
       "      <th></th>\n",
       "      <th>post</th>\n",
       "      <th>example_implicit_class</th>\n",
       "      <th>pred_implicit_class</th>\n",
       "      <th>confidence</th>\n",
       "      <th>explanation</th>\n",
       "      <th>classify_implicit_hate_metric</th>\n",
       "    </tr>\n",
       "  </thead>\n",
       "  <tbody>\n",
       "    <tr>\n",
       "      <th>0</th>\n",
       "      <td>manages to maintain it's culture. guess it's well out the way of t...</td>\n",
       "      <td>inferiority</td>\n",
       "      <td>stereotypical</td>\n",
       "      <td>0.75</td>\n",
       "      <td>The post suggests that a certain culture is maintained because it ...</td>\n",
       "      <td></td>\n",
       "    </tr>\n",
       "    <tr>\n",
       "      <th>1</th>\n",
       "      <td>libertarian solution : more third world immigration</td>\n",
       "      <td>inferiority</td>\n",
       "      <td>irony</td>\n",
       "      <td>0.85</td>\n",
       "      <td>The post appears to be using irony to highlight a contrast between...</td>\n",
       "      <td></td>\n",
       "    </tr>\n",
       "    <tr>\n",
       "      <th>2</th>\n",
       "      <td>why do colored people eagerly run to white countries to be oppress...</td>\n",
       "      <td>inferiority</td>\n",
       "      <td>white_grievance</td>\n",
       "      <td>0.95</td>\n",
       "      <td>The post suggests a grievance from a white perspective, implying t...</td>\n",
       "      <td></td>\n",
       "    </tr>\n",
       "    <tr>\n",
       "      <th>3</th>\n",
       "      <td>white power black parasite. blacks have contributed nothing to hum...</td>\n",
       "      <td>inferiority</td>\n",
       "      <td>incitement</td>\n",
       "      <td>0.95</td>\n",
       "      <td>The post contains explicit racist language and derogatory remarks ...</td>\n",
       "      <td></td>\n",
       "    </tr>\n",
       "    <tr>\n",
       "      <th>4</th>\n",
       "      <td>i have seen this woman on youtube she is fantastic and so knowledg...</td>\n",
       "      <td>inferiority</td>\n",
       "      <td>stereotypical</td>\n",
       "      <td>0.85</td>\n",
       "      <td>The post stereotypes Muslims by referring to their presence in the...</td>\n",
       "      <td></td>\n",
       "    </tr>\n",
       "  </tbody>\n",
       "</table>\n",
       "</div>"
      ],
      "text/plain": [
       "                                                                    post  \\\n",
       "0  manages to maintain it's culture. guess it's well out the way of t...   \n",
       "1                    libertarian solution : more third world immigration   \n",
       "2  why do colored people eagerly run to white countries to be oppress...   \n",
       "3  white power black parasite. blacks have contributed nothing to hum...   \n",
       "4  i have seen this woman on youtube she is fantastic and so knowledg...   \n",
       "\n",
       "  example_implicit_class pred_implicit_class  confidence  \\\n",
       "0            inferiority       stereotypical        0.75   \n",
       "1            inferiority               irony        0.85   \n",
       "2            inferiority     white_grievance        0.95   \n",
       "3            inferiority          incitement        0.95   \n",
       "4            inferiority       stereotypical        0.85   \n",
       "\n",
       "                                                             explanation  \\\n",
       "0  The post suggests that a certain culture is maintained because it ...   \n",
       "1  The post appears to be using irony to highlight a contrast between...   \n",
       "2  The post suggests a grievance from a white perspective, implying t...   \n",
       "3  The post contains explicit racist language and derogatory remarks ...   \n",
       "4  The post stereotypes Muslims by referring to their presence in the...   \n",
       "\n",
       "  classify_implicit_hate_metric  \n",
       "0                                \n",
       "1                                \n",
       "2                                \n",
       "3                                \n",
       "4                                "
      ]
     },
     "metadata": {},
     "output_type": "display_data"
    },
    {
     "data": {
      "text/html": [
       "\n",
       "                <div style='\n",
       "                    text-align: center;\n",
       "                    font-size: 16px;\n",
       "                    font-weight: bold;\n",
       "                    color: #555;\n",
       "                    margin: 10px 0;'>\n",
       "                    ... 308 more rows not displayed ...\n",
       "                </div>\n",
       "                "
      ],
      "text/plain": [
       "<IPython.core.display.HTML object>"
      ]
     },
     "metadata": {},
     "output_type": "display_data"
    },
    {
     "data": {
      "text/plain": [
       "33.55"
      ]
     },
     "execution_count": 41,
     "metadata": {},
     "output_type": "execute_result"
    }
   ],
   "source": [
    "evaluator = Evaluate(devset = trainset, num_threads = 1, display_progress = True, display_table = 5)\n",
    "evaluator(classify_implicit_hate, metric = classify_implicit_hate_metric)"
   ]
  },
  {
   "cell_type": "code",
   "execution_count": null,
   "id": "e235de16-7b9f-416a-a5bd-2ea44e4fdbac",
   "metadata": {},
   "outputs": [],
   "source": []
  },
  {
   "cell_type": "markdown",
   "id": "c9cbdcbe-9c4d-4bd3-82f6-2fe79299499c",
   "metadata": {},
   "source": [
    "### Optimization with MIPRO (prompt and examples)"
   ]
  },
  {
   "cell_type": "code",
   "execution_count": 15,
   "id": "5e3b0d7b-3431-46d7-902a-b2ec62ff7600",
   "metadata": {},
   "outputs": [
    {
     "name": "stderr",
     "output_type": "stream",
     "text": [
      "2025/01/10 16:14:50 INFO dspy.teleprompt.mipro_optimizer_v2: \n",
      "RUNNING WITH THE FOLLOWING HEAVY AUTO RUN SETTINGS:\n",
      "num_trials: 50\n",
      "minibatch: True\n",
      "num_candidates: 38\n",
      "valset size: 250\n",
      "\n"
     ]
    },
    {
     "name": "stdin",
     "output_type": "stream",
     "text": [
      "\u001b[93m\u001b[1mProjected Language Model (LM) Calls\u001b[0m\n",
      "\n",
      "Based on the parameters you have set, the maximum number of LM calls is projected as follows:\n",
      "\n",
      "\u001b[93m- Prompt Generation: \u001b[94m\u001b[1m10\u001b[0m\u001b[93m data summarizer calls + \u001b[94m\u001b[1m38\u001b[0m\u001b[93m * \u001b[94m\u001b[1m1\u001b[0m\u001b[93m lm calls in program + (\u001b[94m\u001b[1m2\u001b[0m\u001b[93m) lm calls in program-aware proposer = \u001b[94m\u001b[1m50\u001b[0m\u001b[93m prompt model calls\u001b[0m\n",
      "\u001b[93m- Program Evaluation: \u001b[94m\u001b[1m25\u001b[0m\u001b[93m examples in minibatch * \u001b[94m\u001b[1m50\u001b[0m\u001b[93m batches + \u001b[94m\u001b[1m250\u001b[0m\u001b[93m examples in val set * \u001b[94m\u001b[1m6\u001b[0m\u001b[93m full evals = \u001b[94m\u001b[1m2750\u001b[0m\u001b[93m LM Program calls\u001b[0m\n",
      "\n",
      "\u001b[93m\u001b[1mEstimated Cost Calculation:\u001b[0m\n",
      "\n",
      "\u001b[93mTotal Cost = (Number of calls to task model * (Avg Input Token Length per Call * Task Model Price per Input Token + Avg Output Token Length per Call * Task Model Price per Output Token) \n",
      "            + (Number of program calls * (Avg Input Token Length per Call * Task Prompt Price per Input Token + Avg Output Token Length per Call * Prompt Model Price per Output Token).\u001b[0m\n",
      "\n",
      "For a preliminary estimate of potential costs, we recommend you perform your own calculations based on the task\n",
      "and prompt models you intend to use. If the projected costs exceed your budget or expectations, you may consider:\n",
      "\n",
      "\u001b[93m- Reducing the number of trials (`num_trials`), the size of the valset, or the number of LM calls in your program.\u001b[0m\n",
      "\u001b[93m- Using a cheaper task model to optimize the prompt.\u001b[0m\n",
      "\u001b[93m- Setting `minibatch=True` if you haven't already.\u001b[0m\n",
      "\n",
      "To proceed with the execution of this program, please confirm by typing \u001b[94m'y'\u001b[0m for yes or \u001b[94m'n'\u001b[0m for no.\n",
      "\n",
      "If you would like to bypass this confirmation step in future executions, set the \u001b[93m`requires_permission_to_run`\u001b[0m flag to \u001b[93m`False`\u001b[0m when calling compile.\n",
      "\n",
      "\u001b[93mAwaiting your input...\u001b[0m\n",
      "\n",
      "Do you wish to continue? (y/n):  y\n"
     ]
    },
    {
     "name": "stderr",
     "output_type": "stream",
     "text": [
      "2025/01/10 16:14:54 INFO dspy.teleprompt.mipro_optimizer_v2: \n",
      "==> STEP 1: BOOTSTRAP FEWSHOT EXAMPLES <==\n",
      "2025/01/10 16:14:54 INFO dspy.teleprompt.mipro_optimizer_v2: These will be used as few-shot example candidates for our program and for creating instructions.\n",
      "\n",
      "2025/01/10 16:14:54 INFO dspy.teleprompt.mipro_optimizer_v2: Bootstrapping N=38 sets of demonstrations...\n"
     ]
    },
    {
     "name": "stdout",
     "output_type": "stream",
     "text": [
      "Bootstrapping set 1/38\n",
      "Bootstrapping set 2/38\n",
      "Bootstrapping set 3/38\n"
     ]
    },
    {
     "name": "stderr",
     "output_type": "stream",
     "text": [
      " 52%|██████████████████████████████████████████▉                                       | 33/63 [04:23<03:59,  7.97s/it]\n"
     ]
    },
    {
     "name": "stdout",
     "output_type": "stream",
     "text": [
      "Bootstrapped 20 full traces after 33 examples for up to 1 rounds, amounting to 33 attempts.\n",
      "Bootstrapping set 4/38\n"
     ]
    },
    {
     "name": "stderr",
     "output_type": "stream",
     "text": [
      " 17%|██████████████▎                                                                   | 11/63 [01:24<06:38,  7.65s/it]\n"
     ]
    },
    {
     "name": "stdout",
     "output_type": "stream",
     "text": [
      "Bootstrapped 4 full traces after 11 examples for up to 1 rounds, amounting to 11 attempts.\n",
      "Bootstrapping set 5/38\n"
     ]
    },
    {
     "name": "stderr",
     "output_type": "stream",
     "text": [
      " 44%|████████████████████████████████████▍                                             | 28/63 [03:40<04:35,  7.88s/it]\n"
     ]
    },
    {
     "name": "stdout",
     "output_type": "stream",
     "text": [
      "Bootstrapped 14 full traces after 28 examples for up to 1 rounds, amounting to 28 attempts.\n",
      "Bootstrapping set 6/38\n"
     ]
    },
    {
     "name": "stderr",
     "output_type": "stream",
     "text": [
      " 11%|█████████▏                                                                         | 7/63 [01:26<11:32, 12.37s/it]\n"
     ]
    },
    {
     "name": "stdout",
     "output_type": "stream",
     "text": [
      "Bootstrapped 3 full traces after 7 examples for up to 1 rounds, amounting to 7 attempts.\n",
      "Bootstrapping set 7/38\n"
     ]
    },
    {
     "name": "stderr",
     "output_type": "stream",
     "text": [
      " 43%|███████████████████████████████████▏                                              | 27/63 [02:55<03:54,  6.50s/it]\n"
     ]
    },
    {
     "name": "stdout",
     "output_type": "stream",
     "text": [
      "Bootstrapped 15 full traces after 27 examples for up to 1 rounds, amounting to 27 attempts.\n",
      "Bootstrapping set 8/38\n"
     ]
    },
    {
     "name": "stderr",
     "output_type": "stream",
     "text": [
      " 25%|████████████████████▊                                                             | 16/63 [02:18<06:45,  8.63s/it]\n"
     ]
    },
    {
     "name": "stdout",
     "output_type": "stream",
     "text": [
      "Bootstrapped 8 full traces after 16 examples for up to 1 rounds, amounting to 16 attempts.\n",
      "Bootstrapping set 9/38\n"
     ]
    },
    {
     "name": "stderr",
     "output_type": "stream",
     "text": [
      " 37%|█████████████████████████████▉                                                    | 23/63 [03:29<06:04,  9.12s/it]\n"
     ]
    },
    {
     "name": "stdout",
     "output_type": "stream",
     "text": [
      "Bootstrapped 11 full traces after 23 examples for up to 1 rounds, amounting to 23 attempts.\n",
      "Bootstrapping set 10/38\n"
     ]
    },
    {
     "name": "stderr",
     "output_type": "stream",
     "text": [
      " 48%|███████████████████████████████████████                                           | 30/63 [04:32<04:59,  9.09s/it]\n"
     ]
    },
    {
     "name": "stdout",
     "output_type": "stream",
     "text": [
      "Bootstrapped 14 full traces after 30 examples for up to 1 rounds, amounting to 30 attempts.\n",
      "Bootstrapping set 11/38\n"
     ]
    },
    {
     "name": "stderr",
     "output_type": "stream",
     "text": [
      " 60%|█████████████████████████████████████████████████▍                                | 38/63 [03:44<02:27,  5.90s/it]\n"
     ]
    },
    {
     "name": "stdout",
     "output_type": "stream",
     "text": [
      "Bootstrapped 14 full traces after 38 examples for up to 1 rounds, amounting to 38 attempts.\n",
      "Bootstrapping set 12/38\n"
     ]
    },
    {
     "name": "stderr",
     "output_type": "stream",
     "text": [
      " 29%|███████████████████████▍                                                          | 18/63 [01:17<03:14,  4.32s/it]\n"
     ]
    },
    {
     "name": "stdout",
     "output_type": "stream",
     "text": [
      "Bootstrapped 13 full traces after 18 examples for up to 1 rounds, amounting to 18 attempts.\n",
      "Bootstrapping set 13/38\n"
     ]
    },
    {
     "name": "stderr",
     "output_type": "stream",
     "text": [
      " 43%|███████████████████████████████████▏                                              | 27/63 [03:04<04:06,  6.83s/it]\n"
     ]
    },
    {
     "name": "stdout",
     "output_type": "stream",
     "text": [
      "Bootstrapped 13 full traces after 27 examples for up to 1 rounds, amounting to 27 attempts.\n",
      "Bootstrapping set 14/38\n"
     ]
    },
    {
     "name": "stderr",
     "output_type": "stream",
     "text": [
      " 16%|█████████████                                                                     | 10/63 [01:38<08:42,  9.86s/it]\n"
     ]
    },
    {
     "name": "stdout",
     "output_type": "stream",
     "text": [
      "Bootstrapped 5 full traces after 10 examples for up to 1 rounds, amounting to 10 attempts.\n",
      "Bootstrapping set 15/38\n"
     ]
    },
    {
     "name": "stderr",
     "output_type": "stream",
     "text": [
      " 14%|███████████▊                                                                       | 9/63 [01:30<09:04, 10.09s/it]\n"
     ]
    },
    {
     "name": "stdout",
     "output_type": "stream",
     "text": [
      "Bootstrapped 4 full traces after 9 examples for up to 1 rounds, amounting to 9 attempts.\n",
      "Bootstrapping set 16/38\n"
     ]
    },
    {
     "name": "stderr",
     "output_type": "stream",
     "text": [
      " 40%|████████████████████████████████▌                                                 | 25/63 [04:23<06:40, 10.53s/it]\n"
     ]
    },
    {
     "name": "stdout",
     "output_type": "stream",
     "text": [
      "Bootstrapped 11 full traces after 25 examples for up to 1 rounds, amounting to 25 attempts.\n",
      "Bootstrapping set 17/38\n"
     ]
    },
    {
     "name": "stderr",
     "output_type": "stream",
     "text": [
      " 33%|███████████████████████████▎                                                      | 21/63 [02:15<04:30,  6.45s/it]\n"
     ]
    },
    {
     "name": "stdout",
     "output_type": "stream",
     "text": [
      "Bootstrapped 13 full traces after 21 examples for up to 1 rounds, amounting to 21 attempts.\n",
      "Bootstrapping set 18/38\n"
     ]
    },
    {
     "name": "stderr",
     "output_type": "stream",
     "text": [
      " 44%|████████████████████████████████████▍                                             | 28/63 [02:53<03:36,  6.18s/it]\n"
     ]
    },
    {
     "name": "stdout",
     "output_type": "stream",
     "text": [
      "Bootstrapped 18 full traces after 28 examples for up to 1 rounds, amounting to 28 attempts.\n",
      "Bootstrapping set 19/38\n"
     ]
    },
    {
     "name": "stderr",
     "output_type": "stream",
     "text": [
      " 27%|██████████████████████▏                                                           | 17/63 [01:42<04:38,  6.05s/it]\n"
     ]
    },
    {
     "name": "stdout",
     "output_type": "stream",
     "text": [
      "Bootstrapped 6 full traces after 17 examples for up to 1 rounds, amounting to 17 attempts.\n",
      "Bootstrapping set 20/38\n"
     ]
    },
    {
     "name": "stderr",
     "output_type": "stream",
     "text": [
      "  6%|█████▎                                                                             | 4/63 [01:01<15:00, 15.26s/it]\n"
     ]
    },
    {
     "name": "stdout",
     "output_type": "stream",
     "text": [
      "Bootstrapped 1 full traces after 4 examples for up to 1 rounds, amounting to 4 attempts.\n",
      "Bootstrapping set 21/38\n"
     ]
    },
    {
     "name": "stderr",
     "output_type": "stream",
     "text": [
      " 17%|██████████████▎                                                                   | 11/63 [01:28<06:56,  8.01s/it]\n"
     ]
    },
    {
     "name": "stdout",
     "output_type": "stream",
     "text": [
      "Bootstrapped 5 full traces after 11 examples for up to 1 rounds, amounting to 11 attempts.\n",
      "Bootstrapping set 22/38\n"
     ]
    },
    {
     "name": "stderr",
     "output_type": "stream",
     "text": [
      " 25%|████████████████████▊                                                             | 16/63 [01:53<05:32,  7.07s/it]\n"
     ]
    },
    {
     "name": "stdout",
     "output_type": "stream",
     "text": [
      "Bootstrapped 8 full traces after 16 examples for up to 1 rounds, amounting to 16 attempts.\n",
      "Bootstrapping set 23/38\n"
     ]
    },
    {
     "name": "stderr",
     "output_type": "stream",
     "text": [
      " 54%|████████████████████████████████████████████▎                                     | 34/63 [05:41<04:51, 10.05s/it]\n"
     ]
    },
    {
     "name": "stdout",
     "output_type": "stream",
     "text": [
      "Bootstrapped 18 full traces after 34 examples for up to 1 rounds, amounting to 34 attempts.\n",
      "Bootstrapping set 24/38\n"
     ]
    },
    {
     "name": "stderr",
     "output_type": "stream",
     "text": [
      " 40%|████████████████████████████████▌                                                 | 25/63 [02:55<04:26,  7.01s/it]\n"
     ]
    },
    {
     "name": "stdout",
     "output_type": "stream",
     "text": [
      "Bootstrapped 13 full traces after 25 examples for up to 1 rounds, amounting to 25 attempts.\n",
      "Bootstrapping set 25/38\n"
     ]
    },
    {
     "name": "stderr",
     "output_type": "stream",
     "text": [
      " 19%|███████████████▌                                                                  | 12/63 [01:04<04:32,  5.34s/it]\n"
     ]
    },
    {
     "name": "stdout",
     "output_type": "stream",
     "text": [
      "Bootstrapped 7 full traces after 12 examples for up to 1 rounds, amounting to 12 attempts.\n",
      "Bootstrapping set 26/38\n"
     ]
    },
    {
     "name": "stderr",
     "output_type": "stream",
     "text": [
      " 29%|███████████████████████▍                                                          | 18/63 [01:31<03:47,  5.07s/it]\n"
     ]
    },
    {
     "name": "stdout",
     "output_type": "stream",
     "text": [
      "Bootstrapped 13 full traces after 18 examples for up to 1 rounds, amounting to 18 attempts.\n",
      "Bootstrapping set 27/38\n"
     ]
    },
    {
     "name": "stderr",
     "output_type": "stream",
     "text": [
      " 29%|███████████████████████▍                                                          | 18/63 [02:14<05:37,  7.49s/it]\n"
     ]
    },
    {
     "name": "stdout",
     "output_type": "stream",
     "text": [
      "Bootstrapped 10 full traces after 18 examples for up to 1 rounds, amounting to 18 attempts.\n",
      "Bootstrapping set 28/38\n"
     ]
    },
    {
     "name": "stderr",
     "output_type": "stream",
     "text": [
      " 33%|███████████████████████████▎                                                      | 21/63 [02:02<04:05,  5.85s/it]\n"
     ]
    },
    {
     "name": "stdout",
     "output_type": "stream",
     "text": [
      "Bootstrapped 13 full traces after 21 examples for up to 1 rounds, amounting to 21 attempts.\n",
      "Bootstrapping set 29/38\n"
     ]
    },
    {
     "name": "stderr",
     "output_type": "stream",
     "text": [
      "  2%|█▎                                                                                 | 1/63 [00:12<12:47, 12.37s/it]\n"
     ]
    },
    {
     "name": "stdout",
     "output_type": "stream",
     "text": [
      "Bootstrapped 1 full traces after 1 examples for up to 1 rounds, amounting to 1 attempts.\n",
      "Bootstrapping set 30/38\n"
     ]
    },
    {
     "name": "stderr",
     "output_type": "stream",
     "text": [
      " 14%|███████████▊                                                                       | 9/63 [01:19<07:59,  8.87s/it]\n"
     ]
    },
    {
     "name": "stdout",
     "output_type": "stream",
     "text": [
      "Bootstrapped 5 full traces after 9 examples for up to 1 rounds, amounting to 9 attempts.\n",
      "Bootstrapping set 31/38\n"
     ]
    },
    {
     "name": "stderr",
     "output_type": "stream",
     "text": [
      " 48%|███████████████████████████████████████                                           | 30/63 [04:29<04:56,  8.98s/it]\n"
     ]
    },
    {
     "name": "stdout",
     "output_type": "stream",
     "text": [
      "Bootstrapped 19 full traces after 30 examples for up to 1 rounds, amounting to 30 attempts.\n",
      "Bootstrapping set 32/38\n"
     ]
    },
    {
     "name": "stderr",
     "output_type": "stream",
     "text": [
      " 21%|████████████████▉                                                                 | 13/63 [01:26<05:32,  6.66s/it]\n"
     ]
    },
    {
     "name": "stdout",
     "output_type": "stream",
     "text": [
      "Bootstrapped 7 full traces after 13 examples for up to 1 rounds, amounting to 13 attempts.\n",
      "Bootstrapping set 33/38\n"
     ]
    },
    {
     "name": "stderr",
     "output_type": "stream",
     "text": [
      " 60%|█████████████████████████████████████████████████▍                                | 38/63 [05:59<03:56,  9.47s/it]\n"
     ]
    },
    {
     "name": "stdout",
     "output_type": "stream",
     "text": [
      "Bootstrapped 19 full traces after 38 examples for up to 1 rounds, amounting to 38 attempts.\n",
      "Bootstrapping set 34/38\n"
     ]
    },
    {
     "name": "stderr",
     "output_type": "stream",
     "text": [
      " 37%|█████████████████████████████▉                                                    | 23/63 [03:17<05:44,  8.61s/it]\n"
     ]
    },
    {
     "name": "stdout",
     "output_type": "stream",
     "text": [
      "Bootstrapped 9 full traces after 23 examples for up to 1 rounds, amounting to 23 attempts.\n",
      "Bootstrapping set 35/38\n"
     ]
    },
    {
     "name": "stderr",
     "output_type": "stream",
     "text": [
      " 49%|████████████████████████████████████████▎                                         | 31/63 [03:46<03:53,  7.29s/it]\n"
     ]
    },
    {
     "name": "stdout",
     "output_type": "stream",
     "text": [
      "Bootstrapped 13 full traces after 31 examples for up to 1 rounds, amounting to 31 attempts.\n",
      "Bootstrapping set 36/38\n"
     ]
    },
    {
     "name": "stderr",
     "output_type": "stream",
     "text": [
      " 40%|████████████████████████████████▌                                                 | 25/63 [02:40<04:04,  6.43s/it]\n"
     ]
    },
    {
     "name": "stdout",
     "output_type": "stream",
     "text": [
      "Bootstrapped 19 full traces after 25 examples for up to 1 rounds, amounting to 25 attempts.\n",
      "Bootstrapping set 37/38\n"
     ]
    },
    {
     "name": "stderr",
     "output_type": "stream",
     "text": [
      " 63%|████████████████████████████████████████████████████                              | 40/63 [05:08<02:57,  7.71s/it]\n"
     ]
    },
    {
     "name": "stdout",
     "output_type": "stream",
     "text": [
      "Bootstrapped 15 full traces after 40 examples for up to 1 rounds, amounting to 40 attempts.\n",
      "Bootstrapping set 38/38\n"
     ]
    },
    {
     "name": "stderr",
     "output_type": "stream",
     "text": [
      "  8%|██████▌                                                                            | 5/63 [00:20<03:59,  4.12s/it]\n",
      "2025/01/10 17:50:09 INFO dspy.teleprompt.mipro_optimizer_v2: \n",
      "==> STEP 2: PROPOSE INSTRUCTION CANDIDATES <==\n",
      "2025/01/10 17:50:09 INFO dspy.teleprompt.mipro_optimizer_v2: We will use the few-shot examples from the previous step, a generated dataset summary, a summary of the program code, and a randomly selected prompting tip to propose instructions.\n"
     ]
    },
    {
     "name": "stdout",
     "output_type": "stream",
     "text": [
      "Bootstrapped 4 full traces after 5 examples for up to 1 rounds, amounting to 5 attempts.\n"
     ]
    },
    {
     "name": "stderr",
     "output_type": "stream",
     "text": [
      "2025/01/10 17:51:21 INFO dspy.teleprompt.mipro_optimizer_v2: \n",
      "Proposing instructions...\n",
      "\n",
      "2025/01/10 18:03:17 INFO dspy.teleprompt.mipro_optimizer_v2: Proposed Instructions for Predictor 0:\n",
      "\n",
      "2025/01/10 18:03:17 INFO dspy.teleprompt.mipro_optimizer_v2: 0: The following text has been categorized as \"implicit hate speech\", a more complex and subtle attack on a person or a group of people based on their protected characteristics without relying on explicit keywords.\n",
      "\n",
      "Evaluate the text against the following taxonomy to determine the most likely class.\n",
      "Class taxonomy of implicit hate speech:\n",
      "\n",
      "1. White Grievance: includes frustration over a minority group's perceived privilege and casting majority groups as the real victims of racism. This language is linked to extremist behavior and support for violence. An example is 'Black lives matter and white lives don't? Sounds racist.'\n",
      "2. Incitement to Violence: includes flaunting ingroup unity and power or elevating known hate groups and ideologies. Phrases like 'white brotherhood' operate in the former manner, while statements like 'Hitler was Germany â€“ Germans shall rise again!' operate in the latter, elevating nationalism and Nazism. Article 20 of the UN International Covenant on Civil and Political states that speech which incites violence shall be prohibited by law.\n",
      "3. Inferiority Language: implies one group or individual is inferior to another, and it can include dehumanization (denial of a person's humanity), and toxification (language that compares the target with disease, insects, animals), both of which are early warning signs of genocide. Inferiority language is also related to assaults on human dignity, dominance, and declarations of superiority of the in-group. For example, 'It's not a coincidence the best places to live are majority white.'\n",
      "4. Irony: refers to the use of sarcasm, humor, and satire to attack or demean a protected class or individual. For example, in the context of one hate group, the post 'Horrors... Disney will be forced into hiring Americans works to discredit Disney for allegedly hiring only non-citizens or, really, nonwhites'. Irony is not exempt from our hate speech typology, since it is commonly used by modern online hate groups to mask their hatred and extremism.\n",
      "5. Stereotypes and Misinformation: associate a protected class with negative attributes such as crime, or terrorism as in the rhetorical question, 'Can someone tell the black people in Chicago to stop killing one another before it becomes Detroit?' This class also includes misinformation that feeds stereotypes and vice versa, like holocaust denial and other forms of historical negationism.\n",
      "6. Threatening and Intimidation: convey a speaker commitment to a target's pain, injury, damage, loss, or violation of rights. While explicitly violent threats are well-recognized in the hate speech literature, here we highlight threats related to implicit violation of rights and freedoms, removal of opportunities, and more subtle forms of intimidation, such as 'All immigration of non-whites should be ended'.\n",
      "7. Other: none of the above was identified \n",
      "\n",
      "Follow this procedure:\n",
      "\n",
      "Imagine three different experts are answering this question.\n",
      "They will brainstorm the answer step by step reasoning carefully and taking all facts into consideration.\n",
      "All experts will write down 1 step of their thinking, then share it with the group.\n",
      "They will each critique their response, and the all the responses of others.\n",
      "They will check their answer on based on the nature of the language and intent.\n",
      "Then all experts will go on to the next step and write down this step of their thinking.\n",
      "They will keep going through steps until they reach their conclusion taking into account the thoughts of the other experts.\n",
      "If at any time they realise that there uncertainty in their logic they will backtrack to where that uncertainty occurred. \n",
      "If any expert realises they're wrong at any point then they acknowledges this and start another train of thought.\n",
      "Each expert will assign a likelihood of their current assertion being correct.\n",
      "Continue until the experts agree on the single most likely classification.\n",
      "\n",
      "Return in output\n",
      "\n",
      "1. the most probable class  \n",
      "2. a confidence level between 0 and 1 for you classification\n",
      "3. an explanation for you classification\n",
      "\n",
      "2025/01/10 18:03:17 INFO dspy.teleprompt.mipro_optimizer_v2: 1: You are a seasoned hate speech analyst working for an online moderation tool development team. Your task is to evaluate the following text, which has been categorized as \"implicit hate speech.\" This form of hate speech is subtler and more complex, attacking individuals or groups based on their protected characteristics without using explicit keywords.\n",
      "\n",
      "Your goal is to determine the most likely class of implicit hate speech the text falls under, using the provided taxonomy:\n",
      "\n",
      "1. White Grievance\n",
      "2. Incitement to Violence\n",
      "3. Inferiority Language\n",
      "4. Irony\n",
      "5. Stereotypes and Misinformation\n",
      "6. Threatening and Intimidation\n",
      "7. Other\n",
      "\n",
      "Follow this collaborative procedure with two other experts:\n",
      "\n",
      "1. **Brainstorm**: Each expert will think through the problem step by step, considering all facts and nuances in the text.\n",
      "2. **Share**: Write down one step of your thinking and share it with the group.\n",
      "3. **Critique**: Each expert will critique their own response and the responses of others based on the nature of the language and intent.\n",
      "4. **Iterate**: Move to the next step and repeat the process until a conclusion is reached.\n",
      "5. **Backtrack**: If uncertainty arises, return to the point where it occurred and reassess.\n",
      "6. **Acknowledge**: If an expert realizes they are wrong, they will acknowledge it and start a new train of thought.\n",
      "7. **Assign Likelihood**: Each expert will assign a likelihood to their current assertion being correct.\n",
      "8. **Agree**: Continue until all experts agree on the single most likely classification.\n",
      "\n",
      "Your final output should include:\n",
      "1. The most probable class\n",
      "2. A confidence level between 0 and 1 for your classification\n",
      "3. An explanation for your classification\n",
      "\n",
      "Begin your analysis with a focus on the nuanced language and implied meanings in the text.\n",
      "\n",
      "2025/01/10 18:03:17 INFO dspy.teleprompt.mipro_optimizer_v2: 2: Imagine you are a content moderator for a large social media platform, and you've just received a report about a surge in implicit hate speech posts. These posts are causing significant harm to the community by spreading negative stereotypes and inciting tension among different groups. Your task is to evaluate each post and determine the most likely class of implicit hate speech it belongs to, so that appropriate action can be taken to maintain a safe and respectful environment.\n",
      "\n",
      "Given the following text, which has been flagged as \"implicit hate speech,\" you must determine the most likely class from the provided taxonomy. Remember, implicit hate speech is a subtle and complex attack on a person or a group based on their protected characteristics without using explicit keywords.\n",
      "\n",
      "Class taxonomy of implicit hate speech:\n",
      "\n",
      "1. White Grievance\n",
      "2. Incitement to Violence\n",
      "3. Inferiority Language\n",
      "4. Irony\n",
      "5. Stereotypes and Misinformation\n",
      "6. Threatening and Intimidation\n",
      "7. Other\n",
      "\n",
      "Follow this procedure to ensure a thorough and accurate evaluation:\n",
      "\n",
      "1. **Brainstorm**: Imagine three different experts are analyzing the text. Each expert will think through the problem step by step, considering all relevant facts and nuances.\n",
      "2. **Share and Critique**: Each expert will share one step of their reasoning with the group. All experts will critique each other's responses, checking for logical consistency and alignment with the nature of the language and intent.\n",
      "3. **Iterate**: The experts will continue this process, moving to the next step of their analysis until they reach a conclusion. If any expert encounters uncertainty, they will backtrack to the point of uncertainty and re-evaluate.\n",
      "4. **Consensus**: Each expert will assign a likelihood to their current classification. The process continues until all experts agree on the single most likely classification.\n",
      "\n",
      "Your final output should include:\n",
      "\n",
      "1. The most probable class\n",
      "2. A confidence level between 0 and 1 for your classification\n",
      "3. An explanation for your classification\n",
      "\n",
      "Remember, the stakes are high—accurate classification is crucial for maintaining a safe and inclusive online community.\n",
      "\n",
      "2025/01/10 18:03:17 INFO dspy.teleprompt.mipro_optimizer_v2: 3: You are a critical member of a content moderation team for a major social media platform. Recently, there has been a surge in subtle, implicit hate speech that has been slipping through our filters and causing significant harm to our users. Your task is to evaluate a given text to determine if it falls into the category of implicit hate speech, specifically the \"inferiority\" class. This class includes language that implies one group or individual is inferior to another, often involving dehumanization, toxification, and other subtle forms of derogatory language.\n",
      "\n",
      "Imagine you are working with a team of experts to brainstorm and carefully reason through the classification process. Follow these steps:\n",
      "\n",
      "1. **Initial Evaluation**: Each expert will independently evaluate the text to determine if it contains elements of inferiority language.\n",
      "2. **Shared Insights**: Share your initial thoughts with the group, critiquing both your own and others' reasoning.\n",
      "3. **Iterative Refinement**: Continue to refine your analysis step by step, considering the nature of the language and the intent behind it.\n",
      "4. **Consensus Building**: If there is any uncertainty or disagreement, backtrack to the point of divergence and re-evaluate.\n",
      "5. **Final Classification**: Agree on the most probable class, assign a confidence level (between 0 and 1), and provide a detailed explanation for your classification.\n",
      "\n",
      "Your output should include:\n",
      "1. The most probable class.\n",
      "2. A confidence level for your classification.\n",
      "3. An explanation for your classification.\n",
      "\n",
      "Remember, the stakes are high—accurate classification is crucial for maintaining a safe and inclusive online environment.\n",
      "\n",
      "2025/01/10 18:03:17 INFO dspy.teleprompt.mipro_optimizer_v2: 4: You are an expert in detecting and explaining implicit hate speech. Your task is to analyze the following text, which has been categorized as \"implicit hate speech.\" This type of hate speech is more subtle and complex, attacking individuals or groups based on their protected characteristics without using explicit keywords.\n",
      "\n",
      "Your goal is to determine the most likely class of implicit hate speech from the provided taxonomy. Follow these steps to reach a consensus with two other experts:\n",
      "\n",
      "1. **Brainstorm**: Carefully consider the text and the classes of implicit hate speech. Write down one step of your thinking process.\n",
      "2. **Share**: Share your step with the group.\n",
      "3. **Critique**: Critique your own response and the responses of others based on the nature of the language and intent.\n",
      "4. **Iterate**: Move to the next step and repeat the process until you reach a conclusion. If you encounter uncertainty, backtrack to where the uncertainty occurred. If you realize you're wrong, acknowledge it and start a new train of thought.\n",
      "5. **Assign Likelihood**: Assign a likelihood (between 0 and 1) to your current assertion being correct.\n",
      "6. **Agree**: Continue the process until all experts agree on the single most likely classification.\n",
      "\n",
      "Provide the following in your response:\n",
      "\n",
      "1. The most probable class of implicit hate speech.\n",
      "2. A confidence level (between 0 and 1) for your classification.\n",
      "3. An explanation for your classification, detailing how the language in the text aligns with the characteristics of the detected implicit class.\n",
      "\n",
      "**Class Taxonomy of Implicit Hate Speech**:\n",
      "\n",
      "1. **White Grievance**: Frustration over a minority group's perceived privilege, casting majority groups as the real victims of racism.\n",
      "2. **Incitement to Violence**: Flaunting ingroup unity and power or elevating known hate groups and ideologies.\n",
      "3. **Inferiority Language**: Implies one group or individual is inferior to another, including dehumanization and toxification.\n",
      "4. **Irony**: Use of sarcasm, humor, and satire to attack or demean a protected class or individual.\n",
      "5. **Stereotypes and Misinformation**: Associates a protected class with negative attributes or misinformation.\n",
      "6. **Threatening and Intimidation**: Conveys a speaker's commitment to a target's pain, injury, damage, loss, or violation of rights.\n",
      "7. **Other**: None of the above was identified.\n",
      "\n",
      "Begin your analysis with the provided text.\n",
      "\n",
      "2025/01/10 18:03:17 INFO dspy.teleprompt.mipro_optimizer_v2: 5: You are a team of three experts in hate speech detection. Your task is to analyze the following text, which has been categorized as \"implicit hate speech.\" This type of hate speech is more subtle and complex, attacking a person or a group based on their protected characteristics without using explicit keywords.\n",
      "\n",
      "Your goal is to determine the most likely class of implicit hate speech from the provided taxonomy. Here is the taxonomy for reference:\n",
      "\n",
      "1. **White Grievance**: Frustration over a minority group's perceived privilege, casting majority groups as the real victims of racism.\n",
      "2. **Incitement to Violence**: Flaunting ingroup unity and power or elevating known hate groups and ideologies.\n",
      "3. **Inferiority Language**: Implies one group or individual is inferior to another, including dehumanization and toxification.\n",
      "4. **Irony**: Use of sarcasm, humor, and satire to attack or demean a protected class or individual.\n",
      "5. **Stereotypes and Misinformation**: Associates a protected class with negative attributes or spreads misinformation.\n",
      "6. **Threatening and Intimidation**: Conveys a speaker's commitment to a target's pain, injury, damage, loss, or violation of rights.\n",
      "7. **Other**: None of the above.\n",
      "\n",
      "Follow this collaborative procedure:\n",
      "\n",
      "1. **Brainstorming**: Each expert will think through the classification step by step, considering all facts and nuances of the language used.\n",
      "2. **Sharing**: Each expert will share one step of their thinking with the group.\n",
      "3. **Critique**: All experts will critique their own response and the responses of others.\n",
      "4. **Validation**: Check the nature of the language and intent against the taxonomy.\n",
      "5. **Iteration**: Move to the next step of thinking, incorporating the group's feedback.\n",
      "6. **Backtracking**: If uncertainty arises, return to the point of uncertainty and re-evaluate.\n",
      "7. **Acknowledgment**: If an expert realizes they are wrong, acknowledge it and start a new train of thought.\n",
      "8. **Confidence Assessment**: Each expert will assign a likelihood of their current assertion being correct.\n",
      "9. **Conclusion**: Continue until all experts agree on the single most likely classification.\n",
      "\n",
      "Your output should include:\n",
      "1. The most probable class.\n",
      "2. A confidence level between 0 and 1 for your classification.\n",
      "3. An explanation for your classification.\n",
      "\n",
      "Begin your analysis with the provided text.\n",
      "\n",
      "2025/01/10 18:03:17 INFO dspy.teleprompt.mipro_optimizer_v2: 6: You are an expert in detecting implicit hate speech. Your task is to analyze the following text and classify it according to the provided taxonomy. The text subtly attacks a person or a group based on their protected characteristics without using explicit keywords.\n",
      "\n",
      "Follow these steps:\n",
      "\n",
      "1. **Understand the Taxonomy**:\n",
      "   - **White Grievance**: Frustration over perceived minority privilege.\n",
      "   - **Incitement to Violence**: Promotes in-group unity, power, or elevates hate groups.\n",
      "   - **Inferiority Language**: Implies one group is inferior, including dehumanization and toxification.\n",
      "   - **Irony**: Uses sarcasm, humor, or satire to demean a protected class.\n",
      "   - **Stereotypes and Misinformation**: Associates a protected class with negative attributes or misinformation.\n",
      "   - **Threatening and Intimidation**: Subtle forms of intimidation or threats.\n",
      "   - **Other**: None of the above.\n",
      "\n",
      "2. **Brainstorm in Steps**:\n",
      "   - Imagine three experts analyzing the text.\n",
      "   - Each expert writes down one step of their thinking and shares it.\n",
      "   - Critique and consider all responses.\n",
      "   - Check the nature of the language and intent.\n",
      "   - Continue step-by-step until a conclusion is reached.\n",
      "   - Backtrack if uncertainty arises.\n",
      "   - Acknowledge and restart if any expert realizes they are wrong.\n",
      "\n",
      "3. **Assign Likelihood**:\n",
      "   - Each expert assigns a likelihood of their current assertion being correct.\n",
      "   - Continue until all experts agree on the single most likely classification.\n",
      "\n",
      "4. **Output**:\n",
      "   - The most probable class.\n",
      "   - A confidence level between 0 and 1.\n",
      "   - An explanation for the classification.\n",
      "\n",
      "2025/01/10 18:03:17 INFO dspy.teleprompt.mipro_optimizer_v2: 7: You are an expert in detecting implicit hate speech. Your task is to evaluate the following text against a specific taxonomy to determine the most likely class of implicit hate speech it belongs to. The text has been categorized as \"implicit hate speech,\" which is a more complex and subtle attack on a person or a group of people based on their protected characteristics without relying on explicit keywords.\n",
      "\n",
      "Follow this procedure:\n",
      "\n",
      "1. **Understand the Taxonomy**: Review the class taxonomy of implicit hate speech provided below.\n",
      "2. **Analyze the Text**: Carefully read the text and identify key phrases, language use, and intent.\n",
      "3. **Brainstorm**: Imagine three different experts are analyzing the text. Each expert will brainstorm the answer step by step, reasoning carefully and considering all facts.\n",
      "4. **Share and Critique**: Each expert will write down one step of their thinking, share it with the group, and critique their own response and the responses of others.\n",
      "5. **Check Intent and Language**: Ensure the analysis is based on the nature of the language and the intent behind the text.\n",
      "6. **Iterate**: Continue this process, moving to the next step of thinking, until a conclusion is reached. If uncertainty arises, backtrack to the point of uncertainty.\n",
      "7. **Acknowledge Errors**: If any expert realizes they are wrong, they will acknowledge this and start a new train of thought.\n",
      "8. **Assign Likelihood**: Each expert will assign a likelihood (between 0 and 1) of their current assertion being correct.\n",
      "9. **Agree on Classification**: Continue until all experts agree on the single most likely classification.\n",
      "\n",
      "**Class Taxonomy of Implicit Hate Speech**:\n",
      "1. **White Grievance**: Frustration over a minority group's perceived privilege, casting majority groups as the real victims of racism.\n",
      "2. **Incitement to Violence**: Flaunting ingroup unity and power or elevating known hate groups and ideologies.\n",
      "3. **Inferiority Language**: Implies one group is inferior to another, including dehumanization and toxification.\n",
      "4. **Irony**: Use of sarcasm, humor, and satire to attack or demean a protected class.\n",
      "5. **Stereotypes and Misinformation**: Associates a protected class with negative attributes or misinformation.\n",
      "6. **Threatening and Intimidation**: Conveys a commitment to a target's pain, injury, or violation of rights.\n",
      "7. **Other**: None of the above.\n",
      "\n",
      "**Output**:\n",
      "1. The most probable class.\n",
      "2. A confidence level between 0 and 1 for your classification.\n",
      "3. An explanation for your classification.\n",
      "\n",
      "2025/01/10 18:03:17 INFO dspy.teleprompt.mipro_optimizer_v2: 8: You are an expert in detecting implicit hate speech. Given a social media post, your task is to classify it into one of the following categories: White Grievance, Incitement to Violence, Inferiority Language, Irony, Stereotypes and Misinformation, Threatening and Intimidation, or Other. Follow these steps to determine the most likely class:\n",
      "\n",
      "1. **Understand the Taxonomy**: Familiarize yourself with the class taxonomy of implicit hate speech provided.\n",
      "2. **Analyze the Post**: Carefully read the post and identify any phrases, language, or symbols that might indicate implicit hate speech.\n",
      "3. **Brainstorm with Experts**: Imagine three different experts are analyzing the post. Each expert will write down one step of their thinking and share it with the group.\n",
      "4. **Critique and Refine**: Each expert will critique their own response and the responses of others, checking the nature of the language and intent.\n",
      "5. **Iterate**: Continue this process step by step until all experts agree on the single most likely classification.\n",
      "6. **Assign Confidence**: Each expert will assign a likelihood of their current assertion being correct.\n",
      "\n",
      "Your final output should include:\n",
      "1. The most probable class.\n",
      "2. A confidence level between 0 and 1 for your classification.\n",
      "3. An explanation for your classification.\n",
      "\n",
      "2025/01/10 18:03:17 INFO dspy.teleprompt.mipro_optimizer_v2: 9: Imagine you are a content moderator for a large social media platform, and you've just received a report about a post that might contain implicit hate speech. Your job is to evaluate the text against a specific taxonomy to determine the most likely class of implicit hate speech. This is a high-stakes scenario because if you misclassify the post, it could lead to either allowing harmful content to remain on the platform or unfairly censoring innocent users.\n",
      "\n",
      "Here is the taxonomy you should use:\n",
      "\n",
      "1. **White Grievance**: Includes frustration over a minority group's perceived privilege and casting majority groups as the real victims of racism.\n",
      "2. **Incitement to Violence**: Includes flaunting ingroup unity and power or elevating known hate groups and ideologies.\n",
      "3. **Inferiority Language**: Implies one group or individual is inferior to another, including dehumanization and toxification.\n",
      "4. **Irony**: Refers to the use of sarcasm, humor, and satire to attack or demean a protected class or individual.\n",
      "5. **Stereotypes and Misinformation**: Associates a protected class with negative attributes or misinformation.\n",
      "6. **Threatening and Intimidation**: Conveys a speaker's commitment to a target's pain, injury, damage, loss, or violation of rights.\n",
      "7. **Other**: None of the above was identified.\n",
      "\n",
      "Follow this procedure:\n",
      "\n",
      "1. **Brainstorm**: Imagine three different experts are answering this question. They will brainstorm the answer step by step, reasoning carefully and taking all facts into consideration.\n",
      "2. **Share and Critique**: Each expert will write down one step of their thinking, then share it with the group. They will each critique their response and all the responses of others.\n",
      "3. **Check**: They will check their answer based on the nature of the language and intent.\n",
      "4. **Iterate**: The experts will keep going through steps until they reach their conclusion, taking into account the thoughts of the other experts. If at any time they realize there is uncertainty in their logic, they will backtrack to where that uncertainty occurred.\n",
      "5. **Acknowledge Mistakes**: If any expert realizes they're wrong at any point, they will acknowledge this and start another train of thought.\n",
      "6. **Assign Likelihood**: Each expert will assign a likelihood of their current assertion being correct.\n",
      "7. **Agree**: Continue until the experts agree on the single most likely classification.\n",
      "\n",
      "Return in output:\n",
      "\n",
      "1. The most probable class.\n",
      "2. A confidence level between 0 and 1 for your classification.\n",
      "3. An explanation for your classification.\n",
      "\n",
      "Remember, the accuracy of your classification is crucial for maintaining a safe and fair online environment.\n",
      "\n",
      "2025/01/10 18:03:17 INFO dspy.teleprompt.mipro_optimizer_v2: 10: You are a team of three expert analysts specializing in detecting and classifying implicit hate speech. Your task is to evaluate a given text against a predefined taxonomy to determine the most likely class of implicit hate speech it belongs to. Follow this structured procedure to reach a consensus:\n",
      "\n",
      "1. **Initial Review**: Each expert will independently read the text and identify the key elements that suggest implicit hate speech.\n",
      "2. **Step-by-Step Analysis**:\n",
      "   - Each expert will write down one step of their reasoning, focusing on the language, intent, and context of the text.\n",
      "   - Share this step with the group.\n",
      "   - Critique their own response and the responses of others, ensuring all facts and nuances are considered.\n",
      "3. **Consensus Building**:\n",
      "   - Check the nature of the language and intent against the taxonomy.\n",
      "   - Proceed to the next step of reasoning, incorporating the feedback from the group.\n",
      "   - Continue this process until a consensus is reached on the most likely classification.\n",
      "4. **Uncertainty Management**: If any expert encounters uncertainty, they will backtrack to the point of uncertainty and reevaluate. If an expert realizes they are wrong, they will acknowledge this and start a new train of thought.\n",
      "5. **Confidence Assessment**: Each expert will assign a likelihood (between 0 and 1) to their current assertion being correct.\n",
      "\n",
      "**Taxonomy of Implicit Hate Speech**:\n",
      "1. **White Grievance**: Frustration over perceived minority privilege, casting majority groups as victims.\n",
      "2. **Incitement to Violence**: Flaunting ingroup unity, power, or elevating known hate groups.\n",
      "3. **Inferiority Language**: Implies one group is inferior, including dehumanization and toxification.\n",
      "4. **Irony**: Use of sarcasm, humor, or satire to demean a protected class.\n",
      "5. **Stereotypes and Misinformation**: Associating a protected class with negative attributes or misinformation.\n",
      "6. **Threatening and Intimidation**: Commitment to a target's pain, injury, or violation of rights.\n",
      "7. **Other**: None of the above.\n",
      "\n",
      "**Output**:\n",
      "1. The most probable class.\n",
      "2. A confidence level between 0 and 1 for your classification.\n",
      "3. An explanation for your classification.\n",
      "\n",
      "Begin your analysis with the provided text and follow the structured procedure to reach a consensus on the most likely class of implicit hate speech.\n",
      "\n",
      "2025/01/10 18:03:17 INFO dspy.teleprompt.mipro_optimizer_v2: 11: You are an expert in identifying and classifying implicit hate speech. Your task is to analyze the following text and determine the most likely class of implicit hate speech it belongs to. The text has been categorized as \"implicit hate speech,\" which is a more complex and subtle attack on a person or a group of people based on their protected characteristics without relying on explicit keywords.\n",
      "\n",
      "Follow these steps to classify the text:\n",
      "\n",
      "1. **Understand the Taxonomy**: Review the class taxonomy of implicit hate speech provided below.\n",
      "2. **Analyze the Text**: Carefully read the text and identify any subtle or implicit expressions of hate speech.\n",
      "3. **Brainstorm with Experts**: Imagine three different experts are analyzing the text. Each expert will brainstorm the answer step by step, reasoning carefully and taking all facts into consideration.\n",
      "4. **Share and Critique**: Each expert will write down one step of their thinking and share it with the group. They will critique their own response and the responses of others.\n",
      "5. **Check Intent and Language**: Ensure that the classification is based on the nature of the language and the intent behind the text.\n",
      "6. **Iterate and Refine**: Continue through the steps until all experts agree on the single most likely classification. If there is uncertainty, backtrack to where the uncertainty occurred. If any expert realizes they are wrong, they should acknowledge this and start a new train of thought.\n",
      "7. **Assign Confidence**: Each expert will assign a likelihood (confidence level between 0 and 1) of their current assertion being correct.\n",
      "\n",
      "**Class Taxonomy of Implicit Hate Speech**:\n",
      "1. **White Grievance**: Frustration over a minority group's perceived privilege, casting majority groups as the real victims of racism.\n",
      "2. **Incitement to Violence**: Flaunting ingroup unity and power or elevating known hate groups and ideologies.\n",
      "3. **Inferiority Language**: Implies one group or individual is inferior to another, including dehumanization and toxification.\n",
      "4. **Irony**: Use of sarcasm, humor, and satire to attack or demean a protected class or individual.\n",
      "5. **Stereotypes and Misinformation**: Associates a protected class with negative attributes or misinformation.\n",
      "6. **Threatening and Intimidation**: Conveys a speaker's commitment to a target's pain, injury, damage, loss, or violation of rights.\n",
      "7. **Other**: None of the above was identified.\n",
      "\n",
      "**Output Format**:\n",
      "1. The most probable class.\n",
      "2. A confidence level between 0 and 1 for your classification.\n",
      "3. An explanation for your classification.\n",
      "\n",
      "Begin your analysis with the provided text and follow the outlined procedure to determine the most likely class of implicit hate speech.\n",
      "\n",
      "2025/01/10 18:03:17 INFO dspy.teleprompt.mipro_optimizer_v2: 12: You are an expert in identifying implicit hate speech. Given a text, your task is to classify it into one of the following categories: White Grievance, Incitement to Violence, Inferiority Language, Irony, Stereotypes and Misinformation, Threatening and Intimidation, or Other. Follow these steps:\n",
      "\n",
      "1. Carefully read the text and consider the language and intent.\n",
      "2. Imagine three different experts are analyzing the text. Each expert will brainstorm one step of their thinking and share it with the group.\n",
      "3. Critique each response, including your own, based on the nature of the language and intent.\n",
      "4. Move to the next step and repeat the process until you reach a conclusion.\n",
      "5. If there is uncertainty or an error in logic, backtrack to the point of uncertainty and start a new train of thought.\n",
      "6. Each expert will assign a likelihood of their current assertion being correct.\n",
      "7. Continue until all experts agree on the single most likely classification.\n",
      "\n",
      "Return the following:\n",
      "1. The most probable class.\n",
      "2. A confidence level between 0 and 1 for your classification.\n",
      "3. An explanation for your classification.\n",
      "\n",
      "2025/01/10 18:03:17 INFO dspy.teleprompt.mipro_optimizer_v2: 13: You are an expert in identifying and classifying implicit bias or derogatory language in text. Your task is to analyze the following post and determine if it falls into the \"inferiority\" class, which implies that one group or individual is inferior to another. This class often includes dehumanization, toxification, and language that assaults human dignity or declares the superiority of the in-group.\n",
      "\n",
      "Follow these steps to complete your task:\n",
      "\n",
      "1. **Read the Post**: Carefully read the provided post to understand its content and context.\n",
      "2. **Identify Key Phrases**: Look for specific keywords, phrases, and language patterns that are commonly associated with sentiments of inferiority.\n",
      "3. **Classify the Post**: Based on the identified phrases, classify the post as \"inferiority\" if it contains language that implies or suggests the inferiority of a particular group.\n",
      "4. **Assign a Confidence Score**: Provide a confidence score between 0 and 1 that represents your certainty that the post belongs to the \"inferiority\" class.\n",
      "5. **Explain the Classification**: Provide a detailed explanation for why the post was classified as \"inferiority.\" Highlight the specific language or phrases that contribute to this classification and describe how they imply or suggest inferiority.\n",
      "\n",
      "Imagine three different experts are analyzing this post. They will brainstorm the answer step by step, reasoning carefully and taking all facts into consideration. Each expert will write down one step of their thinking, share it with the group, and critique their own response and the responses of others. They will check their answer based on the nature of the language and intent. The experts will continue this process until they reach a conclusion, taking into account the thoughts of the other experts. If at any point they realize there is uncertainty in their logic, they will backtrack to where that uncertainty occurred. If any expert realizes they are wrong at any point, they will acknowledge this and start another train of thought. Each expert will assign a likelihood of their current assertion being correct.\n",
      "\n",
      "Continue until the experts agree on the single most likely classification.\n",
      "\n",
      "Return in output:\n",
      "\n",
      "1. The most probable class\n",
      "2. A confidence level between 0 and 1 for your classification\n",
      "3. An explanation for your classification\n",
      "\n",
      "Please analyze the following post:\n",
      "\n",
      "[Insert Post Here]\n",
      "\n",
      "2025/01/10 18:03:17 INFO dspy.teleprompt.mipro_optimizer_v2: 14: You are an expert in analyzing implicit hate speech. Your task is to classify the following social media post into one of the predefined implicit classes based on its content. Use the provided taxonomy to determine the most likely class, assign a confidence level, and explain your reasoning.\n",
      "\n",
      "Class taxonomy of implicit hate speech:\n",
      "1. White Grievance\n",
      "2. Incitement to Violence\n",
      "3. Inferiority Language\n",
      "4. Irony\n",
      "5. Stereotypes and Misinformation\n",
      "6. Threatening and Intimidation\n",
      "7. Other\n",
      "\n",
      "Follow this procedure:\n",
      "1. Carefully read the post and consider the language and intent.\n",
      "2. Imagine three different experts analyzing the post step by step.\n",
      "3. Each expert will write down one step of their thinking and share it with the group.\n",
      "4. Critique your response and the responses of others.\n",
      "5. Check your answer based on the nature of the language and intent.\n",
      "6. Continue to the next step and repeat the process until you reach a conclusion.\n",
      "7. If there is uncertainty, backtrack to where the uncertainty occurred.\n",
      "8. If any expert realizes they are wrong, acknowledge it and start a new train of thought.\n",
      "9. Each expert will assign a likelihood of their current assertion being correct.\n",
      "10. Continue until the experts agree on the single most likely classification.\n",
      "\n",
      "Return in your output:\n",
      "1. The most probable class\n",
      "2. A confidence level between 0 and 1 for your classification\n",
      "3. An explanation for your classification\n",
      "\n",
      "2025/01/10 18:03:17 INFO dspy.teleprompt.mipro_optimizer_v2: 15: You are a sophisticated language model trained to identify and classify implicit hate speech in text. Your task is to analyze a given post and determine if it contains language that implies the inferiority of certain groups or individuals. Follow these steps to classify the text and provide a detailed explanation for your classification:\n",
      "\n",
      "1. **Input**: Carefully read the post or text that needs to be analyzed.\n",
      "2. **Analysis**: Evaluate the text for language that implies inferiority. Look for dehumanizing metaphors, sweeping generalizations, and derogatory language that compares the target with disease, insects, animals, or other negative attributes.\n",
      "3. **Classification**: Classify the text as \"inferiority\" if it contains language that implies one group or individual is inferior to another. Consider the context and intent behind the language used.\n",
      "4. **Output**: Provide the implicit class (\"inferiority\"), a confidence score between 0 and 1, and a detailed explanation for your classification.\n",
      "\n",
      "**Class Taxonomy of Implicit Hate Speech**:\n",
      "1. **White Grievance**: Frustration over a minority group's perceived privilege, casting majority groups as victims.\n",
      "2. **Incitement to Violence**: Language that flaunts ingroup unity, power, or elevates known hate groups and ideologies.\n",
      "3. **Inferiority Language**: Implies one group is inferior to another, including dehumanization and toxification.\n",
      "4. **Irony**: Use of sarcasm, humor, or satire to attack or demean a protected class.\n",
      "5. **Stereotypes and Misinformation**: Associates a protected class with negative attributes or misinformation.\n",
      "6. **Threatening and Intimidation**: Conveys a commitment to a target's pain, injury, or violation of rights.\n",
      "7. **Other**: None of the above.\n",
      "\n",
      "**Procedure**:\n",
      "1. **Brainstorming**: Imagine three different experts are analyzing the text. Each expert will write down one step of their thinking and share it with the group.\n",
      "2. **Critique**: Each expert will critique their own response and the responses of others, checking the nature of the language and intent.\n",
      "3. **Iteration**: Continue this process step by step until all experts agree on the single most likely classification.\n",
      "4. **Uncertainty Handling**: If any expert realizes uncertainty in their logic, they will backtrack to where the uncertainty occurred. If any expert realizes they are wrong, they will acknowledge this and start a new train of thought.\n",
      "5. **Confidence Assessment**: Each expert will assign a likelihood of their current assertion being correct.\n",
      "\n",
      "**Output Format**:\n",
      "1. The most probable class.\n",
      "2. A confidence level between 0 and 1 for your classification.\n",
      "3. An explanation for your classification.\n",
      "\n",
      "**Example**:\n",
      "Post: \"No sanctuary for Islamists or illegals or MS13 thugs. Time for us to just say no to these rats who infest our body politic and do us no good.\"\n",
      "- **Implicit Class**: Inferiority\n",
      "- **Confidence**: 0.9\n",
      "- **Explanation**: The post uses dehumanizing language such as \"rats\" and \"infest\" to describe specific groups, which is a clear indicator of inferiority language. While there are elements of threatening and incitement, the primary focus is on the dehumanizing and toxifying language, making inferiority the most appropriate classification.\n",
      "\n",
      "Now, apply this detailed procedure to analyze and classify the given post.\n",
      "\n",
      "2025/01/10 18:03:17 INFO dspy.teleprompt.mipro_optimizer_v2: 16: You are an expert in analyzing implicit hate speech. Given a social media post, your task is to classify it into one of the following categories: White Grievance, Incitement to Violence, Inferiority Language, Irony, Stereotypes and Misinformation, Threatening and Intimidation, or Other. Follow these steps to determine the most probable class:\n",
      "\n",
      "1. **Read the Post**: Carefully read the social media post to understand its content and context.\n",
      "2. **Identify Key Phrases**: Highlight any key phrases or language that might indicate implicit hate speech.\n",
      "3. **Classify the Post**: Based on the taxonomy provided, determine the most likely class for the post.\n",
      "4. **Assign Confidence**: Provide a confidence level between 0 and 1 for your classification.\n",
      "5. **Explain Your Reasoning**: Write a detailed explanation for your classification, referring to specific language and context from the post.\n",
      "\n",
      "**Taxonomy of Implicit Hate Speech**:\n",
      "1. **White Grievance**: Frustration over a minority group's perceived privilege, casting majority groups as victims.\n",
      "2. **Incitement to Violence**: Flaunting ingroup unity and power or elevating known hate groups.\n",
      "3. **Inferiority Language**: Implies one group is inferior, including dehumanization and toxification.\n",
      "4. **Irony**: Use of sarcasm, humor, or satire to demean a protected class.\n",
      "5. **Stereotypes and Misinformation**: Associates a protected class with negative attributes or misinformation.\n",
      "6. **Threatening and Intimidation**: Conveys commitment to a target's pain, injury, or violation of rights.\n",
      "7. **Other**: None of the above.\n",
      "\n",
      "**Procedure**:\n",
      "- Imagine three different experts are analyzing the post.\n",
      "- Each expert will brainstorm step-by-step, sharing and critiquing each step.\n",
      "- They will check their answers based on the language and intent.\n",
      "- Continue until all experts agree on the single most likely classification.\n",
      "\n",
      "**Output**:\n",
      "1. The most probable class.\n",
      "2. A confidence level between 0 and 1 for your classification.\n",
      "3. An explanation for your classification.\n",
      "\n",
      "2025/01/10 18:03:17 INFO dspy.teleprompt.mipro_optimizer_v2: 17: You are an expert in detecting and classifying implicit hate speech. Given a text, your task is to determine the most likely class of implicit hate speech it belongs to, provide a confidence score for your classification, and explain your reasoning.\n",
      "\n",
      "The text has been categorized as \"implicit hate speech,\" which is a more complex and subtle attack on a person or a group of people based on their protected characteristics without relying on explicit keywords.\n",
      "\n",
      "Follow these steps to classify the text:\n",
      "\n",
      "1. **Review the Taxonomy**: Evaluate the text against the following taxonomy to determine the most likely class:\n",
      "   - White Grievance\n",
      "   - Incitement to Violence\n",
      "   - Inferiority Language\n",
      "   - Irony\n",
      "   - Stereotypes and Misinformation\n",
      "   - Threatening and Intimidation\n",
      "   - Other\n",
      "\n",
      "2. **Brainstorm in Steps**: Imagine three different experts are analyzing the text. Each expert will:\n",
      "   - Write down one step of their thinking.\n",
      "   - Share it with the group.\n",
      "   - Critique their own response and the responses of others.\n",
      "   - Check their answer based on the nature of the language and intent.\n",
      "   - Proceed to the next step, repeating the process until a conclusion is reached.\n",
      "   - Backtrack if uncertainty arises and acknowledge errors if detected.\n",
      "\n",
      "3. **Assign Likelihood**: Each expert will assign a likelihood of their current assertion being correct.\n",
      "\n",
      "4. **Agree on Classification**: Continue until the experts agree on the single most likely classification.\n",
      "\n",
      "Return the following in your output:\n",
      "1. The most probable class.\n",
      "2. A confidence level between 0 and 1 for your classification.\n",
      "3. An explanation for your classification.\n",
      "\n",
      "2025/01/10 18:03:17 INFO dspy.teleprompt.mipro_optimizer_v2: 18: You are an expert in analyzing implicit hate speech. Your task is to evaluate a given text against a specific taxonomy to determine the most likely class of implicit hate speech it belongs to. The text has already been categorized as \"implicit hate speech,\" which means it subtly attacks a person or group based on their protected characteristics without using explicit keywords.\n",
      "\n",
      "Follow these steps to determine the most probable class, confidence level, and explanation for your classification:\n",
      "\n",
      "1. **Read the Text Carefully**: Understand the context, language, and intent behind the text.\n",
      "2. **Identify Key Phrases and Language**: Highlight specific phrases, metaphors, or generalizations that contribute to the implicit hate speech.\n",
      "3. **Classify Using the Taxonomy**:\n",
      "   - **White Grievance**: Look for frustration over perceived privilege of minority groups and casting majority groups as victims.\n",
      "   - **Incitement to Violence**: Identify language that flaunts ingroup unity, power, or elevates known hate groups and ideologies.\n",
      "   - **Inferiority Language**: Check for language that implies one group is inferior to another, including dehumanization and toxification.\n",
      "   - **Irony**: Detect the use of sarcasm, humor, or satire to attack or demean a protected class.\n",
      "   - **Stereotypes and Misinformation**: Find associations of a protected class with negative attributes or misinformation.\n",
      "   - **Threatening and Intimidation**: Look for subtle forms of intimidation or threats related to implicit violation of rights.\n",
      "   - **Other**: If none of the above classes apply.\n",
      "4. **Collaborative Reasoning**:\n",
      "   - Imagine three different experts analyzing the text.\n",
      "   - Each expert will brainstorm one step of their thinking and share it with the group.\n",
      "   - Critique each response, considering the nature of the language and intent.\n",
      "   - Continue this process step by step until a conclusion is reached.\n",
      "   - If there is uncertainty, backtrack to the point of uncertainty and start a new train of thought.\n",
      "   - Each expert will assign a likelihood of their current assertion being correct.\n",
      "5. **Final Decision**: Agree on the single most likely classification based on the collaborative reasoning process.\n",
      "\n",
      "Output the following:\n",
      "1. The most probable class.\n",
      "2. A confidence level between 0 and 1 for your classification.\n",
      "3. An explanation for your classification.\n",
      "\n",
      "Example:\n",
      "- **Post**: \"and as we know, islam is not a religion of peace and tolerance and there is no place for islam in the civilized world.\"\n",
      "- **Implicit Class**: inferiority\n",
      "- **Confidence**: 0.95\n",
      "- **Explanation**: The post generalizes about Islam in a negative way, suggesting it is incompatible with civilized society. This dehumanizes and toxifies Muslims, fitting the \"inferiority\" class. The language used goes beyond mere stereotyping and actively implies that Muslims are not part of civilized society.\n",
      "\n",
      "Now, apply this process to the given text.\n",
      "\n",
      "2025/01/10 18:03:17 INFO dspy.teleprompt.mipro_optimizer_v2: 19: You are a seasoned hate speech analyst working for a social media platform, tasked with identifying and classifying implicit hate speech in user posts. Your goal is to evaluate the following text, which has been flagged as potentially containing implicit hate speech, against a predefined taxonomy to determine the most likely class.\n",
      "\n",
      "Here is the taxonomy for implicit hate speech:\n",
      "\n",
      "1. **White Grievance**: Expresses frustration over perceived minority privileges and portrays majority groups as victims.\n",
      "2. **Incitement to Violence**: Promotes in-group unity, power, or elevates known hate groups and ideologies.\n",
      "3. **Inferiority Language**: Implies one group is inferior to another, including dehumanization and toxification.\n",
      "4. **Irony**: Uses sarcasm, humor, or satire to demean a protected class.\n",
      "5. **Stereotypes and Misinformation**: Associates a protected class with negative attributes or spreads misinformation.\n",
      "6. **Threatening and Intimidation**: Conveys commitment to a target's pain, injury, or violation of rights.\n",
      "7. **Other**: None of the above.\n",
      "\n",
      "Follow this collaborative procedure:\n",
      "\n",
      "1. Imagine three different experts are analyzing this text.\n",
      "2. Each expert will brainstorm their answer step by step, reasoning carefully and considering all facts.\n",
      "3. All experts will write down one step of their thinking and share it with the group.\n",
      "4. Each expert will critique their own response and the responses of others.\n",
      "5. Experts will check their answers based on the nature of the language and intent.\n",
      "6. The process will continue until the experts agree on the single most likely classification.\n",
      "7. If any expert realizes uncertainty in their logic, they will backtrack to where the uncertainty occurred.\n",
      "8. If any expert realizes they are wrong, they will acknowledge this and start a new train of thought.\n",
      "9. Each expert will assign a likelihood of their current assertion being correct.\n",
      "\n",
      "Your final output should include:\n",
      "\n",
      "1. The most probable class.\n",
      "2. A confidence level between 0 and 1 for your classification.\n",
      "3. An explanation for your classification.\n",
      "\n",
      "Begin your analysis with the provided text.\n",
      "\n",
      "2025/01/10 18:03:17 INFO dspy.teleprompt.mipro_optimizer_v2: 20: Imagine you are a team of specialized detectives tasked with uncovering subtle, implicit hate speech in text. Your mission is to analyze the following post and determine if it conveys a sense of inferiority based on race. Here’s how you’ll approach this task:\n",
      "\n",
      "1. **Read the Post Carefully**: Pay close attention to the language used, the context, and any subtle cues that might hint at derogatory or dehumanizing sentiments.\n",
      "\n",
      "2. **Identify Key Phrases**: Highlight specific phrases or words that could imply inferiority. Look for metaphors, generalizations, or any language that compares individuals or groups to negative attributes.\n",
      "\n",
      "3. **Classify the Implicit Hate Speech**: Use the following taxonomy to determine the most likely class of implicit hate speech:\n",
      "   - **White Grievance**: Frustration over perceived minority privilege.\n",
      "   - **Incitement to Violence**: Language that promotes violence or elevates hate groups.\n",
      "   - **Inferiority Language**: Implies one group is inferior, including dehumanization and toxification.\n",
      "   - **Irony**: Use of sarcasm or humor to demean a protected class.\n",
      "   - **Stereotypes and Misinformation**: Negative attributes associated with a protected class.\n",
      "   - **Threatening and Intimidation**: Subtle forms of intimidation or threats.\n",
      "   - **Other**: None of the above.\n",
      "\n",
      "4. **Brainstorm in Steps**: Imagine three experts analyzing the post. Each expert will:\n",
      "   - Write down one step of their reasoning.\n",
      "   - Share it with the group.\n",
      "   - Critique their own and others' responses.\n",
      "   - Check the nature of the language and intent.\n",
      "   - Move to the next step, considering others' thoughts.\n",
      "   - Backtrack if uncertainty arises.\n",
      "   - Acknowledge and restart if wrong.\n",
      "   - Assign a likelihood to their assertion.\n",
      "\n",
      "5. **Reach a Conclusion**: Continue until all experts agree on the single most likely classification.\n",
      "\n",
      "6. **Provide the Output**:\n",
      "   - The most probable class.\n",
      "   - A confidence level between 0 and 1 for your classification.\n",
      "   - An explanation for your classification, highlighting specific phrases and providing detailed reasoning.\n",
      "\n",
      "Let's get started with the post:\n",
      "\n",
      "**Post**: \"they should go back to their own country if they can't speak the language properly\"\n",
      "\n",
      "Begin your analysis and classification process now.\n",
      "\n",
      "2025/01/10 18:03:17 INFO dspy.teleprompt.mipro_optimizer_v2: 21: You are part of a panel of experts tasked with evaluating a social media post that has been flagged as \"implicit hate speech.\" This type of hate speech is more subtle and complex, attacking a person or group based on their protected characteristics without using explicit keywords. Your goal is to determine the most likely class of implicit hate speech the post falls into, based on the provided taxonomy.\n",
      "\n",
      "Here is the taxonomy of implicit hate speech classes:\n",
      "\n",
      "1. **White Grievance**: Expresses frustration over perceived privileges of minority groups and portrays majority groups as victims of racism.\n",
      "2. **Incitement to Violence**: Promotes in-group unity and power or elevates known hate groups and ideologies.\n",
      "3. **Inferiority Language**: Implies that one group or individual is inferior to another, including dehumanization and toxification.\n",
      "4. **Irony**: Uses sarcasm, humor, or satire to attack or demean a protected class or individual.\n",
      "5. **Stereotypes and Misinformation**: Associates a protected class with negative attributes or spreads misinformation.\n",
      "6. **Threatening and Intimidation**: Conveys a commitment to causing pain, injury, or violation of rights.\n",
      "7. **Other**: Does not fit into any of the above categories.\n",
      "\n",
      "Follow this collaborative procedure:\n",
      "\n",
      "1. **Brainstorm Individually**: Imagine three different experts are answering this question. Each expert will brainstorm the answer step by step, reasoning carefully and considering all facts.\n",
      "2. **Share and Critique**: Each expert will write down one step of their thinking and share it with the group. They will critique their own response and the responses of others.\n",
      "3. **Check Language and Intent**: Ensure the classification is based on the nature of the language and the intent behind the post.\n",
      "4. **Iterate**: Move to the next step and repeat the process until a conclusion is reached. If uncertainty arises, backtrack to the point of uncertainty.\n",
      "5. **Acknowledge Errors**: If any expert realizes they are wrong, they will acknowledge it and start a new train of thought.\n",
      "6. **Assign Likelihood**: Each expert will assign a likelihood to their current assertion being correct.\n",
      "7. **Agree on Classification**: Continue until the experts agree on the single most likely classification.\n",
      "\n",
      "Provide the following in your output:\n",
      "\n",
      "1. The most probable class.\n",
      "2. A confidence level between 0 and 1 for your classification.\n",
      "3. An explanation for your classification.\n",
      "\n",
      "Begin your evaluation with the provided post and follow the outlined procedure to determine the most likely class of implicit hate speech.\n",
      "\n",
      "2025/01/10 18:03:17 INFO dspy.teleprompt.mipro_optimizer_v2: 22: You are part of a team of experts tasked with classifying a given text as a specific type of implicit hate speech. The text has already been identified as implicit hate speech, and your job is to determine the most likely class from the provided taxonomy.\n",
      "\n",
      "Follow these steps:\n",
      "\n",
      "1. **Read the Text**: Carefully read the text to understand its content and context.\n",
      "2. **Identify Key Phrases**: Highlight any phrases or terms that could indicate implicit hate speech.\n",
      "3. **Compare with Taxonomy**: Match the identified phrases with the classes in the provided taxonomy:\n",
      "   - White Grievance\n",
      "   - Incitement to Violence\n",
      "   - Inferiority Language\n",
      "   - Irony\n",
      "   - Stereotypes and Misinformation\n",
      "   - Threatening and Intimidation\n",
      "   - Other\n",
      "4. **Brainstorm**: Imagine three different experts are analyzing the text. Each expert will provide one step of their reasoning, share it with the group, and critique each other's responses.\n",
      "5. **Evaluate Intent and Language**: Check the nature of the language and the intent behind the text.\n",
      "6. **Iterate**: Continue this process step by step until all experts agree on the single most likely classification. If there's uncertainty, backtrack and re-evaluate.\n",
      "7. **Assign Confidence**: Each expert will assign a likelihood (between 0 and 1) of their current assertion being correct.\n",
      "\n",
      "Finally, provide:\n",
      "1. The most probable class\n",
      "2. A confidence level between 0 and 1 for your classification\n",
      "3. An explanation for your classification\n",
      "\n",
      "Begin your analysis with the text provided.\n",
      "\n",
      "2025/01/10 18:03:17 INFO dspy.teleprompt.mipro_optimizer_v2: 23: You are an expert in identifying implicit hate speech. Given a text, your task is to classify it into one of the following categories: White Grievance, Incitement to Violence, Inferiority Language, Irony, Stereotypes and Misinformation, Threatening and Intimidation, or Other. Follow these steps to determine the most likely class:\n",
      "\n",
      "1. Carefully read the text and consider the language used, the intent behind the words, and any subtle implications.\n",
      "2. Compare the text against the provided taxonomy of implicit hate speech classes.\n",
      "3. Imagine three different experts are analyzing the text. Each expert will:\n",
      "   - Brainstorm one step of their reasoning and share it with the group.\n",
      "   - Critique their own response and the responses of others.\n",
      "   - Check their answer based on the nature of the language and intent.\n",
      "   - Proceed to the next step and continue this process until a conclusion is reached.\n",
      "   - If uncertainty arises, backtrack to where the uncertainty occurred.\n",
      "   - If an expert realizes they are wrong, acknowledge it and start a new train of thought.\n",
      "   - Assign a likelihood of their current assertion being correct.\n",
      "4. Continue this process until all experts agree on the single most likely classification.\n",
      "\n",
      "Return the following in your output:\n",
      "1. The most probable class.\n",
      "2. A confidence level between 0 and 1 for your classification.\n",
      "3. An explanation for your classification.\n",
      "\n",
      "2025/01/10 18:03:17 INFO dspy.teleprompt.mipro_optimizer_v2: 24: You are part of a diverse team of experts tasked with analyzing a piece of text that has been flagged as \"implicit hate speech.\" This type of hate speech is more nuanced and indirect, often not relying on explicit keywords but still conveying derogatory or harmful messages. Your goal is to determine the most likely class of implicit hate speech the text falls into, based on a provided taxonomy.\n",
      "\n",
      "Here is the taxonomy of implicit hate speech classes:\n",
      "\n",
      "1. **White Grievance**: Expresses frustration over perceived privileges of minority groups and portrays majority groups as victims.\n",
      "2. **Incitement to Violence**: Promotes ingroup unity, power, or elevates known hate groups and ideologies.\n",
      "3. **Inferiority Language**: Implies that one group is inferior to another, including dehumanization and toxification.\n",
      "4. **Irony**: Uses sarcasm, humor, or satire to demean a protected class or individual.\n",
      "5. **Stereotypes and Misinformation**: Associates a protected class with negative attributes or spreads misinformation.\n",
      "6. **Threatening and Intimidation**: Conveys a commitment to causing pain, injury, or violation of rights.\n",
      "7. **Other**: Does not fit into any of the above categories.\n",
      "\n",
      "Follow this collaborative procedure to reach a consensus:\n",
      "\n",
      "1. **Brainstorming**: Imagine three different experts are analyzing the text. Each expert will write down one step of their reasoning and share it with the group.\n",
      "2. **Critique**: Each expert will critique their own response and the responses of others, checking the nature of the language and intent.\n",
      "3. **Iteration**: Continue this process step by step until all experts agree on the single most likely classification.\n",
      "4. **Backtracking**: If any expert realizes uncertainty in their logic, backtrack to where the uncertainty occurred.\n",
      "5. **Acknowledgment**: If any expert realizes they are wrong, acknowledge it and start a new train of thought.\n",
      "6. **Confidence Assessment**: Each expert will assign a likelihood of their current assertion being correct.\n",
      "\n",
      "Your final output should include:\n",
      "\n",
      "1. The most probable class.\n",
      "2. A confidence level between 0 and 1 for your classification.\n",
      "3. An explanation for your classification, detailing the specific language and themes that contribute to the classification.\n",
      "\n",
      "Let's begin the analysis with the provided text.\n",
      "\n",
      "2025/01/10 18:03:17 INFO dspy.teleprompt.mipro_optimizer_v2: 25: You are a team of three experts in linguistics, psychology, and sociology, tasked with classifying social media posts based on their implicit hate speech or extremist content. Follow this procedure to determine the most likely class for the given post:\n",
      "\n",
      "1. **Individual Analysis**: Each expert will independently analyze the post, considering the language used, the intent behind it, and the context it presents. Write down your initial thoughts and the most probable class based on your expertise.\n",
      "\n",
      "2. **Group Brainstorming**: Share your initial thoughts with the group. Each expert will present their reasoning and the class they identified. Critique each other's responses, considering all facts and perspectives.\n",
      "\n",
      "3. **Consensus Building**: Discuss the nature of the language and the intent behind the post. Check your analyses against the provided taxonomy of implicit hate speech classes. If there is uncertainty in your logic, backtrack to where the uncertainty occurred and re-evaluate.\n",
      "\n",
      "4. **Iterative Refinement**: Continue this process, step by step, until all experts agree on the single most likely classification. Each expert will assign a likelihood (confidence level between 0 and 1) of their current assertion being correct.\n",
      "\n",
      "5. **Final Classification**: Once consensus is reached, document the most probable class, the agreed confidence level, and a detailed explanation for the classification.\n",
      "\n",
      "**Class Taxonomy of Implicit Hate Speech**:\n",
      "1. **White Grievance**: Frustration over a minority group's perceived privilege, casting majority groups as victims.\n",
      "2. **Incitement to Violence**: Flaunting ingroup unity and power or elevating known hate groups.\n",
      "3. **Inferiority Language**: Implies one group is inferior to another, including dehumanization and toxification.\n",
      "4. **Irony**: Use of sarcasm, humor, or satire to attack or demean a protected class.\n",
      "5. **Stereotypes and Misinformation**: Associates a protected class with negative attributes or misinformation.\n",
      "6. **Threatening and Intimidation**: Conveys commitment to a target's pain, injury, or violation of rights.\n",
      "7. **Other**: None of the above.\n",
      "\n",
      "**Output Format**:\n",
      "1. The most probable class\n",
      "2. A confidence level between 0 and 1 for your classification\n",
      "3. An explanation for your classification\n",
      "\n",
      "Begin your analysis with the provided post and follow the procedure to reach a consensus on the most likely class.\n",
      "\n",
      "2025/01/10 18:03:17 INFO dspy.teleprompt.mipro_optimizer_v2: 26: You are a seasoned hate speech analyst working for a social media platform. Your task is to evaluate the following text, which has been flagged as potential \"implicit hate speech.\" This form of hate speech is subtler and more complex, attacking individuals or groups based on their protected characteristics without using explicit keywords.\n",
      "\n",
      "Your goal is to determine the most likely class of implicit hate speech from the provided taxonomy. Follow this procedure:\n",
      "\n",
      "1. **Class Taxonomy of Implicit Hate Speech:**\n",
      "   - **White Grievance:** Frustration over perceived minority privilege, casting majority groups as victims.\n",
      "   - **Incitement to Violence:** Flaunting ingroup unity, power, or elevating known hate groups.\n",
      "   - **Inferiority Language:** Implies one group is inferior, including dehumanization and toxification.\n",
      "   - **Irony:** Use of sarcasm, humor, or satire to demean a protected class.\n",
      "   - **Stereotypes and Misinformation:** Associating a protected class with negative attributes or misinformation.\n",
      "   - **Threatening and Intimidation:** Commitment to a target's pain, injury, or violation of rights.\n",
      "   - **Other:** None of the above.\n",
      "\n",
      "2. **Procedure:**\n",
      "   - Imagine three different experts are analyzing this text.\n",
      "   - Each expert will brainstorm step-by-step, reasoning carefully and considering all facts.\n",
      "   - After each step, experts will share their thoughts and critique each other's responses.\n",
      "   - They will check their answers based on the nature of the language and intent.\n",
      "   - Experts will continue this process until they reach a conclusion, taking into account the thoughts of others.\n",
      "   - If uncertainty arises, experts will backtrack to the point of uncertainty.\n",
      "   - If an expert realizes they are wrong, they will acknowledge it and start a new train of thought.\n",
      "   - Each expert will assign a likelihood to their current assertion.\n",
      "   - Continue until the experts agree on the single most likely classification.\n",
      "\n",
      "3. **Output:**\n",
      "   - The most probable class.\n",
      "   - A confidence level between 0 and 1 for the classification.\n",
      "   - An explanation for the classification.\n",
      "\n",
      "Begin your analysis with the provided text and follow the procedure to determine the most likely class of implicit hate speech.\n",
      "\n",
      "2025/01/10 18:03:17 INFO dspy.teleprompt.mipro_optimizer_v2: 27: You are a specialized language model trained to identify and classify implicit hate speech, particularly focusing on the theme of \"inferiority.\" Your task is to analyze a given text post and determine if it falls under the \"inferiority\" class of implicit hate speech. Follow these steps to accomplish this:\n",
      "\n",
      "1. **Read the Post**: Carefully read the text post provided.\n",
      "2. **Identify Language Cues**: Look for language that implies one group or individual is inferior to another. This can include dehumanization, toxification, and any language that compares the target to negative attributes.\n",
      "3. **Classify the Post**: Based on the identified language cues, classify the post as \"inferiority\" if it fits the criteria.\n",
      "4. **Assign a Confidence Score**: Provide a confidence score between 0 and 1 that indicates the likelihood that the post belongs to the \"inferiority\" class.\n",
      "5. **Explain the Classification**: Provide a detailed explanation of why the post was classified as \"inferiority.\" Highlight the specific language and implications in the text that indicate themes of inferiority.\n",
      "\n",
      "**Example**:\n",
      "- **Post**: \"well, first they're not human. second, it depends on what you cross. not every mixture's gonna give you white achievement.\"\n",
      "- **Implicit Class**: inferiority\n",
      "- **Confidence**: 0.95\n",
      "- **Explanation**: The post dehumanizes a group by stating \"they're not human\" and implies that certain racial mixtures are inferior by suggesting that not every mixture will result in \"white achievement.\" This language fits the 'inferiority' class as it denies the humanity of a group and assigns inferior traits to them based on their race.\n",
      "\n",
      "**Procedure**:\n",
      "1. Imagine three different experts are analyzing the post.\n",
      "2. Each expert will brainstorm their answer step by step, reasoning carefully and considering all facts.\n",
      "3. All experts will write down one step of their thinking and share it with the group.\n",
      "4. They will critique their own responses and those of others.\n",
      "5. They will check their answers based on the nature of the language and intent.\n",
      "6. The experts will continue this process until they reach a conclusion, taking into account the thoughts of the other experts.\n",
      "7. If any uncertainty arises, they will backtrack to where the uncertainty occurred.\n",
      "8. If any expert realizes they are wrong, they will acknowledge this and start a new train of thought.\n",
      "9. Each expert will assign a likelihood of their current assertion being correct.\n",
      "10. Continue until the experts agree on the single most likely classification.\n",
      "\n",
      "**Output**:\n",
      "1. The most probable class\n",
      "2. A confidence level between 0 and 1 for your classification\n",
      "3. An explanation for your classification\n",
      "\n",
      "Now, apply this procedure to the given text post and provide your classification, confidence score, and explanation.\n",
      "\n",
      "2025/01/10 18:03:17 INFO dspy.teleprompt.mipro_optimizer_v2: 28: You are an expert in analyzing implicit hate speech. Your task is to evaluate a given text that has been categorized as \"implicit hate speech\" and determine the most likely class from the provided taxonomy. Implicit hate speech is a subtle attack on a person or a group of people based on their protected characteristics without relying on explicit keywords.\n",
      "\n",
      "Follow this procedure:\n",
      "\n",
      "1. **Understand the Taxonomy**: Familiarize yourself with the class taxonomy of implicit hate speech, which includes:\n",
      "   - White Grievance\n",
      "   - Incitement to Violence\n",
      "   - Inferiority Language\n",
      "   - Irony\n",
      "   - Stereotypes and Misinformation\n",
      "   - Threatening and Intimidation\n",
      "   - Other\n",
      "\n",
      "2. **Brainstorm in Steps**: Imagine three different experts are analyzing the text. Each expert will brainstorm the answer step by step, reasoning carefully and considering all facts.\n",
      "\n",
      "3. **Share and Critique**: Each expert will write down one step of their thinking and share it with the group. They will critique their own response and the responses of others.\n",
      "\n",
      "4. **Check Intent and Language**: Evaluate the nature of the language and the intent behind the text.\n",
      "\n",
      "5. **Iterate**: Continue to the next step of thinking, incorporating the thoughts of the other experts. If there is any uncertainty, backtrack to where the uncertainty occurred. If an expert realizes they are wrong, they will acknowledge this and start a new train of thought.\n",
      "\n",
      "6. **Assign Likelihood**: Each expert will assign a likelihood of their current assertion being correct.\n",
      "\n",
      "7. **Reach a Conclusion**: Continue this process until the experts agree on the single most likely classification.\n",
      "\n",
      "Return the following in your output:\n",
      "\n",
      "1. The most probable class\n",
      "2. A confidence level between 0 and 1 for your classification\n",
      "3. An explanation for your classification\n",
      "\n",
      "Example:\n",
      "\n",
      "**Input Text**: \"chimps doing what they do best. thisflatisforblacks to force white mum out of home| via\"\n",
      "\n",
      "**Output**:\n",
      "- Implicit Class: Inferiority\n",
      "- Confidence: 0.9\n",
      "- Explanation: The post uses derogatory language (\"chimps\") to refer to a group of people, which is a clear indicator of dehumanization. This falls under \"Inferiority Language\" as it dehumanizes a group of people by comparing them to animals. The mention of forcing a \"white mum out of home\" suggests a threat or intimidation, but the dehumanizing language is the most prominent feature.\n",
      "\n",
      "2025/01/10 18:03:17 INFO dspy.teleprompt.mipro_optimizer_v2: 29: You are a seasoned hate speech analyst working for a social media platform. Your task is to evaluate the following text, which has been flagged as potential \"implicit hate speech.\" This type of hate speech is more subtle and complex, attacking a person or a group based on their protected characteristics without using explicit keywords.\n",
      "\n",
      "Your goal is to determine the most likely class of implicit hate speech the text belongs to, using the provided taxonomy:\n",
      "\n",
      "1. **White Grievance**: Frustration over a minority group's perceived privilege, casting majority groups as the real victims of racism.\n",
      "2. **Incitement to Violence**: Flaunting in-group unity and power or elevating known hate groups and ideologies.\n",
      "3. **Inferiority Language**: Implies one group is inferior to another, including dehumanization and toxification.\n",
      "4. **Irony**: Use of sarcasm, humor, or satire to attack or demean a protected class.\n",
      "5. **Stereotypes and Misinformation**: Associating a protected class with negative attributes or misinformation.\n",
      "6. **Threatening and Intimidation**: Conveying a commitment to a target's pain, injury, damage, loss, or violation of rights.\n",
      "7. **Other**: None of the above.\n",
      "\n",
      "Follow this collaborative procedure:\n",
      "\n",
      "1. Imagine three different experts are analyzing this text.\n",
      "2. Each expert will brainstorm their answer step by step, reasoning carefully and considering all facts.\n",
      "3. After each step, experts will share their thoughts with the group and critique each other's responses.\n",
      "4. They will check their answers based on the nature of the language and intent.\n",
      "5. Experts will continue this process until they reach a consensus on the most likely classification.\n",
      "6. If any expert realizes uncertainty or error in their logic, they will backtrack and start a new train of thought.\n",
      "7. Each expert will assign a likelihood to their current assertion being correct.\n",
      "\n",
      "Your final output should include:\n",
      "\n",
      "1. The most probable class.\n",
      "2. A confidence level between 0 and 1 for your classification.\n",
      "3. An explanation for your classification.\n",
      "\n",
      "Begin your analysis with the provided text.\n",
      "\n",
      "2025/01/10 18:03:17 INFO dspy.teleprompt.mipro_optimizer_v2: 30: Imagine you are part of a diverse panel of experts in linguistics, psychology, and cultural studies. Your task is to analyze a given text to determine if it constitutes \"implicit hate speech\" and, if so, to classify it according to the provided taxonomy. Follow these steps to reach a consensus:\n",
      "\n",
      "1. **Initial Review**: Each expert will independently read the text and form initial impressions about its content and intent.\n",
      "\n",
      "2. **Brainstorming**: Each expert will then brainstorm one step of their reasoning process, focusing on the language used, the implied meanings, and the potential targets of the speech. Write down this step.\n",
      "\n",
      "3. **Sharing and Critiquing**: Share your step with the group. Each expert will critique their own response and the responses of others, considering the nuances of language, cultural context, and potential biases.\n",
      "\n",
      "4. **Iterative Analysis**: Move to the next step of your reasoning process, incorporating the feedback and critiques from the group. Continue this iterative process, writing down each step of your thinking and sharing it with the group.\n",
      "\n",
      "5. **Backtracking**: If at any point you realize there is uncertainty or a flaw in your logic, backtrack to the point where the uncertainty occurred and start a new train of thought.\n",
      "\n",
      "6. **Consensus Building**: Continue this process until all experts agree on the single most likely classification of the text. Each expert will assign a likelihood (between 0 and 1) to their current assertion being correct.\n",
      "\n",
      "7. **Final Classification**: Once consensus is reached, provide the most probable class, the confidence level for your classification, and a detailed explanation for your classification.\n",
      "\n",
      "**Class Taxonomy of Implicit Hate Speech**:\n",
      "1. **White Grievance**: Frustration over perceived minority privilege, casting majority groups as victims.\n",
      "2. **Incitement to Violence**: Flaunting ingroup unity, elevating hate groups, or promoting violence.\n",
      "3. **Inferiority Language**: Implies one group is inferior, including dehumanization and toxification.\n",
      "4. **Irony**: Use of sarcasm, humor, or satire to demean a protected class.\n",
      "5. **Stereotypes and Misinformation**: Negative attributes or misinformation about a protected class.\n",
      "6. **Threatening and Intimidation**: Subtle forms of intimidation or threats to rights and freedoms.\n",
      "7. **Other**: None of the above.\n",
      "\n",
      "**Example**:\n",
      "Post: \"blue lives do matter when the cop is white\"\n",
      "- **Initial Impressions**: Each expert notes the racial undertones and the implication of dehumanization.\n",
      "- **Brainstorming**: Expert 1 might note the explicit racial preference. Expert 2 might highlight the dehumanization of non-white cops. Expert 3 might consider the broader context of racial tensions.\n",
      "- **Sharing and Critiquing**: Each expert shares their step and critiques the others, ensuring all angles are considered.\n",
      "- **Iterative Analysis**: Continue this process, refining the analysis with each step.\n",
      "- **Consensus Building**: Agree on the classification of \"Inferiority Language\" with a high confidence level.\n",
      "- **Final Classification**:\n",
      "  - **Most Probable Class**: Inferiority Language\n",
      "  - **Confidence Level**: 0.95\n",
      "  - **Explanation**: The post devalues non-white cops, fitting the definition of inferiority language.\n",
      "\n",
      "Now, apply this process to the given text to determine its classification.\n",
      "\n",
      "2025/01/10 18:03:17 INFO dspy.teleprompt.mipro_optimizer_v2: 31: You are an expert in identifying implicit hate speech. Given a text post, your task is to classify it into one of the following categories: White Grievance, Incitement to Violence, Inferiority Language, Irony, Stereotypes and Misinformation, Threatening and Intimidation, or Other. Follow these steps to determine the most likely class:\n",
      "\n",
      "1. **Read the Post**: Carefully read the text post to understand its content and context.\n",
      "2. **Identify Key Phrases**: Highlight any phrases or language that might indicate implicit hate speech.\n",
      "3. **Evaluate Against Taxonomy**: Compare the identified phrases with the definitions of each class in the taxonomy provided.\n",
      "4. **Consult with Experts**: Imagine three different experts analyzing the post. Each expert will:\n",
      "   - Share one step of their reasoning.\n",
      "   - Critique their own and others' responses.\n",
      "   - Check the nature of the language and intent.\n",
      "   - Proceed to the next step until a conclusion is reached.\n",
      "   - Assign a likelihood to their assertion.\n",
      "5. **Determine the Class**: Based on the collective reasoning, determine the most probable class for the post.\n",
      "6. **Assign Confidence Level**: Provide a confidence level between 0 and 1 for your classification.\n",
      "7. **Explain the Classification**: Justify your classification with a clear explanation.\n",
      "\n",
      "Return the following in your output:\n",
      "1. The most probable class.\n",
      "2. A confidence level between 0 and 1 for your classification.\n",
      "3. An explanation for your classification.\n",
      "\n",
      "2025/01/10 18:03:17 INFO dspy.teleprompt.mipro_optimizer_v2: 32: You are a seasoned hate speech analyst working for a social media moderation team. Your task is to evaluate the following social media post, which has been flagged as potential \"implicit hate speech.\" This type of hate speech is more subtle and complex, attacking a person or a group based on their protected characteristics without using explicit keywords.\n",
      "\n",
      "Your goal is to determine the most likely class of implicit hate speech the post falls into, based on the provided taxonomy. Here are the classes to consider:\n",
      "\n",
      "1. **White Grievance**: Frustration over perceived minority privilege, casting majority groups as victims.\n",
      "2. **Incitement to Violence**: Flaunting ingroup unity, power, or elevating known hate groups and ideologies.\n",
      "3. **Inferiority Language**: Implies one group is inferior, including dehumanization and toxification.\n",
      "4. **Irony**: Use of sarcasm, humor, or satire to demean a protected class.\n",
      "5. **Stereotypes and Misinformation**: Associating a protected class with negative attributes or misinformation.\n",
      "6. **Threatening and Intimidation**: Subtle forms of intimidation or threats to violate rights.\n",
      "7. **Other**: None of the above.\n",
      "\n",
      "Follow this procedure:\n",
      "\n",
      "1. **Brainstorm**: Imagine three different experts are analyzing the post. Each expert will write down one step of their thinking and share it with the group.\n",
      "2. **Critique**: Each expert will critique their own response and the responses of others.\n",
      "3. **Check**: Verify the analysis based on the nature of the language and intent.\n",
      "4. **Iterate**: Move to the next step and repeat the process until a conclusion is reached. If uncertainty arises, backtrack to where it occurred.\n",
      "5. **Acknowledge**: If an expert realizes they are wrong, they will start a new train of thought.\n",
      "6. **Assign Likelihood**: Each expert will assign a likelihood to their current assertion.\n",
      "7. **Agree**: Continue until all experts agree on the single most likely classification.\n",
      "\n",
      "Provide the following in your output:\n",
      "\n",
      "1. The most probable class.\n",
      "2. A confidence level between 0 and 1 for your classification.\n",
      "3. An explanation for your classification.\n",
      "\n",
      "Begin your analysis with the provided social media post.\n",
      "\n",
      "2025/01/10 18:03:17 INFO dspy.teleprompt.mipro_optimizer_v2: 33: HATE SPEECH DETECTION**\n",
      "\n",
      "You are part of a critical team responsible for monitoring and moderating online content to prevent the spread of hate speech. Your task is to evaluate a given text that has been flagged as potential \"implicit hate speech.\" This type of hate speech is more subtle and complex, often attacking individuals or groups based on their protected characteristics without using explicit keywords.\n",
      "\n",
      "**Scenario:**\n",
      "A controversial post has gone viral on a major social media platform, and it is causing significant unrest among users. The platform's moderation team has turned to you for an urgent analysis to determine the nature of the hate speech and take appropriate action. Failure to accurately classify the post could lead to further escalation and potential harm to targeted groups.\n",
      "\n",
      "**Your Mission:**\n",
      "1. **Classify the Text:** Determine the most likely class of implicit hate speech from the provided taxonomy.\n",
      "2. **Assign Confidence:** Provide a confidence level between 0 and 1 for your classification.\n",
      "3. **Explain Your Reasoning:** Offer a detailed explanation for your classification, highlighting the specific language and contextual clues that contribute to the implicit hate speech.\n",
      "\n",
      "**Class Taxonomy of Implicit Hate Speech:**\n",
      "1. **White Grievance**\n",
      "2. **Incitement to Violence**\n",
      "3. **Inferiority Language**\n",
      "4. **Irony**\n",
      "5. **Stereotypes and Misinformation**\n",
      "6. **Threatening and Intimidation**\n",
      "7. **Other**\n",
      "\n",
      "**Procedure:**\n",
      "Imagine you are part of a team of three experts tasked with this urgent analysis. Follow these steps:\n",
      "1. **Brainstorm:** Each expert will brainstorm one step of their thinking and share it with the group.\n",
      "2. **Critique:** Critique your own response and the responses of others.\n",
      "3. **Check:** Verify your answer based on the nature of the language and intent.\n",
      "4. **Iterate:** Move to the next step, continuing this process until you reach a conclusion.\n",
      "5. **Backtrack:** If uncertainty arises, backtrack to where the uncertainty occurred.\n",
      "6. **Acknowledge Errors:** If any expert realizes they are wrong, acknowledge it and start a new train of thought.\n",
      "7. **Assign Likelihood:** Each expert will assign a likelihood to their current assertion.\n",
      "8. **Agree:** Continue until all experts agree on the single most likely classification.\n",
      "\n",
      "**Output:**\n",
      "1. The most probable class.\n",
      "2. A confidence level between 0 and 1 for your classification.\n",
      "3. An explanation for your classification.\n",
      "\n",
      "Remember, the accuracy of your analysis is crucial for maintaining a safe and inclusive online environment. Act swiftly but thoughtfully to ensure the best outcome.\n",
      "\n",
      "2025/01/10 18:03:17 INFO dspy.teleprompt.mipro_optimizer_v2: 34: You are an expert in detecting and classifying implicit hate speech. Your task is to analyze the following text, which has been categorized as \"implicit hate speech.\" This type of hate speech is more subtle and complex, attacking a person or a group based on their protected characteristics without using explicit keywords.\n",
      "\n",
      "Your goal is to evaluate the text against the provided taxonomy to determine the most likely class of implicit hate speech. Here is the taxonomy:\n",
      "\n",
      "1. **White Grievance**: Includes frustration over a minority group's perceived privilege and casting majority groups as the real victims of racism. This language is linked to extremist behavior and support for violence.\n",
      "2. **Incitement to Violence**: Includes flaunting ingroup unity and power or elevating known hate groups and ideologies.\n",
      "3. **Inferiority Language**: Implies one group or individual is inferior to another, including dehumanization and toxification.\n",
      "4. **Irony**: Refers to the use of sarcasm, humor, and satire to attack or demean a protected class or individual.\n",
      "5. **Stereotypes and Misinformation**: Associates a protected class with negative attributes or spreads misinformation that feeds stereotypes.\n",
      "6. **Threatening and Intimidation**: Conveys a speaker's commitment to a target's pain, injury, damage, loss, or violation of rights.\n",
      "7. **Other**: None of the above was identified.\n",
      "\n",
      "Follow this procedure:\n",
      "\n",
      "1. **Brainstorm**: Imagine three different experts are analyzing the text. Each expert will brainstorm the answer step by step, reasoning carefully and considering all facts.\n",
      "2. **Share and Critique**: Each expert will write down one step of their thinking and share it with the group. They will critique their own response and the responses of others.\n",
      "3. **Check Intent**: Ensure the classification is based on the nature of the language and the intent behind it.\n",
      "4. **Iterate**: Continue to the next step, writing down each step of thinking until a conclusion is reached. If uncertainty arises, backtrack to where it occurred.\n",
      "5. **Acknowledge Errors**: If any expert realizes they are wrong, they will acknowledge it and start a new train of thought.\n",
      "6. **Assign Likelihood**: Each expert will assign a likelihood of their current assertion being correct.\n",
      "7. **Agree on Classification**: Continue until the experts agree on the single most likely classification.\n",
      "\n",
      "Your output should include:\n",
      "\n",
      "1. The most probable class.\n",
      "2. A confidence level between 0 and 1 for your classification.\n",
      "3. An explanation for your classification.\n",
      "\n",
      "Begin your analysis with the provided text.\n",
      "\n",
      "2025/01/10 18:03:17 INFO dspy.teleprompt.mipro_optimizer_v2: 35: Imagine you are the sole moderator of a massive online platform, and a sudden influx of implicit hate speech is being reported by users. Your platform is under scrutiny from international human rights organizations, and any mishandling of these reports could lead to severe consequences, including the platform being shut down. Your task is to evaluate each reported text against a specific taxonomy of implicit hate speech to determine the most likely class.\n",
      "\n",
      "Here is the taxonomy of implicit hate speech classes:\n",
      "\n",
      "1. **White Grievance**: Expresses frustration over a minority group's perceived privilege and casts majority groups as the real victims of racism. This language is linked to extremist behavior and support for violence.\n",
      "2. **Incitement to Violence**: Flaunts ingroup unity and power or elevates known hate groups and ideologies.\n",
      "3. **Inferiority Language**: Implies one group or individual is inferior to another, including dehumanization and toxification.\n",
      "4. **Irony**: Uses sarcasm, humor, and satire to attack or demean a protected class or individual.\n",
      "5. **Stereotypes and Misinformation**: Associates a protected class with negative attributes or spreads misinformation that feeds stereotypes.\n",
      "6. **Threatening and Intimidation**: Conveys a speaker's commitment to a target's pain, injury, damage, loss, or violation of rights.\n",
      "7. **Other**: None of the above was identified.\n",
      "\n",
      "Follow this procedure:\n",
      "\n",
      "1. **Brainstorm**: Imagine three different experts are analyzing the text. Each expert will write down one step of their thinking and share it with the group.\n",
      "2. **Critique**: Each expert will critique their own response and the responses of others.\n",
      "3. **Check**: Verify the classification based on the nature of the language and intent.\n",
      "4. **Iterate**: Move to the next step and repeat the process until a conclusion is reached.\n",
      "5. **Backtrack**: If uncertainty arises, return to the point of uncertainty.\n",
      "6. **Acknowledge**: If an expert realizes they are wrong, they will acknowledge it and start a new train of thought.\n",
      "7. **Assign Likelihood**: Each expert will assign a likelihood to their current assertion.\n",
      "8. **Agree**: Continue until the experts agree on the single most likely classification.\n",
      "\n",
      "Your output should include:\n",
      "\n",
      "1. The most probable class.\n",
      "2. A confidence level between 0 and 1 for your classification.\n",
      "3. An explanation for your classification.\n",
      "\n",
      "Remember, the future of the platform and the safety of its users depend on your accurate and nuanced evaluations.\n",
      "\n",
      "2025/01/10 18:03:17 INFO dspy.teleprompt.mipro_optimizer_v2: 36: You are an expert in identifying and classifying implicit hate speech. Your task is to evaluate a given text to determine if it falls into the \"inferiority\" class of implicit hate speech. This class includes language that dehumanizes, belittles, or implies that a certain group is inferior based on their race, religion, gender, or other protected characteristics.\n",
      "\n",
      "Follow these steps to classify the text:\n",
      "\n",
      "1. **Read the Text**: Carefully read the provided text to understand its content and context.\n",
      "2. **Identify Key Phrases**: Look for phrases or words that dehumanize, belittle, or imply inferiority of any group.\n",
      "3. **Classify the Text**: Determine if the text fits into the \"inferiority\" class based on the identified key phrases and the overall context.\n",
      "4. **Assign a Confidence Score**: Provide a confidence score between 0 and 1 that indicates how likely the text fits into the \"inferiority\" class. A higher score indicates greater confidence.\n",
      "5. **Explain the Classification**: Write an explanation for why the text was classified as \"inferiority\" and the reasoning behind the confidence score.\n",
      "\n",
      "**Example**:\n",
      "\n",
      "**Text**: \"look at that bunch of drug addled 90 lb weaklings.\"\n",
      "\n",
      "**Classification**: Inferiority\n",
      "\n",
      "**Confidence Score**: 0.85\n",
      "\n",
      "**Explanation**: The text describes a group of people as \"drug addled 90 lb weaklings,\" which implies that they are inferior due to their perceived physical and mental states. This language aligns with the \"inferiority\" class, as it dehumanizes and belittles the targeted group. The confidence level is high at 0.85 because the language used clearly fits the definition of inferiority language.\n",
      "\n",
      "Now, apply this process to the following text:\n",
      "\n",
      "**Text**: [Insert Text Here]\n",
      "\n",
      "Return the following output fields:\n",
      "\n",
      "1. The most probable class\n",
      "2. A confidence level between 0 and 1 for your classification\n",
      "3. An explanation for your classification\n",
      "\n",
      "2025/01/10 18:03:17 INFO dspy.teleprompt.mipro_optimizer_v2: 37: You are a seasoned content moderator specializing in detecting and classifying implicit hate speech. Your task is to analyze the following text, which has been categorized as \"implicit hate speech.\" This type of hate speech is more subtle and complex, attacking individuals or groups based on their protected characteristics without using explicit keywords.\n",
      "\n",
      "Your goal is to determine the most likely class of implicit hate speech from the provided taxonomy. Follow the procedure outlined below to reach a consensus with two other experts:\n",
      "\n",
      "1. **Brainstorm**: Imagine three different experts, including yourself, are analyzing the text. Each expert will think through the problem step by step, considering all relevant facts.\n",
      "2. **Share**: Each expert will write down one step of their thinking and share it with the group.\n",
      "3. **Critique**: All experts will critique their own response and the responses of others, checking the nature of the language and intent.\n",
      "4. **Iterate**: Continue this process, with each expert writing down the next step of their thinking until a conclusion is reached.\n",
      "5. **Backtrack**: If any uncertainty arises, backtrack to where the uncertainty occurred. If an expert realizes they are wrong, they will acknowledge this and start a new train of thought.\n",
      "6. **Assign Likelihood**: Each expert will assign a likelihood to their current assertion being correct.\n",
      "7. **Agree**: Continue until all experts agree on the single most likely classification.\n",
      "\n",
      "Return the following in your output:\n",
      "1. The most probable class.\n",
      "2. A confidence level between 0 and 1 for your classification.\n",
      "3. An explanation for your classification.\n",
      "\n",
      "Class taxonomy of implicit hate speech:\n",
      "1. White Grievance\n",
      "2. Incitement to Violence\n",
      "3. Inferiority Language\n",
      "4. Irony\n",
      "5. Stereotypes and Misinformation\n",
      "6. Threatening and Intimidation\n",
      "7. Other\n",
      "\n",
      "Begin your analysis with the provided text and follow the procedure to determine the most likely class of implicit hate speech.\n",
      "\n",
      "2025/01/10 18:03:17 INFO dspy.teleprompt.mipro_optimizer_v2: \n",
      "\n",
      "2025/01/10 18:03:17 INFO dspy.teleprompt.mipro_optimizer_v2: Evaluating the default program...\n",
      "\n"
     ]
    },
    {
     "name": "stdout",
     "output_type": "stream",
     "text": [
      "Average Metric: 127.00 / 250 (50.8%): 100%|██████████████████████████████████████████| 250/250 [03:58<00:00,  1.05it/s]"
     ]
    },
    {
     "name": "stderr",
     "output_type": "stream",
     "text": [
      "2025/01/10 18:07:15 INFO dspy.evaluate.evaluate: Average Metric: 127 / 250 (50.8%)\n",
      "2025/01/10 18:07:15 INFO dspy.teleprompt.mipro_optimizer_v2: Default program score: 50.8\n",
      "\n",
      "2025/01/10 18:07:15 INFO dspy.teleprompt.mipro_optimizer_v2: ==> STEP 3: FINDING OPTIMAL PROMPT PARAMETERS <==\n",
      "2025/01/10 18:07:15 INFO dspy.teleprompt.mipro_optimizer_v2: We will evaluate the program over a series of trials with different combinations of instructions and few-shot examples to find the optimal combination using Bayesian Optimization.\n",
      "\n",
      "C:\\Users\\giovannt\\AppData\\Local\\Programs\\Python\\Python312\\Lib\\site-packages\\optuna\\_experimental.py:31: ExperimentalWarning: Argument ``multivariate`` is an experimental feature. The interface can change in the future.\n",
      "  warnings.warn(\n",
      "2025/01/10 18:07:15 INFO dspy.teleprompt.mipro_optimizer_v2: == Minibatch Trial 1 / 50 ==\n"
     ]
    },
    {
     "name": "stdout",
     "output_type": "stream",
     "text": [
      "\n",
      "Average Metric: 11.00 / 25 (44.0%): 100%|██████████████████████████████████████████████| 25/25 [00:24<00:00,  1.02it/s]"
     ]
    },
    {
     "name": "stderr",
     "output_type": "stream",
     "text": [
      "2025/01/10 18:07:40 INFO dspy.evaluate.evaluate: Average Metric: 11 / 25 (44.0%)\n",
      "2025/01/10 18:07:40 INFO dspy.teleprompt.mipro_optimizer_v2: Score: 44.0 on minibatch of size 25 with parameters ['Predictor 0: Instruction 26', 'Predictor 0: Few-Shot Set 10'].\n",
      "2025/01/10 18:07:40 INFO dspy.teleprompt.mipro_optimizer_v2: Minibatch scores so far: [44.0]\n",
      "2025/01/10 18:07:40 INFO dspy.teleprompt.mipro_optimizer_v2: Full eval scores so far: [50.8]\n",
      "2025/01/10 18:07:40 INFO dspy.teleprompt.mipro_optimizer_v2: Best full score so far: 50.8\n",
      "2025/01/10 18:07:40 INFO dspy.teleprompt.mipro_optimizer_v2: ============================\n",
      "\n",
      "\n",
      "2025/01/10 18:07:40 INFO dspy.teleprompt.mipro_optimizer_v2: == Minibatch Trial 2 / 50 ==\n"
     ]
    },
    {
     "name": "stdout",
     "output_type": "stream",
     "text": [
      "\n",
      "Average Metric: 15.00 / 25 (60.0%): 100%|██████████████████████████████████████████████| 25/25 [00:23<00:00,  1.07it/s]"
     ]
    },
    {
     "name": "stderr",
     "output_type": "stream",
     "text": [
      "2025/01/10 18:08:03 INFO dspy.evaluate.evaluate: Average Metric: 15 / 25 (60.0%)\n",
      "2025/01/10 18:08:03 INFO dspy.teleprompt.mipro_optimizer_v2: Score: 60.0 on minibatch of size 25 with parameters ['Predictor 0: Instruction 7', 'Predictor 0: Few-Shot Set 15'].\n",
      "2025/01/10 18:08:03 INFO dspy.teleprompt.mipro_optimizer_v2: Minibatch scores so far: [44.0, 60.0]\n",
      "2025/01/10 18:08:03 INFO dspy.teleprompt.mipro_optimizer_v2: Full eval scores so far: [50.8]\n",
      "2025/01/10 18:08:03 INFO dspy.teleprompt.mipro_optimizer_v2: Best full score so far: 50.8\n",
      "2025/01/10 18:08:03 INFO dspy.teleprompt.mipro_optimizer_v2: ============================\n",
      "\n",
      "\n",
      "2025/01/10 18:08:03 INFO dspy.teleprompt.mipro_optimizer_v2: == Minibatch Trial 3 / 50 ==\n"
     ]
    },
    {
     "name": "stdout",
     "output_type": "stream",
     "text": [
      "\n",
      "Average Metric: 8.00 / 25 (32.0%): 100%|███████████████████████████████████████████████| 25/25 [00:25<00:00,  1.01s/it]"
     ]
    },
    {
     "name": "stderr",
     "output_type": "stream",
     "text": [
      "2025/01/10 18:08:29 INFO dspy.evaluate.evaluate: Average Metric: 8 / 25 (32.0%)\n",
      "2025/01/10 18:08:29 INFO dspy.teleprompt.mipro_optimizer_v2: Score: 32.0 on minibatch of size 25 with parameters ['Predictor 0: Instruction 8', 'Predictor 0: Few-Shot Set 20'].\n",
      "2025/01/10 18:08:29 INFO dspy.teleprompt.mipro_optimizer_v2: Minibatch scores so far: [44.0, 60.0, 32.0]\n",
      "2025/01/10 18:08:29 INFO dspy.teleprompt.mipro_optimizer_v2: Full eval scores so far: [50.8]\n",
      "2025/01/10 18:08:29 INFO dspy.teleprompt.mipro_optimizer_v2: Best full score so far: 50.8\n",
      "2025/01/10 18:08:29 INFO dspy.teleprompt.mipro_optimizer_v2: ============================\n",
      "\n",
      "\n",
      "2025/01/10 18:08:29 INFO dspy.teleprompt.mipro_optimizer_v2: == Minibatch Trial 4 / 50 ==\n"
     ]
    },
    {
     "name": "stdout",
     "output_type": "stream",
     "text": [
      "\n",
      "Average Metric: 9.00 / 25 (36.0%): 100%|███████████████████████████████████████████████| 25/25 [00:25<00:00,  1.01s/it]"
     ]
    },
    {
     "name": "stderr",
     "output_type": "stream",
     "text": [
      "2025/01/10 18:08:54 INFO dspy.evaluate.evaluate: Average Metric: 9 / 25 (36.0%)\n",
      "2025/01/10 18:08:54 INFO dspy.teleprompt.mipro_optimizer_v2: Score: 36.0 on minibatch of size 25 with parameters ['Predictor 0: Instruction 7', 'Predictor 0: Few-Shot Set 11'].\n",
      "2025/01/10 18:08:54 INFO dspy.teleprompt.mipro_optimizer_v2: Minibatch scores so far: [44.0, 60.0, 32.0, 36.0]\n",
      "2025/01/10 18:08:54 INFO dspy.teleprompt.mipro_optimizer_v2: Full eval scores so far: [50.8]\n",
      "2025/01/10 18:08:54 INFO dspy.teleprompt.mipro_optimizer_v2: Best full score so far: 50.8\n",
      "2025/01/10 18:08:54 INFO dspy.teleprompt.mipro_optimizer_v2: ============================\n",
      "\n",
      "\n",
      "2025/01/10 18:08:54 INFO dspy.teleprompt.mipro_optimizer_v2: == Minibatch Trial 5 / 50 ==\n"
     ]
    },
    {
     "name": "stdout",
     "output_type": "stream",
     "text": [
      "\n",
      "Average Metric: 14.00 / 25 (56.0%): 100%|██████████████████████████████████████████████| 25/25 [00:25<00:00,  1.02s/it]"
     ]
    },
    {
     "name": "stderr",
     "output_type": "stream",
     "text": [
      "2025/01/10 18:09:20 INFO dspy.evaluate.evaluate: Average Metric: 14 / 25 (56.0%)\n",
      "2025/01/10 18:09:20 INFO dspy.teleprompt.mipro_optimizer_v2: Score: 56.0 on minibatch of size 25 with parameters ['Predictor 0: Instruction 5', 'Predictor 0: Few-Shot Set 20'].\n",
      "2025/01/10 18:09:20 INFO dspy.teleprompt.mipro_optimizer_v2: Minibatch scores so far: [44.0, 60.0, 32.0, 36.0, 56.0]\n",
      "2025/01/10 18:09:20 INFO dspy.teleprompt.mipro_optimizer_v2: Full eval scores so far: [50.8]\n",
      "2025/01/10 18:09:20 INFO dspy.teleprompt.mipro_optimizer_v2: Best full score so far: 50.8\n",
      "2025/01/10 18:09:20 INFO dspy.teleprompt.mipro_optimizer_v2: ============================\n",
      "\n",
      "\n",
      "2025/01/10 18:09:20 INFO dspy.teleprompt.mipro_optimizer_v2: == Minibatch Trial 6 / 50 ==\n"
     ]
    },
    {
     "name": "stdout",
     "output_type": "stream",
     "text": [
      "\n",
      "Average Metric: 12.00 / 25 (48.0%): 100%|██████████████████████████████████████████████| 25/25 [00:23<00:00,  1.08it/s]"
     ]
    },
    {
     "name": "stderr",
     "output_type": "stream",
     "text": [
      "2025/01/10 18:09:43 INFO dspy.evaluate.evaluate: Average Metric: 12 / 25 (48.0%)\n",
      "2025/01/10 18:09:43 INFO dspy.teleprompt.mipro_optimizer_v2: Score: 48.0 on minibatch of size 25 with parameters ['Predictor 0: Instruction 21', 'Predictor 0: Few-Shot Set 0'].\n",
      "2025/01/10 18:09:43 INFO dspy.teleprompt.mipro_optimizer_v2: Minibatch scores so far: [44.0, 60.0, 32.0, 36.0, 56.0, 48.0]\n",
      "2025/01/10 18:09:43 INFO dspy.teleprompt.mipro_optimizer_v2: Full eval scores so far: [50.8]\n",
      "2025/01/10 18:09:43 INFO dspy.teleprompt.mipro_optimizer_v2: Best full score so far: 50.8\n",
      "2025/01/10 18:09:43 INFO dspy.teleprompt.mipro_optimizer_v2: ============================\n",
      "\n",
      "\n",
      "2025/01/10 18:09:43 INFO dspy.teleprompt.mipro_optimizer_v2: == Minibatch Trial 7 / 50 ==\n"
     ]
    },
    {
     "name": "stdout",
     "output_type": "stream",
     "text": [
      "\n",
      "Average Metric: 12.00 / 25 (48.0%): 100%|██████████████████████████████████████████████| 25/25 [00:24<00:00,  1.00it/s]"
     ]
    },
    {
     "name": "stderr",
     "output_type": "stream",
     "text": [
      "2025/01/10 18:10:08 INFO dspy.evaluate.evaluate: Average Metric: 12 / 25 (48.0%)\n",
      "2025/01/10 18:10:08 INFO dspy.teleprompt.mipro_optimizer_v2: Score: 48.0 on minibatch of size 25 with parameters ['Predictor 0: Instruction 34', 'Predictor 0: Few-Shot Set 9'].\n",
      "2025/01/10 18:10:08 INFO dspy.teleprompt.mipro_optimizer_v2: Minibatch scores so far: [44.0, 60.0, 32.0, 36.0, 56.0, 48.0, 48.0]\n",
      "2025/01/10 18:10:08 INFO dspy.teleprompt.mipro_optimizer_v2: Full eval scores so far: [50.8]\n",
      "2025/01/10 18:10:08 INFO dspy.teleprompt.mipro_optimizer_v2: Best full score so far: 50.8\n",
      "2025/01/10 18:10:08 INFO dspy.teleprompt.mipro_optimizer_v2: ============================\n",
      "\n",
      "\n",
      "2025/01/10 18:10:08 INFO dspy.teleprompt.mipro_optimizer_v2: == Minibatch Trial 8 / 50 ==\n"
     ]
    },
    {
     "name": "stdout",
     "output_type": "stream",
     "text": [
      "\n",
      "Average Metric: 12.00 / 25 (48.0%): 100%|██████████████████████████████████████████████| 25/25 [00:26<00:00,  1.04s/it]"
     ]
    },
    {
     "name": "stderr",
     "output_type": "stream",
     "text": [
      "2025/01/10 18:10:34 INFO dspy.evaluate.evaluate: Average Metric: 12 / 25 (48.0%)\n",
      "2025/01/10 18:10:34 INFO dspy.teleprompt.mipro_optimizer_v2: Score: 48.0 on minibatch of size 25 with parameters ['Predictor 0: Instruction 32', 'Predictor 0: Few-Shot Set 3'].\n",
      "2025/01/10 18:10:34 INFO dspy.teleprompt.mipro_optimizer_v2: Minibatch scores so far: [44.0, 60.0, 32.0, 36.0, 56.0, 48.0, 48.0, 48.0]\n",
      "2025/01/10 18:10:34 INFO dspy.teleprompt.mipro_optimizer_v2: Full eval scores so far: [50.8]\n",
      "2025/01/10 18:10:34 INFO dspy.teleprompt.mipro_optimizer_v2: Best full score so far: 50.8\n",
      "2025/01/10 18:10:34 INFO dspy.teleprompt.mipro_optimizer_v2: ============================\n",
      "\n",
      "\n",
      "2025/01/10 18:10:34 INFO dspy.teleprompt.mipro_optimizer_v2: == Minibatch Trial 9 / 50 ==\n"
     ]
    },
    {
     "name": "stdout",
     "output_type": "stream",
     "text": [
      "\n",
      "Average Metric: 7.00 / 25 (28.0%): 100%|███████████████████████████████████████████████| 25/25 [00:26<00:00,  1.06s/it]"
     ]
    },
    {
     "name": "stderr",
     "output_type": "stream",
     "text": [
      "2025/01/10 18:11:01 INFO dspy.evaluate.evaluate: Average Metric: 7 / 25 (28.0%)\n",
      "2025/01/10 18:11:01 INFO dspy.teleprompt.mipro_optimizer_v2: Score: 28.0 on minibatch of size 25 with parameters ['Predictor 0: Instruction 21', 'Predictor 0: Few-Shot Set 26'].\n",
      "2025/01/10 18:11:01 INFO dspy.teleprompt.mipro_optimizer_v2: Minibatch scores so far: [44.0, 60.0, 32.0, 36.0, 56.0, 48.0, 48.0, 48.0, 28.0]\n",
      "2025/01/10 18:11:01 INFO dspy.teleprompt.mipro_optimizer_v2: Full eval scores so far: [50.8]\n",
      "2025/01/10 18:11:01 INFO dspy.teleprompt.mipro_optimizer_v2: Best full score so far: 50.8\n",
      "2025/01/10 18:11:01 INFO dspy.teleprompt.mipro_optimizer_v2: ============================\n",
      "\n",
      "\n",
      "2025/01/10 18:11:01 INFO dspy.teleprompt.mipro_optimizer_v2: == Minibatch Trial 10 / 50 ==\n"
     ]
    },
    {
     "name": "stdout",
     "output_type": "stream",
     "text": [
      "\n",
      "Average Metric: 4.00 / 8 (50.0%):  32%|███████████████▋                                 | 8/25 [00:10<00:17,  1.02s/it]"
     ]
    },
    {
     "name": "stderr",
     "output_type": "stream",
     "text": [
      "2025/01/10 18:11:12 ERROR dspy.utils.parallelizer: Error processing item Example({'post': 'does not make you a racist . makes you a realist .', 'implicit_class': 'white_grievance'}) (input_keys={'post'}): litellm.RateLimitError: RateLimitError: MistralException - Error code: 429 - {'message': 'Requests rate limit exceeded'}. Set `provide_traceback=True` to see the stack trace.\n"
     ]
    },
    {
     "name": "stdout",
     "output_type": "stream",
     "text": [
      "Average Metric: 12.00 / 24 (50.0%): 100%|██████████████████████████████████████████████| 25/25 [00:26<00:00,  1.04s/it]"
     ]
    },
    {
     "name": "stderr",
     "output_type": "stream",
     "text": [
      "2025/01/10 18:11:27 INFO dspy.evaluate.evaluate: Average Metric: 12.0 / 25 (48.0%)\n",
      "2025/01/10 18:11:27 INFO dspy.teleprompt.mipro_optimizer_v2: Score: 48.0 on minibatch of size 25 with parameters ['Predictor 0: Instruction 2', 'Predictor 0: Few-Shot Set 24'].\n",
      "2025/01/10 18:11:27 INFO dspy.teleprompt.mipro_optimizer_v2: Minibatch scores so far: [44.0, 60.0, 32.0, 36.0, 56.0, 48.0, 48.0, 48.0, 28.0, 48.0]\n",
      "2025/01/10 18:11:27 INFO dspy.teleprompt.mipro_optimizer_v2: Full eval scores so far: [50.8]\n",
      "2025/01/10 18:11:27 INFO dspy.teleprompt.mipro_optimizer_v2: Best full score so far: 50.8\n",
      "2025/01/10 18:11:27 INFO dspy.teleprompt.mipro_optimizer_v2: =============================\n",
      "\n",
      "\n",
      "2025/01/10 18:11:27 INFO dspy.teleprompt.mipro_optimizer_v2: ===== Full Eval 1 =====\n",
      "2025/01/10 18:11:27 INFO dspy.teleprompt.mipro_optimizer_v2: Doing full eval on next top averaging program (Avg Score: 60.0) from minibatch trials...\n"
     ]
    },
    {
     "name": "stdout",
     "output_type": "stream",
     "text": [
      "\n",
      "Average Metric: 123.00 / 250 (49.2%): 100%|██████████████████████████████████████████| 250/250 [03:27<00:00,  1.20it/s]"
     ]
    },
    {
     "name": "stderr",
     "output_type": "stream",
     "text": [
      "2025/01/10 18:14:55 INFO dspy.evaluate.evaluate: Average Metric: 123 / 250 (49.2%)\n",
      "2025/01/10 18:14:55 INFO dspy.teleprompt.mipro_optimizer_v2: Full eval scores so far: [50.8, 49.2]\n",
      "2025/01/10 18:14:55 INFO dspy.teleprompt.mipro_optimizer_v2: Best full score so far: 50.8\n",
      "2025/01/10 18:14:55 INFO dspy.teleprompt.mipro_optimizer_v2: =======================\n",
      "2025/01/10 18:14:55 INFO dspy.teleprompt.mipro_optimizer_v2: \n",
      "\n",
      "2025/01/10 18:14:55 INFO dspy.teleprompt.mipro_optimizer_v2: == Minibatch Trial 11 / 50 ==\n"
     ]
    },
    {
     "name": "stdout",
     "output_type": "stream",
     "text": [
      "\n",
      "Average Metric: 15.00 / 25 (60.0%): 100%|██████████████████████████████████████████████| 25/25 [00:25<00:00,  1.03s/it]"
     ]
    },
    {
     "name": "stderr",
     "output_type": "stream",
     "text": [
      "2025/01/10 18:15:21 INFO dspy.evaluate.evaluate: Average Metric: 15 / 25 (60.0%)\n",
      "2025/01/10 18:15:21 INFO dspy.teleprompt.mipro_optimizer_v2: Score: 60.0 on minibatch of size 25 with parameters ['Predictor 0: Instruction 7', 'Predictor 0: Few-Shot Set 16'].\n",
      "2025/01/10 18:15:21 INFO dspy.teleprompt.mipro_optimizer_v2: Minibatch scores so far: [44.0, 60.0, 32.0, 36.0, 56.0, 48.0, 48.0, 48.0, 28.0, 48.0, 60.0]\n",
      "2025/01/10 18:15:21 INFO dspy.teleprompt.mipro_optimizer_v2: Full eval scores so far: [50.8, 49.2]\n",
      "2025/01/10 18:15:21 INFO dspy.teleprompt.mipro_optimizer_v2: Best full score so far: 50.8\n",
      "2025/01/10 18:15:21 INFO dspy.teleprompt.mipro_optimizer_v2: =============================\n",
      "\n",
      "\n",
      "2025/01/10 18:15:21 INFO dspy.teleprompt.mipro_optimizer_v2: == Minibatch Trial 12 / 50 ==\n"
     ]
    },
    {
     "name": "stdout",
     "output_type": "stream",
     "text": [
      "\n",
      "Average Metric: 18.00 / 25 (72.0%): 100%|██████████████████████████████████████████████| 25/25 [00:23<00:00,  1.04it/s]"
     ]
    },
    {
     "name": "stderr",
     "output_type": "stream",
     "text": [
      "2025/01/10 18:15:45 INFO dspy.evaluate.evaluate: Average Metric: 18 / 25 (72.0%)\n",
      "2025/01/10 18:15:45 INFO dspy.teleprompt.mipro_optimizer_v2: Score: 72.0 on minibatch of size 25 with parameters ['Predictor 0: Instruction 7', 'Predictor 0: Few-Shot Set 17'].\n",
      "2025/01/10 18:15:45 INFO dspy.teleprompt.mipro_optimizer_v2: Minibatch scores so far: [44.0, 60.0, 32.0, 36.0, 56.0, 48.0, 48.0, 48.0, 28.0, 48.0, 60.0, 72.0]\n",
      "2025/01/10 18:15:45 INFO dspy.teleprompt.mipro_optimizer_v2: Full eval scores so far: [50.8, 49.2]\n",
      "2025/01/10 18:15:45 INFO dspy.teleprompt.mipro_optimizer_v2: Best full score so far: 50.8\n",
      "2025/01/10 18:15:45 INFO dspy.teleprompt.mipro_optimizer_v2: =============================\n",
      "\n",
      "\n",
      "2025/01/10 18:15:45 INFO dspy.teleprompt.mipro_optimizer_v2: == Minibatch Trial 13 / 50 ==\n"
     ]
    },
    {
     "name": "stdout",
     "output_type": "stream",
     "text": [
      "\n",
      "Average Metric: 16.00 / 25 (64.0%): 100%|██████████████████████████████████████████████| 25/25 [00:26<00:00,  1.04s/it]"
     ]
    },
    {
     "name": "stderr",
     "output_type": "stream",
     "text": [
      "2025/01/10 18:16:11 INFO dspy.evaluate.evaluate: Average Metric: 16 / 25 (64.0%)\n",
      "2025/01/10 18:16:11 INFO dspy.teleprompt.mipro_optimizer_v2: Score: 64.0 on minibatch of size 25 with parameters ['Predictor 0: Instruction 24', 'Predictor 0: Few-Shot Set 15'].\n",
      "2025/01/10 18:16:11 INFO dspy.teleprompt.mipro_optimizer_v2: Minibatch scores so far: [44.0, 60.0, 32.0, 36.0, 56.0, 48.0, 48.0, 48.0, 28.0, 48.0, 60.0, 72.0, 64.0]\n",
      "2025/01/10 18:16:11 INFO dspy.teleprompt.mipro_optimizer_v2: Full eval scores so far: [50.8, 49.2]\n",
      "2025/01/10 18:16:11 INFO dspy.teleprompt.mipro_optimizer_v2: Best full score so far: 50.8\n",
      "2025/01/10 18:16:11 INFO dspy.teleprompt.mipro_optimizer_v2: =============================\n",
      "\n",
      "\n",
      "2025/01/10 18:16:11 INFO dspy.teleprompt.mipro_optimizer_v2: == Minibatch Trial 14 / 50 ==\n"
     ]
    },
    {
     "name": "stdout",
     "output_type": "stream",
     "text": [
      "\n",
      "Average Metric: 9.00 / 25 (36.0%): 100%|███████████████████████████████████████████████| 25/25 [00:24<00:00,  1.03it/s]"
     ]
    },
    {
     "name": "stderr",
     "output_type": "stream",
     "text": [
      "2025/01/10 18:16:35 INFO dspy.evaluate.evaluate: Average Metric: 9 / 25 (36.0%)\n",
      "2025/01/10 18:16:35 INFO dspy.teleprompt.mipro_optimizer_v2: Score: 36.0 on minibatch of size 25 with parameters ['Predictor 0: Instruction 24', 'Predictor 0: Few-Shot Set 13'].\n",
      "2025/01/10 18:16:35 INFO dspy.teleprompt.mipro_optimizer_v2: Minibatch scores so far: [44.0, 60.0, 32.0, 36.0, 56.0, 48.0, 48.0, 48.0, 28.0, 48.0, 60.0, 72.0, 64.0, 36.0]\n",
      "2025/01/10 18:16:35 INFO dspy.teleprompt.mipro_optimizer_v2: Full eval scores so far: [50.8, 49.2]\n",
      "2025/01/10 18:16:35 INFO dspy.teleprompt.mipro_optimizer_v2: Best full score so far: 50.8\n",
      "2025/01/10 18:16:35 INFO dspy.teleprompt.mipro_optimizer_v2: =============================\n",
      "\n",
      "\n",
      "2025/01/10 18:16:35 INFO dspy.teleprompt.mipro_optimizer_v2: == Minibatch Trial 15 / 50 ==\n"
     ]
    },
    {
     "name": "stdout",
     "output_type": "stream",
     "text": [
      "\n",
      "Average Metric: 12.00 / 25 (48.0%): 100%|██████████████████████████████████████████████| 25/25 [00:25<00:00,  1.00s/it]"
     ]
    },
    {
     "name": "stderr",
     "output_type": "stream",
     "text": [
      "2025/01/10 18:17:00 INFO dspy.evaluate.evaluate: Average Metric: 12 / 25 (48.0%)\n",
      "2025/01/10 18:17:00 INFO dspy.teleprompt.mipro_optimizer_v2: Score: 48.0 on minibatch of size 25 with parameters ['Predictor 0: Instruction 1', 'Predictor 0: Few-Shot Set 17'].\n",
      "2025/01/10 18:17:00 INFO dspy.teleprompt.mipro_optimizer_v2: Minibatch scores so far: [44.0, 60.0, 32.0, 36.0, 56.0, 48.0, 48.0, 48.0, 28.0, 48.0, 60.0, 72.0, 64.0, 36.0, 48.0]\n",
      "2025/01/10 18:17:00 INFO dspy.teleprompt.mipro_optimizer_v2: Full eval scores so far: [50.8, 49.2]\n",
      "2025/01/10 18:17:00 INFO dspy.teleprompt.mipro_optimizer_v2: Best full score so far: 50.8\n",
      "2025/01/10 18:17:00 INFO dspy.teleprompt.mipro_optimizer_v2: =============================\n",
      "\n",
      "\n",
      "2025/01/10 18:17:00 INFO dspy.teleprompt.mipro_optimizer_v2: == Minibatch Trial 16 / 50 ==\n"
     ]
    },
    {
     "name": "stdout",
     "output_type": "stream",
     "text": [
      "\n",
      "Average Metric: 14.00 / 25 (56.0%): 100%|██████████████████████████████████████████████| 25/25 [00:24<00:00,  1.04it/s]"
     ]
    },
    {
     "name": "stderr",
     "output_type": "stream",
     "text": [
      "2025/01/10 18:17:25 INFO dspy.evaluate.evaluate: Average Metric: 14 / 25 (56.0%)\n",
      "2025/01/10 18:17:25 INFO dspy.teleprompt.mipro_optimizer_v2: Score: 56.0 on minibatch of size 25 with parameters ['Predictor 0: Instruction 18', 'Predictor 0: Few-Shot Set 17'].\n",
      "2025/01/10 18:17:25 INFO dspy.teleprompt.mipro_optimizer_v2: Minibatch scores so far: [44.0, 60.0, 32.0, 36.0, 56.0, 48.0, 48.0, 48.0, 28.0, 48.0, 60.0, 72.0, 64.0, 36.0, 48.0, 56.0]\n",
      "2025/01/10 18:17:25 INFO dspy.teleprompt.mipro_optimizer_v2: Full eval scores so far: [50.8, 49.2]\n",
      "2025/01/10 18:17:25 INFO dspy.teleprompt.mipro_optimizer_v2: Best full score so far: 50.8\n",
      "2025/01/10 18:17:25 INFO dspy.teleprompt.mipro_optimizer_v2: =============================\n",
      "\n",
      "\n",
      "2025/01/10 18:17:25 INFO dspy.teleprompt.mipro_optimizer_v2: == Minibatch Trial 17 / 50 ==\n"
     ]
    },
    {
     "name": "stdout",
     "output_type": "stream",
     "text": [
      "\n",
      "Average Metric: 6.00 / 25 (24.0%): 100%|███████████████████████████████████████████████| 25/25 [00:28<00:00,  1.13s/it]"
     ]
    },
    {
     "name": "stderr",
     "output_type": "stream",
     "text": [
      "2025/01/10 18:17:53 INFO dspy.evaluate.evaluate: Average Metric: 6 / 25 (24.0%)\n",
      "2025/01/10 18:17:53 INFO dspy.teleprompt.mipro_optimizer_v2: Score: 24.0 on minibatch of size 25 with parameters ['Predictor 0: Instruction 3', 'Predictor 0: Few-Shot Set 15'].\n",
      "2025/01/10 18:17:53 INFO dspy.teleprompt.mipro_optimizer_v2: Minibatch scores so far: [44.0, 60.0, 32.0, 36.0, 56.0, 48.0, 48.0, 48.0, 28.0, 48.0, 60.0, 72.0, 64.0, 36.0, 48.0, 56.0, 24.0]\n",
      "2025/01/10 18:17:53 INFO dspy.teleprompt.mipro_optimizer_v2: Full eval scores so far: [50.8, 49.2]\n",
      "2025/01/10 18:17:53 INFO dspy.teleprompt.mipro_optimizer_v2: Best full score so far: 50.8\n",
      "2025/01/10 18:17:53 INFO dspy.teleprompt.mipro_optimizer_v2: =============================\n",
      "\n",
      "\n",
      "2025/01/10 18:17:53 INFO dspy.teleprompt.mipro_optimizer_v2: == Minibatch Trial 18 / 50 ==\n"
     ]
    },
    {
     "name": "stdout",
     "output_type": "stream",
     "text": [
      "\n",
      "Average Metric: 10.00 / 25 (40.0%): 100%|██████████████████████████████████████████████| 25/25 [00:24<00:00,  1.01it/s]"
     ]
    },
    {
     "name": "stderr",
     "output_type": "stream",
     "text": [
      "2025/01/10 18:18:18 INFO dspy.evaluate.evaluate: Average Metric: 10 / 25 (40.0%)\n",
      "2025/01/10 18:18:18 INFO dspy.teleprompt.mipro_optimizer_v2: Score: 40.0 on minibatch of size 25 with parameters ['Predictor 0: Instruction 33', 'Predictor 0: Few-Shot Set 2'].\n",
      "2025/01/10 18:18:18 INFO dspy.teleprompt.mipro_optimizer_v2: Minibatch scores so far: [44.0, 60.0, 32.0, 36.0, 56.0, 48.0, 48.0, 48.0, 28.0, 48.0, 60.0, 72.0, 64.0, 36.0, 48.0, 56.0, 24.0, 40.0]\n",
      "2025/01/10 18:18:18 INFO dspy.teleprompt.mipro_optimizer_v2: Full eval scores so far: [50.8, 49.2]\n",
      "2025/01/10 18:18:18 INFO dspy.teleprompt.mipro_optimizer_v2: Best full score so far: 50.8\n",
      "2025/01/10 18:18:18 INFO dspy.teleprompt.mipro_optimizer_v2: =============================\n",
      "\n",
      "\n",
      "2025/01/10 18:18:18 INFO dspy.teleprompt.mipro_optimizer_v2: == Minibatch Trial 19 / 50 ==\n"
     ]
    },
    {
     "name": "stdout",
     "output_type": "stream",
     "text": [
      "\n",
      "Average Metric: 15.00 / 25 (60.0%): 100%|██████████████████████████████████████████████| 25/25 [00:22<00:00,  1.09it/s]"
     ]
    },
    {
     "name": "stderr",
     "output_type": "stream",
     "text": [
      "2025/01/10 18:18:40 INFO dspy.evaluate.evaluate: Average Metric: 15 / 25 (60.0%)\n",
      "2025/01/10 18:18:40 INFO dspy.teleprompt.mipro_optimizer_v2: Score: 60.0 on minibatch of size 25 with parameters ['Predictor 0: Instruction 24', 'Predictor 0: Few-Shot Set 15'].\n",
      "2025/01/10 18:18:40 INFO dspy.teleprompt.mipro_optimizer_v2: Minibatch scores so far: [44.0, 60.0, 32.0, 36.0, 56.0, 48.0, 48.0, 48.0, 28.0, 48.0, 60.0, 72.0, 64.0, 36.0, 48.0, 56.0, 24.0, 40.0, 60.0]\n",
      "2025/01/10 18:18:40 INFO dspy.teleprompt.mipro_optimizer_v2: Full eval scores so far: [50.8, 49.2]\n",
      "2025/01/10 18:18:40 INFO dspy.teleprompt.mipro_optimizer_v2: Best full score so far: 50.8\n",
      "2025/01/10 18:18:40 INFO dspy.teleprompt.mipro_optimizer_v2: =============================\n",
      "\n",
      "\n",
      "2025/01/10 18:18:40 INFO dspy.teleprompt.mipro_optimizer_v2: == Minibatch Trial 20 / 50 ==\n"
     ]
    },
    {
     "name": "stdout",
     "output_type": "stream",
     "text": [
      "\n",
      "Average Metric: 14.00 / 25 (56.0%): 100%|██████████████████████████████████████████████| 25/25 [00:23<00:00,  1.08it/s]"
     ]
    },
    {
     "name": "stderr",
     "output_type": "stream",
     "text": [
      "2025/01/10 18:19:04 INFO dspy.evaluate.evaluate: Average Metric: 14 / 25 (56.0%)\n",
      "2025/01/10 18:19:04 INFO dspy.teleprompt.mipro_optimizer_v2: Score: 56.0 on minibatch of size 25 with parameters ['Predictor 0: Instruction 7', 'Predictor 0: Few-Shot Set 17'].\n",
      "2025/01/10 18:19:04 INFO dspy.teleprompt.mipro_optimizer_v2: Minibatch scores so far: [44.0, 60.0, 32.0, 36.0, 56.0, 48.0, 48.0, 48.0, 28.0, 48.0, 60.0, 72.0, 64.0, 36.0, 48.0, 56.0, 24.0, 40.0, 60.0, 56.0]\n",
      "2025/01/10 18:19:04 INFO dspy.teleprompt.mipro_optimizer_v2: Full eval scores so far: [50.8, 49.2]\n",
      "2025/01/10 18:19:04 INFO dspy.teleprompt.mipro_optimizer_v2: Best full score so far: 50.8\n",
      "2025/01/10 18:19:04 INFO dspy.teleprompt.mipro_optimizer_v2: =============================\n",
      "\n",
      "\n",
      "2025/01/10 18:19:04 INFO dspy.teleprompt.mipro_optimizer_v2: ===== Full Eval 2 =====\n",
      "2025/01/10 18:19:04 INFO dspy.teleprompt.mipro_optimizer_v2: Doing full eval on next top averaging program (Avg Score: 64.0) from minibatch trials...\n"
     ]
    },
    {
     "name": "stdout",
     "output_type": "stream",
     "text": [
      "\n",
      "Average Metric: 132.00 / 250 (52.8%): 100%|██████████████████████████████████████████| 250/250 [03:02<00:00,  1.37it/s]"
     ]
    },
    {
     "name": "stderr",
     "output_type": "stream",
     "text": [
      "2025/01/10 18:22:07 INFO dspy.evaluate.evaluate: Average Metric: 132 / 250 (52.8%)\n",
      "2025/01/10 18:22:07 INFO dspy.teleprompt.mipro_optimizer_v2: \u001b[92mNew best full eval score!\u001b[0m Score: 52.8\n",
      "2025/01/10 18:22:07 INFO dspy.teleprompt.mipro_optimizer_v2: Full eval scores so far: [50.8, 49.2, 52.8]\n",
      "2025/01/10 18:22:07 INFO dspy.teleprompt.mipro_optimizer_v2: Best full score so far: 52.8\n",
      "2025/01/10 18:22:07 INFO dspy.teleprompt.mipro_optimizer_v2: =======================\n",
      "2025/01/10 18:22:07 INFO dspy.teleprompt.mipro_optimizer_v2: \n",
      "\n",
      "2025/01/10 18:22:07 INFO dspy.teleprompt.mipro_optimizer_v2: == Minibatch Trial 21 / 50 ==\n"
     ]
    },
    {
     "name": "stdout",
     "output_type": "stream",
     "text": [
      "\n",
      "Average Metric: 12.00 / 25 (48.0%): 100%|██████████████████████████████████████████████| 25/25 [00:24<00:00,  1.03it/s]"
     ]
    },
    {
     "name": "stderr",
     "output_type": "stream",
     "text": [
      "2025/01/10 18:22:31 INFO dspy.evaluate.evaluate: Average Metric: 12 / 25 (48.0%)\n",
      "2025/01/10 18:22:31 INFO dspy.teleprompt.mipro_optimizer_v2: Score: 48.0 on minibatch of size 25 with parameters ['Predictor 0: Instruction 16', 'Predictor 0: Few-Shot Set 37'].\n",
      "2025/01/10 18:22:31 INFO dspy.teleprompt.mipro_optimizer_v2: Minibatch scores so far: [44.0, 60.0, 32.0, 36.0, 56.0, 48.0, 48.0, 48.0, 28.0, 48.0, 60.0, 72.0, 64.0, 36.0, 48.0, 56.0, 24.0, 40.0, 60.0, 56.0, 48.0]\n",
      "2025/01/10 18:22:31 INFO dspy.teleprompt.mipro_optimizer_v2: Full eval scores so far: [50.8, 49.2, 52.8]\n",
      "2025/01/10 18:22:31 INFO dspy.teleprompt.mipro_optimizer_v2: Best full score so far: 52.8\n",
      "2025/01/10 18:22:31 INFO dspy.teleprompt.mipro_optimizer_v2: =============================\n",
      "\n",
      "\n",
      "2025/01/10 18:22:31 INFO dspy.teleprompt.mipro_optimizer_v2: == Minibatch Trial 22 / 50 ==\n"
     ]
    },
    {
     "name": "stdout",
     "output_type": "stream",
     "text": [
      "\n",
      "Average Metric: 11.00 / 25 (44.0%): 100%|██████████████████████████████████████████████| 25/25 [00:23<00:00,  1.05it/s]"
     ]
    },
    {
     "name": "stderr",
     "output_type": "stream",
     "text": [
      "2025/01/10 18:22:55 INFO dspy.evaluate.evaluate: Average Metric: 11 / 25 (44.0%)\n",
      "2025/01/10 18:22:55 INFO dspy.teleprompt.mipro_optimizer_v2: Score: 44.0 on minibatch of size 25 with parameters ['Predictor 0: Instruction 6', 'Predictor 0: Few-Shot Set 15'].\n",
      "2025/01/10 18:22:55 INFO dspy.teleprompt.mipro_optimizer_v2: Minibatch scores so far: [44.0, 60.0, 32.0, 36.0, 56.0, 48.0, 48.0, 48.0, 28.0, 48.0, 60.0, 72.0, 64.0, 36.0, 48.0, 56.0, 24.0, 40.0, 60.0, 56.0, 48.0, 44.0]\n",
      "2025/01/10 18:22:55 INFO dspy.teleprompt.mipro_optimizer_v2: Full eval scores so far: [50.8, 49.2, 52.8]\n",
      "2025/01/10 18:22:55 INFO dspy.teleprompt.mipro_optimizer_v2: Best full score so far: 52.8\n",
      "2025/01/10 18:22:55 INFO dspy.teleprompt.mipro_optimizer_v2: =============================\n",
      "\n",
      "\n",
      "2025/01/10 18:22:55 INFO dspy.teleprompt.mipro_optimizer_v2: == Minibatch Trial 23 / 50 ==\n"
     ]
    },
    {
     "name": "stdout",
     "output_type": "stream",
     "text": [
      "\n",
      "Average Metric: 16.00 / 25 (64.0%): 100%|██████████████████████████████████████████████| 25/25 [00:24<00:00,  1.03it/s]"
     ]
    },
    {
     "name": "stderr",
     "output_type": "stream",
     "text": [
      "2025/01/10 18:23:20 INFO dspy.evaluate.evaluate: Average Metric: 16 / 25 (64.0%)\n",
      "2025/01/10 18:23:20 INFO dspy.teleprompt.mipro_optimizer_v2: Score: 64.0 on minibatch of size 25 with parameters ['Predictor 0: Instruction 12', 'Predictor 0: Few-Shot Set 18'].\n",
      "2025/01/10 18:23:20 INFO dspy.teleprompt.mipro_optimizer_v2: Minibatch scores so far: [44.0, 60.0, 32.0, 36.0, 56.0, 48.0, 48.0, 48.0, 28.0, 48.0, 60.0, 72.0, 64.0, 36.0, 48.0, 56.0, 24.0, 40.0, 60.0, 56.0, 48.0, 44.0, 64.0]\n",
      "2025/01/10 18:23:20 INFO dspy.teleprompt.mipro_optimizer_v2: Full eval scores so far: [50.8, 49.2, 52.8]\n",
      "2025/01/10 18:23:20 INFO dspy.teleprompt.mipro_optimizer_v2: Best full score so far: 52.8\n",
      "2025/01/10 18:23:20 INFO dspy.teleprompt.mipro_optimizer_v2: =============================\n",
      "\n",
      "\n",
      "2025/01/10 18:23:20 INFO dspy.teleprompt.mipro_optimizer_v2: == Minibatch Trial 24 / 50 ==\n"
     ]
    },
    {
     "name": "stdout",
     "output_type": "stream",
     "text": [
      "\n",
      "Average Metric: 11.00 / 25 (44.0%): 100%|██████████████████████████████████████████████| 25/25 [00:25<00:00,  1.00s/it]"
     ]
    },
    {
     "name": "stderr",
     "output_type": "stream",
     "text": [
      "2025/01/10 18:23:45 INFO dspy.evaluate.evaluate: Average Metric: 11 / 25 (44.0%)\n",
      "2025/01/10 18:23:45 INFO dspy.teleprompt.mipro_optimizer_v2: Score: 44.0 on minibatch of size 25 with parameters ['Predictor 0: Instruction 15', 'Predictor 0: Few-Shot Set 18'].\n",
      "2025/01/10 18:23:45 INFO dspy.teleprompt.mipro_optimizer_v2: Minibatch scores so far: [44.0, 60.0, 32.0, 36.0, 56.0, 48.0, 48.0, 48.0, 28.0, 48.0, 60.0, 72.0, 64.0, 36.0, 48.0, 56.0, 24.0, 40.0, 60.0, 56.0, 48.0, 44.0, 64.0, 44.0]\n",
      "2025/01/10 18:23:45 INFO dspy.teleprompt.mipro_optimizer_v2: Full eval scores so far: [50.8, 49.2, 52.8]\n",
      "2025/01/10 18:23:45 INFO dspy.teleprompt.mipro_optimizer_v2: Best full score so far: 52.8\n",
      "2025/01/10 18:23:45 INFO dspy.teleprompt.mipro_optimizer_v2: =============================\n",
      "\n",
      "\n",
      "2025/01/10 18:23:45 INFO dspy.teleprompt.mipro_optimizer_v2: == Minibatch Trial 25 / 50 ==\n"
     ]
    },
    {
     "name": "stdout",
     "output_type": "stream",
     "text": [
      "\n",
      "Average Metric: 11.00 / 25 (44.0%): 100%|██████████████████████████████████████████████| 25/25 [00:25<00:00,  1.02s/it]"
     ]
    },
    {
     "name": "stderr",
     "output_type": "stream",
     "text": [
      "2025/01/10 18:24:11 INFO dspy.evaluate.evaluate: Average Metric: 11 / 25 (44.0%)\n",
      "2025/01/10 18:24:11 INFO dspy.teleprompt.mipro_optimizer_v2: Score: 44.0 on minibatch of size 25 with parameters ['Predictor 0: Instruction 12', 'Predictor 0: Few-Shot Set 30'].\n",
      "2025/01/10 18:24:11 INFO dspy.teleprompt.mipro_optimizer_v2: Minibatch scores so far: [44.0, 60.0, 32.0, 36.0, 56.0, 48.0, 48.0, 48.0, 28.0, 48.0, 60.0, 72.0, 64.0, 36.0, 48.0, 56.0, 24.0, 40.0, 60.0, 56.0, 48.0, 44.0, 64.0, 44.0, 44.0]\n",
      "2025/01/10 18:24:11 INFO dspy.teleprompt.mipro_optimizer_v2: Full eval scores so far: [50.8, 49.2, 52.8]\n",
      "2025/01/10 18:24:11 INFO dspy.teleprompt.mipro_optimizer_v2: Best full score so far: 52.8\n",
      "2025/01/10 18:24:11 INFO dspy.teleprompt.mipro_optimizer_v2: =============================\n",
      "\n",
      "\n",
      "2025/01/10 18:24:11 INFO dspy.teleprompt.mipro_optimizer_v2: == Minibatch Trial 26 / 50 ==\n"
     ]
    },
    {
     "name": "stdout",
     "output_type": "stream",
     "text": [
      "\n",
      "Average Metric: 10.00 / 25 (40.0%): 100%|██████████████████████████████████████████████| 25/25 [00:23<00:00,  1.06it/s]"
     ]
    },
    {
     "name": "stderr",
     "output_type": "stream",
     "text": [
      "2025/01/10 18:24:34 INFO dspy.evaluate.evaluate: Average Metric: 10 / 25 (40.0%)\n",
      "2025/01/10 18:24:34 INFO dspy.teleprompt.mipro_optimizer_v2: Score: 40.0 on minibatch of size 25 with parameters ['Predictor 0: Instruction 17', 'Predictor 0: Few-Shot Set 18'].\n",
      "2025/01/10 18:24:34 INFO dspy.teleprompt.mipro_optimizer_v2: Minibatch scores so far: [44.0, 60.0, 32.0, 36.0, 56.0, 48.0, 48.0, 48.0, 28.0, 48.0, 60.0, 72.0, 64.0, 36.0, 48.0, 56.0, 24.0, 40.0, 60.0, 56.0, 48.0, 44.0, 64.0, 44.0, 44.0, 40.0]\n",
      "2025/01/10 18:24:34 INFO dspy.teleprompt.mipro_optimizer_v2: Full eval scores so far: [50.8, 49.2, 52.8]\n",
      "2025/01/10 18:24:34 INFO dspy.teleprompt.mipro_optimizer_v2: Best full score so far: 52.8\n",
      "2025/01/10 18:24:34 INFO dspy.teleprompt.mipro_optimizer_v2: =============================\n",
      "\n",
      "\n",
      "2025/01/10 18:24:34 INFO dspy.teleprompt.mipro_optimizer_v2: == Minibatch Trial 27 / 50 ==\n"
     ]
    },
    {
     "name": "stdout",
     "output_type": "stream",
     "text": [
      "\n",
      "Average Metric: 11.00 / 25 (44.0%): 100%|██████████████████████████████████████████████| 25/25 [00:22<00:00,  1.11it/s]"
     ]
    },
    {
     "name": "stderr",
     "output_type": "stream",
     "text": [
      "2025/01/10 18:24:57 INFO dspy.evaluate.evaluate: Average Metric: 11 / 25 (44.0%)\n",
      "2025/01/10 18:24:57 INFO dspy.teleprompt.mipro_optimizer_v2: Score: 44.0 on minibatch of size 25 with parameters ['Predictor 0: Instruction 12', 'Predictor 0: Few-Shot Set 34'].\n",
      "2025/01/10 18:24:57 INFO dspy.teleprompt.mipro_optimizer_v2: Minibatch scores so far: [44.0, 60.0, 32.0, 36.0, 56.0, 48.0, 48.0, 48.0, 28.0, 48.0, 60.0, 72.0, 64.0, 36.0, 48.0, 56.0, 24.0, 40.0, 60.0, 56.0, 48.0, 44.0, 64.0, 44.0, 44.0, 40.0, 44.0]\n",
      "2025/01/10 18:24:57 INFO dspy.teleprompt.mipro_optimizer_v2: Full eval scores so far: [50.8, 49.2, 52.8]\n",
      "2025/01/10 18:24:57 INFO dspy.teleprompt.mipro_optimizer_v2: Best full score so far: 52.8\n",
      "2025/01/10 18:24:57 INFO dspy.teleprompt.mipro_optimizer_v2: =============================\n",
      "\n",
      "\n",
      "2025/01/10 18:24:57 INFO dspy.teleprompt.mipro_optimizer_v2: == Minibatch Trial 28 / 50 ==\n"
     ]
    },
    {
     "name": "stdout",
     "output_type": "stream",
     "text": [
      "\n",
      "Average Metric: 9.00 / 25 (36.0%): 100%|███████████████████████████████████████████████| 25/25 [00:28<00:00,  1.15s/it]"
     ]
    },
    {
     "name": "stderr",
     "output_type": "stream",
     "text": [
      "2025/01/10 18:25:26 INFO dspy.evaluate.evaluate: Average Metric: 9 / 25 (36.0%)\n",
      "2025/01/10 18:25:26 INFO dspy.teleprompt.mipro_optimizer_v2: Score: 36.0 on minibatch of size 25 with parameters ['Predictor 0: Instruction 30', 'Predictor 0: Few-Shot Set 23'].\n",
      "2025/01/10 18:25:26 INFO dspy.teleprompt.mipro_optimizer_v2: Minibatch scores so far: [44.0, 60.0, 32.0, 36.0, 56.0, 48.0, 48.0, 48.0, 28.0, 48.0, 60.0, 72.0, 64.0, 36.0, 48.0, 56.0, 24.0, 40.0, 60.0, 56.0, 48.0, 44.0, 64.0, 44.0, 44.0, 40.0, 44.0, 36.0]\n",
      "2025/01/10 18:25:26 INFO dspy.teleprompt.mipro_optimizer_v2: Full eval scores so far: [50.8, 49.2, 52.8]\n",
      "2025/01/10 18:25:26 INFO dspy.teleprompt.mipro_optimizer_v2: Best full score so far: 52.8\n",
      "2025/01/10 18:25:26 INFO dspy.teleprompt.mipro_optimizer_v2: =============================\n",
      "\n",
      "\n",
      "2025/01/10 18:25:26 INFO dspy.teleprompt.mipro_optimizer_v2: == Minibatch Trial 29 / 50 ==\n"
     ]
    },
    {
     "name": "stdout",
     "output_type": "stream",
     "text": [
      "\n",
      "Average Metric: 13.00 / 25 (52.0%): 100%|██████████████████████████████████████████████| 25/25 [00:23<00:00,  1.05it/s]"
     ]
    },
    {
     "name": "stderr",
     "output_type": "stream",
     "text": [
      "2025/01/10 18:25:50 INFO dspy.evaluate.evaluate: Average Metric: 13 / 25 (52.0%)\n",
      "2025/01/10 18:25:50 INFO dspy.teleprompt.mipro_optimizer_v2: Score: 52.0 on minibatch of size 25 with parameters ['Predictor 0: Instruction 9', 'Predictor 0: Few-Shot Set 29'].\n",
      "2025/01/10 18:25:50 INFO dspy.teleprompt.mipro_optimizer_v2: Minibatch scores so far: [44.0, 60.0, 32.0, 36.0, 56.0, 48.0, 48.0, 48.0, 28.0, 48.0, 60.0, 72.0, 64.0, 36.0, 48.0, 56.0, 24.0, 40.0, 60.0, 56.0, 48.0, 44.0, 64.0, 44.0, 44.0, 40.0, 44.0, 36.0, 52.0]\n",
      "2025/01/10 18:25:50 INFO dspy.teleprompt.mipro_optimizer_v2: Full eval scores so far: [50.8, 49.2, 52.8]\n",
      "2025/01/10 18:25:50 INFO dspy.teleprompt.mipro_optimizer_v2: Best full score so far: 52.8\n",
      "2025/01/10 18:25:50 INFO dspy.teleprompt.mipro_optimizer_v2: =============================\n",
      "\n",
      "\n",
      "2025/01/10 18:25:50 INFO dspy.teleprompt.mipro_optimizer_v2: == Minibatch Trial 30 / 50 ==\n"
     ]
    },
    {
     "name": "stdout",
     "output_type": "stream",
     "text": [
      "\n",
      "Average Metric: 12.00 / 25 (48.0%): 100%|██████████████████████████████████████████████| 25/25 [00:24<00:00,  1.02it/s]"
     ]
    },
    {
     "name": "stderr",
     "output_type": "stream",
     "text": [
      "2025/01/10 18:26:14 INFO dspy.evaluate.evaluate: Average Metric: 12 / 25 (48.0%)\n",
      "2025/01/10 18:26:14 INFO dspy.teleprompt.mipro_optimizer_v2: Score: 48.0 on minibatch of size 25 with parameters ['Predictor 0: Instruction 37', 'Predictor 0: Few-Shot Set 27'].\n",
      "2025/01/10 18:26:14 INFO dspy.teleprompt.mipro_optimizer_v2: Minibatch scores so far: [44.0, 60.0, 32.0, 36.0, 56.0, 48.0, 48.0, 48.0, 28.0, 48.0, 60.0, 72.0, 64.0, 36.0, 48.0, 56.0, 24.0, 40.0, 60.0, 56.0, 48.0, 44.0, 64.0, 44.0, 44.0, 40.0, 44.0, 36.0, 52.0, 48.0]\n",
      "2025/01/10 18:26:14 INFO dspy.teleprompt.mipro_optimizer_v2: Full eval scores so far: [50.8, 49.2, 52.8]\n",
      "2025/01/10 18:26:14 INFO dspy.teleprompt.mipro_optimizer_v2: Best full score so far: 52.8\n",
      "2025/01/10 18:26:14 INFO dspy.teleprompt.mipro_optimizer_v2: =============================\n",
      "\n",
      "\n",
      "2025/01/10 18:26:14 INFO dspy.teleprompt.mipro_optimizer_v2: ===== Full Eval 3 =====\n",
      "2025/01/10 18:26:14 INFO dspy.teleprompt.mipro_optimizer_v2: Doing full eval on next top averaging program (Avg Score: 64.0) from minibatch trials...\n"
     ]
    },
    {
     "name": "stdout",
     "output_type": "stream",
     "text": [
      "\n",
      "Average Metric: 66.00 / 155 (42.6%):  62%|██████████████████████████▋                | 155/250 [02:06<01:26,  1.10it/s]"
     ]
    },
    {
     "name": "stderr",
     "output_type": "stream",
     "text": [
      "2025/01/10 18:28:21 ERROR dspy.utils.parallelizer: Error processing item Example({'post': 'Everyone is so politically correct these days... You can\\'t even say \"black paint!\" You have to say \"tyrone can you paint that wall please?\"', 'implicit_class': 'irony'}) (input_keys={'post'}): litellm.RateLimitError: RateLimitError: MistralException - Error code: 429 - {'message': 'Requests rate limit exceeded'}. Set `provide_traceback=True` to see the stack trace.\n"
     ]
    },
    {
     "name": "stdout",
     "output_type": "stream",
     "text": [
      "Average Metric: 117.00 / 249 (47.0%): 100%|██████████████████████████████████████████| 250/250 [03:19<00:00,  1.25it/s]"
     ]
    },
    {
     "name": "stderr",
     "output_type": "stream",
     "text": [
      "2025/01/10 18:29:34 INFO dspy.evaluate.evaluate: Average Metric: 117.0 / 250 (46.8%)\n",
      "2025/01/10 18:29:34 INFO dspy.teleprompt.mipro_optimizer_v2: Full eval scores so far: [50.8, 49.2, 52.8, 46.8]\n",
      "2025/01/10 18:29:34 INFO dspy.teleprompt.mipro_optimizer_v2: Best full score so far: 52.8\n",
      "2025/01/10 18:29:34 INFO dspy.teleprompt.mipro_optimizer_v2: =======================\n",
      "2025/01/10 18:29:34 INFO dspy.teleprompt.mipro_optimizer_v2: \n",
      "\n",
      "2025/01/10 18:29:34 INFO dspy.teleprompt.mipro_optimizer_v2: == Minibatch Trial 31 / 50 ==\n"
     ]
    },
    {
     "name": "stdout",
     "output_type": "stream",
     "text": [
      "\n",
      "Average Metric: 12.00 / 25 (48.0%): 100%|██████████████████████████████████████████████| 25/25 [00:27<00:00,  1.09s/it]"
     ]
    },
    {
     "name": "stderr",
     "output_type": "stream",
     "text": [
      "2025/01/10 18:30:02 INFO dspy.evaluate.evaluate: Average Metric: 12 / 25 (48.0%)\n",
      "2025/01/10 18:30:02 INFO dspy.teleprompt.mipro_optimizer_v2: Score: 48.0 on minibatch of size 25 with parameters ['Predictor 0: Instruction 11', 'Predictor 0: Few-Shot Set 14'].\n",
      "2025/01/10 18:30:02 INFO dspy.teleprompt.mipro_optimizer_v2: Minibatch scores so far: [44.0, 60.0, 32.0, 36.0, 56.0, 48.0, 48.0, 48.0, 28.0, 48.0, 60.0, 72.0, 64.0, 36.0, 48.0, 56.0, 24.0, 40.0, 60.0, 56.0, 48.0, 44.0, 64.0, 44.0, 44.0, 40.0, 44.0, 36.0, 52.0, 48.0, 48.0]\n",
      "2025/01/10 18:30:02 INFO dspy.teleprompt.mipro_optimizer_v2: Full eval scores so far: [50.8, 49.2, 52.8, 46.8]\n",
      "2025/01/10 18:30:02 INFO dspy.teleprompt.mipro_optimizer_v2: Best full score so far: 52.8\n",
      "2025/01/10 18:30:02 INFO dspy.teleprompt.mipro_optimizer_v2: =============================\n",
      "\n",
      "\n",
      "2025/01/10 18:30:02 INFO dspy.teleprompt.mipro_optimizer_v2: == Minibatch Trial 32 / 50 ==\n"
     ]
    },
    {
     "name": "stdout",
     "output_type": "stream",
     "text": [
      "\n",
      "Average Metric: 8.00 / 25 (32.0%): 100%|███████████████████████████████████████████████| 25/25 [00:25<00:00,  1.03s/it]"
     ]
    },
    {
     "name": "stderr",
     "output_type": "stream",
     "text": [
      "2025/01/10 18:30:28 INFO dspy.evaluate.evaluate: Average Metric: 8 / 25 (32.0%)\n",
      "2025/01/10 18:30:28 INFO dspy.teleprompt.mipro_optimizer_v2: Score: 32.0 on minibatch of size 25 with parameters ['Predictor 0: Instruction 10', 'Predictor 0: Few-Shot Set 21'].\n",
      "2025/01/10 18:30:28 INFO dspy.teleprompt.mipro_optimizer_v2: Minibatch scores so far: [44.0, 60.0, 32.0, 36.0, 56.0, 48.0, 48.0, 48.0, 28.0, 48.0, 60.0, 72.0, 64.0, 36.0, 48.0, 56.0, 24.0, 40.0, 60.0, 56.0, 48.0, 44.0, 64.0, 44.0, 44.0, 40.0, 44.0, 36.0, 52.0, 48.0, 48.0, 32.0]\n",
      "2025/01/10 18:30:28 INFO dspy.teleprompt.mipro_optimizer_v2: Full eval scores so far: [50.8, 49.2, 52.8, 46.8]\n",
      "2025/01/10 18:30:28 INFO dspy.teleprompt.mipro_optimizer_v2: Best full score so far: 52.8\n",
      "2025/01/10 18:30:28 INFO dspy.teleprompt.mipro_optimizer_v2: =============================\n",
      "\n",
      "\n",
      "2025/01/10 18:30:28 INFO dspy.teleprompt.mipro_optimizer_v2: == Minibatch Trial 33 / 50 ==\n"
     ]
    },
    {
     "name": "stdout",
     "output_type": "stream",
     "text": [
      "\n",
      "Average Metric: 11.00 / 25 (44.0%): 100%|██████████████████████████████████████████████| 25/25 [00:21<00:00,  1.15it/s]"
     ]
    },
    {
     "name": "stderr",
     "output_type": "stream",
     "text": [
      "2025/01/10 18:30:49 INFO dspy.evaluate.evaluate: Average Metric: 11 / 25 (44.0%)\n",
      "2025/01/10 18:30:49 INFO dspy.teleprompt.mipro_optimizer_v2: Score: 44.0 on minibatch of size 25 with parameters ['Predictor 0: Instruction 23', 'Predictor 0: Few-Shot Set 19'].\n",
      "2025/01/10 18:30:49 INFO dspy.teleprompt.mipro_optimizer_v2: Minibatch scores so far: [44.0, 60.0, 32.0, 36.0, 56.0, 48.0, 48.0, 48.0, 28.0, 48.0, 60.0, 72.0, 64.0, 36.0, 48.0, 56.0, 24.0, 40.0, 60.0, 56.0, 48.0, 44.0, 64.0, 44.0, 44.0, 40.0, 44.0, 36.0, 52.0, 48.0, 48.0, 32.0, 44.0]\n",
      "2025/01/10 18:30:49 INFO dspy.teleprompt.mipro_optimizer_v2: Full eval scores so far: [50.8, 49.2, 52.8, 46.8]\n",
      "2025/01/10 18:30:49 INFO dspy.teleprompt.mipro_optimizer_v2: Best full score so far: 52.8\n",
      "2025/01/10 18:30:49 INFO dspy.teleprompt.mipro_optimizer_v2: =============================\n",
      "\n",
      "\n",
      "2025/01/10 18:30:49 INFO dspy.teleprompt.mipro_optimizer_v2: == Minibatch Trial 34 / 50 ==\n"
     ]
    },
    {
     "name": "stdout",
     "output_type": "stream",
     "text": [
      "\n",
      "Average Metric: 8.00 / 25 (32.0%): 100%|███████████████████████████████████████████████| 25/25 [00:23<00:00,  1.08it/s]"
     ]
    },
    {
     "name": "stderr",
     "output_type": "stream",
     "text": [
      "2025/01/10 18:31:13 INFO dspy.evaluate.evaluate: Average Metric: 8 / 25 (32.0%)\n",
      "2025/01/10 18:31:13 INFO dspy.teleprompt.mipro_optimizer_v2: Score: 32.0 on minibatch of size 25 with parameters ['Predictor 0: Instruction 20', 'Predictor 0: Few-Shot Set 22'].\n",
      "2025/01/10 18:31:13 INFO dspy.teleprompt.mipro_optimizer_v2: Minibatch scores so far: [44.0, 60.0, 32.0, 36.0, 56.0, 48.0, 48.0, 48.0, 28.0, 48.0, 60.0, 72.0, 64.0, 36.0, 48.0, 56.0, 24.0, 40.0, 60.0, 56.0, 48.0, 44.0, 64.0, 44.0, 44.0, 40.0, 44.0, 36.0, 52.0, 48.0, 48.0, 32.0, 44.0, 32.0]\n",
      "2025/01/10 18:31:13 INFO dspy.teleprompt.mipro_optimizer_v2: Full eval scores so far: [50.8, 49.2, 52.8, 46.8]\n",
      "2025/01/10 18:31:13 INFO dspy.teleprompt.mipro_optimizer_v2: Best full score so far: 52.8\n",
      "2025/01/10 18:31:13 INFO dspy.teleprompt.mipro_optimizer_v2: =============================\n",
      "\n",
      "\n",
      "2025/01/10 18:31:13 INFO dspy.teleprompt.mipro_optimizer_v2: == Minibatch Trial 35 / 50 ==\n"
     ]
    },
    {
     "name": "stdout",
     "output_type": "stream",
     "text": [
      "\n",
      "Average Metric: 14.00 / 25 (56.0%): 100%|██████████████████████████████████████████████| 25/25 [00:25<00:00,  1.01s/it]"
     ]
    },
    {
     "name": "stderr",
     "output_type": "stream",
     "text": [
      "2025/01/10 18:31:38 INFO dspy.evaluate.evaluate: Average Metric: 14 / 25 (56.0%)\n",
      "2025/01/10 18:31:38 INFO dspy.teleprompt.mipro_optimizer_v2: Score: 56.0 on minibatch of size 25 with parameters ['Predictor 0: Instruction 25', 'Predictor 0: Few-Shot Set 32'].\n",
      "2025/01/10 18:31:38 INFO dspy.teleprompt.mipro_optimizer_v2: Minibatch scores so far: [44.0, 60.0, 32.0, 36.0, 56.0, 48.0, 48.0, 48.0, 28.0, 48.0, 60.0, 72.0, 64.0, 36.0, 48.0, 56.0, 24.0, 40.0, 60.0, 56.0, 48.0, 44.0, 64.0, 44.0, 44.0, 40.0, 44.0, 36.0, 52.0, 48.0, 48.0, 32.0, 44.0, 32.0, 56.0]\n",
      "2025/01/10 18:31:38 INFO dspy.teleprompt.mipro_optimizer_v2: Full eval scores so far: [50.8, 49.2, 52.8, 46.8]\n",
      "2025/01/10 18:31:38 INFO dspy.teleprompt.mipro_optimizer_v2: Best full score so far: 52.8\n",
      "2025/01/10 18:31:38 INFO dspy.teleprompt.mipro_optimizer_v2: =============================\n",
      "\n",
      "\n",
      "2025/01/10 18:31:38 INFO dspy.teleprompt.mipro_optimizer_v2: == Minibatch Trial 36 / 50 ==\n"
     ]
    },
    {
     "name": "stdout",
     "output_type": "stream",
     "text": [
      "\n",
      "Average Metric: 13.00 / 25 (52.0%): 100%|██████████████████████████████████████████████| 25/25 [00:25<00:00,  1.01s/it]"
     ]
    },
    {
     "name": "stderr",
     "output_type": "stream",
     "text": [
      "2025/01/10 18:32:04 INFO dspy.evaluate.evaluate: Average Metric: 13 / 25 (52.0%)\n",
      "2025/01/10 18:32:04 INFO dspy.teleprompt.mipro_optimizer_v2: Score: 52.0 on minibatch of size 25 with parameters ['Predictor 0: Instruction 4', 'Predictor 0: Few-Shot Set 12'].\n",
      "2025/01/10 18:32:04 INFO dspy.teleprompt.mipro_optimizer_v2: Minibatch scores so far: [44.0, 60.0, 32.0, 36.0, 56.0, 48.0, 48.0, 48.0, 28.0, 48.0, 60.0, 72.0, 64.0, 36.0, 48.0, 56.0, 24.0, 40.0, 60.0, 56.0, 48.0, 44.0, 64.0, 44.0, 44.0, 40.0, 44.0, 36.0, 52.0, 48.0, 48.0, 32.0, 44.0, 32.0, 56.0, 52.0]\n",
      "2025/01/10 18:32:04 INFO dspy.teleprompt.mipro_optimizer_v2: Full eval scores so far: [50.8, 49.2, 52.8, 46.8]\n",
      "2025/01/10 18:32:04 INFO dspy.teleprompt.mipro_optimizer_v2: Best full score so far: 52.8\n",
      "2025/01/10 18:32:04 INFO dspy.teleprompt.mipro_optimizer_v2: =============================\n",
      "\n",
      "\n",
      "2025/01/10 18:32:04 INFO dspy.teleprompt.mipro_optimizer_v2: == Minibatch Trial 37 / 50 ==\n"
     ]
    },
    {
     "name": "stdout",
     "output_type": "stream",
     "text": [
      "\n",
      "Average Metric: 11.00 / 25 (44.0%): 100%|██████████████████████████████████████████████| 25/25 [00:05<00:00,  4.56it/s]"
     ]
    },
    {
     "name": "stderr",
     "output_type": "stream",
     "text": [
      "2025/01/10 18:32:09 INFO dspy.evaluate.evaluate: Average Metric: 11 / 25 (44.0%)\n",
      "2025/01/10 18:32:09 INFO dspy.teleprompt.mipro_optimizer_v2: Score: 44.0 on minibatch of size 25 with parameters ['Predictor 0: Instruction 12', 'Predictor 0: Few-Shot Set 18'].\n",
      "2025/01/10 18:32:09 INFO dspy.teleprompt.mipro_optimizer_v2: Minibatch scores so far: [44.0, 60.0, 32.0, 36.0, 56.0, 48.0, 48.0, 48.0, 28.0, 48.0, 60.0, 72.0, 64.0, 36.0, 48.0, 56.0, 24.0, 40.0, 60.0, 56.0, 48.0, 44.0, 64.0, 44.0, 44.0, 40.0, 44.0, 36.0, 52.0, 48.0, 48.0, 32.0, 44.0, 32.0, 56.0, 52.0, 44.0]\n",
      "2025/01/10 18:32:09 INFO dspy.teleprompt.mipro_optimizer_v2: Full eval scores so far: [50.8, 49.2, 52.8, 46.8]\n",
      "2025/01/10 18:32:09 INFO dspy.teleprompt.mipro_optimizer_v2: Best full score so far: 52.8\n",
      "2025/01/10 18:32:09 INFO dspy.teleprompt.mipro_optimizer_v2: =============================\n",
      "\n",
      "\n",
      "2025/01/10 18:32:09 INFO dspy.teleprompt.mipro_optimizer_v2: == Minibatch Trial 38 / 50 ==\n"
     ]
    },
    {
     "name": "stdout",
     "output_type": "stream",
     "text": [
      "\n",
      "Average Metric: 8.00 / 25 (32.0%): 100%|███████████████████████████████████████████████| 25/25 [00:26<00:00,  1.05s/it]"
     ]
    },
    {
     "name": "stderr",
     "output_type": "stream",
     "text": [
      "2025/01/10 18:32:36 INFO dspy.evaluate.evaluate: Average Metric: 8 / 25 (32.0%)\n",
      "2025/01/10 18:32:36 INFO dspy.teleprompt.mipro_optimizer_v2: Score: 32.0 on minibatch of size 25 with parameters ['Predictor 0: Instruction 14', 'Predictor 0: Few-Shot Set 8'].\n",
      "2025/01/10 18:32:36 INFO dspy.teleprompt.mipro_optimizer_v2: Minibatch scores so far: [44.0, 60.0, 32.0, 36.0, 56.0, 48.0, 48.0, 48.0, 28.0, 48.0, 60.0, 72.0, 64.0, 36.0, 48.0, 56.0, 24.0, 40.0, 60.0, 56.0, 48.0, 44.0, 64.0, 44.0, 44.0, 40.0, 44.0, 36.0, 52.0, 48.0, 48.0, 32.0, 44.0, 32.0, 56.0, 52.0, 44.0, 32.0]\n",
      "2025/01/10 18:32:36 INFO dspy.teleprompt.mipro_optimizer_v2: Full eval scores so far: [50.8, 49.2, 52.8, 46.8]\n",
      "2025/01/10 18:32:36 INFO dspy.teleprompt.mipro_optimizer_v2: Best full score so far: 52.8\n",
      "2025/01/10 18:32:36 INFO dspy.teleprompt.mipro_optimizer_v2: =============================\n",
      "\n",
      "\n",
      "2025/01/10 18:32:36 INFO dspy.teleprompt.mipro_optimizer_v2: == Minibatch Trial 39 / 50 ==\n"
     ]
    },
    {
     "name": "stdout",
     "output_type": "stream",
     "text": [
      "\n",
      "Average Metric: 10.00 / 25 (40.0%): 100%|██████████████████████████████████████████████| 25/25 [00:24<00:00,  1.02it/s]"
     ]
    },
    {
     "name": "stderr",
     "output_type": "stream",
     "text": [
      "2025/01/10 18:33:00 INFO dspy.evaluate.evaluate: Average Metric: 10 / 25 (40.0%)\n",
      "2025/01/10 18:33:00 INFO dspy.teleprompt.mipro_optimizer_v2: Score: 40.0 on minibatch of size 25 with parameters ['Predictor 0: Instruction 36', 'Predictor 0: Few-Shot Set 25'].\n",
      "2025/01/10 18:33:00 INFO dspy.teleprompt.mipro_optimizer_v2: Minibatch scores so far: [44.0, 60.0, 32.0, 36.0, 56.0, 48.0, 48.0, 48.0, 28.0, 48.0, 60.0, 72.0, 64.0, 36.0, 48.0, 56.0, 24.0, 40.0, 60.0, 56.0, 48.0, 44.0, 64.0, 44.0, 44.0, 40.0, 44.0, 36.0, 52.0, 48.0, 48.0, 32.0, 44.0, 32.0, 56.0, 52.0, 44.0, 32.0, 40.0]\n",
      "2025/01/10 18:33:00 INFO dspy.teleprompt.mipro_optimizer_v2: Full eval scores so far: [50.8, 49.2, 52.8, 46.8]\n",
      "2025/01/10 18:33:00 INFO dspy.teleprompt.mipro_optimizer_v2: Best full score so far: 52.8\n",
      "2025/01/10 18:33:00 INFO dspy.teleprompt.mipro_optimizer_v2: =============================\n",
      "\n",
      "\n",
      "2025/01/10 18:33:00 INFO dspy.teleprompt.mipro_optimizer_v2: == Minibatch Trial 40 / 50 ==\n"
     ]
    },
    {
     "name": "stdout",
     "output_type": "stream",
     "text": [
      "\n",
      "Average Metric: 13.00 / 25 (52.0%): 100%|██████████████████████████████████████████████| 25/25 [00:26<00:00,  1.04s/it]"
     ]
    },
    {
     "name": "stderr",
     "output_type": "stream",
     "text": [
      "2025/01/10 18:33:27 INFO dspy.evaluate.evaluate: Average Metric: 13 / 25 (52.0%)\n",
      "2025/01/10 18:33:27 INFO dspy.teleprompt.mipro_optimizer_v2: Score: 52.0 on minibatch of size 25 with parameters ['Predictor 0: Instruction 35', 'Predictor 0: Few-Shot Set 31'].\n",
      "2025/01/10 18:33:27 INFO dspy.teleprompt.mipro_optimizer_v2: Minibatch scores so far: [44.0, 60.0, 32.0, 36.0, 56.0, 48.0, 48.0, 48.0, 28.0, 48.0, 60.0, 72.0, 64.0, 36.0, 48.0, 56.0, 24.0, 40.0, 60.0, 56.0, 48.0, 44.0, 64.0, 44.0, 44.0, 40.0, 44.0, 36.0, 52.0, 48.0, 48.0, 32.0, 44.0, 32.0, 56.0, 52.0, 44.0, 32.0, 40.0, 52.0]\n",
      "2025/01/10 18:33:27 INFO dspy.teleprompt.mipro_optimizer_v2: Full eval scores so far: [50.8, 49.2, 52.8, 46.8]\n",
      "2025/01/10 18:33:27 INFO dspy.teleprompt.mipro_optimizer_v2: Best full score so far: 52.8\n",
      "2025/01/10 18:33:27 INFO dspy.teleprompt.mipro_optimizer_v2: =============================\n",
      "\n",
      "\n",
      "2025/01/10 18:33:27 INFO dspy.teleprompt.mipro_optimizer_v2: ===== Full Eval 4 =====\n",
      "2025/01/10 18:33:27 INFO dspy.teleprompt.mipro_optimizer_v2: Doing full eval on next top averaging program (Avg Score: 62.0) from minibatch trials...\n"
     ]
    },
    {
     "name": "stdout",
     "output_type": "stream",
     "text": [
      "\n",
      "Average Metric: 55.00 / 125 (44.0%):  50%|█████████████████████▌                     | 125/250 [01:39<01:51,  1.12it/s]"
     ]
    },
    {
     "name": "stderr",
     "output_type": "stream",
     "text": [
      "2025/01/10 18:35:07 ERROR dspy.utils.parallelizer: Error processing item Example({'post': 'the flag of the northwest american republic  the coming white homeland and ethnostate .', 'implicit_class': 'incitement'}) (input_keys={'post'}): litellm.RateLimitError: RateLimitError: MistralException - Error code: 429 - {'message': 'Requests rate limit exceeded'}. Set `provide_traceback=True` to see the stack trace.\n"
     ]
    },
    {
     "name": "stdout",
     "output_type": "stream",
     "text": [
      "Average Metric: 60.00 / 133 (45.1%):  54%|███████████████████████                    | 134/250 [01:49<02:00,  1.04s/it]"
     ]
    },
    {
     "name": "stderr",
     "output_type": "stream",
     "text": [
      "2025/01/10 18:35:17 ERROR dspy.utils.parallelizer: Error processing item Example({'post': 'i would think that pro white activity in any state is a boost to all states and especially to white activists .', 'implicit_class': 'incitement'}) (input_keys={'post'}): litellm.RateLimitError: RateLimitError: MistralException - Error code: 429 - {'message': 'Requests rate limit exceeded'}. Set `provide_traceback=True` to see the stack trace.\n"
     ]
    },
    {
     "name": "stdout",
     "output_type": "stream",
     "text": [
      "Average Metric: 65.00 / 140 (46.4%):  57%|████████████████████████▍                  | 142/250 [01:55<01:51,  1.03s/it]"
     ]
    },
    {
     "name": "stderr",
     "output_type": "stream",
     "text": [
      "2025/01/10 18:35:22 ERROR dspy.utils.parallelizer: Error processing item Example({'post': \"the people hate the gop . don't worry  charlottesville was just the beginning . we're growing extremely fast .\", 'implicit_class': 'incitement'}) (input_keys={'post'}): litellm.RateLimitError: RateLimitError: MistralException - Error code: 429 - {'message': 'Requests rate limit exceeded'}. Set `provide_traceback=True` to see the stack trace.\n"
     ]
    },
    {
     "name": "stdout",
     "output_type": "stream",
     "text": [
      "Average Metric: 121.00 / 247 (49.0%): 100%|██████████████████████████████████████████| 250/250 [03:21<00:00,  1.24it/s]"
     ]
    },
    {
     "name": "stderr",
     "output_type": "stream",
     "text": [
      "2025/01/10 18:36:48 INFO dspy.evaluate.evaluate: Average Metric: 121.0 / 250 (48.4%)\n",
      "2025/01/10 18:36:48 INFO dspy.teleprompt.mipro_optimizer_v2: Full eval scores so far: [50.8, 49.2, 52.8, 46.8, 48.4]\n",
      "2025/01/10 18:36:48 INFO dspy.teleprompt.mipro_optimizer_v2: Best full score so far: 52.8\n",
      "2025/01/10 18:36:48 INFO dspy.teleprompt.mipro_optimizer_v2: =======================\n",
      "2025/01/10 18:36:48 INFO dspy.teleprompt.mipro_optimizer_v2: \n",
      "\n",
      "2025/01/10 18:36:48 INFO dspy.teleprompt.mipro_optimizer_v2: == Minibatch Trial 41 / 50 ==\n"
     ]
    },
    {
     "name": "stdout",
     "output_type": "stream",
     "text": [
      "\n",
      "Average Metric: 7.00 / 25 (28.0%): 100%|███████████████████████████████████████████████| 25/25 [00:25<00:00,  1.01s/it]"
     ]
    },
    {
     "name": "stderr",
     "output_type": "stream",
     "text": [
      "2025/01/10 18:37:13 INFO dspy.evaluate.evaluate: Average Metric: 7 / 25 (28.0%)\n",
      "2025/01/10 18:37:13 INFO dspy.teleprompt.mipro_optimizer_v2: Score: 28.0 on minibatch of size 25 with parameters ['Predictor 0: Instruction 27', 'Predictor 0: Few-Shot Set 33'].\n",
      "2025/01/10 18:37:13 INFO dspy.teleprompt.mipro_optimizer_v2: Minibatch scores so far: [44.0, 60.0, 32.0, 36.0, 56.0, 48.0, 48.0, 48.0, 28.0, 48.0, 60.0, 72.0, 64.0, 36.0, 48.0, 56.0, 24.0, 40.0, 60.0, 56.0, 48.0, 44.0, 64.0, 44.0, 44.0, 40.0, 44.0, 36.0, 52.0, 48.0, 48.0, 32.0, 44.0, 32.0, 56.0, 52.0, 44.0, 32.0, 40.0, 52.0, 28.0]\n",
      "2025/01/10 18:37:13 INFO dspy.teleprompt.mipro_optimizer_v2: Full eval scores so far: [50.8, 49.2, 52.8, 46.8, 48.4]\n",
      "2025/01/10 18:37:13 INFO dspy.teleprompt.mipro_optimizer_v2: Best full score so far: 52.8\n",
      "2025/01/10 18:37:13 INFO dspy.teleprompt.mipro_optimizer_v2: =============================\n",
      "\n",
      "\n",
      "2025/01/10 18:37:13 INFO dspy.teleprompt.mipro_optimizer_v2: == Minibatch Trial 42 / 50 ==\n"
     ]
    },
    {
     "name": "stdout",
     "output_type": "stream",
     "text": [
      "\n",
      "Average Metric: 8.00 / 25 (32.0%): 100%|███████████████████████████████████████████████| 25/25 [00:05<00:00,  4.55it/s]"
     ]
    },
    {
     "name": "stderr",
     "output_type": "stream",
     "text": [
      "2025/01/10 18:37:19 INFO dspy.evaluate.evaluate: Average Metric: 8 / 25 (32.0%)\n",
      "2025/01/10 18:37:19 INFO dspy.teleprompt.mipro_optimizer_v2: Score: 32.0 on minibatch of size 25 with parameters ['Predictor 0: Instruction 7', 'Predictor 0: Few-Shot Set 15'].\n",
      "2025/01/10 18:37:19 INFO dspy.teleprompt.mipro_optimizer_v2: Minibatch scores so far: [44.0, 60.0, 32.0, 36.0, 56.0, 48.0, 48.0, 48.0, 28.0, 48.0, 60.0, 72.0, 64.0, 36.0, 48.0, 56.0, 24.0, 40.0, 60.0, 56.0, 48.0, 44.0, 64.0, 44.0, 44.0, 40.0, 44.0, 36.0, 52.0, 48.0, 48.0, 32.0, 44.0, 32.0, 56.0, 52.0, 44.0, 32.0, 40.0, 52.0, 28.0, 32.0]\n",
      "2025/01/10 18:37:19 INFO dspy.teleprompt.mipro_optimizer_v2: Full eval scores so far: [50.8, 49.2, 52.8, 46.8, 48.4]\n",
      "2025/01/10 18:37:19 INFO dspy.teleprompt.mipro_optimizer_v2: Best full score so far: 52.8\n",
      "2025/01/10 18:37:19 INFO dspy.teleprompt.mipro_optimizer_v2: =============================\n",
      "\n",
      "\n",
      "2025/01/10 18:37:19 INFO dspy.teleprompt.mipro_optimizer_v2: == Minibatch Trial 43 / 50 ==\n"
     ]
    },
    {
     "name": "stdout",
     "output_type": "stream",
     "text": [
      "\n",
      "Average Metric: 9.00 / 25 (36.0%): 100%|███████████████████████████████████████████████| 25/25 [00:25<00:00,  1.03s/it]"
     ]
    },
    {
     "name": "stderr",
     "output_type": "stream",
     "text": [
      "2025/01/10 18:37:45 INFO dspy.evaluate.evaluate: Average Metric: 9 / 25 (36.0%)\n",
      "2025/01/10 18:37:45 INFO dspy.teleprompt.mipro_optimizer_v2: Score: 36.0 on minibatch of size 25 with parameters ['Predictor 0: Instruction 31', 'Predictor 0: Few-Shot Set 16'].\n",
      "2025/01/10 18:37:45 INFO dspy.teleprompt.mipro_optimizer_v2: Minibatch scores so far: [44.0, 60.0, 32.0, 36.0, 56.0, 48.0, 48.0, 48.0, 28.0, 48.0, 60.0, 72.0, 64.0, 36.0, 48.0, 56.0, 24.0, 40.0, 60.0, 56.0, 48.0, 44.0, 64.0, 44.0, 44.0, 40.0, 44.0, 36.0, 52.0, 48.0, 48.0, 32.0, 44.0, 32.0, 56.0, 52.0, 44.0, 32.0, 40.0, 52.0, 28.0, 32.0, 36.0]\n",
      "2025/01/10 18:37:45 INFO dspy.teleprompt.mipro_optimizer_v2: Full eval scores so far: [50.8, 49.2, 52.8, 46.8, 48.4]\n",
      "2025/01/10 18:37:45 INFO dspy.teleprompt.mipro_optimizer_v2: Best full score so far: 52.8\n",
      "2025/01/10 18:37:45 INFO dspy.teleprompt.mipro_optimizer_v2: =============================\n",
      "\n",
      "\n",
      "2025/01/10 18:37:45 INFO dspy.teleprompt.mipro_optimizer_v2: == Minibatch Trial 44 / 50 ==\n"
     ]
    },
    {
     "name": "stdout",
     "output_type": "stream",
     "text": [
      "\n",
      "Average Metric: 13.00 / 25 (52.0%): 100%|██████████████████████████████████████████████| 25/25 [00:24<00:00,  1.00it/s]"
     ]
    },
    {
     "name": "stderr",
     "output_type": "stream",
     "text": [
      "2025/01/10 18:38:10 INFO dspy.evaluate.evaluate: Average Metric: 13 / 25 (52.0%)\n",
      "2025/01/10 18:38:10 INFO dspy.teleprompt.mipro_optimizer_v2: Score: 52.0 on minibatch of size 25 with parameters ['Predictor 0: Instruction 19', 'Predictor 0: Few-Shot Set 36'].\n",
      "2025/01/10 18:38:10 INFO dspy.teleprompt.mipro_optimizer_v2: Minibatch scores so far: [44.0, 60.0, 32.0, 36.0, 56.0, 48.0, 48.0, 48.0, 28.0, 48.0, 60.0, 72.0, 64.0, 36.0, 48.0, 56.0, 24.0, 40.0, 60.0, 56.0, 48.0, 44.0, 64.0, 44.0, 44.0, 40.0, 44.0, 36.0, 52.0, 48.0, 48.0, 32.0, 44.0, 32.0, 56.0, 52.0, 44.0, 32.0, 40.0, 52.0, 28.0, 32.0, 36.0, 52.0]\n",
      "2025/01/10 18:38:10 INFO dspy.teleprompt.mipro_optimizer_v2: Full eval scores so far: [50.8, 49.2, 52.8, 46.8, 48.4]\n",
      "2025/01/10 18:38:10 INFO dspy.teleprompt.mipro_optimizer_v2: Best full score so far: 52.8\n",
      "2025/01/10 18:38:10 INFO dspy.teleprompt.mipro_optimizer_v2: =============================\n",
      "\n",
      "\n",
      "2025/01/10 18:38:10 INFO dspy.teleprompt.mipro_optimizer_v2: == Minibatch Trial 45 / 50 ==\n"
     ]
    },
    {
     "name": "stdout",
     "output_type": "stream",
     "text": [
      "\n",
      "Average Metric: 11.00 / 25 (44.0%): 100%|██████████████████████████████████████████████| 25/25 [00:23<00:00,  1.08it/s]"
     ]
    },
    {
     "name": "stderr",
     "output_type": "stream",
     "text": [
      "2025/01/10 18:38:33 INFO dspy.evaluate.evaluate: Average Metric: 11 / 25 (44.0%)\n",
      "2025/01/10 18:38:33 INFO dspy.teleprompt.mipro_optimizer_v2: Score: 44.0 on minibatch of size 25 with parameters ['Predictor 0: Instruction 22', 'Predictor 0: Few-Shot Set 28'].\n",
      "2025/01/10 18:38:33 INFO dspy.teleprompt.mipro_optimizer_v2: Minibatch scores so far: [44.0, 60.0, 32.0, 36.0, 56.0, 48.0, 48.0, 48.0, 28.0, 48.0, 60.0, 72.0, 64.0, 36.0, 48.0, 56.0, 24.0, 40.0, 60.0, 56.0, 48.0, 44.0, 64.0, 44.0, 44.0, 40.0, 44.0, 36.0, 52.0, 48.0, 48.0, 32.0, 44.0, 32.0, 56.0, 52.0, 44.0, 32.0, 40.0, 52.0, 28.0, 32.0, 36.0, 52.0, 44.0]\n",
      "2025/01/10 18:38:33 INFO dspy.teleprompt.mipro_optimizer_v2: Full eval scores so far: [50.8, 49.2, 52.8, 46.8, 48.4]\n",
      "2025/01/10 18:38:33 INFO dspy.teleprompt.mipro_optimizer_v2: Best full score so far: 52.8\n",
      "2025/01/10 18:38:33 INFO dspy.teleprompt.mipro_optimizer_v2: =============================\n",
      "\n",
      "\n",
      "2025/01/10 18:38:33 INFO dspy.teleprompt.mipro_optimizer_v2: == Minibatch Trial 46 / 50 ==\n"
     ]
    },
    {
     "name": "stdout",
     "output_type": "stream",
     "text": [
      "\n",
      "Average Metric: 16.00 / 25 (64.0%): 100%|██████████████████████████████████████████████| 25/25 [00:25<00:00,  1.02s/it]"
     ]
    },
    {
     "name": "stderr",
     "output_type": "stream",
     "text": [
      "2025/01/10 18:38:59 INFO dspy.evaluate.evaluate: Average Metric: 16 / 25 (64.0%)\n",
      "2025/01/10 18:38:59 INFO dspy.teleprompt.mipro_optimizer_v2: Score: 64.0 on minibatch of size 25 with parameters ['Predictor 0: Instruction 5', 'Predictor 0: Few-Shot Set 10'].\n",
      "2025/01/10 18:38:59 INFO dspy.teleprompt.mipro_optimizer_v2: Minibatch scores so far: [44.0, 60.0, 32.0, 36.0, 56.0, 48.0, 48.0, 48.0, 28.0, 48.0, 60.0, 72.0, 64.0, 36.0, 48.0, 56.0, 24.0, 40.0, 60.0, 56.0, 48.0, 44.0, 64.0, 44.0, 44.0, 40.0, 44.0, 36.0, 52.0, 48.0, 48.0, 32.0, 44.0, 32.0, 56.0, 52.0, 44.0, 32.0, 40.0, 52.0, 28.0, 32.0, 36.0, 52.0, 44.0, 64.0]\n",
      "2025/01/10 18:38:59 INFO dspy.teleprompt.mipro_optimizer_v2: Full eval scores so far: [50.8, 49.2, 52.8, 46.8, 48.4]\n",
      "2025/01/10 18:38:59 INFO dspy.teleprompt.mipro_optimizer_v2: Best full score so far: 52.8\n",
      "2025/01/10 18:38:59 INFO dspy.teleprompt.mipro_optimizer_v2: =============================\n",
      "\n",
      "\n",
      "2025/01/10 18:38:59 INFO dspy.teleprompt.mipro_optimizer_v2: == Minibatch Trial 47 / 50 ==\n"
     ]
    },
    {
     "name": "stdout",
     "output_type": "stream",
     "text": [
      "\n",
      "Average Metric: 14.00 / 25 (56.0%): 100%|██████████████████████████████████████████████| 25/25 [00:23<00:00,  1.05it/s]"
     ]
    },
    {
     "name": "stderr",
     "output_type": "stream",
     "text": [
      "2025/01/10 18:39:23 INFO dspy.evaluate.evaluate: Average Metric: 14 / 25 (56.0%)\n",
      "2025/01/10 18:39:23 INFO dspy.teleprompt.mipro_optimizer_v2: Score: 56.0 on minibatch of size 25 with parameters ['Predictor 0: Instruction 5', 'Predictor 0: Few-Shot Set 9'].\n",
      "2025/01/10 18:39:23 INFO dspy.teleprompt.mipro_optimizer_v2: Minibatch scores so far: [44.0, 60.0, 32.0, 36.0, 56.0, 48.0, 48.0, 48.0, 28.0, 48.0, 60.0, 72.0, 64.0, 36.0, 48.0, 56.0, 24.0, 40.0, 60.0, 56.0, 48.0, 44.0, 64.0, 44.0, 44.0, 40.0, 44.0, 36.0, 52.0, 48.0, 48.0, 32.0, 44.0, 32.0, 56.0, 52.0, 44.0, 32.0, 40.0, 52.0, 28.0, 32.0, 36.0, 52.0, 44.0, 64.0, 56.0]\n",
      "2025/01/10 18:39:23 INFO dspy.teleprompt.mipro_optimizer_v2: Full eval scores so far: [50.8, 49.2, 52.8, 46.8, 48.4]\n",
      "2025/01/10 18:39:23 INFO dspy.teleprompt.mipro_optimizer_v2: Best full score so far: 52.8\n",
      "2025/01/10 18:39:23 INFO dspy.teleprompt.mipro_optimizer_v2: =============================\n",
      "\n",
      "\n",
      "2025/01/10 18:39:23 INFO dspy.teleprompt.mipro_optimizer_v2: == Minibatch Trial 48 / 50 ==\n"
     ]
    },
    {
     "name": "stdout",
     "output_type": "stream",
     "text": [
      "\n",
      "Average Metric: 16.00 / 25 (64.0%): 100%|██████████████████████████████████████████████| 25/25 [00:37<00:00,  1.52s/it]"
     ]
    },
    {
     "name": "stderr",
     "output_type": "stream",
     "text": [
      "2025/01/10 18:40:01 INFO dspy.evaluate.evaluate: Average Metric: 16 / 25 (64.0%)\n",
      "2025/01/10 18:40:01 INFO dspy.teleprompt.mipro_optimizer_v2: Score: 64.0 on minibatch of size 25 with parameters ['Predictor 0: Instruction 29', 'Predictor 0: Few-Shot Set 20'].\n",
      "2025/01/10 18:40:01 INFO dspy.teleprompt.mipro_optimizer_v2: Minibatch scores so far: [44.0, 60.0, 32.0, 36.0, 56.0, 48.0, 48.0, 48.0, 28.0, 48.0, 60.0, 72.0, 64.0, 36.0, 48.0, 56.0, 24.0, 40.0, 60.0, 56.0, 48.0, 44.0, 64.0, 44.0, 44.0, 40.0, 44.0, 36.0, 52.0, 48.0, 48.0, 32.0, 44.0, 32.0, 56.0, 52.0, 44.0, 32.0, 40.0, 52.0, 28.0, 32.0, 36.0, 52.0, 44.0, 64.0, 56.0, 64.0]\n",
      "2025/01/10 18:40:01 INFO dspy.teleprompt.mipro_optimizer_v2: Full eval scores so far: [50.8, 49.2, 52.8, 46.8, 48.4]\n",
      "2025/01/10 18:40:01 INFO dspy.teleprompt.mipro_optimizer_v2: Best full score so far: 52.8\n",
      "2025/01/10 18:40:01 INFO dspy.teleprompt.mipro_optimizer_v2: =============================\n",
      "\n",
      "\n",
      "2025/01/10 18:40:01 INFO dspy.teleprompt.mipro_optimizer_v2: == Minibatch Trial 49 / 50 ==\n"
     ]
    },
    {
     "name": "stdout",
     "output_type": "stream",
     "text": [
      "\n",
      "Average Metric: 14.00 / 25 (56.0%): 100%|██████████████████████████████████████████████| 25/25 [00:23<00:00,  1.09it/s]"
     ]
    },
    {
     "name": "stderr",
     "output_type": "stream",
     "text": [
      "2025/01/10 18:40:24 INFO dspy.evaluate.evaluate: Average Metric: 14 / 25 (56.0%)\n",
      "2025/01/10 18:40:24 INFO dspy.teleprompt.mipro_optimizer_v2: Score: 56.0 on minibatch of size 25 with parameters ['Predictor 0: Instruction 29', 'Predictor 0: Few-Shot Set 31'].\n",
      "2025/01/10 18:40:24 INFO dspy.teleprompt.mipro_optimizer_v2: Minibatch scores so far: [44.0, 60.0, 32.0, 36.0, 56.0, 48.0, 48.0, 48.0, 28.0, 48.0, 60.0, 72.0, 64.0, 36.0, 48.0, 56.0, 24.0, 40.0, 60.0, 56.0, 48.0, 44.0, 64.0, 44.0, 44.0, 40.0, 44.0, 36.0, 52.0, 48.0, 48.0, 32.0, 44.0, 32.0, 56.0, 52.0, 44.0, 32.0, 40.0, 52.0, 28.0, 32.0, 36.0, 52.0, 44.0, 64.0, 56.0, 64.0, 56.0]\n",
      "2025/01/10 18:40:24 INFO dspy.teleprompt.mipro_optimizer_v2: Full eval scores so far: [50.8, 49.2, 52.8, 46.8, 48.4]\n",
      "2025/01/10 18:40:24 INFO dspy.teleprompt.mipro_optimizer_v2: Best full score so far: 52.8\n",
      "2025/01/10 18:40:24 INFO dspy.teleprompt.mipro_optimizer_v2: =============================\n",
      "\n",
      "\n",
      "2025/01/10 18:40:24 INFO dspy.teleprompt.mipro_optimizer_v2: == Minibatch Trial 50 / 50 ==\n"
     ]
    },
    {
     "name": "stdout",
     "output_type": "stream",
     "text": [
      "\n",
      "Average Metric: 18.00 / 25 (72.0%): 100%|██████████████████████████████████████████████| 25/25 [00:22<00:00,  1.13it/s]"
     ]
    },
    {
     "name": "stderr",
     "output_type": "stream",
     "text": [
      "2025/01/10 18:40:46 INFO dspy.evaluate.evaluate: Average Metric: 18 / 25 (72.0%)\n",
      "2025/01/10 18:40:46 INFO dspy.teleprompt.mipro_optimizer_v2: Score: 72.0 on minibatch of size 25 with parameters ['Predictor 0: Instruction 29', 'Predictor 0: Few-Shot Set 19'].\n",
      "2025/01/10 18:40:46 INFO dspy.teleprompt.mipro_optimizer_v2: Minibatch scores so far: [44.0, 60.0, 32.0, 36.0, 56.0, 48.0, 48.0, 48.0, 28.0, 48.0, 60.0, 72.0, 64.0, 36.0, 48.0, 56.0, 24.0, 40.0, 60.0, 56.0, 48.0, 44.0, 64.0, 44.0, 44.0, 40.0, 44.0, 36.0, 52.0, 48.0, 48.0, 32.0, 44.0, 32.0, 56.0, 52.0, 44.0, 32.0, 40.0, 52.0, 28.0, 32.0, 36.0, 52.0, 44.0, 64.0, 56.0, 64.0, 56.0, 72.0]\n",
      "2025/01/10 18:40:46 INFO dspy.teleprompt.mipro_optimizer_v2: Full eval scores so far: [50.8, 49.2, 52.8, 46.8, 48.4]\n",
      "2025/01/10 18:40:46 INFO dspy.teleprompt.mipro_optimizer_v2: Best full score so far: 52.8\n",
      "2025/01/10 18:40:46 INFO dspy.teleprompt.mipro_optimizer_v2: =============================\n",
      "\n",
      "\n",
      "2025/01/10 18:40:46 INFO dspy.teleprompt.mipro_optimizer_v2: ===== Full Eval 5 =====\n",
      "2025/01/10 18:40:46 INFO dspy.teleprompt.mipro_optimizer_v2: Doing full eval on next top averaging program (Avg Score: 72.0) from minibatch trials...\n"
     ]
    },
    {
     "name": "stdout",
     "output_type": "stream",
     "text": [
      "\n",
      "Average Metric: 90.00 / 187 (48.1%):  75%|████████████████████████████████▏          | 187/250 [02:33<01:22,  1.32s/it]"
     ]
    },
    {
     "name": "stderr",
     "output_type": "stream",
     "text": [
      "2025/01/10 18:43:21 ERROR dspy.utils.parallelizer: Error processing item Example({'post': \"4396 white murderers  5375 black murderers . all the while blacks are 13 % of the country's population .\", 'implicit_class': 'stereotypical'}) (input_keys={'post'}): litellm.RateLimitError: RateLimitError: MistralException - Error code: 429 - {'message': 'Requests rate limit exceeded'}. Set `provide_traceback=True` to see the stack trace.\n"
     ]
    },
    {
     "name": "stdout",
     "output_type": "stream",
     "text": [
      "Average Metric: 125.00 / 249 (50.2%): 100%|██████████████████████████████████████████| 250/250 [03:22<00:00,  1.24it/s]"
     ]
    },
    {
     "name": "stderr",
     "output_type": "stream",
     "text": [
      "2025/01/10 18:44:09 INFO dspy.evaluate.evaluate: Average Metric: 125.0 / 250 (50.0%)\n",
      "2025/01/10 18:44:09 INFO dspy.teleprompt.mipro_optimizer_v2: Full eval scores so far: [50.8, 49.2, 52.8, 46.8, 48.4, 50.0]\n",
      "2025/01/10 18:44:09 INFO dspy.teleprompt.mipro_optimizer_v2: Best full score so far: 52.8\n",
      "2025/01/10 18:44:09 INFO dspy.teleprompt.mipro_optimizer_v2: =======================\n",
      "2025/01/10 18:44:09 INFO dspy.teleprompt.mipro_optimizer_v2: \n",
      "\n",
      "2025/01/10 18:44:09 INFO dspy.teleprompt.mipro_optimizer_v2: Returning best identified program with score 52.8!\n"
     ]
    },
    {
     "name": "stdout",
     "output_type": "stream",
     "text": [
      "\n"
     ]
    }
   ],
   "source": [
    "print('Samples in trainset: {}'.format(len(trainset)))\n",
    "\n",
    "classify_implicit_hate_optimizer = dspy.MIPROv2(\n",
    "    metric = classify_implicit_hate_metric, \n",
    "    auto = \"heavy\",\n",
    "    num_threads = 2\n",
    ")\n",
    "\n",
    "optimized_classify_implicit_hate = classify_implicit_hate_optimizer.compile(\n",
    "    classify_implicit_hate, \n",
    "    trainset = trainset, \n",
    "    max_labeled_demos = 20, \n",
    "    max_bootstrapped_demos = 20\n",
    ")"
   ]
  },
  {
   "cell_type": "code",
   "execution_count": 20,
   "id": "3e6910e2-1a71-4363-a87a-81f187071378",
   "metadata": {},
   "outputs": [],
   "source": [
    "optimized_classify_implicit_hate.save(optimizers_folder + model_name + '_' + 'optimizer_stg2_v2.json')"
   ]
  },
  {
   "cell_type": "markdown",
   "id": "13e2cf1b-cb82-406a-8a61-a7a25a77eb4b",
   "metadata": {},
   "source": [
    "### Run optimized classifier"
   ]
  },
  {
   "cell_type": "code",
   "execution_count": 36,
   "id": "4ceb711d-fd5c-4891-8bcc-a54adf727e03",
   "metadata": {},
   "outputs": [],
   "source": [
    "optimizer_file_name = optimizers_folder + model_name + '_' + 'optimizer_stg2.json'\n",
    "result_file = result_folder + model_name + \"_\" + \"result_optimizer_stg2.csv\"\n",
    "df_hate_stg2 = pd.read_csv(data_folder + \"implicit_hate_test_stg2.csv\", encoding=\"utf-8\")"
   ]
  },
  {
   "cell_type": "code",
   "execution_count": 37,
   "id": "569a0504-18a6-4470-a11d-a8bbe9320cf6",
   "metadata": {},
   "outputs": [],
   "source": [
    "if debug_mode:\n",
    "    df_hate_stg2 = df_hate_stg2.sample(2)"
   ]
  },
  {
   "cell_type": "code",
   "execution_count": 38,
   "id": "21b3da5f-6f0c-4ae2-acbc-c704ee01a526",
   "metadata": {},
   "outputs": [],
   "source": [
    "# Reload saved optimizer\n",
    "optimized_classify_implicit_hate = classify_implicit_hate\n",
    "optimized_classify_implicit_hate.load(optimizer_file_name)\n",
    "optimized_classify_stage_2(optimized_classify_implicit_hate, df_hate_stg2, result_file, True)"
   ]
  },
  {
   "cell_type": "code",
   "execution_count": null,
   "id": "79bc183b-d38f-4d12-9556-78849a3cbacc",
   "metadata": {},
   "outputs": [],
   "source": []
  },
  {
   "cell_type": "markdown",
   "id": "bdb4513e-2650-4463-bea6-38bd14546175",
   "metadata": {},
   "source": [
    "## Optimization stage 3"
   ]
  },
  {
   "cell_type": "code",
   "execution_count": 39,
   "id": "6687a053-dd9b-4ac7-9c59-6c8d572dc500",
   "metadata": {},
   "outputs": [],
   "source": [
    "warnings.filterwarnings(\"ignore\")\n",
    "logging.set_verbosity_error()"
   ]
  },
  {
   "cell_type": "code",
   "execution_count": 40,
   "id": "99664f62-1415-405f-a580-f7505afacb69",
   "metadata": {},
   "outputs": [],
   "source": [
    "def optimized_classify_stage_3(optimizer, df_hate, result_file, initialize = False):\n",
    "    \n",
    "    if initialize:\n",
    "        # Regenerate output file\n",
    "        df = pd.DataFrame(columns = ['post_id', 'target', 'implied_statement'])\n",
    "        df.to_csv(result_file, encoding = \"utf-8\", index = False)\n",
    "    else:\n",
    "        df_elab = pd.read_csv(result_file, encoding = \"utf-8\")\n",
    "        df_hate = df_hate[~df_hate['post_id'].isin(df_elab['post_id'])]\n",
    "\n",
    "    for idx, row in df_hate.iterrows():\n",
    "    \n",
    "        try:            \n",
    "            time.sleep(wait_time)\n",
    "            classification = optimizer(post = row['post'])\n",
    "        \n",
    "            # Classification stage 3\n",
    "            new_row = {\n",
    "                'post_id': row['post_id'], \n",
    "                'target': classification.targeted_group, \n",
    "                'implied_statement': classification.implied_meaning\n",
    "            }\n",
    "            df = pd.DataFrame([new_row])\n",
    "            df.to_csv(result_file, encoding = \"utf-8\", mode='a', index=False, header=False)\n",
    "                      \n",
    "        except:\n",
    "          print(\"An exception occurred \" +  str(row['post_id']) ) "
   ]
  },
  {
   "cell_type": "markdown",
   "id": "6cb1fd7e-ecf9-4e16-b463-00ac270ff583",
   "metadata": {},
   "source": [
    "### Signature"
   ]
  },
  {
   "cell_type": "code",
   "execution_count": 41,
   "id": "63e169e0-e0c5-4635-8e9e-d41973f0acf9",
   "metadata": {},
   "outputs": [],
   "source": [
    "with open(prompt_folder + 'prompt_stg3.txt') as f:\n",
    "    prompt_stg3 = f.read()"
   ]
  },
  {
   "cell_type": "code",
   "execution_count": 42,
   "id": "adfb364f-fbc6-42d1-a084-de8c20d94e02",
   "metadata": {},
   "outputs": [],
   "source": [
    "prompt_tot_stg3 = prompt_stg3.replace(\"{tree_of_thoughts}\", tree_of_thoughts)"
   ]
  },
  {
   "cell_type": "code",
   "execution_count": 43,
   "id": "e819a3b5-50cf-4a7f-910e-6c380f861dd5",
   "metadata": {},
   "outputs": [
    {
     "name": "stdout",
     "output_type": "stream",
     "text": [
      "The following text has been categorized as \"implicit hate speech\", a more complex and subtle attack on a person or a group of people based on their protected characteristics without relying on explicit keywords.\n",
      "\n",
      "Your job is to infer both the targeted group (GROUP) and the stereotype, characteristic, or implication about that group expressed in the text. \n",
      "You have two tasks:\n",
      "\n",
      "Task 1: Identify the targeted group (GROUP).\n",
      "The group might be defined by characteristics such as ethnicity, religion, class, sexual orientation, immigration status, or similar traits. Examples of groups include:\n",
      "\n",
      "-Black folks\n",
      "-Asian folks\n",
      "-Muslims\n",
      "-Jews\n",
      "-Latino/Latina folks\n",
      "-Immigrants\n",
      "\n",
      "\n",
      "Task 2: Determine what stereotype, characteristic, or action is implied about the identified group.\n",
      "Using the group identified in Task 1, describe the implication using a simple phrase. Avoid copying text directly from the text. Examples of such phrases include:\n",
      "\n",
      "-[GROUP] do/does [action]\n",
      "-[GROUP] are [characteristic]\n",
      "-[GROUP] kill [action]\n",
      "-[GROUP] have [trait]\n",
      "-[GROUP] commit [action]\n",
      "\n",
      "For example:\n",
      "\n",
      "\"Women are ***.\"\n",
      "\"Immigrants take ***.\"\n",
      "\"Muslims kill ***.\"\n",
      "\"Liberals are ***.\"\n",
      "\n",
      "Follow this procedure:\n",
      "\n",
      "Imagine three different experts are answering this question.\n",
      "They will brainstorm the answer step by step reasoning carefully and taking all facts into consideration.\n",
      "All experts will write down 1 step of their thinking, then share it with the group.\n",
      "They will each critique their response, and the all the responses of others.\n",
      "They will check their answer on based on the nature of the language and intent.\n",
      "Then all experts will go on to the next step and write down this step of their thinking.\n",
      "They will keep going through steps until they reach their conclusion taking into account the thoughts of the other experts.\n",
      "If at any time they realise that there uncertainty in their logic they will backtrack to where that uncertainty occurred. \n",
      "If any expert realises they're wrong at any point then they acknowledges this and start another train of thought.\n",
      "Each expert will assign a likelihood of their current assertion being correct.\n",
      "Continue until the experts agree on the single most likely classification.\n",
      "\n"
     ]
    }
   ],
   "source": [
    "print(prompt_tot_stg3)"
   ]
  },
  {
   "cell_type": "code",
   "execution_count": 44,
   "id": "77a157e8-f32e-425b-a648-c3a508428a35",
   "metadata": {},
   "outputs": [],
   "source": [
    "class IdentifyImplicitMeaning(dspy.Signature):\n",
    "    prompt_tot_stg3\n",
    "\n",
    "    post: str = dspy.InputField()\n",
    "    targeted_group: str = dspy.OutputField()\n",
    "    implied_meaning : str = dspy.OutputField()\n",
    "\n",
    "indentify_implicit_meaning = dspy.Predict(IdentifyImplicitMeaning)"
   ]
  },
  {
   "cell_type": "markdown",
   "id": "a0f3bbe5-034e-4d4d-b987-b4ed53de1b10",
   "metadata": {},
   "source": [
    "### Metric"
   ]
  },
  {
   "cell_type": "code",
   "execution_count": 45,
   "id": "ed097754-3454-4086-95ab-ae56956638d2",
   "metadata": {},
   "outputs": [],
   "source": [
    "def implied_meaning_metric(example, prediction, trace=None):\n",
    "    time.sleep(1)\n",
    "    P, R, F1 = bert_score.score([example.implied_meaning], [prediction.implied_meaning], lang='en', verbose=False)\n",
    "    bert_f1 = F1.mean().item()\n",
    "\n",
    "    return bert_f1 > 0.90"
   ]
  },
  {
   "cell_type": "markdown",
   "id": "18bc3fae-a824-456c-bfb0-7cb96b46a88e",
   "metadata": {},
   "source": [
    "### Training data"
   ]
  },
  {
   "cell_type": "code",
   "execution_count": 46,
   "id": "8ebaa162-4d85-4ac8-8dba-7bf16cd0a1cf",
   "metadata": {},
   "outputs": [],
   "source": [
    "df_train = pd.read_csv(data_folder + \"implicit_hate_train_stg3.csv\", encoding=\"utf-8\")"
   ]
  },
  {
   "cell_type": "code",
   "execution_count": 47,
   "id": "e2936bac-0351-465e-b5a8-1b19204983c7",
   "metadata": {},
   "outputs": [],
   "source": [
    "# Load the trainset of n samples\n",
    "n = 100\n",
    "trainset = []\n",
    "for index, row in df_train.sample(n).iterrows():\n",
    "    example = dspy.Example(post = row['post'], targeted_group = row['target'], implied_meaning = row['implied_statement']).with_inputs(\"post\")\n",
    "    trainset.append(example)"
   ]
  },
  {
   "cell_type": "markdown",
   "id": "ed3f0505-a3ef-4bf5-9713-0c557e55c321",
   "metadata": {},
   "source": [
    "### Evaluator"
   ]
  },
  {
   "cell_type": "code",
   "execution_count": null,
   "id": "d21a4390-4bb3-487f-bcfc-92a62dc66d36",
   "metadata": {},
   "outputs": [],
   "source": [
    "evaluator = Evaluate(devset = trainset, num_threads = 1, display_progress = True, display_table = 5)\n",
    "evaluator(indentify_implicit_meaning, metric = implied_meaning_metric)"
   ]
  },
  {
   "cell_type": "markdown",
   "id": "643f293b-206f-4b4a-9d3e-8e96acd13500",
   "metadata": {},
   "source": [
    "### Optimization with MIPRO (prompt and examples)"
   ]
  },
  {
   "cell_type": "code",
   "execution_count": null,
   "id": "7ec2c05c-9bd8-47ef-8968-34d4118a8974",
   "metadata": {},
   "outputs": [],
   "source": [
    "print('Samples in trainset: {}'.format(len(trainset)))\n",
    "\n",
    "identify_implicit_meaning_optimizer = dspy.MIPROv2(\n",
    "    metric = implied_meaning_metric, \n",
    "    auto = \"heavy\"\n",
    ")\n",
    "\n",
    "optimized_identify_implicit_meaning = identify_implicit_meaning_optimizer.compile(\n",
    "    indentify_implicit_meaning, \n",
    "    trainset = trainset, \n",
    "    max_labeled_demos = 20, \n",
    "    max_bootstrapped_demos = 20    \n",
    ")"
   ]
  },
  {
   "cell_type": "code",
   "execution_count": null,
   "id": "79c24173-40ab-4791-ad84-b50b78563e75",
   "metadata": {},
   "outputs": [],
   "source": [
    "optimized_identify_implicit_meaning.save(optimizers_folder + model_name + '_' + 'optimizer_stg3.json')"
   ]
  },
  {
   "cell_type": "markdown",
   "id": "1dce6abb-615a-436e-b12e-e4d7157568de",
   "metadata": {},
   "source": [
    "### Run optimized classifier"
   ]
  },
  {
   "cell_type": "code",
   "execution_count": 49,
   "id": "ed9ad0c7-d5df-4539-a88e-c0014c979cf1",
   "metadata": {},
   "outputs": [],
   "source": [
    "optimizer_file_name = optimizers_folder + model_name + '_' + 'optimizer_stg3.json'\n",
    "result_file = result_folder + model_name + '_' + 'result_optimizer_stg3.csv'\n",
    "df_hate = pd.read_csv(data_folder + \"implicit_hate_test_stg3.csv\", encoding = \"utf-8\")\n",
    "df_hate = df_hate[['post_id', 'post']].drop_duplicates()"
   ]
  },
  {
   "cell_type": "code",
   "execution_count": 50,
   "id": "8381fcc9-f3d5-4868-bf24-593227cc5798",
   "metadata": {},
   "outputs": [],
   "source": [
    "if debug_mode:\n",
    "    df_hate = df_hate.sample(2)"
   ]
  },
  {
   "cell_type": "code",
   "execution_count": 52,
   "id": "7ffd07d8-7e49-4c9c-a1a2-e64ff75087a5",
   "metadata": {},
   "outputs": [],
   "source": [
    "optimized_identify_implicit_meaning = indentify_implicit_meaning\n",
    "optimized_identify_implicit_meaning.load(optimizer_file_name)\n",
    "optimized_classify_stage_3(optimized_identify_implicit_meaning, df_hate, result_file, True)"
   ]
  },
  {
   "cell_type": "code",
   "execution_count": null,
   "id": "a4b4cd5c-bd23-49c1-a1b5-49076ffb89ac",
   "metadata": {},
   "outputs": [],
   "source": []
  }
 ],
 "metadata": {
  "kernelspec": {
   "display_name": "Python 3 (ipykernel)",
   "language": "python",
   "name": "python3"
  },
  "language_info": {
   "codemirror_mode": {
    "name": "ipython",
    "version": 3
   },
   "file_extension": ".py",
   "mimetype": "text/x-python",
   "name": "python",
   "nbconvert_exporter": "python",
   "pygments_lexer": "ipython3",
   "version": "3.12.3"
  }
 },
 "nbformat": 4,
 "nbformat_minor": 5
}
