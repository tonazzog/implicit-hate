{
 "cells": [
  {
   "cell_type": "markdown",
   "id": "15551161147cd191",
   "metadata": {
    "collapsed": false,
    "jupyter": {
     "outputs_hidden": false
    }
   },
   "source": [
    "# Dataset preparation"
   ]
  },
  {
   "cell_type": "code",
   "execution_count": 1,
   "id": "3a7923e0-bf5d-4129-90c9-de49f5880b39",
   "metadata": {},
   "outputs": [],
   "source": [
    "import pandas as pd\n",
    "import matplotlib.pyplot as plt"
   ]
  },
  {
   "cell_type": "code",
   "execution_count": 4,
   "id": "ceaa346f-2242-414b-bf92-ee04238d1afb",
   "metadata": {},
   "outputs": [],
   "source": [
    "corpus_folder = './corpus/'\n",
    "data_folder = './data/'"
   ]
  },
  {
   "cell_type": "markdown",
   "id": "61c72617-d883-4c74-bb4e-409b3fd0fef8",
   "metadata": {},
   "source": [
    "## Stage 1: High Level Categorization"
   ]
  },
  {
   "cell_type": "markdown",
   "id": "b7ef6dad-9119-45d4-a242-b95ac766aebe",
   "metadata": {},
   "source": [
    "[Original dataset](https://github.com/SALT-NLP/implicit-hate)"
   ]
  },
  {
   "cell_type": "code",
   "execution_count": 5,
   "id": "d3b05fef-5234-4dd6-9d53-2a2b847b36d4",
   "metadata": {},
   "outputs": [],
   "source": [
    "df_hate = pd.read_csv(corpus_folder + 'implicit_hate_v1_stg1_posts.tsv', sep = '\\t')"
   ]
  },
  {
   "cell_type": "code",
   "execution_count": 6,
   "id": "4baa7a36-8fc8-4f49-94c0-86067f5f1de2",
   "metadata": {},
   "outputs": [],
   "source": [
    "# Create internal id for reference\n",
    "df_hate['post_id'] = range(len(df_hate))\n",
    "df_hate['post_id'] = df_hate['post_id'] + 1\n",
    "df_hate = df_hate[ ['post_id'] + [ col for col in df_hate.columns if col != 'post_id' ] ]"
   ]
  },
  {
   "cell_type": "code",
   "execution_count": 7,
   "id": "d14fa76f-eeec-48c0-9231-de01f9ecea94",
   "metadata": {},
   "outputs": [
    {
     "data": {
      "text/html": [
       "<div>\n",
       "<style scoped>\n",
       "    .dataframe tbody tr th:only-of-type {\n",
       "        vertical-align: middle;\n",
       "    }\n",
       "\n",
       "    .dataframe tbody tr th {\n",
       "        vertical-align: top;\n",
       "    }\n",
       "\n",
       "    .dataframe thead th {\n",
       "        text-align: right;\n",
       "    }\n",
       "</style>\n",
       "<table border=\"1\" class=\"dataframe\">\n",
       "  <thead>\n",
       "    <tr style=\"text-align: right;\">\n",
       "      <th></th>\n",
       "      <th>post_id</th>\n",
       "      <th>post</th>\n",
       "      <th>class</th>\n",
       "    </tr>\n",
       "  </thead>\n",
       "  <tbody>\n",
       "    <tr>\n",
       "      <th>0</th>\n",
       "      <td>1</td>\n",
       "      <td>\" : jewish harvard professor noel ignatiev w...</td>\n",
       "      <td>implicit_hate</td>\n",
       "    </tr>\n",
       "    <tr>\n",
       "      <th>1</th>\n",
       "      <td>2</td>\n",
       "      <td>b.higher education is a part of european cult...</td>\n",
       "      <td>not_hate</td>\n",
       "    </tr>\n",
       "    <tr>\n",
       "      <th>2</th>\n",
       "      <td>3</td>\n",
       "      <td>has a problem with  \" the whites \" \" and \" \" ...</td>\n",
       "      <td>not_hate</td>\n",
       "    </tr>\n",
       "    <tr>\n",
       "      <th>3</th>\n",
       "      <td>4</td>\n",
       "      <td>is yasir qadhi a hate preacher for calling ch...</td>\n",
       "      <td>not_hate</td>\n",
       "    </tr>\n",
       "    <tr>\n",
       "      <th>4</th>\n",
       "      <td>5</td>\n",
       "      <td>rt  \" : how three million germans mass murder...</td>\n",
       "      <td>not_hate</td>\n",
       "    </tr>\n",
       "  </tbody>\n",
       "</table>\n",
       "</div>"
      ],
      "text/plain": [
       "   post_id                                               post          class\n",
       "0        1    \" : jewish harvard professor noel ignatiev w...  implicit_hate\n",
       "1        2   b.higher education is a part of european cult...       not_hate\n",
       "2        3   has a problem with  \" the whites \" \" and \" \" ...       not_hate\n",
       "3        4   is yasir qadhi a hate preacher for calling ch...       not_hate\n",
       "4        5   rt  \" : how three million germans mass murder...       not_hate"
      ]
     },
     "execution_count": 7,
     "metadata": {},
     "output_type": "execute_result"
    }
   ],
   "source": [
    "df_hate.head()"
   ]
  },
  {
   "cell_type": "code",
   "execution_count": 8,
   "id": "7620b2ea-eb1b-4ebc-957a-3ff68c67b20b",
   "metadata": {},
   "outputs": [
    {
     "data": {
      "text/plain": [
       "21480"
      ]
     },
     "execution_count": 8,
     "metadata": {},
     "output_type": "execute_result"
    }
   ],
   "source": [
    "len(df_hate)"
   ]
  },
  {
   "cell_type": "code",
   "execution_count": 9,
   "id": "3e937802-c982-4648-92af-2c8eea6716a9",
   "metadata": {},
   "outputs": [
    {
     "data": {
      "text/plain": [
       "array(['implicit_hate', 'not_hate', 'explicit_hate'], dtype=object)"
      ]
     },
     "execution_count": 9,
     "metadata": {},
     "output_type": "execute_result"
    }
   ],
   "source": [
    "df_hate['class'].unique()"
   ]
  },
  {
   "cell_type": "code",
   "execution_count": 10,
   "id": "cb1ccf1f-5483-478b-8a62-01935702c809",
   "metadata": {},
   "outputs": [
    {
     "data": {
      "text/plain": [
       "class\n",
       "explicit_hate     1089\n",
       "implicit_hate     7100\n",
       "not_hate         13291\n",
       "Name: post, dtype: int64"
      ]
     },
     "execution_count": 10,
     "metadata": {},
     "output_type": "execute_result"
    }
   ],
   "source": [
    "df_hate.groupby(['class'])['post'].count()"
   ]
  },
  {
   "cell_type": "code",
   "execution_count": 11,
   "id": "fb632618-a49c-4ffe-9772-69dd5d50c2f1",
   "metadata": {},
   "outputs": [
    {
     "data": {
      "text/plain": [
       "<Axes: xlabel='class'>"
      ]
     },
     "execution_count": 11,
     "metadata": {},
     "output_type": "execute_result"
    },
    {
     "data": {
      "image/png": "[encoded data removed]",
      "text/plain": [
       "<Figure size 640x480 with 1 Axes>"
      ]
     },
     "metadata": {},
     "output_type": "display_data"
    }
   ],
   "source": [
    "df_hate.groupby(['class'])['post'].count().plot(kind='bar')"
   ]
  },
  {
   "cell_type": "markdown",
   "id": "deb0b370-a80a-4079-a120-5bd340809d7e",
   "metadata": {},
   "source": [
    "### Creation of test dataset"
   ]
  },
  {
   "cell_type": "code",
   "execution_count": 12,
   "id": "4b5ec05d-7706-48e4-babc-c105e011f672",
   "metadata": {},
   "outputs": [],
   "source": [
    "# size : 15% of original dataset (considering only implicit_hate and not_hate)\n",
    "df_test = df_hate[df_hate['class'] != 'explicit_hate'].sample(3000)"
   ]
  },
  {
   "cell_type": "code",
   "execution_count": 13,
   "id": "a7bec993-8525-4bfa-a93a-ca5bf01d922d",
   "metadata": {},
   "outputs": [
    {
     "data": {
      "text/html": [
       "<div>\n",
       "<style scoped>\n",
       "    .dataframe tbody tr th:only-of-type {\n",
       "        vertical-align: middle;\n",
       "    }\n",
       "\n",
       "    .dataframe tbody tr th {\n",
       "        vertical-align: top;\n",
       "    }\n",
       "\n",
       "    .dataframe thead th {\n",
       "        text-align: right;\n",
       "    }\n",
       "</style>\n",
       "<table border=\"1\" class=\"dataframe\">\n",
       "  <thead>\n",
       "    <tr style=\"text-align: right;\">\n",
       "      <th></th>\n",
       "      <th>post_id</th>\n",
       "      <th>post</th>\n",
       "      <th>class</th>\n",
       "    </tr>\n",
       "  </thead>\n",
       "  <tbody>\n",
       "    <tr>\n",
       "      <th>12043</th>\n",
       "      <td>12044</td>\n",
       "      <td>black supremacist screaming  \" i hate white p...</td>\n",
       "      <td>not_hate</td>\n",
       "    </tr>\n",
       "    <tr>\n",
       "      <th>18813</th>\n",
       "      <td>18814</td>\n",
       "      <td>manishankar iyer comment on modi needs no comm...</td>\n",
       "      <td>not_hate</td>\n",
       "    </tr>\n",
       "    <tr>\n",
       "      <th>9908</th>\n",
       "      <td>9909</td>\n",
       "      <td>repeating trump's slogan  showing he's a bipar...</td>\n",
       "      <td>not_hate</td>\n",
       "    </tr>\n",
       "    <tr>\n",
       "      <th>931</th>\n",
       "      <td>932</td>\n",
       "      <td>you know it's #fakenews when an organization c...</td>\n",
       "      <td>implicit_hate</td>\n",
       "    </tr>\n",
       "    <tr>\n",
       "      <th>14771</th>\n",
       "      <td>14772</td>\n",
       "      <td>you can larp as a revolutionary all you want b...</td>\n",
       "      <td>not_hate</td>\n",
       "    </tr>\n",
       "  </tbody>\n",
       "</table>\n",
       "</div>"
      ],
      "text/plain": [
       "       post_id                                               post  \\\n",
       "12043    12044   black supremacist screaming  \" i hate white p...   \n",
       "18813    18814  manishankar iyer comment on modi needs no comm...   \n",
       "9908      9909  repeating trump's slogan  showing he's a bipar...   \n",
       "931        932  you know it's #fakenews when an organization c...   \n",
       "14771    14772  you can larp as a revolutionary all you want b...   \n",
       "\n",
       "               class  \n",
       "12043       not_hate  \n",
       "18813       not_hate  \n",
       "9908        not_hate  \n",
       "931    implicit_hate  \n",
       "14771       not_hate  "
      ]
     },
     "execution_count": 13,
     "metadata": {},
     "output_type": "execute_result"
    }
   ],
   "source": [
    "df_test.head()"
   ]
  },
  {
   "cell_type": "code",
   "execution_count": 11,
   "id": "477cf556-51f5-484e-8bbc-bd0e292d39d5",
   "metadata": {},
   "outputs": [
    {
     "data": {
      "text/plain": [
       "<Axes: xlabel='class'>"
      ]
     },
     "execution_count": 11,
     "metadata": {},
     "output_type": "execute_result"
    },
    {
     "data": {
      "image/png": "[encoded data removed]",
      "text/plain": [
       "<Figure size 640x480 with 1 Axes>"
      ]
     },
     "metadata": {},
     "output_type": "display_data"
    }
   ],
   "source": [
    "df_test.groupby(['class'])['post'].count().plot(kind='bar')"
   ]
  },
  {
   "cell_type": "code",
   "execution_count": 14,
   "id": "a569bc14-07b2-426f-a786-a52fd2e7e70c",
   "metadata": {},
   "outputs": [],
   "source": [
    "# Save as csv\n",
    "df_test.to_csv(data_folder + \"implicit_hate_test_stg1.csv\", index = False, encoding = 'utf-8')"
   ]
  },
  {
   "cell_type": "markdown",
   "id": "4550e866-832c-423d-aa77-d6fe22d6f899",
   "metadata": {},
   "source": [
    "### Creation of train dataset"
   ]
  },
  {
   "cell_type": "code",
   "execution_count": 15,
   "id": "65586d43-afea-4d53-8c3c-905acc290b71",
   "metadata": {},
   "outputs": [],
   "source": [
    "df_test = pd.read_csv(data_folder + \"implicit_hate_test_stg1.csv\", encoding = 'utf-8')"
   ]
  },
  {
   "cell_type": "code",
   "execution_count": 16,
   "id": "d1ca1dcc-387d-4c48-8a47-e9f76852e7cd",
   "metadata": {},
   "outputs": [],
   "source": [
    "df_train = df_hate[(df_hate['class'] != 'explicit_hate') & (~df_hate['post_id'].isin(df_test['post_id']))].sample(500)"
   ]
  },
  {
   "cell_type": "code",
   "execution_count": 17,
   "id": "9c638c28-acf7-4c0b-b02d-b5428cca7887",
   "metadata": {},
   "outputs": [],
   "source": [
    "df_train.to_csv(data_folder + \"implicit_hate_train_stg1.csv\", index = False, encoding = 'utf-8')"
   ]
  },
  {
   "cell_type": "code",
   "execution_count": 18,
   "id": "12f5a893-8b50-4222-aeee-af3b3a4fe418",
   "metadata": {},
   "outputs": [
    {
     "data": {
      "text/plain": [
       "<Axes: xlabel='class'>"
      ]
     },
     "execution_count": 18,
     "metadata": {},
     "output_type": "execute_result"
    },
    {
     "data": {
      "image/png": "[encoded data removed]",
      "text/plain": [
       "<Figure size 640x480 with 1 Axes>"
      ]
     },
     "metadata": {},
     "output_type": "display_data"
    }
   ],
   "source": [
    "df_train.groupby(['class'])['post'].count().plot(kind='bar')"
   ]
  },
  {
   "cell_type": "markdown",
   "id": "afca4989-2805-4567-a797-dcdd716b48b6",
   "metadata": {},
   "source": [
    "## Stage 2: Fine-Grained Implicit Hate"
   ]
  },
  {
   "cell_type": "code",
   "execution_count": 19,
   "id": "26faaa67-9f2d-4e1b-8faa-7105ba61d6b9",
   "metadata": {},
   "outputs": [],
   "source": [
    "df_class = pd.read_csv(corpus_folder + 'implicit_hate_v1_stg2_posts.tsv', sep = '\\t')"
   ]
  },
  {
   "cell_type": "code",
   "execution_count": 20,
   "id": "e9483f47-33f3-4dbd-8b8d-0dbab3fea7cc",
   "metadata": {},
   "outputs": [
    {
     "data": {
      "text/plain": [
       "6346"
      ]
     },
     "execution_count": 20,
     "metadata": {},
     "output_type": "execute_result"
    }
   ],
   "source": [
    "len(df_class)"
   ]
  },
  {
   "cell_type": "code",
   "execution_count": 21,
   "id": "0b2c9e94-1134-4a30-aeac-34e2b17572f5",
   "metadata": {},
   "outputs": [
    {
     "data": {
      "text/html": [
       "<div>\n",
       "<style scoped>\n",
       "    .dataframe tbody tr th:only-of-type {\n",
       "        vertical-align: middle;\n",
       "    }\n",
       "\n",
       "    .dataframe tbody tr th {\n",
       "        vertical-align: top;\n",
       "    }\n",
       "\n",
       "    .dataframe thead th {\n",
       "        text-align: right;\n",
       "    }\n",
       "</style>\n",
       "<table border=\"1\" class=\"dataframe\">\n",
       "  <thead>\n",
       "    <tr style=\"text-align: right;\">\n",
       "      <th></th>\n",
       "      <th>post</th>\n",
       "      <th>implicit_class</th>\n",
       "      <th>extra_implicit_class</th>\n",
       "    </tr>\n",
       "  </thead>\n",
       "  <tbody>\n",
       "    <tr>\n",
       "      <th>0</th>\n",
       "      <td>\" : jewish harvard professor noel ignatiev w...</td>\n",
       "      <td>white_grievance</td>\n",
       "      <td>NaN</td>\n",
       "    </tr>\n",
       "    <tr>\n",
       "      <th>1</th>\n",
       "      <td>rt : tune in today's jmt for my interview w /...</td>\n",
       "      <td>irony</td>\n",
       "      <td>NaN</td>\n",
       "    </tr>\n",
       "    <tr>\n",
       "      <th>2</th>\n",
       "      <td>: : hate posters ? you want hate buddy ? read ...</td>\n",
       "      <td>white_grievance</td>\n",
       "      <td>NaN</td>\n",
       "    </tr>\n",
       "    <tr>\n",
       "      <th>3</th>\n",
       "      <td>: hunt for white women : black racist serial k...</td>\n",
       "      <td>stereotypical</td>\n",
       "      <td>NaN</td>\n",
       "    </tr>\n",
       "    <tr>\n",
       "      <th>4</th>\n",
       "      <td>: looks like he was a fan of the islamic jew-h...</td>\n",
       "      <td>stereotypical</td>\n",
       "      <td>NaN</td>\n",
       "    </tr>\n",
       "  </tbody>\n",
       "</table>\n",
       "</div>"
      ],
      "text/plain": [
       "                                                post   implicit_class  \\\n",
       "0    \" : jewish harvard professor noel ignatiev w...  white_grievance   \n",
       "1   rt : tune in today's jmt for my interview w /...            irony   \n",
       "2  : : hate posters ? you want hate buddy ? read ...  white_grievance   \n",
       "3  : hunt for white women : black racist serial k...    stereotypical   \n",
       "4  : looks like he was a fan of the islamic jew-h...    stereotypical   \n",
       "\n",
       "  extra_implicit_class  \n",
       "0                  NaN  \n",
       "1                  NaN  \n",
       "2                  NaN  \n",
       "3                  NaN  \n",
       "4                  NaN  "
      ]
     },
     "execution_count": 21,
     "metadata": {},
     "output_type": "execute_result"
    }
   ],
   "source": [
    "df_class.head()"
   ]
  },
  {
   "cell_type": "code",
   "execution_count": 22,
   "id": "a045c1f1-11ae-454e-9cd4-ef674a60a385",
   "metadata": {},
   "outputs": [
    {
     "data": {
      "text/plain": [
       "array(['white_grievance', 'irony', 'stereotypical', 'incitement', 'other',\n",
       "       'threatening', 'inferiority'], dtype=object)"
      ]
     },
     "execution_count": 22,
     "metadata": {},
     "output_type": "execute_result"
    }
   ],
   "source": [
    "df_class['implicit_class'].unique()"
   ]
  },
  {
   "cell_type": "code",
   "execution_count": 23,
   "id": "6f0ef103-9337-4963-8488-7697f4671127",
   "metadata": {},
   "outputs": [
    {
     "data": {
      "text/plain": [
       "<Axes: xlabel='implicit_class'>"
      ]
     },
     "execution_count": 23,
     "metadata": {},
     "output_type": "execute_result"
    },
    {
     "data": {
      "image/png": "[encoded data removed]",
      "text/plain": [
       "<Figure size 640x480 with 1 Axes>"
      ]
     },
     "metadata": {},
     "output_type": "display_data"
    }
   ],
   "source": [
    "df_class.groupby(['implicit_class'])['post'].count().plot(kind='bar')"
   ]
  },
  {
   "cell_type": "markdown",
   "id": "a00c4ac9-015a-4ca1-83b6-2f12a0e1dd78",
   "metadata": {},
   "source": [
    "### Creation of test dataset"
   ]
  },
  {
   "cell_type": "code",
   "execution_count": 24,
   "id": "5e09fb9a-399d-4891-aa26-176d5944e0c0",
   "metadata": {},
   "outputs": [],
   "source": [
    "df_test_class = pd.merge(df_test, df_class, on=\"post\")[['post_id', 'post', 'implicit_class']]"
   ]
  },
  {
   "cell_type": "code",
   "execution_count": 25,
   "id": "43200038-eed2-426f-9976-7e11e3ad15f4",
   "metadata": {},
   "outputs": [
    {
     "data": {
      "text/html": [
       "<div>\n",
       "<style scoped>\n",
       "    .dataframe tbody tr th:only-of-type {\n",
       "        vertical-align: middle;\n",
       "    }\n",
       "\n",
       "    .dataframe tbody tr th {\n",
       "        vertical-align: top;\n",
       "    }\n",
       "\n",
       "    .dataframe thead th {\n",
       "        text-align: right;\n",
       "    }\n",
       "</style>\n",
       "<table border=\"1\" class=\"dataframe\">\n",
       "  <thead>\n",
       "    <tr style=\"text-align: right;\">\n",
       "      <th></th>\n",
       "      <th>post_id</th>\n",
       "      <th>post</th>\n",
       "      <th>implicit_class</th>\n",
       "    </tr>\n",
       "  </thead>\n",
       "  <tbody>\n",
       "    <tr>\n",
       "      <th>0</th>\n",
       "      <td>932</td>\n",
       "      <td>you know it's #fakenews when an organization c...</td>\n",
       "      <td>white_grievance</td>\n",
       "    </tr>\n",
       "    <tr>\n",
       "      <th>1</th>\n",
       "      <td>20399</td>\n",
       "      <td>if they r here illegally &amp; have ties 2 terrori...</td>\n",
       "      <td>threatening</td>\n",
       "    </tr>\n",
       "    <tr>\n",
       "      <th>2</th>\n",
       "      <td>7266</td>\n",
       "      <td>the true comparison is what is the ratio of wh...</td>\n",
       "      <td>stereotypical</td>\n",
       "    </tr>\n",
       "    <tr>\n",
       "      <th>3</th>\n",
       "      <td>16480</td>\n",
       "      <td>we are living in a country formed for and by w...</td>\n",
       "      <td>incitement</td>\n",
       "    </tr>\n",
       "    <tr>\n",
       "      <th>4</th>\n",
       "      <td>6497</td>\n",
       "      <td>yes you are fine in a white majority country ....</td>\n",
       "      <td>inferiority</td>\n",
       "    </tr>\n",
       "  </tbody>\n",
       "</table>\n",
       "</div>"
      ],
      "text/plain": [
       "   post_id                                               post   implicit_class\n",
       "0      932  you know it's #fakenews when an organization c...  white_grievance\n",
       "1    20399  if they r here illegally & have ties 2 terrori...      threatening\n",
       "2     7266  the true comparison is what is the ratio of wh...    stereotypical\n",
       "3    16480  we are living in a country formed for and by w...       incitement\n",
       "4     6497  yes you are fine in a white majority country ....      inferiority"
      ]
     },
     "execution_count": 25,
     "metadata": {},
     "output_type": "execute_result"
    }
   ],
   "source": [
    "df_test_class.head()"
   ]
  },
  {
   "cell_type": "code",
   "execution_count": 26,
   "id": "abf79c2f-a53f-46ab-a429-668a1a334095",
   "metadata": {},
   "outputs": [
    {
     "data": {
      "text/plain": [
       "900"
      ]
     },
     "execution_count": 26,
     "metadata": {},
     "output_type": "execute_result"
    }
   ],
   "source": [
    "len(df_test_class)"
   ]
  },
  {
   "cell_type": "code",
   "execution_count": 27,
   "id": "8d79b00c-14d0-4098-9903-bd87a48915e3",
   "metadata": {},
   "outputs": [
    {
     "data": {
      "text/plain": [
       "<Axes: xlabel='implicit_class'>"
      ]
     },
     "execution_count": 27,
     "metadata": {},
     "output_type": "execute_result"
    },
    {
     "data": {
      "image/png": "[encoded data removed]",
      "text/plain": [
       "<Figure size 640x480 with 1 Axes>"
      ]
     },
     "metadata": {},
     "output_type": "display_data"
    }
   ],
   "source": [
    "df_test_class.groupby(['implicit_class'])['post_id'].count().plot(kind='bar')"
   ]
  },
  {
   "cell_type": "code",
   "execution_count": 28,
   "id": "4419c4b7-fe09-4a69-b4cd-ef481e5eec48",
   "metadata": {},
   "outputs": [],
   "source": [
    "df_test_class.to_csv(data_folder + \"implicit_hate_test_stg2.csv\", index = False, encoding = 'utf-8')"
   ]
  },
  {
   "cell_type": "markdown",
   "id": "9aacf789-cf62-419f-8310-1b00eae4828b",
   "metadata": {},
   "source": [
    "### Creation of train dataset"
   ]
  },
  {
   "cell_type": "code",
   "execution_count": 29,
   "id": "927e85fb-f89e-467d-83a8-0a4c96029b2a",
   "metadata": {},
   "outputs": [],
   "source": [
    "df_test_class = pd.read_csv(data_folder + \"implicit_hate_test_stg2.csv\", encoding = 'utf-8')"
   ]
  },
  {
   "cell_type": "code",
   "execution_count": 30,
   "id": "30d5c823-ca58-43ce-af26-f64e41d7bb46",
   "metadata": {},
   "outputs": [],
   "source": [
    "df_train_class = pd.merge(df_hate, df_class, on=\"post\")[['post_id', 'post', 'implicit_class']]"
   ]
  },
  {
   "cell_type": "code",
   "execution_count": 31,
   "id": "718c2c42-e472-46b3-8e05-963df8a99ed0",
   "metadata": {},
   "outputs": [],
   "source": [
    "df_train_class = df_train_class[~df_train_class['post_id'].isin(df_test_class['post_id'])].sample(1000)"
   ]
  },
  {
   "cell_type": "code",
   "execution_count": 32,
   "id": "41cc659a-9204-45fb-8780-e3d118aa7c47",
   "metadata": {},
   "outputs": [
    {
     "data": {
      "text/plain": [
       "1000"
      ]
     },
     "execution_count": 32,
     "metadata": {},
     "output_type": "execute_result"
    }
   ],
   "source": [
    "len(df_train_class)"
   ]
  },
  {
   "cell_type": "code",
   "execution_count": 33,
   "id": "ab413722-370e-4042-ace6-9caea1a1d038",
   "metadata": {},
   "outputs": [],
   "source": [
    "df_train_class.to_csv(data_folder + \"implicit_hate_train_stg2.csv\", index = False, encoding = 'utf-8')"
   ]
  },
  {
   "cell_type": "markdown",
   "id": "ad05f6a5-f30d-43a6-92ad-c933929dcd1f",
   "metadata": {},
   "source": [
    "## Stage 3: Hate Targets and Implied Statement"
   ]
  },
  {
   "cell_type": "code",
   "execution_count": 34,
   "id": "c11db5e3-2613-4473-9295-ce5209405064",
   "metadata": {},
   "outputs": [],
   "source": [
    "df_meaning = pd.read_csv(corpus_folder + 'implicit_hate_v1_stg3_posts.tsv', sep = '\\t')"
   ]
  },
  {
   "cell_type": "code",
   "execution_count": 35,
   "id": "930eb352-0ad6-49bc-8235-5778597bc1e7",
   "metadata": {},
   "outputs": [
    {
     "data": {
      "text/plain": [
       "12036"
      ]
     },
     "execution_count": 35,
     "metadata": {},
     "output_type": "execute_result"
    }
   ],
   "source": [
    "len(df_meaning)"
   ]
  },
  {
   "cell_type": "code",
   "execution_count": 36,
   "id": "258fc6d3-97e8-4c8f-a44b-13e0f99f2fa7",
   "metadata": {},
   "outputs": [
    {
     "data": {
      "text/html": [
       "<div>\n",
       "<style scoped>\n",
       "    .dataframe tbody tr th:only-of-type {\n",
       "        vertical-align: middle;\n",
       "    }\n",
       "\n",
       "    .dataframe tbody tr th {\n",
       "        vertical-align: top;\n",
       "    }\n",
       "\n",
       "    .dataframe thead th {\n",
       "        text-align: right;\n",
       "    }\n",
       "</style>\n",
       "<table border=\"1\" class=\"dataframe\">\n",
       "  <thead>\n",
       "    <tr style=\"text-align: right;\">\n",
       "      <th></th>\n",
       "      <th>post</th>\n",
       "      <th>target</th>\n",
       "      <th>implied_statement</th>\n",
       "    </tr>\n",
       "  </thead>\n",
       "  <tbody>\n",
       "    <tr>\n",
       "      <th>0</th>\n",
       "      <td>rt  \" white privilege \" \" is when the gun jam...</td>\n",
       "      <td>minority groups</td>\n",
       "      <td>people in minority groups are all in gangs</td>\n",
       "    </tr>\n",
       "    <tr>\n",
       "      <th>1</th>\n",
       "      <td>rt  \" white privilege \" \" is when the gun jam...</td>\n",
       "      <td>Black people</td>\n",
       "      <td>Black people are violent</td>\n",
       "    </tr>\n",
       "    <tr>\n",
       "      <th>2</th>\n",
       "      <td>if you are white in that state watch yourself !</td>\n",
       "      <td>non-white people</td>\n",
       "      <td>non-white people are dangerous</td>\n",
       "    </tr>\n",
       "    <tr>\n",
       "      <th>3</th>\n",
       "      <td>if you are white in that state watch yourself !</td>\n",
       "      <td>white people</td>\n",
       "      <td>White people are in danger.</td>\n",
       "    </tr>\n",
       "    <tr>\n",
       "      <th>4</th>\n",
       "      <td>so the 500 % increase in h1b visas ? yeah i'm ...</td>\n",
       "      <td>Immigrants</td>\n",
       "      <td>Immigrants are undesirable</td>\n",
       "    </tr>\n",
       "  </tbody>\n",
       "</table>\n",
       "</div>"
      ],
      "text/plain": [
       "                                                post            target  \\\n",
       "0   rt  \" white privilege \" \" is when the gun jam...   minority groups   \n",
       "1   rt  \" white privilege \" \" is when the gun jam...      Black people   \n",
       "2    if you are white in that state watch yourself !  non-white people   \n",
       "3    if you are white in that state watch yourself !      white people   \n",
       "4  so the 500 % increase in h1b visas ? yeah i'm ...        Immigrants   \n",
       "\n",
       "                            implied_statement  \n",
       "0  people in minority groups are all in gangs  \n",
       "1                    Black people are violent  \n",
       "2              non-white people are dangerous  \n",
       "3                 White people are in danger.  \n",
       "4                  Immigrants are undesirable  "
      ]
     },
     "execution_count": 36,
     "metadata": {},
     "output_type": "execute_result"
    }
   ],
   "source": [
    "df_meaning.head()"
   ]
  },
  {
   "cell_type": "code",
   "execution_count": 37,
   "id": "73141c3f-cbce-4423-b980-3671eefe4291",
   "metadata": {},
   "outputs": [
    {
     "data": {
      "text/plain": [
       "6359"
      ]
     },
     "execution_count": 37,
     "metadata": {},
     "output_type": "execute_result"
    }
   ],
   "source": [
    "len(df_meaning['post'].unique())"
   ]
  },
  {
   "cell_type": "code",
   "execution_count": 38,
   "id": "dad8a4c9-0bb5-47ab-bc26-c57fbd793e3a",
   "metadata": {},
   "outputs": [
    {
     "data": {
      "text/plain": [
       "1038"
      ]
     },
     "execution_count": 38,
     "metadata": {},
     "output_type": "execute_result"
    }
   ],
   "source": [
    "len(df_meaning['target'].unique())"
   ]
  },
  {
   "cell_type": "markdown",
   "id": "bfe20dff-b37b-4210-8d19-780cc1c77b67",
   "metadata": {},
   "source": [
    "### Creation of test dataset"
   ]
  },
  {
   "cell_type": "code",
   "execution_count": 39,
   "id": "6b069548-bb97-40ee-9a19-a70d6b48bbd4",
   "metadata": {},
   "outputs": [],
   "source": [
    "df_test_meaning = pd.merge(df_test, df_meaning, on=\"post\")[['post_id', 'post', 'target', 'implied_statement']]"
   ]
  },
  {
   "cell_type": "code",
   "execution_count": 40,
   "id": "b970b1cd-ef53-4977-9456-85683fc85644",
   "metadata": {},
   "outputs": [
    {
     "data": {
      "text/html": [
       "<div>\n",
       "<style scoped>\n",
       "    .dataframe tbody tr th:only-of-type {\n",
       "        vertical-align: middle;\n",
       "    }\n",
       "\n",
       "    .dataframe tbody tr th {\n",
       "        vertical-align: top;\n",
       "    }\n",
       "\n",
       "    .dataframe thead th {\n",
       "        text-align: right;\n",
       "    }\n",
       "</style>\n",
       "<table border=\"1\" class=\"dataframe\">\n",
       "  <thead>\n",
       "    <tr style=\"text-align: right;\">\n",
       "      <th></th>\n",
       "      <th>post_id</th>\n",
       "      <th>post</th>\n",
       "      <th>target</th>\n",
       "      <th>implied_statement</th>\n",
       "    </tr>\n",
       "  </thead>\n",
       "  <tbody>\n",
       "    <tr>\n",
       "      <th>0</th>\n",
       "      <td>932</td>\n",
       "      <td>you know it's #fakenews when an organization c...</td>\n",
       "      <td>whites</td>\n",
       "      <td>whites are racists</td>\n",
       "    </tr>\n",
       "    <tr>\n",
       "      <th>1</th>\n",
       "      <td>932</td>\n",
       "      <td>you know it's #fakenews when an organization c...</td>\n",
       "      <td>Black folks</td>\n",
       "      <td>Black people are racists</td>\n",
       "    </tr>\n",
       "    <tr>\n",
       "      <th>2</th>\n",
       "      <td>932</td>\n",
       "      <td>you know it's #fakenews when an organization c...</td>\n",
       "      <td>Liberals</td>\n",
       "      <td>Liberals are liars</td>\n",
       "    </tr>\n",
       "    <tr>\n",
       "      <th>3</th>\n",
       "      <td>20399</td>\n",
       "      <td>if they r here illegally &amp; have ties 2 terrori...</td>\n",
       "      <td>Muslims</td>\n",
       "      <td>should be deported.</td>\n",
       "    </tr>\n",
       "    <tr>\n",
       "      <th>4</th>\n",
       "      <td>20399</td>\n",
       "      <td>if they r here illegally &amp; have ties 2 terrori...</td>\n",
       "      <td>immigrants</td>\n",
       "      <td>immigrants are terrorists</td>\n",
       "    </tr>\n",
       "  </tbody>\n",
       "</table>\n",
       "</div>"
      ],
      "text/plain": [
       "   post_id                                               post       target  \\\n",
       "0      932  you know it's #fakenews when an organization c...       whites   \n",
       "1      932  you know it's #fakenews when an organization c...  Black folks   \n",
       "2      932  you know it's #fakenews when an organization c...     Liberals   \n",
       "3    20399  if they r here illegally & have ties 2 terrori...      Muslims   \n",
       "4    20399  if they r here illegally & have ties 2 terrori...   immigrants   \n",
       "\n",
       "           implied_statement  \n",
       "0         whites are racists  \n",
       "1   Black people are racists  \n",
       "2         Liberals are liars  \n",
       "3        should be deported.  \n",
       "4  immigrants are terrorists  "
      ]
     },
     "execution_count": 40,
     "metadata": {},
     "output_type": "execute_result"
    }
   ],
   "source": [
    "df_test_meaning.head()"
   ]
  },
  {
   "cell_type": "code",
   "execution_count": 41,
   "id": "0d486d30-56d1-4f2f-81b6-02a80fa0ce03",
   "metadata": {},
   "outputs": [
    {
     "data": {
      "text/plain": [
       "1653"
      ]
     },
     "execution_count": 41,
     "metadata": {},
     "output_type": "execute_result"
    }
   ],
   "source": [
    "len(df_test_meaning)"
   ]
  },
  {
   "cell_type": "code",
   "execution_count": 42,
   "id": "11132ab1-de18-43f3-b2a1-8b5a8305a3d9",
   "metadata": {},
   "outputs": [],
   "source": [
    "df_test_meaning.to_csv(data_folder + \"implicit_hate_test_stg3.csv\", index = False, encoding = 'utf-8')"
   ]
  },
  {
   "cell_type": "markdown",
   "id": "4c7c90e3-7fc1-41e6-9f15-49b645b39a33",
   "metadata": {},
   "source": [
    "### Creation of train dataset"
   ]
  },
  {
   "cell_type": "code",
   "execution_count": 43,
   "id": "fa67913e-e0bc-4dd6-95e0-d31cbe3142ad",
   "metadata": {},
   "outputs": [],
   "source": [
    "df_test_meaning = pd.read_csv(data_folder + \"implicit_hate_test_stg3.csv\", encoding = 'utf-8')"
   ]
  },
  {
   "cell_type": "code",
   "execution_count": 44,
   "id": "2723ea4c-dba7-4420-aa41-422a83b31cd8",
   "metadata": {},
   "outputs": [],
   "source": [
    "df_train_meaning = pd.merge(df_hate, df_meaning, on=\"post\")[['post_id', 'post', 'target', 'implied_statement']]"
   ]
  },
  {
   "cell_type": "code",
   "execution_count": 45,
   "id": "de2ccf2c-8cb9-4eda-a929-c873100b5dde",
   "metadata": {},
   "outputs": [],
   "source": [
    "df_train_meaning = df_train_meaning[~df_train_meaning['post_id'].isin(df_test_meaning['post_id'])].sample(1000)"
   ]
  },
  {
   "cell_type": "code",
   "execution_count": 46,
   "id": "d8cc2f7c-c6f1-46a8-9e8a-d614a67e9edf",
   "metadata": {},
   "outputs": [],
   "source": [
    "df_train_meaning.to_csv(data_folder + \"implicit_hate_train_stg3.csv\", index = False, encoding = 'utf-8')"
   ]
  },
  {
   "cell_type": "code",
   "execution_count": null,
   "id": "5e899ebc-b769-4c61-b662-50fd26f66dd9",
   "metadata": {},
   "outputs": [],
   "source": []
  }
 ],
 "metadata": {
  "kernelspec": {
   "display_name": "Python 3 (ipykernel)",
   "language": "python",
   "name": "python3"
  },
  "language_info": {
   "codemirror_mode": {
    "name": "ipython",
    "version": 3
   },
   "file_extension": ".py",
   "mimetype": "text/x-python",
   "name": "python",
   "nbconvert_exporter": "python",
   "pygments_lexer": "ipython3",
   "version": "3.12.3"
  }
 },
 "nbformat": 4,
 "nbformat_minor": 5
}
