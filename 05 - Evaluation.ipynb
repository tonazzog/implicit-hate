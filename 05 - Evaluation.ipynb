{
 "cells": [
  {
   "cell_type": "markdown",
   "id": "a2378a39-1324-40e5-8338-5decf4e01f5b",
   "metadata": {},
   "source": [
    "# Evaluation"
   ]
  },
  {
   "cell_type": "markdown",
   "id": "9940154d-0bcd-4023-9e64-d6f311d741e0",
   "metadata": {},
   "source": [
    "References for text similarity metrics: \\\n",
    "[BLEU Score](https://towardsdatascience.com/foundations-of-nlp-explained-bleu-score-and-wer-metrics-1a5ba06d812b) -\n",
    "[ROUGE Score](https://medium.com/@eren9677/text-summarization-387836c9e178) -\n",
    "[NIST Score](https://aclanthology.org/www.mt-archive.info/HLT-2002-Doddington.pdf) -\n",
    "[METEOR Score](https://aclanthology.org/W05-0909.pdf) -\n",
    "[BERT Score](https://arxiv.org/pdf/1904.09675) -\n",
    "[BLEURT Score](https://aclanthology.org/2020.acl-main.704.pdf)"
   ]
  },
  {
   "cell_type": "markdown",
   "id": "995db7df-1f92-4a33-84ce-0f2cb9912b0f",
   "metadata": {},
   "source": [
    "[BLEURT installation](https://github.com/google-research/bleurt)"
   ]
  },
  {
   "cell_type": "code",
   "execution_count": null,
   "id": "2fc9c82c-106a-445d-9bbb-74f80e7f42c7",
   "metadata": {},
   "outputs": [],
   "source": [
    "#import os\n",
    "#!git clone https://github.com/google-research/bleurt.git\n",
    "#os.chdir('bleurt')\n",
    "#!pip install .\n",
    "#os.chdir('..')\n",
    "#!wget https://storage.googleapis.com/bleurt-oss-21/BLEURT-20.zip .\n",
    "#!unzip BLEURT-20.zip"
   ]
  },
  {
   "cell_type": "code",
   "execution_count": 1,
   "id": "fdc157eb-5d58-4c53-a3c2-0dbffd9caa6e",
   "metadata": {},
   "outputs": [],
   "source": [
    "import pandas as pd\n",
    "from sklearn import metrics\n",
    "from sklearn.metrics import f1_score, precision_score, recall_score, accuracy_score, classification_report\n",
    "import nltk\n",
    "from nltk.translate.bleu_score import sentence_bleu, SmoothingFunction\n",
    "from nltk.translate.meteor_score import meteor_score\n",
    "from nltk.translate.nist_score import sentence_nist\n",
    "from rouge_score import rouge_scorer\n",
    "import bert_score\n",
    "from bleurt import score as bleurt_score\n",
    "import numpy as np\n",
    "import matplotlib.pyplot as plt\n",
    "import seaborn as sns\n",
    "import glob\n",
    "import json\n",
    "import warnings\n",
    "from pydantic import BaseModel, Field\n",
    "from typing import Optional, TypedDict, Literal\n",
    "from transformers import logging\n",
    "from matplotlib.cm import get_cmap"
   ]
  },
  {
   "cell_type": "markdown",
   "id": "044a2b07-854a-4177-af6f-3b5ff9ac7f61",
   "metadata": {},
   "source": [
    "#### Settings"
   ]
  },
  {
   "cell_type": "code",
   "execution_count": 2,
   "id": "0a81500d-e1a5-44f2-9d9b-5c0003d4dd95",
   "metadata": {},
   "outputs": [],
   "source": [
    "warnings.filterwarnings(\"ignore\")\n",
    "logging.set_verbosity_error()"
   ]
  },
  {
   "cell_type": "code",
   "execution_count": 3,
   "id": "e63ee9dc-572a-4299-aa8b-a9c73fd7fd61",
   "metadata": {},
   "outputs": [],
   "source": [
    "data_folder = './data/'\n",
    "result_folder = './results/'"
   ]
  },
  {
   "cell_type": "code",
   "execution_count": 4,
   "id": "2f331345-6713-4a5f-a6bb-22bb340a7bac",
   "metadata": {},
   "outputs": [],
   "source": [
    "debug_mode = False # set to True to test evaluation of stage 3"
   ]
  },
  {
   "cell_type": "markdown",
   "id": "4a9b4ace-ba65-41c9-9c22-464e979805d0",
   "metadata": {},
   "source": [
    "#### LLM"
   ]
  },
  {
   "cell_type": "code",
   "execution_count": 4,
   "id": "f5c98b04-90c7-415b-b37d-110ae6408531",
   "metadata": {},
   "outputs": [],
   "source": [
    "model_name = 'mistral'"
   ]
  },
  {
   "cell_type": "code",
   "execution_count": 5,
   "id": "9f7d6132-435c-4f04-b71b-3818a19e901d",
   "metadata": {},
   "outputs": [],
   "source": [
    "#model_name = 'deepseek'"
   ]
  },
  {
   "cell_type": "markdown",
   "id": "be5f0a78-9a8d-46e6-9afd-102876f415b4",
   "metadata": {},
   "source": [
    "#### Classes to reload answers from Tree of Thoughts Graph"
   ]
  },
  {
   "cell_type": "code",
   "execution_count": 6,
   "id": "0fbba831-83e0-4ea6-87fa-d74a017f88e2",
   "metadata": {},
   "outputs": [],
   "source": [
    "class HateClassification(BaseModel):\n",
    "    hate_class: Literal['implicit_hate','not_hate']\n",
    "    interpretations : Optional[str]\n",
    "    explanation : Optional[str]\n",
    "    confidence : Optional[float]\n",
    "    recursion_level : int = 0\n",
    "\n",
    "class ImplicitHateClassification(BaseModel):\n",
    "    implicit_class_1: Literal['white_grievance', 'irony', 'stereotypical', 'incitement', 'other', 'threatening', 'inferiority', 'other']\n",
    "    confidence_class_1: float\n",
    "    explanation : str\n",
    "\n",
    "class ImpliedMeaning(BaseModel):\n",
    "    targeted_group: str\n",
    "    implied_statement: str"
   ]
  },
  {
   "cell_type": "code",
   "execution_count": 7,
   "id": "8d41b0c2-845f-4bc0-af29-79fffa08f4c4",
   "metadata": {},
   "outputs": [],
   "source": [
    "def performance_comparison(df_result, title):\n",
    "    \n",
    "    df = df_result.set_index('Strategy').T\n",
    "    \n",
    "    #colors = [\"#4C72B0\", \"#DD8452\", \"#55A868\", \"#8172B3\"]  # Blue, Red, Green, Purple\n",
    "    #colors = [\"#003f5c\", \"#7a5195\", \"#ef5675\", \"#ffa600\"]\n",
    "    #colors = [\"#4f81bd\", \"#c0504d\", \"#9bbb59\", \"#8064a2\"]\n",
    "    colors = [\"#e7f2f8\", \"#74bdcb\", \"#ffa384\", \"#efe7bc\"]\n",
    "    #colors = [\"#5e376d\", \"#bd97cb\", \"#f3eac0\", \"#747080\"]    \n",
    "    #colors = [\"#c6dafc\", \"#7baaf7\", \"#4285f4\", \"#3367d6\"]\n",
    "    #colors = [\"#177e89\", \"#084c61\", \"#db3a34\", \"#ffc857\", \"#323031\"]\n",
    "    \n",
    "    #cmap = plt.get_cmap(\"tab20c\")  # Try \"viridis\", \"Set1\", \"coolwarm\", etc.\n",
    "    #colors = [cmap(i) for i in range(len(df.columns))]  # Assign colors to each metric\n",
    "    \n",
    "\n",
    "    # Plot the bar chart with custom colors and spacing\n",
    "    ax = df.plot(kind=\"bar\", width = 0.8, figsize=(8, 5), color=colors)\n",
    "    \n",
    "    # Add value labels on top of each bar\n",
    "    for container in ax.containers:\n",
    "        ax.bar_label(container, fmt=\"%.2f\", padding=3, fontsize=8, color=\"black\")\n",
    "    \n",
    "    # Customize the chart\n",
    "    plt.title(title + \"\\n\", fontsize=14, fontweight=\"bold\")\n",
    "    plt.ylabel(\"Score\", fontsize=12)\n",
    "    plt.ylim(0, 1)\n",
    "    plt.xticks(rotation=0, fontsize=10)\n",
    "    plt.yticks(fontsize=10)\n",
    "    plt.legend(title=\"Metrics\", fontsize=9, title_fontsize=10, loc=\"upper left\", bbox_to_anchor=(0, 1))\n",
    "    plt.grid(axis=\"y\", linestyle=\"-\", alpha=0.3)\n",
    "    plt.savefig(result_folder + title + '.svg')\n",
    "    # Show the plot\n",
    "    plt.show()\n",
    "    "
   ]
  },
  {
   "cell_type": "code",
   "execution_count": null,
   "id": "0aef9bde-6ec3-47e7-a27f-1e2e6f7894f1",
   "metadata": {},
   "outputs": [],
   "source": []
  },
  {
   "cell_type": "markdown",
   "id": "3034b6f0-6ac7-4584-a895-be145627153e",
   "metadata": {},
   "source": [
    "# Evaluation Stage 1"
   ]
  },
  {
   "cell_type": "code",
   "execution_count": 8,
   "id": "b937d923-ec23-4606-a799-7330bffcc994",
   "metadata": {},
   "outputs": [],
   "source": [
    "test_file_stg1 = data_folder + \"implicit_hate_test_stg1.csv\""
   ]
  },
  {
   "cell_type": "code",
   "execution_count": 9,
   "id": "8c5e9e61-cfb6-4351-8553-dc64da8cfe92",
   "metadata": {},
   "outputs": [],
   "source": [
    "def evaluate_stage_1(strategy, gold_file, pred_file):\n",
    "\n",
    "    digits = 3\n",
    "    \n",
    "    df_gold = pd.read_csv(gold_file, encoding = 'utf-8')\n",
    "    df_pred = pd.read_csv(pred_file, encoding = 'utf-8')\n",
    "\n",
    "    label_selector = ['implicit_hate', 'not_hate' ]\n",
    "    \n",
    "    df_gold = df_gold[df_gold['post_id'].isin(df_pred['post_id'])]\n",
    "    df_pred = df_pred[df_pred['post_id'].isin(df_gold['post_id'])]\n",
    "    \n",
    "    df_gold.sort_values(\"post_id\", axis=0, ascending=True, inplace=True)\n",
    "    df_pred.sort_values(\"post_id\", axis=0, ascending=True, inplace=True)\n",
    "    \n",
    "    labels_gold = df_gold['class']\n",
    "    predictions = df_pred['class']\n",
    "\n",
    "    f1_macro = f1_score(labels_gold, predictions, average = \"macro\")\n",
    "    accuracy = accuracy_score(labels_gold, predictions)\n",
    "    precision = precision_score(labels_gold, predictions, average = \"macro\")\n",
    "    recall = recall_score(labels_gold, predictions, average = \"macro\")\n",
    "    \n",
    "    clf_report = classification_report(labels_gold, predictions, labels = label_selector, target_names = label_selector, digits = digits)\n",
    "    clf_report_dict = classification_report(labels_gold, predictions, labels = label_selector, target_names = label_selector,\n",
    "                                            digits = digits, output_dict=True)\n",
    "    clf_report_df = pd.DataFrame(clf_report_dict)\n",
    "    \n",
    "    values_export = clf_report_df.loc[\"f1-score\", label_selector].T.values\n",
    "    values_export = \"\\t\".join([str(round(v,digits)) for v in values_export])\n",
    "    \n",
    "    report = f\"\"\"F1-macro: {str(round(f1_macro, digits))} accuracy: {str(round(accuracy, digits))} precision: {str(round(precision, digits))} recall: {str(round(recall, digits))} \\n\\n{clf_report}\"\"\"\n",
    "\n",
    "    print('Hate classification - Strategy: ' + strategy + \"\\n\\n\" + report)    \n",
    "\n",
    "    confusion_matrix = metrics.confusion_matrix(labels_gold, predictions,labels = label_selector)\n",
    "    cm_display = metrics.ConfusionMatrixDisplay(confusion_matrix = confusion_matrix, display_labels = label_selector)\n",
    "    \n",
    "    fig, ax = plt.subplots(figsize=(6, 4))\n",
    "    cm_display.plot(cmap=plt.cm.Blues, ax=ax )\n",
    "\n",
    "    plt.show()\n",
    "\n",
    "    return pd.DataFrame([{'Strategy' : strategy, \"F1-macro\" : f1_macro, 'Precision' : precision, 'Recall' : recall, 'Accuracy' : accuracy}])\n",
    "\n",
    "    "
   ]
  },
  {
   "cell_type": "markdown",
   "id": "d3fbe81c-8b7d-4f3b-8306-acc0223c055f",
   "metadata": {},
   "source": [
    "### Baseline"
   ]
  },
  {
   "cell_type": "code",
   "execution_count": 10,
   "id": "caa22017-5e2e-4616-9364-5b46d17837ce",
   "metadata": {},
   "outputs": [
    {
     "name": "stdout",
     "output_type": "stream",
     "text": [
      "Hate classification - Strategy: Baseline\n",
      "\n",
      "F1-macro: 0.6 accuracy: 0.602 precision: 0.701 recall: 0.683 \n",
      "\n",
      "               precision    recall  f1-score   support\n",
      "\n",
      "implicit_hate      0.464     0.949     0.623      1036\n",
      "     not_hate      0.939     0.417     0.578      1947\n",
      "\n",
      "     accuracy                          0.602      2983\n",
      "    macro avg      0.701     0.683     0.600      2983\n",
      " weighted avg      0.774     0.602     0.593      2983\n",
      "\n"
     ]
    },
    {
     "data": {
      "image/png": "[encoded data removed]",
      "text/plain": [
       "<Figure size 600x400 with 2 Axes>"
      ]
     },
     "metadata": {},
     "output_type": "display_data"
    }
   ],
   "source": [
    "result_file_stg1 = result_folder + model_name + \"_result_baseline_stg1.csv\"\n",
    "df_baseline_stg1 = evaluate_stage_1(\n",
    "    'Baseline', \n",
    "    test_file_stg1, \n",
    "    result_file_stg1\n",
    ")"
   ]
  },
  {
   "cell_type": "markdown",
   "id": "82f31f69-a521-4794-b7f0-74f926e58d3d",
   "metadata": {},
   "source": [
    "### Prompt Tree of Thoughts"
   ]
  },
  {
   "cell_type": "code",
   "execution_count": 12,
   "id": "c60f45e4-b4bb-4680-804f-86575377141c",
   "metadata": {},
   "outputs": [
    {
     "name": "stdout",
     "output_type": "stream",
     "text": [
      "Hate classification - Strategy: Prompt ToT\n",
      "\n",
      "F1-macro: 0.641 accuracy: 0.641 precision: 0.71 recall: 0.709 \n",
      "\n",
      "               precision    recall  f1-score   support\n",
      "\n",
      "implicit_hate      0.491     0.930     0.643      1034\n",
      "     not_hate      0.930     0.488     0.640      1947\n",
      "\n",
      "     accuracy                          0.641      2981\n",
      "    macro avg      0.710     0.709     0.641      2981\n",
      " weighted avg      0.777     0.641     0.641      2981\n",
      "\n"
     ]
    },
    {
     "data": {
      "image/png": "[encoded data removed]",
      "text/plain": [
       "<Figure size 600x400 with 2 Axes>"
      ]
     },
     "metadata": {},
     "output_type": "display_data"
    }
   ],
   "source": [
    "result_file_stg1 = result_folder + model_name + \"_result_prompt_tot_stg1.csv\"\n",
    "df_prompt_tot_stg1 = evaluate_stage_1(\n",
    "    \"Prompt ToT\",\n",
    "    test_file_stg1, \n",
    "    result_file_stg1 \n",
    ")"
   ]
  },
  {
   "cell_type": "markdown",
   "id": "a8930f88-b71d-4d03-a59c-e7baa7405b47",
   "metadata": {},
   "source": [
    "### Graph Tree of Thoughts"
   ]
  },
  {
   "cell_type": "code",
   "execution_count": 13,
   "id": "07b02310-a28e-4056-b3ef-c7ecb455fd5a",
   "metadata": {},
   "outputs": [
    {
     "name": "stdout",
     "output_type": "stream",
     "text": [
      "Hate classification - Strategy: Graph ToT\n",
      "\n",
      "F1-macro: 0.676 accuracy: 0.676 precision: 0.719 recall: 0.73 \n",
      "\n",
      "               precision    recall  f1-score   support\n",
      "\n",
      "implicit_hate      0.519     0.908     0.661      1028\n",
      "     not_hate      0.918     0.553     0.691      1934\n",
      "\n",
      "     accuracy                          0.676      2962\n",
      "    macro avg      0.719     0.730     0.676      2962\n",
      " weighted avg      0.780     0.676     0.680      2962\n",
      "\n"
     ]
    },
    {
     "data": {
      "image/png": "[encoded data removed]",
      "text/plain": [
       "<Figure size 600x400 with 2 Axes>"
      ]
     },
     "metadata": {},
     "output_type": "display_data"
    }
   ],
   "source": [
    "result_file_stg1 = result_folder + model_name + \"_result_graph_stg1.csv\"\n",
    "df_graph_stg1 = evaluate_stage_1(\n",
    "    \"Graph ToT\", \n",
    "    test_file_stg1, \n",
    "    result_file_stg1\n",
    ")"
   ]
  },
  {
   "cell_type": "code",
   "execution_count": null,
   "id": "ab0410fb-5951-4d1e-95a3-edd6317a6b5d",
   "metadata": {},
   "outputs": [],
   "source": []
  },
  {
   "cell_type": "markdown",
   "id": "b444abe4-7b06-4359-9cc7-aa9229846f23",
   "metadata": {},
   "source": [
    "### Optimizer MIPRO"
   ]
  },
  {
   "cell_type": "code",
   "execution_count": 14,
   "id": "87ece41c-ea61-473c-8e28-70c66a5fa0a7",
   "metadata": {},
   "outputs": [
    {
     "name": "stdout",
     "output_type": "stream",
     "text": [
      "Hate classification - Strategy: Optimized\n",
      "\n",
      "F1-macro: 0.729 accuracy: 0.736 precision: 0.735 recall: 0.759 \n",
      "\n",
      "               precision    recall  f1-score   support\n",
      "\n",
      "implicit_hate      0.584     0.836     0.688      1045\n",
      "     not_hate      0.886     0.682     0.771      1955\n",
      "\n",
      "     accuracy                          0.736      3000\n",
      "    macro avg      0.735     0.759     0.729      3000\n",
      " weighted avg      0.781     0.736     0.742      3000\n",
      "\n"
     ]
    },
    {
     "data": {
      "image/png": "[encoded data removed]",
      "text/plain": [
       "<Figure size 600x400 with 2 Axes>"
      ]
     },
     "metadata": {},
     "output_type": "display_data"
    }
   ],
   "source": [
    "result_file_stg1 = result_folder + model_name + \"_result_optimizer_stg1.csv\"\n",
    "df_optim_stg1 = evaluate_stage_1(\n",
    "    \"Optimized\", \n",
    "    test_file_stg1, \n",
    "    result_file_stg1\n",
    ")"
   ]
  },
  {
   "cell_type": "code",
   "execution_count": null,
   "id": "55221a37-ab47-4c75-a275-29e2dbcc8e3e",
   "metadata": {},
   "outputs": [],
   "source": []
  },
  {
   "cell_type": "markdown",
   "id": "b7019f85-d29c-4362-850a-45bad2782a3c",
   "metadata": {},
   "source": [
    "## Results Stage 1"
   ]
  },
  {
   "cell_type": "code",
   "execution_count": 15,
   "id": "ee6dc29f-b53c-48f8-b15d-25c09f7ffdcc",
   "metadata": {},
   "outputs": [],
   "source": [
    "df_result_stg1 = pd.concat([df_baseline_stg1, df_prompt_tot_stg1, df_graph_stg1, df_optim_stg1])"
   ]
  },
  {
   "cell_type": "code",
   "execution_count": 20,
   "id": "92fff1ce-9e91-4a43-b8a3-4c3e3d1794f4",
   "metadata": {},
   "outputs": [],
   "source": [
    "df_result_stg1.to_excel(result_folder + model_name + '_evaluation_stg1.xlsx', index = False)"
   ]
  },
  {
   "cell_type": "code",
   "execution_count": 16,
   "id": "0d0da37a-3193-40ef-bf27-843c89b16dd8",
   "metadata": {},
   "outputs": [],
   "source": [
    "df_result_stg1 = pd.read_excel(result_folder + model_name + '_evaluation_stg1.xlsx')"
   ]
  },
  {
   "cell_type": "code",
   "execution_count": 17,
   "id": "b775103d-1940-4fe1-b958-b3814a8d1b3d",
   "metadata": {},
   "outputs": [
    {
     "data": {
      "text/html": [
       "<div>\n",
       "<style scoped>\n",
       "    .dataframe tbody tr th:only-of-type {\n",
       "        vertical-align: middle;\n",
       "    }\n",
       "\n",
       "    .dataframe tbody tr th {\n",
       "        vertical-align: top;\n",
       "    }\n",
       "\n",
       "    .dataframe thead th {\n",
       "        text-align: right;\n",
       "    }\n",
       "</style>\n",
       "<table border=\"1\" class=\"dataframe\">\n",
       "  <thead>\n",
       "    <tr style=\"text-align: right;\">\n",
       "      <th></th>\n",
       "      <th>Strategy</th>\n",
       "      <th>F1-macro</th>\n",
       "      <th>Precision</th>\n",
       "      <th>Recall</th>\n",
       "      <th>Accuracy</th>\n",
       "    </tr>\n",
       "  </thead>\n",
       "  <tbody>\n",
       "    <tr>\n",
       "      <th>0</th>\n",
       "      <td>Baseline</td>\n",
       "      <td>0.600430</td>\n",
       "      <td>0.701423</td>\n",
       "      <td>0.682947</td>\n",
       "      <td>0.601743</td>\n",
       "    </tr>\n",
       "    <tr>\n",
       "      <th>1</th>\n",
       "      <td>Prompt ToT</td>\n",
       "      <td>0.641390</td>\n",
       "      <td>0.710308</td>\n",
       "      <td>0.709149</td>\n",
       "      <td>0.641396</td>\n",
       "    </tr>\n",
       "    <tr>\n",
       "      <th>2</th>\n",
       "      <td>Graph ToT</td>\n",
       "      <td>0.675538</td>\n",
       "      <td>0.718827</td>\n",
       "      <td>0.730423</td>\n",
       "      <td>0.676232</td>\n",
       "    </tr>\n",
       "    <tr>\n",
       "      <th>3</th>\n",
       "      <td>Optimized</td>\n",
       "      <td>0.729331</td>\n",
       "      <td>0.735264</td>\n",
       "      <td>0.759103</td>\n",
       "      <td>0.735667</td>\n",
       "    </tr>\n",
       "  </tbody>\n",
       "</table>\n",
       "</div>"
      ],
      "text/plain": [
       "     Strategy  F1-macro  Precision    Recall  Accuracy\n",
       "0    Baseline  0.600430   0.701423  0.682947  0.601743\n",
       "1  Prompt ToT  0.641390   0.710308  0.709149  0.641396\n",
       "2   Graph ToT  0.675538   0.718827  0.730423  0.676232\n",
       "3   Optimized  0.729331   0.735264  0.759103  0.735667"
      ]
     },
     "execution_count": 17,
     "metadata": {},
     "output_type": "execute_result"
    }
   ],
   "source": [
    "df_result_stg1.head()"
   ]
  },
  {
   "cell_type": "code",
   "execution_count": 18,
   "id": "3e3ecc56-4d2d-41ad-9e8c-88eea714a4cc",
   "metadata": {},
   "outputs": [
    {
     "data": {
      "image/png": "[encoded data removed]",
      "text/plain": [
       "<Figure size 800x500 with 1 Axes>"
      ]
     },
     "metadata": {},
     "output_type": "display_data"
    }
   ],
   "source": [
    "performance_comparison(df_result_stg1, 'Performance Comparison Stage 1 - Hate classification')"
   ]
  },
  {
   "cell_type": "code",
   "execution_count": null,
   "id": "00ae223b-d77c-4b89-8c8f-646e027543b0",
   "metadata": {},
   "outputs": [],
   "source": []
  },
  {
   "cell_type": "markdown",
   "id": "9023f19e-3a98-4ba0-a2a4-c7605f092075",
   "metadata": {},
   "source": [
    "### Qualitative analysis (MIPRO results)"
   ]
  },
  {
   "cell_type": "code",
   "execution_count": 19,
   "id": "376785e8-5c1a-4a96-b044-c45bbd2b457c",
   "metadata": {},
   "outputs": [],
   "source": [
    "df_gold_stg1 = pd.read_csv(data_folder + \"implicit_hate_test_stg1.csv\", encoding = 'utf-8')\n",
    "df_pred_stg1 = pd.read_csv(result_folder + model_name + \"_result_optimizer_stg1.csv\", encoding = 'utf-8')"
   ]
  },
  {
   "cell_type": "markdown",
   "id": "aa97510e-8c1e-45cb-a904-0e68a8803bbb",
   "metadata": {},
   "source": [
    "#### Confidence"
   ]
  },
  {
   "cell_type": "code",
   "execution_count": 20,
   "id": "a4ec5992-6b09-4589-92d7-eb0123c2a5e8",
   "metadata": {},
   "outputs": [
    {
     "name": "stdout",
     "output_type": "stream",
     "text": [
      "0.8368633333333334\n"
     ]
    }
   ],
   "source": [
    "print(df_pred_stg1['confidence'].mean())"
   ]
  },
  {
   "cell_type": "code",
   "execution_count": 21,
   "id": "52579b1b-9e3f-41c1-a2e6-33b04d8b0177",
   "metadata": {},
   "outputs": [],
   "source": [
    "df_pred_stg1.rename(columns={'class': 'class_pred'}, inplace=True)"
   ]
  },
  {
   "cell_type": "code",
   "execution_count": 22,
   "id": "1a24767a-e33c-49d0-bb60-aeb023e07139",
   "metadata": {},
   "outputs": [
    {
     "data": {
      "text/html": [
       "<div>\n",
       "<style scoped>\n",
       "    .dataframe tbody tr th:only-of-type {\n",
       "        vertical-align: middle;\n",
       "    }\n",
       "\n",
       "    .dataframe tbody tr th {\n",
       "        vertical-align: top;\n",
       "    }\n",
       "\n",
       "    .dataframe thead th {\n",
       "        text-align: right;\n",
       "    }\n",
       "</style>\n",
       "<table border=\"1\" class=\"dataframe\">\n",
       "  <thead>\n",
       "    <tr style=\"text-align: right;\">\n",
       "      <th></th>\n",
       "      <th>post_id</th>\n",
       "      <th>class_pred</th>\n",
       "      <th>confidence</th>\n",
       "      <th>explanation</th>\n",
       "    </tr>\n",
       "  </thead>\n",
       "  <tbody>\n",
       "    <tr>\n",
       "      <th>0</th>\n",
       "      <td>8044</td>\n",
       "      <td>not_hate</td>\n",
       "      <td>0.90</td>\n",
       "      <td>The post is a neutral request for someone to w...</td>\n",
       "    </tr>\n",
       "    <tr>\n",
       "      <th>1</th>\n",
       "      <td>1709</td>\n",
       "      <td>not_hate</td>\n",
       "      <td>0.80</td>\n",
       "      <td>The post discusses political dynamics and does...</td>\n",
       "    </tr>\n",
       "    <tr>\n",
       "      <th>2</th>\n",
       "      <td>8898</td>\n",
       "      <td>not_hate</td>\n",
       "      <td>0.90</td>\n",
       "      <td>The post is a general comment about \"fake news...</td>\n",
       "    </tr>\n",
       "    <tr>\n",
       "      <th>3</th>\n",
       "      <td>6860</td>\n",
       "      <td>not_hate</td>\n",
       "      <td>0.90</td>\n",
       "      <td>The post is a factual statement about a legal ...</td>\n",
       "    </tr>\n",
       "    <tr>\n",
       "      <th>4</th>\n",
       "      <td>15379</td>\n",
       "      <td>implicit_hate</td>\n",
       "      <td>0.75</td>\n",
       "      <td>The post suggests that Hindus are suffering wh...</td>\n",
       "    </tr>\n",
       "  </tbody>\n",
       "</table>\n",
       "</div>"
      ],
      "text/plain": [
       "   post_id     class_pred  confidence  \\\n",
       "0     8044       not_hate        0.90   \n",
       "1     1709       not_hate        0.80   \n",
       "2     8898       not_hate        0.90   \n",
       "3     6860       not_hate        0.90   \n",
       "4    15379  implicit_hate        0.75   \n",
       "\n",
       "                                         explanation  \n",
       "0  The post is a neutral request for someone to w...  \n",
       "1  The post discusses political dynamics and does...  \n",
       "2  The post is a general comment about \"fake news...  \n",
       "3  The post is a factual statement about a legal ...  \n",
       "4  The post suggests that Hindus are suffering wh...  "
      ]
     },
     "execution_count": 22,
     "metadata": {},
     "output_type": "execute_result"
    }
   ],
   "source": [
    "df_pred_stg1.head()"
   ]
  },
  {
   "cell_type": "code",
   "execution_count": 23,
   "id": "599eed8e-5e1d-479e-a6dd-079bbb290df4",
   "metadata": {},
   "outputs": [],
   "source": [
    "df_merge_stg1 = pd.merge(df_gold_stg1, df_pred_stg1, on = 'post_id')"
   ]
  },
  {
   "cell_type": "code",
   "execution_count": 24,
   "id": "44704930-e596-434f-bd56-e81e2e17adb4",
   "metadata": {},
   "outputs": [
    {
     "data": {
      "text/html": [
       "<div>\n",
       "<style scoped>\n",
       "    .dataframe tbody tr th:only-of-type {\n",
       "        vertical-align: middle;\n",
       "    }\n",
       "\n",
       "    .dataframe tbody tr th {\n",
       "        vertical-align: top;\n",
       "    }\n",
       "\n",
       "    .dataframe thead th {\n",
       "        text-align: right;\n",
       "    }\n",
       "</style>\n",
       "<table border=\"1\" class=\"dataframe\">\n",
       "  <thead>\n",
       "    <tr style=\"text-align: right;\">\n",
       "      <th></th>\n",
       "      <th>post_id</th>\n",
       "      <th>post</th>\n",
       "      <th>class</th>\n",
       "      <th>class_pred</th>\n",
       "      <th>confidence</th>\n",
       "      <th>explanation</th>\n",
       "    </tr>\n",
       "  </thead>\n",
       "  <tbody>\n",
       "    <tr>\n",
       "      <th>0</th>\n",
       "      <td>8044</td>\n",
       "      <td>pl . watch odessa file on youtube and say sorr...</td>\n",
       "      <td>not_hate</td>\n",
       "      <td>not_hate</td>\n",
       "      <td>0.90</td>\n",
       "      <td>The post is a neutral request for someone to w...</td>\n",
       "    </tr>\n",
       "    <tr>\n",
       "      <th>1</th>\n",
       "      <td>1709</td>\n",
       "      <td>the left is losing their exalted status as def...</td>\n",
       "      <td>not_hate</td>\n",
       "      <td>not_hate</td>\n",
       "      <td>0.80</td>\n",
       "      <td>The post discusses political dynamics and does...</td>\n",
       "    </tr>\n",
       "    <tr>\n",
       "      <th>2</th>\n",
       "      <td>8898</td>\n",
       "      <td>more fake news</td>\n",
       "      <td>not_hate</td>\n",
       "      <td>not_hate</td>\n",
       "      <td>0.90</td>\n",
       "      <td>The post is a general comment about \"fake news...</td>\n",
       "    </tr>\n",
       "    <tr>\n",
       "      <th>3</th>\n",
       "      <td>6860</td>\n",
       "      <td>dr . goebbels ' estate sues publisher for prin...</td>\n",
       "      <td>not_hate</td>\n",
       "      <td>not_hate</td>\n",
       "      <td>0.90</td>\n",
       "      <td>The post is a factual statement about a legal ...</td>\n",
       "    </tr>\n",
       "    <tr>\n",
       "      <th>4</th>\n",
       "      <td>15379</td>\n",
       "      <td>poor hindus are suffering ; not kcr or owasis</td>\n",
       "      <td>not_hate</td>\n",
       "      <td>implicit_hate</td>\n",
       "      <td>0.75</td>\n",
       "      <td>The post suggests that Hindus are suffering wh...</td>\n",
       "    </tr>\n",
       "  </tbody>\n",
       "</table>\n",
       "</div>"
      ],
      "text/plain": [
       "   post_id                                               post     class  \\\n",
       "0     8044  pl . watch odessa file on youtube and say sorr...  not_hate   \n",
       "1     1709  the left is losing their exalted status as def...  not_hate   \n",
       "2     8898                                     more fake news  not_hate   \n",
       "3     6860  dr . goebbels ' estate sues publisher for prin...  not_hate   \n",
       "4    15379      poor hindus are suffering ; not kcr or owasis  not_hate   \n",
       "\n",
       "      class_pred  confidence  \\\n",
       "0       not_hate        0.90   \n",
       "1       not_hate        0.80   \n",
       "2       not_hate        0.90   \n",
       "3       not_hate        0.90   \n",
       "4  implicit_hate        0.75   \n",
       "\n",
       "                                         explanation  \n",
       "0  The post is a neutral request for someone to w...  \n",
       "1  The post discusses political dynamics and does...  \n",
       "2  The post is a general comment about \"fake news...  \n",
       "3  The post is a factual statement about a legal ...  \n",
       "4  The post suggests that Hindus are suffering wh...  "
      ]
     },
     "execution_count": 24,
     "metadata": {},
     "output_type": "execute_result"
    }
   ],
   "source": [
    "df_merge_stg1.head()"
   ]
  },
  {
   "cell_type": "markdown",
   "id": "07908a3a-6161-4b0b-9bf2-6e219c1a35a5",
   "metadata": {},
   "source": [
    "#### Confidence of correct predictions"
   ]
  },
  {
   "cell_type": "code",
   "execution_count": 25,
   "id": "1f9a642f-d513-4fc6-8f9f-ae13728e3a57",
   "metadata": {},
   "outputs": [
    {
     "name": "stdout",
     "output_type": "stream",
     "text": [
      "0.8530539193475306\n"
     ]
    }
   ],
   "source": [
    "print(df_merge_stg1[df_merge_stg1['class'] == df_merge_stg1['class_pred']]['confidence'].mean())"
   ]
  },
  {
   "cell_type": "markdown",
   "id": "83fca75c-2f54-4645-826d-3dc8df177475",
   "metadata": {},
   "source": [
    "#### Confidence of wrong predictions"
   ]
  },
  {
   "cell_type": "code",
   "execution_count": 26,
   "id": "2e15b298-6104-492c-8368-101b2092d2f1",
   "metadata": {},
   "outputs": [
    {
     "name": "stdout",
     "output_type": "stream",
     "text": [
      "0.7918032786885247\n"
     ]
    }
   ],
   "source": [
    "print(df_merge_stg1[df_merge_stg1['class'] != df_merge_stg1['class_pred']]['confidence'].mean())"
   ]
  },
  {
   "cell_type": "markdown",
   "id": "c3505d3e-919d-4a2d-b6b9-e94f800e3b1d",
   "metadata": {},
   "source": [
    "#### Examples of misclassified not hate posts with explanation"
   ]
  },
  {
   "cell_type": "code",
   "execution_count": 93,
   "id": "f29e6cd5-2db1-4e33-87a6-f15da96faca1",
   "metadata": {},
   "outputs": [],
   "source": [
    "df_fp = df_merge_stg1[(df_merge_stg1['class'] == 'not_hate') & (df_merge_stg1['class_pred'] == 'implicit_hate')]"
   ]
  },
  {
   "cell_type": "code",
   "execution_count": 121,
   "id": "88fd8a66-d8cd-4e7c-9291-ab2e25e8848a",
   "metadata": {},
   "outputs": [
    {
     "name": "stdout",
     "output_type": "stream",
     "text": [
      "\n",
      "Post: 15126 - fake news  black people would prefer immigration of white people but where do they originate from ? what's the origin of white people ?\n",
      "Confidence: 0.75\n",
      "Explanation: The post contains rhetorical questions that imply a divisive and potentially hateful narrative. The phrase \"black people would prefer immigration of white people\" suggests a stereotype or generalization about the preferences of black people, which could be seen as derogatory. Additionally, the questions about the origin of white people could be interpreted as a veiled attempt to promote a supremacist or divisive agenda. The confidence level is moderately high due to the implied racial undertones.\n",
      "\n",
      "Post: 8769 - i have .. and have also read the crimes that zionist bankers inflicted on germans in weimar republic ..\n",
      "Confidence: 0.75\n",
      "Explanation: The post refers to \"Zionist bankers\" in a negative context, which is often a dog whistle for anti-Semitic sentiments. By attributing crimes to this group, the post implicitly promotes a harmful stereotype. However, the confidence level is slightly lower because the post does not explicitly target a specific group with derogatory language.\n",
      "\n",
      "Post: 258 - a make america white evangelical male event .\n",
      "Confidence: 0.8\n",
      "Explanation: The post suggests an event that is exclusively for \"white evangelical males,\" which implies exclusion and discrimination against other racial, religious, and gender groups. This exclusivity contributes to a narrative of division and implicit hate.\n",
      "\n",
      "Post: 1957 -  rt  \" : dr . david duke : the racial murder and rape of white women in america via \" \" \"\n",
      "Confidence: 0.9\n",
      "Explanation: The post references Dr. David Duke, a known white supremacist, and discusses \"racial murder and rape of white women in America,\" which is a common narrative used to incite racial hatred and fear. The mention of these topics in association with David Duke strongly suggests implicit hate speech.\n",
      "\n",
      "Post: 1635 - shame on hindus who saw / supported pk\n",
      "Confidence: 0.8\n",
      "Explanation: The post expresses shame towards Hindus who supported or watched \"PK,\" which is likely a reference to a specific event or media that the poster disapproves of. This implies a negative judgment and division within a religious group, contributing to a narrative of intolerance and hate.\n",
      "\n",
      "Post: 18888 - privilege is earned not inherited . the white race as it is called is not born into it .\n",
      "Confidence: 0.75\n",
      "Explanation: The post suggests that white people do not experience privilege, which can be seen as a dismissal of systemic advantages and a denial of the experiences of marginalized groups. This denial can contribute to a narrative that minimizes the struggles of others, which is characteristic of implicit hate speech.\n",
      "\n",
      "Post: 15397 - remember obama is the most dangerous enemy america has in the white house .\n",
      "Confidence: 0.8\n",
      "Explanation: The post suggests that former President Obama is an \"enemy\" of America, which is a strong and divisive statement. The use of the phrase \"in the white house\" emphasizes his position of power, implying that his presence there is dangerous. This language contributes to a narrative of suspicion and animosity, which can be interpreted as implicit hate speech.\n",
      "\n",
      "Post: 6119 - jewish #banking must be fair\n",
      "Confidence: 0.75\n",
      "Explanation: The post singles out \"jewish #banking\" and implies that it is unfair, which can be seen as perpetuating a negative stereotype about Jewish people and their involvement in banking. This insinuation contributes to an implicitly hateful narrative.\n",
      "\n",
      "Post: 16537 - white people have been through slavery though\n",
      "Confidence: 0.75\n",
      "Explanation: The post appears to diminish or dismiss the historical significance of the slavery experienced by black people by comparing it to the experiences of white people. This comparison can be seen as an attempt to undermine the unique and severe impact of the transatlantic slave trade on people of African descent, which is characteristic of implicit hate speech. The confidence level is moderately high due to the implied dismissive tone.\n",
      "\n",
      "Post: 3490 - since your great white hope is already backpedaling  will you go back to being silent ? #trump #workingclass #14words\n",
      "Confidence: 0.8\n",
      "Explanation: The post contains several elements that imply hate speech:\n",
      "- The phrase \"great white hope\" has historical racial connotations.\n",
      "- The hashtag \"#14words\" is a known reference to a white supremacist slogan (\"We must secure the existence of our people and a future for white children\").\n",
      "- The overall tone of the post suggests a divisive and racially charged narrative.\n"
     ]
    }
   ],
   "source": [
    "for idx, row in df_fp.sample(10).iterrows():\n",
    "    print('\\nPost: ' + str(row['post_id']) + ' - ' + row['post'])\n",
    "    print('Confidence: ' + str(row['confidence']))\n",
    "    print('Explanation: ' + row['explanation'])"
   ]
  },
  {
   "cell_type": "markdown",
   "id": "a75b2691-9e7f-4d0f-81d8-71e283a43020",
   "metadata": {},
   "source": [
    "#### Was deepening used?"
   ]
  },
  {
   "cell_type": "code",
   "execution_count": 33,
   "id": "e2667af2-ad62-42b0-aadc-933487c97160",
   "metadata": {},
   "outputs": [],
   "source": [
    "df_resp = pd.DataFrame(columns = ['post', 'explanation', 'recursion_level'])\n",
    "files = glob.glob(result_folder + '/responses/*.json')\n",
    "\n",
    "for filename in files:\n",
    "    try: \n",
    "        with open(filename, 'r') as f:\n",
    "            text = f.read()\n",
    "            obj = json.loads(text)\n",
    "            hate = eval(obj['hate_class']['repr'])\n",
    "            new_row = {\n",
    "                'post': obj['post'], \n",
    "                'explanation' : hate.explanation, \n",
    "                'recursion_level' : hate.recursion_level\n",
    "            }\n",
    "            df_resp = pd.concat([df_resp, pd.DataFrame([new_row])])\n",
    "    except:\n",
    "        print(filename)\n"
   ]
  },
  {
   "cell_type": "markdown",
   "id": "94f497c0-9e32-40cd-9f19-c2c547cfe385",
   "metadata": {},
   "source": [
    "#### Deepening was never used :("
   ]
  },
  {
   "cell_type": "code",
   "execution_count": 34,
   "id": "50b4dc84-5acc-42f6-9e32-f07e7251c149",
   "metadata": {},
   "outputs": [
    {
     "data": {
      "text/html": [
       "<div>\n",
       "<style scoped>\n",
       "    .dataframe tbody tr th:only-of-type {\n",
       "        vertical-align: middle;\n",
       "    }\n",
       "\n",
       "    .dataframe tbody tr th {\n",
       "        vertical-align: top;\n",
       "    }\n",
       "\n",
       "    .dataframe thead th {\n",
       "        text-align: right;\n",
       "    }\n",
       "</style>\n",
       "<table border=\"1\" class=\"dataframe\">\n",
       "  <thead>\n",
       "    <tr style=\"text-align: right;\">\n",
       "      <th></th>\n",
       "      <th>post</th>\n",
       "      <th>explanation</th>\n",
       "      <th>recursion_level</th>\n",
       "    </tr>\n",
       "  </thead>\n",
       "  <tbody>\n",
       "  </tbody>\n",
       "</table>\n",
       "</div>"
      ],
      "text/plain": [
       "Empty DataFrame\n",
       "Columns: [post, explanation, recursion_level]\n",
       "Index: []"
      ]
     },
     "execution_count": 34,
     "metadata": {},
     "output_type": "execute_result"
    }
   ],
   "source": [
    "df_resp[df_resp['recursion_level'] > 1]"
   ]
  },
  {
   "cell_type": "code",
   "execution_count": null,
   "id": "6643cc4b-a894-4105-a683-0fdfe73de9a1",
   "metadata": {},
   "outputs": [],
   "source": []
  },
  {
   "cell_type": "code",
   "execution_count": null,
   "id": "15ff0812-616a-400c-afea-55ab8040f647",
   "metadata": {},
   "outputs": [],
   "source": []
  },
  {
   "cell_type": "markdown",
   "id": "84e12011-31bd-4581-bc8d-6b6e76550a09",
   "metadata": {},
   "source": [
    "# Evaluation Stage 2"
   ]
  },
  {
   "cell_type": "code",
   "execution_count": 30,
   "id": "f99f8349-0493-40ee-8109-ed221b6bee1f",
   "metadata": {},
   "outputs": [],
   "source": [
    "test_file_stg2 = data_folder + \"implicit_hate_test_stg2.csv\""
   ]
  },
  {
   "cell_type": "code",
   "execution_count": 31,
   "id": "5f27edc7-e200-40e2-8eaf-b8f9b47e3b05",
   "metadata": {},
   "outputs": [],
   "source": [
    "def evaluate_stage_2(strategy, gold_file, pred_file):\n",
    "\n",
    "    digits = 3\n",
    "    \n",
    "    df_gold = pd.read_csv(gold_file, encoding = \"utf-8\")\n",
    "    df_pred = pd.read_csv(pred_file, encoding = \"utf-8\")\n",
    "    \n",
    "    label_selector = ['incitement', 'white_grievance', 'inferiority', 'stereotypical', 'irony', 'threatening', 'other']\n",
    "    \n",
    "    df_gold = df_gold[df_gold['post_id'].isin(df_pred['post_id'])]\n",
    "    df_pred = df_pred[df_pred['post_id'].isin(df_gold['post_id'])]\n",
    "    \n",
    "    df_gold.sort_values(\"post_id\", axis=0, ascending=True, inplace=True)\n",
    "    df_pred.sort_values(\"post_id\", axis=0, ascending=True, inplace=True)\n",
    "        \n",
    "    labels_gold = df_gold['implicit_class']\n",
    "    predictions = df_pred['implicit_class']\n",
    "    \n",
    "    f1_macro = f1_score(labels_gold, predictions, average = \"macro\")\n",
    "    accuracy = accuracy_score(labels_gold, predictions)\n",
    "    precision = precision_score(labels_gold, predictions, average = \"macro\")\n",
    "    recall = recall_score(labels_gold, predictions, average = \"macro\")\n",
    "    \n",
    "    clf_report = classification_report(labels_gold, predictions, labels = label_selector, target_names = label_selector, digits = digits)\n",
    "    clf_report_dict = classification_report(labels_gold, predictions, labels = label_selector, target_names = label_selector,\n",
    "                                            digits = digits, output_dict=True)\n",
    "    clf_report_df = pd.DataFrame(clf_report_dict)\n",
    "    \n",
    "    values_export = clf_report_df.loc[\"f1-score\", label_selector].T.values\n",
    "    values_export = \"\\t\".join([str(round(v, digits)) for v in values_export])\n",
    "    \n",
    "    report = f\"\"\"F1-macro: {str(round(f1_macro, digits))} accuracy: {str(round(accuracy, digits))} precision: {str(round(precision, digits))} recall: {str(round(recall, digits))} \\n\\n{clf_report}\n",
    "    \"\"\"\n",
    "    print('Implicit hate classification - Strategy: ' + strategy + \"\\n\\n\" + report)\n",
    "    #print(values_export)\n",
    "\n",
    "    # Compute the confusion matrix\n",
    "    cm = metrics.confusion_matrix(labels_gold, predictions, labels = label_selector)\n",
    "    \n",
    "    # Plot the confusion matrix\n",
    "    fig, ax = plt.subplots(figsize=(6, 4))\n",
    "    im = ax.imshow(cm, interpolation = 'nearest', cmap = plt.cm.Blues)\n",
    "    ax.figure.colorbar(im, ax=ax)\n",
    "    \n",
    "    # We want to show all ticks and label them with the respective list entries\n",
    "    ax.set(xticks=np.arange(cm.shape[1]),\n",
    "           yticks=np.arange(cm.shape[0]),\n",
    "           xticklabels=label_selector, yticklabels=label_selector,\n",
    "           #title='Implicit hate classification\\n',\n",
    "           ylabel='True label',\n",
    "           xlabel='Predicted label')\n",
    "    \n",
    "    # Rotate the tick labels and set their alignment\n",
    "    plt.setp(ax.get_xticklabels(), rotation = 45, ha = \"right\",\n",
    "             rotation_mode=\"anchor\")\n",
    "    \n",
    "    # Loop over data dimensions and create text annotations\n",
    "    fmt = '.0f'\n",
    "    thresh = cm.max() / 2.\n",
    "    for i in range(cm.shape[0]):\n",
    "        for j in range(cm.shape[1]):\n",
    "            ax.text(j, i, format(cm[i, j], fmt),\n",
    "                    ha=\"center\", va=\"center\",\n",
    "                    color=\"white\" if cm[i, j] > thresh else \"#274c81\")\n",
    "    #fig.tight_layout()\n",
    "    plt.show()\n",
    "\n",
    "    return pd.DataFrame([{'Strategy' : strategy, \"F1-macro\" : f1_macro, 'Precision' : precision, 'Recall' : recall, 'Accuracy' : accuracy}])\n"
   ]
  },
  {
   "cell_type": "markdown",
   "id": "f6331dd2-84ce-46f8-8273-05f62b24327e",
   "metadata": {},
   "source": [
    "### Baseline"
   ]
  },
  {
   "cell_type": "code",
   "execution_count": 32,
   "id": "77e5c4ba-7d07-48dd-bc91-c52f138a49f4",
   "metadata": {},
   "outputs": [
    {
     "name": "stdout",
     "output_type": "stream",
     "text": [
      "Implicit hate classification - Strategy: Baseline\n",
      "\n",
      "F1-macro: 0.47 accuracy: 0.552 precision: 0.493 recall: 0.468 \n",
      "\n",
      "                 precision    recall  f1-score   support\n",
      "\n",
      "     incitement      0.508     0.346     0.412       179\n",
      "white_grievance      0.596     0.705     0.646       224\n",
      "    inferiority      0.514     0.623     0.563       122\n",
      "  stereotypical      0.480     0.626     0.543       171\n",
      "          irony      0.610     0.526     0.565       116\n",
      "    threatening      0.746     0.449     0.561        98\n",
      "          other      0.000     0.000     0.000        10\n",
      "\n",
      "       accuracy                          0.552       920\n",
      "      macro avg      0.493     0.468     0.470       920\n",
      "   weighted avg      0.558     0.552     0.544       920\n",
      "\n",
      "    \n"
     ]
    },
    {
     "data": {
      "image/png": "[encoded data removed]",
      "text/plain": [
       "<Figure size 600x400 with 2 Axes>"
      ]
     },
     "metadata": {},
     "output_type": "display_data"
    }
   ],
   "source": [
    "result_file_stg2 = result_folder + model_name + \"_result_baseline_stg2.csv\"\n",
    "df_baseline_stg2 = evaluate_stage_2(\n",
    "    \"Baseline\",\n",
    "    test_file_stg2,\n",
    "    result_file_stg2\n",
    ")"
   ]
  },
  {
   "cell_type": "markdown",
   "id": "6da9ee69-20e0-4877-aaaf-fd04e7efa76d",
   "metadata": {},
   "source": [
    "### Prompt Tree of Thoughts"
   ]
  },
  {
   "cell_type": "code",
   "execution_count": 33,
   "id": "a3daa11a-0c07-46d9-9ae0-534258159789",
   "metadata": {},
   "outputs": [
    {
     "name": "stdout",
     "output_type": "stream",
     "text": [
      "Implicit hate classification - Strategy: Prompt ToT\n",
      "\n",
      "F1-macro: 0.408 accuracy: 0.492 precision: 0.418 recall: 0.419 \n",
      "\n",
      "                 precision    recall  f1-score   support\n",
      "\n",
      "     incitement      0.481     0.215     0.298       181\n",
      "white_grievance      0.557     0.739     0.635       226\n",
      "    inferiority      0.475     0.541     0.506       122\n",
      "  stereotypical      0.430     0.450     0.440       171\n",
      "          irony      0.446     0.500     0.472       116\n",
      "    threatening      0.533     0.485     0.508        99\n",
      "          other      0.000     0.000     0.000        10\n",
      "\n",
      "       accuracy                          0.492       925\n",
      "      macro avg      0.418     0.419     0.408       925\n",
      "   weighted avg      0.485     0.492     0.475       925\n",
      "\n",
      "    \n"
     ]
    },
    {
     "data": {
      "image/png": "[encoded data removed]",
      "text/plain": [
       "<Figure size 600x400 with 2 Axes>"
      ]
     },
     "metadata": {},
     "output_type": "display_data"
    }
   ],
   "source": [
    "result_file_stg2 = result_folder + model_name + \"_result_prompt_tot_stg2.csv\"\n",
    "df_prompt_tot_stg2 = evaluate_stage_2(\n",
    "    \"Prompt ToT\",\n",
    "    test_file_stg2,\n",
    "    result_file_stg2\n",
    ")"
   ]
  },
  {
   "cell_type": "markdown",
   "id": "e5b2d590-346b-4e22-9c14-4bcbe1829958",
   "metadata": {},
   "source": [
    "### Graph Tree of Thoughts"
   ]
  },
  {
   "cell_type": "code",
   "execution_count": 34,
   "id": "ea1404f3-7f33-4244-b889-3dd528777142",
   "metadata": {},
   "outputs": [
    {
     "name": "stdout",
     "output_type": "stream",
     "text": [
      "Implicit hate classification - Strategy: Graph ToT\n",
      "\n",
      "F1-macro: 0.367 accuracy: 0.448 precision: 0.424 recall: 0.382 \n",
      "\n",
      "                 precision    recall  f1-score   support\n",
      "\n",
      "     incitement      0.371     0.264     0.308       163\n",
      "white_grievance      0.784     0.377     0.510       212\n",
      "    inferiority      0.365     0.639     0.465       108\n",
      "  stereotypical      0.414     0.807     0.547       161\n",
      "          irony      0.378     0.277     0.320       101\n",
      "    threatening      0.659     0.310     0.422        87\n",
      "          other      0.000     0.000     0.000        10\n",
      "\n",
      "       accuracy                          0.448       842\n",
      "      macro avg      0.424     0.382     0.367       842\n",
      "   weighted avg      0.509     0.448     0.434       842\n",
      "\n",
      "    \n"
     ]
    },
    {
     "data": {
      "image/png": "[encoded data removed]",
      "text/plain": [
       "<Figure size 600x400 with 2 Axes>"
      ]
     },
     "metadata": {},
     "output_type": "display_data"
    }
   ],
   "source": [
    "result_file_stg2 = result_folder + model_name + \"_result_graph_stg2.csv\"\n",
    "df_graph_stg2 = evaluate_stage_2(\n",
    "    \"Graph ToT\",\n",
    "    test_file_stg2,\n",
    "    result_file_stg2\n",
    ")"
   ]
  },
  {
   "cell_type": "markdown",
   "id": "e01ce36e-94be-4d87-8cfb-f830e4424afd",
   "metadata": {},
   "source": [
    "### Optimizer MIPRO"
   ]
  },
  {
   "cell_type": "code",
   "execution_count": 35,
   "id": "d6539378-52aa-4908-9992-5a35e79e4914",
   "metadata": {},
   "outputs": [
    {
     "name": "stdout",
     "output_type": "stream",
     "text": [
      "Implicit hate classification - Strategy: Optimized\n",
      "\n",
      "F1-macro: 0.516 accuracy: 0.581 precision: 0.558 recall: 0.51 \n",
      "\n",
      "                 precision    recall  f1-score   support\n",
      "\n",
      "     incitement      0.769     0.387     0.515       181\n",
      "white_grievance      0.619     0.783     0.691       226\n",
      "    inferiority      0.606     0.492     0.543       122\n",
      "  stereotypical      0.592     0.585     0.588       171\n",
      "          irony      0.600     0.466     0.524       116\n",
      "    threatening      0.708     0.758     0.732        99\n",
      "          other      0.012     0.100     0.021        10\n",
      "\n",
      "       accuracy                          0.581       925\n",
      "      macro avg      0.558     0.510     0.516       925\n",
      "   weighted avg      0.642     0.581     0.594       925\n",
      "\n",
      "    \n"
     ]
    },
    {
     "data": {
      "image/png": "[encoded data removed]",
      "text/plain": [
       "<Figure size 600x400 with 2 Axes>"
      ]
     },
     "metadata": {},
     "output_type": "display_data"
    }
   ],
   "source": [
    "result_file_stg2 = result_folder + model_name + \"_result_optimizer_stg2.csv\"\n",
    "df_optim_stg2 = evaluate_stage_2(\n",
    "    \"Optimized\",\n",
    "    test_file_stg2,\n",
    "    result_file_stg2\n",
    ")"
   ]
  },
  {
   "cell_type": "code",
   "execution_count": null,
   "id": "a107d04b-d5e8-4c58-b67b-e42cd6567901",
   "metadata": {},
   "outputs": [],
   "source": []
  },
  {
   "cell_type": "markdown",
   "id": "56da2c35-d054-45dc-b2bb-0c603b2515d1",
   "metadata": {},
   "source": [
    "## Final results Stage 2"
   ]
  },
  {
   "cell_type": "code",
   "execution_count": 36,
   "id": "a9b440f0-b116-4698-895e-ee2f819f6ce5",
   "metadata": {},
   "outputs": [],
   "source": [
    "df_result_stg2 = pd.concat([df_baseline_stg2, df_prompt_tot_stg2, df_graph_stg2, df_optim_stg2])"
   ]
  },
  {
   "cell_type": "code",
   "execution_count": 42,
   "id": "78205a67-683b-491a-b6ca-34787185adf4",
   "metadata": {},
   "outputs": [],
   "source": [
    "df_result_stg2.to_excel(result_folder +  model_name + '_evaluation_stg2.xlsx', index = False)"
   ]
  },
  {
   "cell_type": "code",
   "execution_count": 37,
   "id": "e0bed0f2-6154-4e16-a297-622c8fd8b5a7",
   "metadata": {},
   "outputs": [],
   "source": [
    "df_result_stg2 = pd.read_excel(result_folder + model_name + '_evaluation_stg2.xlsx')"
   ]
  },
  {
   "cell_type": "code",
   "execution_count": 38,
   "id": "a9ed4ddb-0c53-41fd-8e64-85b267a4c739",
   "metadata": {},
   "outputs": [
    {
     "data": {
      "text/html": [
       "<div>\n",
       "<style scoped>\n",
       "    .dataframe tbody tr th:only-of-type {\n",
       "        vertical-align: middle;\n",
       "    }\n",
       "\n",
       "    .dataframe tbody tr th {\n",
       "        vertical-align: top;\n",
       "    }\n",
       "\n",
       "    .dataframe thead th {\n",
       "        text-align: right;\n",
       "    }\n",
       "</style>\n",
       "<table border=\"1\" class=\"dataframe\">\n",
       "  <thead>\n",
       "    <tr style=\"text-align: right;\">\n",
       "      <th></th>\n",
       "      <th>Strategy</th>\n",
       "      <th>F1-macro</th>\n",
       "      <th>Precision</th>\n",
       "      <th>Recall</th>\n",
       "      <th>Accuracy</th>\n",
       "    </tr>\n",
       "  </thead>\n",
       "  <tbody>\n",
       "    <tr>\n",
       "      <th>0</th>\n",
       "      <td>Baseline</td>\n",
       "      <td>0.469944</td>\n",
       "      <td>0.493360</td>\n",
       "      <td>0.467893</td>\n",
       "      <td>0.552174</td>\n",
       "    </tr>\n",
       "    <tr>\n",
       "      <th>1</th>\n",
       "      <td>Prompt ToT</td>\n",
       "      <td>0.408274</td>\n",
       "      <td>0.417518</td>\n",
       "      <td>0.418647</td>\n",
       "      <td>0.491892</td>\n",
       "    </tr>\n",
       "    <tr>\n",
       "      <th>2</th>\n",
       "      <td>Graph ToT</td>\n",
       "      <td>0.367384</td>\n",
       "      <td>0.424430</td>\n",
       "      <td>0.382154</td>\n",
       "      <td>0.447743</td>\n",
       "    </tr>\n",
       "    <tr>\n",
       "      <th>3</th>\n",
       "      <td>Optimized</td>\n",
       "      <td>0.516370</td>\n",
       "      <td>0.557906</td>\n",
       "      <td>0.509945</td>\n",
       "      <td>0.580541</td>\n",
       "    </tr>\n",
       "  </tbody>\n",
       "</table>\n",
       "</div>"
      ],
      "text/plain": [
       "     Strategy  F1-macro  Precision    Recall  Accuracy\n",
       "0    Baseline  0.469944   0.493360  0.467893  0.552174\n",
       "1  Prompt ToT  0.408274   0.417518  0.418647  0.491892\n",
       "2   Graph ToT  0.367384   0.424430  0.382154  0.447743\n",
       "3   Optimized  0.516370   0.557906  0.509945  0.580541"
      ]
     },
     "execution_count": 38,
     "metadata": {},
     "output_type": "execute_result"
    }
   ],
   "source": [
    "df_result_stg2.head()"
   ]
  },
  {
   "cell_type": "code",
   "execution_count": 40,
   "id": "52dd68d1-7a2d-434e-b05a-86fdaad94fc3",
   "metadata": {},
   "outputs": [
    {
     "data": {
      "image/png": "[encoded data removed]",
      "text/plain": [
       "<Figure size 800x500 with 1 Axes>"
      ]
     },
     "metadata": {},
     "output_type": "display_data"
    }
   ],
   "source": [
    "performance_comparison(df_result_stg2, 'Performance Comparison Stage 2 - Implicit hate classification')"
   ]
  },
  {
   "cell_type": "code",
   "execution_count": null,
   "id": "c93875ab-9530-4d61-83eb-1fd8ff00abb0",
   "metadata": {},
   "outputs": [],
   "source": [
    "\n",
    "\n"
   ]
  },
  {
   "cell_type": "markdown",
   "id": "2191abcc-b6d3-4361-a62b-ab4d6c105f1f",
   "metadata": {},
   "source": [
    "### Qualitative analysis (results of MIPRO optimizer)"
   ]
  },
  {
   "cell_type": "code",
   "execution_count": 41,
   "id": "b23aa4e4-177c-496e-b3a0-a74afa012413",
   "metadata": {},
   "outputs": [],
   "source": [
    "df_gold_stg2 = pd.read_csv(data_folder + \"implicit_hate_test_stg2.csv\", encoding = 'utf-8')\n",
    "df_pred_stg2 = pd.read_csv(result_folder + model_name + \"_result_optimizer_stg2.csv\", encoding = 'utf-8')"
   ]
  },
  {
   "cell_type": "markdown",
   "id": "db199d5c-08c3-472d-8925-188a5968a7f0",
   "metadata": {},
   "source": [
    "#### Overall confidence"
   ]
  },
  {
   "cell_type": "code",
   "execution_count": 42,
   "id": "9e28c357-51c3-4cd8-8de2-6e40be392978",
   "metadata": {},
   "outputs": [
    {
     "name": "stdout",
     "output_type": "stream",
     "text": [
      "0.8525729729729729\n"
     ]
    }
   ],
   "source": [
    "print(df_pred_stg2['confidence'].mean())"
   ]
  },
  {
   "cell_type": "code",
   "execution_count": 43,
   "id": "ee378ddc-e90a-41d4-8cbf-da2b5fbf0093",
   "metadata": {},
   "outputs": [],
   "source": [
    "df_pred_stg2.rename(columns={'implicit_class': 'implicit_class_pred'}, inplace=True)"
   ]
  },
  {
   "cell_type": "code",
   "execution_count": 44,
   "id": "2635c7a6-a89a-499f-9938-5f01955b7c26",
   "metadata": {},
   "outputs": [
    {
     "data": {
      "text/html": [
       "<div>\n",
       "<style scoped>\n",
       "    .dataframe tbody tr th:only-of-type {\n",
       "        vertical-align: middle;\n",
       "    }\n",
       "\n",
       "    .dataframe tbody tr th {\n",
       "        vertical-align: top;\n",
       "    }\n",
       "\n",
       "    .dataframe thead th {\n",
       "        text-align: right;\n",
       "    }\n",
       "</style>\n",
       "<table border=\"1\" class=\"dataframe\">\n",
       "  <thead>\n",
       "    <tr style=\"text-align: right;\">\n",
       "      <th></th>\n",
       "      <th>post_id</th>\n",
       "      <th>implicit_class_pred</th>\n",
       "      <th>confidence</th>\n",
       "      <th>explanation</th>\n",
       "    </tr>\n",
       "  </thead>\n",
       "  <tbody>\n",
       "    <tr>\n",
       "      <th>0</th>\n",
       "      <td>9275</td>\n",
       "      <td>stereotypical</td>\n",
       "      <td>0.90</td>\n",
       "      <td>The post perpetuates negative stereotypes abou...</td>\n",
       "    </tr>\n",
       "    <tr>\n",
       "      <th>1</th>\n",
       "      <td>1006</td>\n",
       "      <td>white_grievance</td>\n",
       "      <td>0.85</td>\n",
       "      <td>The post discusses a \"white privilege tax\" sup...</td>\n",
       "    </tr>\n",
       "    <tr>\n",
       "      <th>2</th>\n",
       "      <td>20335</td>\n",
       "      <td>inferiority</td>\n",
       "      <td>0.75</td>\n",
       "      <td>The post uses the derogatory term \"hermangutie...</td>\n",
       "    </tr>\n",
       "    <tr>\n",
       "      <th>3</th>\n",
       "      <td>1173</td>\n",
       "      <td>white_grievance</td>\n",
       "      <td>0.90</td>\n",
       "      <td>The post expresses frustration and resentment ...</td>\n",
       "    </tr>\n",
       "    <tr>\n",
       "      <th>4</th>\n",
       "      <td>4917</td>\n",
       "      <td>stereotypical</td>\n",
       "      <td>0.90</td>\n",
       "      <td>The post perpetuates negative stereotypes abou...</td>\n",
       "    </tr>\n",
       "  </tbody>\n",
       "</table>\n",
       "</div>"
      ],
      "text/plain": [
       "   post_id implicit_class_pred  confidence  \\\n",
       "0     9275       stereotypical        0.90   \n",
       "1     1006     white_grievance        0.85   \n",
       "2    20335         inferiority        0.75   \n",
       "3     1173     white_grievance        0.90   \n",
       "4     4917       stereotypical        0.90   \n",
       "\n",
       "                                         explanation  \n",
       "0  The post perpetuates negative stereotypes abou...  \n",
       "1  The post discusses a \"white privilege tax\" sup...  \n",
       "2  The post uses the derogatory term \"hermangutie...  \n",
       "3  The post expresses frustration and resentment ...  \n",
       "4  The post perpetuates negative stereotypes abou...  "
      ]
     },
     "execution_count": 44,
     "metadata": {},
     "output_type": "execute_result"
    }
   ],
   "source": [
    "df_pred_stg2.head()"
   ]
  },
  {
   "cell_type": "code",
   "execution_count": 45,
   "id": "cbe1dd13-ff2b-4811-885d-3194ec1cc01e",
   "metadata": {},
   "outputs": [],
   "source": [
    "df_merge_stg2 = pd.merge(df_gold_stg2, df_pred_stg2, on = 'post_id')"
   ]
  },
  {
   "cell_type": "code",
   "execution_count": 46,
   "id": "7e11bf26-3dab-4b73-83d3-df1f53ae9ec7",
   "metadata": {},
   "outputs": [
    {
     "data": {
      "text/html": [
       "<div>\n",
       "<style scoped>\n",
       "    .dataframe tbody tr th:only-of-type {\n",
       "        vertical-align: middle;\n",
       "    }\n",
       "\n",
       "    .dataframe tbody tr th {\n",
       "        vertical-align: top;\n",
       "    }\n",
       "\n",
       "    .dataframe thead th {\n",
       "        text-align: right;\n",
       "    }\n",
       "</style>\n",
       "<table border=\"1\" class=\"dataframe\">\n",
       "  <thead>\n",
       "    <tr style=\"text-align: right;\">\n",
       "      <th></th>\n",
       "      <th>post_id</th>\n",
       "      <th>post</th>\n",
       "      <th>implicit_class</th>\n",
       "      <th>implicit_class_pred</th>\n",
       "      <th>confidence</th>\n",
       "      <th>explanation</th>\n",
       "    </tr>\n",
       "  </thead>\n",
       "  <tbody>\n",
       "    <tr>\n",
       "      <th>0</th>\n",
       "      <td>9275</td>\n",
       "      <td>\" : racist black thugs shoot white baby in t...</td>\n",
       "      <td>stereotypical</td>\n",
       "      <td>stereotypical</td>\n",
       "      <td>0.90</td>\n",
       "      <td>The post perpetuates negative stereotypes abou...</td>\n",
       "    </tr>\n",
       "    <tr>\n",
       "      <th>1</th>\n",
       "      <td>1006</td>\n",
       "      <td>new  \" white privilege tax \" \" for all white ...</td>\n",
       "      <td>white_grievance</td>\n",
       "      <td>white_grievance</td>\n",
       "      <td>0.85</td>\n",
       "      <td>The post discusses a \"white privilege tax\" sup...</td>\n",
       "    </tr>\n",
       "    <tr>\n",
       "      <th>2</th>\n",
       "      <td>20335</td>\n",
       "      <td>if you even pay taxes, hermangutierr.</td>\n",
       "      <td>stereotypical</td>\n",
       "      <td>inferiority</td>\n",
       "      <td>0.75</td>\n",
       "      <td>The post uses the derogatory term \"hermangutie...</td>\n",
       "    </tr>\n",
       "    <tr>\n",
       "      <th>3</th>\n",
       "      <td>1173</td>\n",
       "      <td>agree . i'm sick of these self-hating behavior...</td>\n",
       "      <td>white_grievance</td>\n",
       "      <td>white_grievance</td>\n",
       "      <td>0.90</td>\n",
       "      <td>The post expresses frustration and resentment ...</td>\n",
       "    </tr>\n",
       "    <tr>\n",
       "      <th>4</th>\n",
       "      <td>4917</td>\n",
       "      <td>blacks have the best party time in white count...</td>\n",
       "      <td>stereotypical</td>\n",
       "      <td>stereotypical</td>\n",
       "      <td>0.90</td>\n",
       "      <td>The post perpetuates negative stereotypes abou...</td>\n",
       "    </tr>\n",
       "  </tbody>\n",
       "</table>\n",
       "</div>"
      ],
      "text/plain": [
       "   post_id                                               post  \\\n",
       "0     9275    \" : racist black thugs shoot white baby in t...   \n",
       "1     1006   new  \" white privilege tax \" \" for all white ...   \n",
       "2    20335              if you even pay taxes, hermangutierr.   \n",
       "3     1173  agree . i'm sick of these self-hating behavior...   \n",
       "4     4917  blacks have the best party time in white count...   \n",
       "\n",
       "    implicit_class implicit_class_pred  confidence  \\\n",
       "0    stereotypical       stereotypical        0.90   \n",
       "1  white_grievance     white_grievance        0.85   \n",
       "2    stereotypical         inferiority        0.75   \n",
       "3  white_grievance     white_grievance        0.90   \n",
       "4    stereotypical       stereotypical        0.90   \n",
       "\n",
       "                                         explanation  \n",
       "0  The post perpetuates negative stereotypes abou...  \n",
       "1  The post discusses a \"white privilege tax\" sup...  \n",
       "2  The post uses the derogatory term \"hermangutie...  \n",
       "3  The post expresses frustration and resentment ...  \n",
       "4  The post perpetuates negative stereotypes abou...  "
      ]
     },
     "execution_count": 46,
     "metadata": {},
     "output_type": "execute_result"
    }
   ],
   "source": [
    "df_merge_stg2.head()"
   ]
  },
  {
   "cell_type": "markdown",
   "id": "fd75a5d9-44e4-4190-b611-7ba190d2fb45",
   "metadata": {},
   "source": [
    "#### Confidence of correct predictions"
   ]
  },
  {
   "cell_type": "code",
   "execution_count": 47,
   "id": "943949d5-9bd8-4a80-a05a-c2ebb891071e",
   "metadata": {},
   "outputs": [
    {
     "name": "stdout",
     "output_type": "stream",
     "text": [
      "0.8525729729729729\n"
     ]
    }
   ],
   "source": [
    "print(df_merge_stg2[df_merge_stg2['implicit_class'] == df_merge_stg2['implicit_class']]['confidence'].mean())"
   ]
  },
  {
   "cell_type": "markdown",
   "id": "e7bac4df-ec1f-4e61-b557-ff0108f37359",
   "metadata": {},
   "source": [
    "#### Confidence of wrong predictions"
   ]
  },
  {
   "cell_type": "code",
   "execution_count": 48,
   "id": "b92c375f-7a58-4136-86ee-4c8b2747da0b",
   "metadata": {},
   "outputs": [
    {
     "name": "stdout",
     "output_type": "stream",
     "text": [
      "0.833840206185567\n"
     ]
    }
   ],
   "source": [
    "print(df_merge_stg2[df_merge_stg2['implicit_class'] != df_merge_stg2['implicit_class_pred']]['confidence'].mean())"
   ]
  },
  {
   "cell_type": "markdown",
   "id": "3c579e51-1ec6-49b0-8ed5-ce97af3c2e47",
   "metadata": {},
   "source": [
    "#### Examples of misclassified posts"
   ]
  },
  {
   "cell_type": "code",
   "execution_count": 49,
   "id": "b922d889-6387-4987-ad26-dc2ed98559ec",
   "metadata": {},
   "outputs": [],
   "source": [
    "df_errors = df_merge_stg2[df_merge_stg2['implicit_class'] != df_merge_stg2['implicit_class_pred']]"
   ]
  },
  {
   "cell_type": "code",
   "execution_count": 50,
   "id": "328d531e-0504-4cb1-b249-be4c9eb2ae15",
   "metadata": {},
   "outputs": [],
   "source": [
    "# Misclassified incitement\n",
    "df_errors = df_merge_stg2[(df_merge_stg2['implicit_class'] =='incitement') & (df_merge_stg2['implicit_class_pred'] =='white_grievance')]"
   ]
  },
  {
   "cell_type": "code",
   "execution_count": 51,
   "id": "7acb713b-a118-457d-a90e-946cb93565aa",
   "metadata": {},
   "outputs": [
    {
     "name": "stdout",
     "output_type": "stream",
     "text": [
      "\n",
      "Post: 8576 - are you talking about the same white supremacists who saved your people from genicide ?\n",
      "Gold class: incitement - Pred class: white_grievance - Confidence: 0.85\n",
      "Explanation: The post defends white supremacists by claiming they saved a group from genocide, suggesting a sense of grievance and victimhood. This aligns with the \"white grievance\" category, which includes frustration over perceived privileges of minority groups and the idea that majority groups are the real victims of racism. The confidence level is 0.85 as the post clearly expresses a grievance related to white supremacists but leaves some room for interpretation.\n",
      "\n",
      "Post: 19105 - you mean the constitution written by white people for white people ? those conservatives would deny that !\n",
      "Gold class: incitement - Pred class: white_grievance - Confidence: 0.8\n",
      "Explanation: The post suggests that the U.S. Constitution was written by and for white people, implying a sense of white ownership and grievance. This fits the \"white grievance\" category, as it expresses frustration and a sense of victimhood related to the perceived privileges of other groups. The confidence level is 0.8 because while the post does imply white grievance, there could be other interpretations without additional context.\n",
      "\n",
      "Post: 9983 - that's why white conscientious has exploded . whites are realising this is an existential mom\n",
      "Gold class: incitement - Pred class: white_grievance - Confidence: 0.85\n",
      "Explanation: The post discusses an \"explosion\" of white consciousness and an \"existential\" moment, suggesting a sense of urgency and awareness within the white community. This aligns with the \"white grievance\" category, which includes frustration over perceived threats to the white community and a sense of victimhood. The confidence level is 0.85 as the post clearly conveys a sense of white grievance, although there is some room for interpretation based on the broader context.\n",
      "\n",
      "Post: 11356 - being white / mex i don't think i meet the requirements for but i support them . cause living in a white society is best .\n",
      "Gold class: incitement - Pred class: white_grievance - Confidence: 0.8\n",
      "Explanation: The post expresses a preference for living in a white society and supports unspecified requirements that the poster believes they do not meet due to their mixed heritage. This aligns with the \"white_grievance\" category, as it implies a sense of frustration or resentment related to racial dynamics and a perceived privilege of living in a white society. The confidence level is 0.8 because the post suggests a sense of grievance related to racial identity, but it is somewhat ambiguous.\n",
      "\n",
      "Post: 12352 - go fight for white existence without us white southerners and see how far you get .\n",
      "Gold class: incitement - Pred class: white_grievance - Confidence: 0.85\n",
      "Explanation: The post emphasizes the importance of \"white southerners\" in the \"fight for white existence,\" which suggests a sense of white victimhood and a call to action. This aligns with the \"white grievance\" category, which includes frustration over perceived privileges of minority groups and the idea that majority groups are the real victims of racism. The confidence level is high at 0.85, as the language and intent clearly fit the criteria for white grievance.\n",
      "\n",
      "Post: 8191 - this is what the anti-white promotes ... multiculturalism sad :\n",
      "Gold class: incitement - Pred class: white_grievance - Confidence: 0.85\n",
      "Explanation: The post expresses frustration and grievance towards multiculturalism, which is often associated with anti-white sentiment in certain narratives. The use of the term \"anti-white\" and the expression of sadness over the promotion of multiculturalism align with the \"white grievance\" category. The confidence level is 0.85 as the post clearly expresses a sense of white victimhood.\n",
      "\n",
      "Post: 3907 - : voted to avoid pointless wars and third world immigration . got pointless wars and more thi\n",
      "Gold class: incitement - Pred class: white_grievance - Confidence: 0.8\n",
      "Explanation: The post expresses frustration over political outcomes, specifically mentioning \"third world immigration\" as an unwanted result. This aligns with the \"white grievance\" category, as it implies a sense of victimhood and resentment towards immigration policies that are perceived to be against the interests of the native (majority white) population. The confidence level is 0.8 as the post suggests a sense of grievance, although it does not explicitly mention race.\n",
      "\n",
      "Post: 14395 - may he rest in peace . i didnt know him  i bet he was a good man . stood for what was right  the white race .\n",
      "Gold class: incitement - Pred class: white_grievance - Confidence: 0.85\n",
      "Explanation: The post expresses admiration for someone who stood up for the white race, implying a sense of white victimhood and a need to defend the white race. This aligns with the \"white grievance\" category, which includes frustration over perceived privileges of minority groups and the idea that majority groups are the real victims of racism. The confidence level is 0.85 as the post clearly expresses sentiments of white grievance, but there is some room for interpretation based on the broader context.\n",
      "\n",
      "Post: 1054 -  who is promoting  \" white privilege \" \" ? #withjewswelose \"\n",
      "Gold class: incitement - Pred class: white_grievance - Confidence: 0.85\n",
      "Explanation: The post implies a grievance against the concept of \"white privilege\" and associates this grievance with Jewish people through the hashtag \"#withjewswelose.\" This fits the \"white grievance\" category, as it expresses frustration over a perceived privilege of a minority group and casts majority groups as victims. The confidence level is 0.85 as the post strongly suggests a sense of white victimhood, although there is some room for interpretation.\n",
      "\n",
      "Post: 11568 - i'm pro-white  heimbach's job is to drive people away from white identity . attacking him is doing the lord's work  i should get a medal .\n",
      "Gold class: incitement - Pred class: white_grievance - Confidence: 0.85\n",
      "Explanation: The post expresses a pro-white stance and discusses the idea of driving people away from white identity, which aligns with the \"white_grievance\" category. The sarcastic tone adds an element of irony, but the primary focus is on white identity and grievance. The confidence level is 0.85 due to the clear expression of white grievance, with a lesser emphasis on irony.\n"
     ]
    }
   ],
   "source": [
    "for idx, row in df_errors.sample(10).iterrows():\n",
    "    print('\\nPost: ' + str(row['post_id']) + ' - ' + row['post'])\n",
    "    print('Gold class: ' + row['implicit_class'] +' - Pred class: ' + row['implicit_class_pred'] +' - Confidence: ' + str(row['confidence']) )\n",
    "    print('Explanation: ' + row['explanation'])"
   ]
  },
  {
   "cell_type": "code",
   "execution_count": null,
   "id": "36cfd6da-11f7-4700-9d4c-927e4e7fa3a9",
   "metadata": {},
   "outputs": [],
   "source": []
  },
  {
   "cell_type": "code",
   "execution_count": null,
   "id": "1d9f4742-f02b-4fe9-8238-f6996d8a0694",
   "metadata": {},
   "outputs": [],
   "source": []
  },
  {
   "cell_type": "markdown",
   "id": "64ffb179-8774-4568-97cd-b91eed1906c9",
   "metadata": {},
   "source": [
    "# Evaluation Stage 3"
   ]
  },
  {
   "cell_type": "markdown",
   "id": "a5b95c00-9a2a-49f5-93a3-c9aafd589ed4",
   "metadata": {},
   "source": [
    "Initialize BLEURT Scorer"
   ]
  },
  {
   "cell_type": "code",
   "execution_count": null,
   "id": "be1ff5ed-107e-4b41-ad0b-6ca7725d01e7",
   "metadata": {},
   "outputs": [],
   "source": [
    "checkpoint =  \"BLEURT-20\"\n",
    "bleurt_scorer = bleurt_score.BleurtScorer(checkpoint)"
   ]
  },
  {
   "cell_type": "code",
   "execution_count": null,
   "id": "dd99f3ce-d435-4460-90b6-a82de7588517",
   "metadata": {},
   "outputs": [],
   "source": [
    "result_file_stg3 = data_folder + 'implicit_hate_test_stg3.csv'"
   ]
  },
  {
   "cell_type": "markdown",
   "id": "bf2181f5-125b-4f72-9a29-0708efbeb4b6",
   "metadata": {},
   "source": [
    "### Text similarity metrics"
   ]
  },
  {
   "cell_type": "code",
   "execution_count": null,
   "id": "c2e35137-45bf-4369-8b6b-82b4056b32a2",
   "metadata": {},
   "outputs": [],
   "source": [
    "def compute_similarity_metrics(generated, reference, bleurt_scorer, bert_lang='en'):\n",
    "\n",
    "    generated_tokens = nltk.word_tokenize(generated.lower())\n",
    "    reference_tokens = nltk.word_tokenize(reference.lower())\n",
    "\n",
    "    # Compute BLEU Score\n",
    "\n",
    "    # Smoothing method1: adds 1 to the numerator and denominator for higher-order n-grams with no matches, akin to additive smoothing.\n",
    "    # Works well for very short sentences or cases with few matches.\n",
    "    smoothing = SmoothingFunction().method1\n",
    "\n",
    "    bleu = sentence_bleu([reference_tokens], generated_tokens, smoothing_function = smoothing)\n",
    "    bleu_1 = sentence_bleu([reference_tokens], generated_tokens, weights=(1, 0, 0, 0), smoothing_function = smoothing)\n",
    "    bleu_2 = sentence_bleu([reference_tokens], generated_tokens, weights=(0.5, 0.5, 0, 0), smoothing_function = smoothing) # Cumulative\n",
    "\n",
    "    # Compute ROUGE Score (F1)\n",
    "    rouge_scorer_obj = rouge_scorer.RougeScorer(['rouge1', 'rouge2', 'rougeL'], use_stemmer=True)\n",
    "    rouge_scores = rouge_scorer_obj.score(reference, generated)\n",
    "    rouge_f1 = {\n",
    "        'ROUGE-1': rouge_scores['rouge1'].fmeasure,\n",
    "        'ROUGE-2': rouge_scores['rouge2'].fmeasure,\n",
    "        'ROUGE-L': rouge_scores['rougeL'].fmeasure\n",
    "    }\n",
    "    # Compute METEOR Score\n",
    "    meteor = meteor_score([reference_tokens], generated_tokens)\n",
    "\n",
    "    # Compute NIST Score\n",
    "    n = np.min((len(reference_tokens),len(generated_tokens),2))\n",
    "    nist = sentence_nist([reference_tokens], generated_tokens, n = n)\n",
    "\n",
    "    # Compute BERTScore (F1)\n",
    "    P, R, F1 = bert_score.score([generated], [reference], lang=bert_lang, verbose=False)\n",
    "    bert_f1 = F1.mean().item()\n",
    "\n",
    "    # Compute BLUERT score\n",
    "    bleurt_scores = bleurt_scorer.score(references = [reference], candidates = [generated])\n",
    "    if isinstance(bleurt_scores, list) and len(bleurt_scores) == 1:\n",
    "        bleurt = bleurt_scores[0]\n",
    "    else:\n",
    "        0\n",
    "\n",
    "    # Combine scores\n",
    "    return {\n",
    "        'BLEU-1' : bleu_1,\n",
    "        'BLEU-2' : bleu_2,\n",
    "        'BLEU': bleu,\n",
    "        **rouge_f1,\n",
    "        'METEOR' : meteor,\n",
    "        'NIST' : nist,\n",
    "        'BERTScore': bert_f1,\n",
    "        'BLEURTScore' : bleurt\n",
    "    }\n",
    "    "
   ]
  },
  {
   "cell_type": "markdown",
   "id": "4426eae2-b1b7-4c89-8e39-1da02b78fbde",
   "metadata": {},
   "source": [
    "## Target similarity"
   ]
  },
  {
   "cell_type": "code",
   "execution_count": null,
   "id": "6c017020-9273-4533-a6de-f8f77ec2d371",
   "metadata": {},
   "outputs": [],
   "source": [
    "def compute_target_similarity(strategy, gold_file, pred_file, bleurt_scorer, debug_mode = False):\n",
    "\n",
    "    df_gold = pd.read_csv(gold_file, encoding=\"utf-8\")\n",
    "    df_pred = pd.read_csv(pred_file, encoding=\"utf-8\")    \n",
    "    \n",
    "    df_pred = df_pred[df_pred['target'].notnull()]\n",
    "    df_pred = df_pred[df_pred['target'].notna()] \n",
    "    \n",
    "    if debug_mode:\n",
    "        df_pred = df_pred.sample(2)\n",
    "    \n",
    "    df_gold.rename(columns={'target': 'target_gold'}, inplace=True)\n",
    "    df_pred.rename(columns={'target': 'target_pred'}, inplace=True)\n",
    "    \n",
    "    df_gold = df_gold[df_gold['post_id'].isin(df_pred['post_id'])]\n",
    "    df_pred = df_pred[df_pred['post_id'].isin(df_gold['post_id'])]\n",
    "    \n",
    "    df_gold.sort_values(\"post_id\", axis=0, ascending=True, inplace=True)\n",
    "    df_pred.sort_values(\"post_id\", axis=0, ascending=True, inplace=True)\n",
    "    \n",
    "    df_merge = pd.merge(df_gold, df_pred, on = \"post_id\")\n",
    "    df_target = df_merge[['post_id', 'post', 'target_gold', 'target_pred']]\n",
    "    \n",
    "    # Compute metrics\n",
    "    similarity_metrics = df_target.apply(lambda row: compute_similarity_metrics(row['target_pred'], row['target_gold'], bleurt_scorer), axis=1)\n",
    "    \n",
    "    # Flatten the metrics into separate columns\n",
    "    metrics_df = pd.DataFrame(similarity_metrics.tolist())\n",
    "    \n",
    "    # Combine the original DataFrame with the metrics\n",
    "    df_target_result = pd.concat([df_target, metrics_df], axis=1)\n",
    "    df_target_result_max = df_target_result.groupby('post_id')[df_target_result.columns[4: ].tolist()].max()\n",
    "    \n",
    "    # Average results\n",
    "    df_result = df_target_result_max[1: ].mean().to_frame().T\n",
    "    df_result.insert(loc = 0, column = 'Strategy', value = strategy)\n",
    "    \n",
    "    return df_result"
   ]
  },
  {
   "cell_type": "markdown",
   "id": "3a5e9c05-962b-468f-bb3b-da0c8d1fec18",
   "metadata": {},
   "source": [
    "### Baseline"
   ]
  },
  {
   "cell_type": "code",
   "execution_count": null,
   "id": "b72029af-00d0-4d99-bc73-69a34b106728",
   "metadata": {},
   "outputs": [],
   "source": [
    "target_similiarty_baseline = compute_target_similarity(\n",
    "    'Baseline',\n",
    "    result_file_stg3,\n",
    "    result_folder + model_name + '_result_baseline_stg3.csv',\n",
    "    bleurt_scorer,\n",
    "    debug_mode\n",
    ")"
   ]
  },
  {
   "cell_type": "markdown",
   "id": "443245d0-859e-4530-91ad-fe3decb9b69a",
   "metadata": {},
   "source": [
    "### Prompt Tree of Thoughts"
   ]
  },
  {
   "cell_type": "code",
   "execution_count": null,
   "id": "eed52458-45eb-49f8-8a9a-18fb9388e94a",
   "metadata": {},
   "outputs": [],
   "source": [
    "target_similiarty_prompt_tot = compute_target_similarity(\n",
    "    'Prompt ToT',\n",
    "    result_file_stg3,\n",
    "    result_folder + model_name + '_result_prompt_tot_stg3.csv',\n",
    "    bleurt_scorer,\n",
    "    debug_mode\n",
    ")"
   ]
  },
  {
   "cell_type": "markdown",
   "id": "187987ec-71e1-45d2-8144-f48a3c547c3a",
   "metadata": {},
   "source": [
    "### Graph Tree of Thoughts"
   ]
  },
  {
   "cell_type": "code",
   "execution_count": null,
   "id": "3adc6bf4-279b-42c4-b2cc-0474f0fde9b6",
   "metadata": {},
   "outputs": [],
   "source": [
    "target_similiarty_graph = compute_target_similarity(\n",
    "    'Graph ToT',\n",
    "    result_file_stg3,\n",
    "    result_folder + model_name + '_result_graph_stg3.csv',\n",
    "    bleurt_scorer,\n",
    "    debug_mode\n",
    ")"
   ]
  },
  {
   "cell_type": "markdown",
   "id": "e2301587-5a5a-484d-9635-5ecbbcd3f20f",
   "metadata": {},
   "source": [
    "### Otimizer MIPRO"
   ]
  },
  {
   "cell_type": "code",
   "execution_count": null,
   "id": "b1466f9d-f9d8-4570-9490-dc09cb1ca8fb",
   "metadata": {},
   "outputs": [],
   "source": [
    "target_similiarty_optimized = compute_target_similarity(\n",
    "    'Optimized',\n",
    "    result_file_stg3,\n",
    "    result_folder + model_name + '_result_optimizer_stg3.csv',\n",
    "    bleurt_scorer,\n",
    "    debug_mode\n",
    ")"
   ]
  },
  {
   "cell_type": "markdown",
   "id": "092bf7d1-ec4e-4e19-a19e-9b996de14db6",
   "metadata": {},
   "source": [
    "## Result Target similarity"
   ]
  },
  {
   "cell_type": "code",
   "execution_count": null,
   "id": "419e62a8-820d-49e5-aa7c-23d4c6f8ce9d",
   "metadata": {},
   "outputs": [],
   "source": [
    "target_similarity_result = pd.concat(\n",
    "    [target_similiarty_baseline, \n",
    "     target_similiarty_prompt_tot, \n",
    "     target_similiarty_graph, \n",
    "     target_similiarty_optimized]\n",
    ")"
   ]
  },
  {
   "cell_type": "code",
   "execution_count": null,
   "id": "1608e9c2-4b5d-42c5-aa4e-cd52e795baad",
   "metadata": {},
   "outputs": [],
   "source": [
    "if debug_mode == False:\n",
    "    target_similarity_result.to_excel(result_folder + model_name + '_evaluation_stg3_target.xlsx', index = False)"
   ]
  },
  {
   "cell_type": "code",
   "execution_count": 57,
   "id": "f671faae-b8bc-401c-8f69-27a3b14065b2",
   "metadata": {},
   "outputs": [],
   "source": [
    "target_similarity_result = pd.read_excel(result_folder + model_name + '_evaluation_stg3_target.xlsx')"
   ]
  },
  {
   "cell_type": "markdown",
   "id": "f14b083c-03a4-4bb7-b940-8e2a3f63ce4e",
   "metadata": {},
   "source": [
    "Rename columns for paper"
   ]
  },
  {
   "cell_type": "code",
   "execution_count": 58,
   "id": "74937b75-c09f-4179-81c7-2f7a553b5bda",
   "metadata": {},
   "outputs": [],
   "source": [
    "target_similarity_result.rename(columns={\n",
    "    'BLEU-1' : 'B1',\n",
    "    'BLEU-2' : 'B2',\t\n",
    "    'BLEU' : 'B',\n",
    "    'ROUGE-1' : 'R1',\n",
    "    'ROUGE-2' : 'R2',\n",
    "    'ROUGE-L' : 'R-L',\n",
    "    'NIST' : 'NI',\n",
    "    'METEOR' : 'M',\n",
    "    'BERTScore': 'BS', \n",
    "    'BLEURTScore': 'BL'}, \n",
    "    inplace = True)"
   ]
  },
  {
   "cell_type": "code",
   "execution_count": 59,
   "id": "0e0861bf-d3d8-4284-9c98-3ca2e9f3d102",
   "metadata": {},
   "outputs": [
    {
     "data": {
      "text/html": [
       "<div>\n",
       "<style scoped>\n",
       "    .dataframe tbody tr th:only-of-type {\n",
       "        vertical-align: middle;\n",
       "    }\n",
       "\n",
       "    .dataframe tbody tr th {\n",
       "        vertical-align: top;\n",
       "    }\n",
       "\n",
       "    .dataframe thead th {\n",
       "        text-align: right;\n",
       "    }\n",
       "</style>\n",
       "<table border=\"1\" class=\"dataframe\">\n",
       "  <thead>\n",
       "    <tr style=\"text-align: right;\">\n",
       "      <th></th>\n",
       "      <th>Strategy</th>\n",
       "      <th>B1</th>\n",
       "      <th>B2</th>\n",
       "      <th>B</th>\n",
       "      <th>R1</th>\n",
       "      <th>R2</th>\n",
       "      <th>R-L</th>\n",
       "      <th>M</th>\n",
       "      <th>NI</th>\n",
       "      <th>BS</th>\n",
       "      <th>BL</th>\n",
       "    </tr>\n",
       "  </thead>\n",
       "  <tbody>\n",
       "    <tr>\n",
       "      <th>0</th>\n",
       "      <td>Baseline</td>\n",
       "      <td>0.557766</td>\n",
       "      <td>0.263994</td>\n",
       "      <td>0.126302</td>\n",
       "      <td>0.648212</td>\n",
       "      <td>0.168741</td>\n",
       "      <td>0.647696</td>\n",
       "      <td>0.365063</td>\n",
       "      <td>0.206672</td>\n",
       "      <td>0.946971</td>\n",
       "      <td>0.599681</td>\n",
       "    </tr>\n",
       "    <tr>\n",
       "      <th>1</th>\n",
       "      <td>Prompt ToT</td>\n",
       "      <td>0.513928</td>\n",
       "      <td>0.254331</td>\n",
       "      <td>0.120395</td>\n",
       "      <td>0.598005</td>\n",
       "      <td>0.161642</td>\n",
       "      <td>0.597419</td>\n",
       "      <td>0.353700</td>\n",
       "      <td>0.201583</td>\n",
       "      <td>0.938466</td>\n",
       "      <td>0.553218</td>\n",
       "    </tr>\n",
       "    <tr>\n",
       "      <th>2</th>\n",
       "      <td>Graph ToT</td>\n",
       "      <td>0.493070</td>\n",
       "      <td>0.234434</td>\n",
       "      <td>0.113799</td>\n",
       "      <td>0.592984</td>\n",
       "      <td>0.142689</td>\n",
       "      <td>0.592356</td>\n",
       "      <td>0.342325</td>\n",
       "      <td>0.180346</td>\n",
       "      <td>0.934934</td>\n",
       "      <td>0.553094</td>\n",
       "    </tr>\n",
       "    <tr>\n",
       "      <th>3</th>\n",
       "      <td>Optimized</td>\n",
       "      <td>0.599613</td>\n",
       "      <td>0.327923</td>\n",
       "      <td>0.142451</td>\n",
       "      <td>0.682189</td>\n",
       "      <td>0.252921</td>\n",
       "      <td>0.681914</td>\n",
       "      <td>0.416488</td>\n",
       "      <td>0.263856</td>\n",
       "      <td>0.953460</td>\n",
       "      <td>0.593098</td>\n",
       "    </tr>\n",
       "  </tbody>\n",
       "</table>\n",
       "</div>"
      ],
      "text/plain": [
       "     Strategy        B1        B2         B        R1        R2       R-L  \\\n",
       "0    Baseline  0.557766  0.263994  0.126302  0.648212  0.168741  0.647696   \n",
       "1  Prompt ToT  0.513928  0.254331  0.120395  0.598005  0.161642  0.597419   \n",
       "2   Graph ToT  0.493070  0.234434  0.113799  0.592984  0.142689  0.592356   \n",
       "3   Optimized  0.599613  0.327923  0.142451  0.682189  0.252921  0.681914   \n",
       "\n",
       "          M        NI        BS        BL  \n",
       "0  0.365063  0.206672  0.946971  0.599681  \n",
       "1  0.353700  0.201583  0.938466  0.553218  \n",
       "2  0.342325  0.180346  0.934934  0.553094  \n",
       "3  0.416488  0.263856  0.953460  0.593098  "
      ]
     },
     "execution_count": 59,
     "metadata": {},
     "output_type": "execute_result"
    }
   ],
   "source": [
    "target_similarity_result.head()"
   ]
  },
  {
   "cell_type": "code",
   "execution_count": 60,
   "id": "8f09d929-b0a4-4d30-8f3b-ba96029a5ae4",
   "metadata": {},
   "outputs": [],
   "source": [
    "target_similarity_result.to_excel(result_folder + model_name + '_evaluation_stg3_target_paper.xlsx', index = False)"
   ]
  },
  {
   "cell_type": "markdown",
   "id": "2588d02b-b695-4764-9ddf-a2959cb80363",
   "metadata": {},
   "source": [
    "## Meaning similarity"
   ]
  },
  {
   "cell_type": "code",
   "execution_count": null,
   "id": "7b83c97d-6754-4362-af1c-63edb834b260",
   "metadata": {},
   "outputs": [],
   "source": [
    "def compute_meaning_similarity(strategy, gold_file, pred_file, bleurt_scorer, debug_mode = False):\n",
    "\n",
    "    df_gold = pd.read_csv(gold_file, encoding=\"utf-8\")\n",
    "    df_pred = pd.read_csv(pred_file, encoding=\"utf-8\")\n",
    "\n",
    "    df_pred = df_pred[df_pred['implied_statement'].notnull()]\n",
    "    df_pred = df_pred[df_pred['implied_statement'].notna()]    \n",
    "    \n",
    "    if debug_mode:\n",
    "        df_pred = df_pred.sample(2)\n",
    "        \n",
    "    df_gold.rename(columns={'implied_statement': 'implied_statement_gold'}, inplace=True)\n",
    "    df_pred.rename(columns={'implied_statement': 'implied_statement_pred'}, inplace=True)\n",
    "    \n",
    "    df_gold = df_gold[df_gold['post_id'].isin(df_pred['post_id'])]\n",
    "    df_pred = df_pred[df_pred['post_id'].isin(df_gold['post_id'])]\n",
    "    \n",
    "    df_gold.sort_values(\"post_id\", axis=0, ascending=True, inplace=True)\n",
    "    df_pred.sort_values(\"post_id\", axis=0, ascending=True, inplace=True)\n",
    "    \n",
    "    df_merge = pd.merge(df_gold, df_pred, on = \"post_id\")\n",
    "    df_meaning = df_merge[['post_id', 'post', 'implied_statement_gold', 'implied_statement_pred']]\n",
    "    \n",
    "    # Compute metrics\n",
    "    similarity_metrics = df_meaning.apply(lambda row: compute_similarity_metrics(row['implied_statement_pred'], row['implied_statement_gold'], bleurt_scorer), axis=1)\n",
    "    \n",
    "    # Flatten the metrics into separate columns\n",
    "    metrics_df = pd.DataFrame(similarity_metrics.tolist())\n",
    "    \n",
    "    # Combine the original DataFrame with the metrics\n",
    "    df_meaning_result = pd.concat([df_meaning, metrics_df], axis=1)\n",
    "    df_meaning_result_max = df_meaning_result.groupby('post_id')[df_meaning_result.columns[4: ].tolist()].max()\n",
    "    \n",
    "    # Average results\n",
    "    df_result = df_meaning_result_max[1: ].mean().to_frame().T\n",
    "    df_result.insert(loc = 0, column = 'Strategy', value = strategy)\n",
    "\n",
    "    return df_result\n",
    "    "
   ]
  },
  {
   "cell_type": "markdown",
   "id": "e9e6d1e7-c3f1-442e-b8a2-90be626e64d4",
   "metadata": {},
   "source": [
    "### Baseline"
   ]
  },
  {
   "cell_type": "code",
   "execution_count": null,
   "id": "7a5b0b48-ee9f-4a3d-a0b5-38c1be53c17c",
   "metadata": {},
   "outputs": [],
   "source": [
    "meaning_similiarty_baseline = compute_meaning_similarity(\n",
    "    'Baseline',\n",
    "    result_file_stg3,\n",
    "    result_folder + model_name + '_result_baseline_stg3.csv',\n",
    "    bleurt_scorer,\n",
    "    debug_mode\n",
    ")"
   ]
  },
  {
   "cell_type": "markdown",
   "id": "9fb403e0-3845-4848-b13d-b3160310a6eb",
   "metadata": {},
   "source": [
    "### Prompt Tree of Thoughts"
   ]
  },
  {
   "cell_type": "code",
   "execution_count": null,
   "id": "db7490d0-da71-44e1-ab00-f622db808b48",
   "metadata": {},
   "outputs": [],
   "source": [
    "meaning_similiarty_prompt_tot = compute_meaning_similarity(\n",
    "    'Prompt ToT',\n",
    "    result_file_stg3,\n",
    "    result_folder +  model_name + '_result_prompt_tot_stg3.csv',\n",
    "    bleurt_scorer,\n",
    "    debug_mode\n",
    ")"
   ]
  },
  {
   "cell_type": "markdown",
   "id": "cd6dd427-7b38-4b90-b537-1926f5803f3a",
   "metadata": {},
   "source": [
    "### Graph Tree of Thoughts"
   ]
  },
  {
   "cell_type": "code",
   "execution_count": null,
   "id": "47a34976-ce55-4b3b-8d40-2281d2922e30",
   "metadata": {},
   "outputs": [],
   "source": [
    "meaning_similiarty_graph = compute_meaning_similarity(\n",
    "    'Graph ToT',\n",
    "    result_file_stg3,\n",
    "    result_folder + model_name + '_result_graph_stg3.csv',\n",
    "    bleurt_scorer,\n",
    "    debug_mode\n",
    ")"
   ]
  },
  {
   "cell_type": "markdown",
   "id": "bfea9527-6f8c-4362-bd8c-a11691d9bc7c",
   "metadata": {},
   "source": [
    "### Optimizer MIPRO"
   ]
  },
  {
   "cell_type": "code",
   "execution_count": null,
   "id": "3bd18703-5278-4645-abd9-c47b0d6265f7",
   "metadata": {},
   "outputs": [],
   "source": [
    "meaning_similiarty_optimized = compute_meaning_similarity(\n",
    "    'Optimized',\n",
    "    result_file_stg3,\n",
    "    result_folder + model_name + '_result_optimizer_stg3.csv',\n",
    "    bleurt_scorer,\n",
    "    debug_mode\n",
    ")"
   ]
  },
  {
   "cell_type": "markdown",
   "id": "efc03852-ec38-4bf2-a052-58e89ff0a8a9",
   "metadata": {},
   "source": [
    "## Results Meaning similarity"
   ]
  },
  {
   "cell_type": "code",
   "execution_count": null,
   "id": "d524b153-d01f-4a1c-8348-a315f31f204e",
   "metadata": {},
   "outputs": [],
   "source": [
    "meaning_similarity_result = pd.concat(\n",
    "    [meaning_similiarty_baseline,\n",
    "     meaning_similiarty_prompt_tot, \n",
    "     meaning_similiarty_graph, \n",
    "     meaning_similiarty_optimized]\n",
    ")"
   ]
  },
  {
   "cell_type": "code",
   "execution_count": null,
   "id": "76531402-cfcf-4e02-87f1-975253bd8a90",
   "metadata": {},
   "outputs": [],
   "source": [
    "if debug_mode == False:\n",
    "    meaning_similarity_result.to_excel(result_folder + model_name + '_evaluation_stg3_meaning.xlsx', index = False)"
   ]
  },
  {
   "cell_type": "code",
   "execution_count": 61,
   "id": "4373e25a-0d17-42c8-8a1a-814643049a1d",
   "metadata": {},
   "outputs": [],
   "source": [
    "meaning_similarity_result = pd.read_excel(result_folder + model_name + '_evaluation_stg3_meaning.xlsx')"
   ]
  },
  {
   "cell_type": "markdown",
   "id": "e405eee0-c50f-486a-bfc3-202fc780c5e1",
   "metadata": {},
   "source": [
    "Rename columns for paper"
   ]
  },
  {
   "cell_type": "code",
   "execution_count": 63,
   "id": "344e1eeb-95be-4129-8c3d-fec3e0030163",
   "metadata": {},
   "outputs": [],
   "source": [
    "meaning_similarity_result.rename(columns={\n",
    "    'BLEU-1' : 'B1',\n",
    "    'BLEU-2' : 'B2',\t\n",
    "    'BLEU' : 'B',\n",
    "    'ROUGE-1' : 'R1',\n",
    "    'ROUGE-2' : 'R2',\n",
    "    'ROUGE-L' : 'R-L',\n",
    "    'NIST' : 'NI',\n",
    "    'METEOR' : 'M',\n",
    "    'BERTScore': 'BS', \n",
    "    'BLEURTScore': 'BL'\n",
    "    }, \n",
    "    inplace = True)"
   ]
  },
  {
   "cell_type": "code",
   "execution_count": 64,
   "id": "af345a03-6ed9-4ef7-92f4-fc6c6d34c556",
   "metadata": {},
   "outputs": [
    {
     "data": {
      "text/html": [
       "<div>\n",
       "<style scoped>\n",
       "    .dataframe tbody tr th:only-of-type {\n",
       "        vertical-align: middle;\n",
       "    }\n",
       "\n",
       "    .dataframe tbody tr th {\n",
       "        vertical-align: top;\n",
       "    }\n",
       "\n",
       "    .dataframe thead th {\n",
       "        text-align: right;\n",
       "    }\n",
       "</style>\n",
       "<table border=\"1\" class=\"dataframe\">\n",
       "  <thead>\n",
       "    <tr style=\"text-align: right;\">\n",
       "      <th></th>\n",
       "      <th>Strategy</th>\n",
       "      <th>B1</th>\n",
       "      <th>B2</th>\n",
       "      <th>B</th>\n",
       "      <th>R1</th>\n",
       "      <th>R2</th>\n",
       "      <th>R-L</th>\n",
       "      <th>M</th>\n",
       "      <th>NI</th>\n",
       "      <th>BS</th>\n",
       "      <th>BL</th>\n",
       "    </tr>\n",
       "  </thead>\n",
       "  <tbody>\n",
       "    <tr>\n",
       "      <th>0</th>\n",
       "      <td>Baseline</td>\n",
       "      <td>0.312300</td>\n",
       "      <td>0.201347</td>\n",
       "      <td>0.110530</td>\n",
       "      <td>0.425311</td>\n",
       "      <td>0.190307</td>\n",
       "      <td>0.413189</td>\n",
       "      <td>0.308253</td>\n",
       "      <td>0.651363</td>\n",
       "      <td>0.913536</td>\n",
       "      <td>0.486281</td>\n",
       "    </tr>\n",
       "    <tr>\n",
       "      <th>1</th>\n",
       "      <td>Prompt ToT</td>\n",
       "      <td>0.276235</td>\n",
       "      <td>0.169873</td>\n",
       "      <td>0.084185</td>\n",
       "      <td>0.376240</td>\n",
       "      <td>0.158266</td>\n",
       "      <td>0.364460</td>\n",
       "      <td>0.303698</td>\n",
       "      <td>0.608512</td>\n",
       "      <td>0.904943</td>\n",
       "      <td>0.467554</td>\n",
       "    </tr>\n",
       "    <tr>\n",
       "      <th>2</th>\n",
       "      <td>Graph ToT</td>\n",
       "      <td>0.271485</td>\n",
       "      <td>0.167285</td>\n",
       "      <td>0.082901</td>\n",
       "      <td>0.376487</td>\n",
       "      <td>0.154722</td>\n",
       "      <td>0.363244</td>\n",
       "      <td>0.296526</td>\n",
       "      <td>0.592457</td>\n",
       "      <td>0.905518</td>\n",
       "      <td>0.473427</td>\n",
       "    </tr>\n",
       "    <tr>\n",
       "      <th>3</th>\n",
       "      <td>Optimized</td>\n",
       "      <td>0.410091</td>\n",
       "      <td>0.286418</td>\n",
       "      <td>0.163701</td>\n",
       "      <td>0.501659</td>\n",
       "      <td>0.302799</td>\n",
       "      <td>0.489305</td>\n",
       "      <td>0.420038</td>\n",
       "      <td>0.895411</td>\n",
       "      <td>0.924709</td>\n",
       "      <td>0.521215</td>\n",
       "    </tr>\n",
       "  </tbody>\n",
       "</table>\n",
       "</div>"
      ],
      "text/plain": [
       "     Strategy        B1        B2         B        R1        R2       R-L  \\\n",
       "0    Baseline  0.312300  0.201347  0.110530  0.425311  0.190307  0.413189   \n",
       "1  Prompt ToT  0.276235  0.169873  0.084185  0.376240  0.158266  0.364460   \n",
       "2   Graph ToT  0.271485  0.167285  0.082901  0.376487  0.154722  0.363244   \n",
       "3   Optimized  0.410091  0.286418  0.163701  0.501659  0.302799  0.489305   \n",
       "\n",
       "          M        NI        BS        BL  \n",
       "0  0.308253  0.651363  0.913536  0.486281  \n",
       "1  0.303698  0.608512  0.904943  0.467554  \n",
       "2  0.296526  0.592457  0.905518  0.473427  \n",
       "3  0.420038  0.895411  0.924709  0.521215  "
      ]
     },
     "execution_count": 64,
     "metadata": {},
     "output_type": "execute_result"
    }
   ],
   "source": [
    "meaning_similarity_result.head()"
   ]
  },
  {
   "cell_type": "code",
   "execution_count": 65,
   "id": "8174dc82-4214-4ce1-a016-d8b5c8cc138f",
   "metadata": {},
   "outputs": [],
   "source": [
    "meaning_similarity_result.to_excel(result_folder + model_name + '_evaluation_stg3_meaning_paper.xlsx', index = False)"
   ]
  },
  {
   "cell_type": "code",
   "execution_count": null,
   "id": "a3643228-2bc8-409b-9fbb-44a648dc5e66",
   "metadata": {},
   "outputs": [],
   "source": []
  },
  {
   "cell_type": "markdown",
   "id": "4794d84f-236d-4940-9fb1-f0c1c00284ca",
   "metadata": {},
   "source": [
    "### Qualitative analysis (target, MIPRO results)"
   ]
  },
  {
   "cell_type": "code",
   "execution_count": 52,
   "id": "6e49e73e-370d-4455-a4a2-b8b7ba90e009",
   "metadata": {},
   "outputs": [],
   "source": [
    "df_gold_stg3 = pd.read_csv(data_folder + \"implicit_hate_test_stg3.csv\", encoding = 'utf-8')\n",
    "df_pred_stg3 = pd.read_csv(result_folder + model_name + \"_result_optimizer_stg3.csv\", encoding = 'utf-8')"
   ]
  },
  {
   "cell_type": "code",
   "execution_count": 53,
   "id": "a567797a-2761-46ee-9928-01d13a5989a0",
   "metadata": {},
   "outputs": [],
   "source": [
    "df_gold_stg3['target'] = df_gold_stg3['target'].str.lower()\n",
    "df_pred_stg3['target'] = df_pred_stg3['target'].str.lower()"
   ]
  },
  {
   "cell_type": "code",
   "execution_count": 54,
   "id": "b9b22d91-9fb2-4de3-96ab-fa8bd91a5024",
   "metadata": {},
   "outputs": [
    {
     "data": {
      "image/png": "[encoded data removed]",
      "text/plain": [
       "<Figure size 640x480 with 1 Axes>"
      ]
     },
     "metadata": {},
     "output_type": "display_data"
    }
   ],
   "source": [
    "p = df_gold_stg3.groupby(['target'])['post_id'].count().div(len(df_gold_stg3)).multiply(100).sort_values().tail(10).plot(\n",
    "    kind = 'barh', \n",
    "    xlabel='Number of posts (%)', \n",
    "    ylabel = 'Target',  \n",
    "    title = 'Most frequent targets \\n'\n",
    ")                                                                               "
   ]
  },
  {
   "cell_type": "code",
   "execution_count": 55,
   "id": "20806c92-a1ff-4887-9685-8f1389cbe851",
   "metadata": {},
   "outputs": [
    {
     "data": {
      "image/png": "[encoded data removed]",
      "text/plain": [
       "<Figure size 640x480 with 1 Axes>"
      ]
     },
     "metadata": {},
     "output_type": "display_data"
    }
   ],
   "source": [
    "p = df_pred_stg3.groupby(['target'])['post_id'].count().div(len(df_pred_stg3)).multiply(100).sort_values().tail(10).plot(\n",
    "    kind = 'barh', \n",
    "    xlabel='Number of posts (%)', \n",
    "    ylabel = 'Target',  \n",
    "    title = 'Most predicted targets \\n'\n",
    ")"
   ]
  },
  {
   "cell_type": "markdown",
   "id": "5072a6fc-d37d-45be-aada-883d463d43c5",
   "metadata": {},
   "source": [
    "#### Immigrants"
   ]
  },
  {
   "cell_type": "code",
   "execution_count": 56,
   "id": "0d46341d-3ed9-42c2-bbf8-6cc2c1471e79",
   "metadata": {},
   "outputs": [],
   "source": [
    "df_immigrants = df_gold_stg3[df_gold_stg3['target'] == 'immigrants']"
   ]
  },
  {
   "cell_type": "code",
   "execution_count": 57,
   "id": "ac1047f0-611d-4563-ba69-f737a7cef973",
   "metadata": {},
   "outputs": [],
   "source": [
    "df_pred_immigrants = df_pred_stg3[df_pred_stg3['post_id'].isin(df_immigrants['post_id'])]\n",
    "df_pred_immigrants = df_pred_immigrants[df_pred_immigrants['target'] != 'immigrants']"
   ]
  },
  {
   "cell_type": "code",
   "execution_count": 58,
   "id": "08873fa1-a29e-4a0b-bb90-5d963402e2eb",
   "metadata": {},
   "outputs": [
    {
     "data": {
      "image/png": "[encoded data removed]",
      "text/plain": [
       "<Figure size 640x480 with 1 Axes>"
      ]
     },
     "metadata": {},
     "output_type": "display_data"
    }
   ],
   "source": [
    "p = df_pred_immigrants.groupby(['target'])['post_id'].count().sort_values().tail(10).plot(\n",
    "    kind = 'barh', \n",
    "    xlabel='Number of posts', \n",
    "    ylabel = 'Target',  \n",
    "    title = 'Differently identified immigrants \\n'\n",
    ") "
   ]
  },
  {
   "cell_type": "code",
   "execution_count": 59,
   "id": "7d8f58dd-11d5-481e-ada6-2f6f10ad8ce3",
   "metadata": {},
   "outputs": [
    {
     "data": {
      "text/html": [
       "<div>\n",
       "<style scoped>\n",
       "    .dataframe tbody tr th:only-of-type {\n",
       "        vertical-align: middle;\n",
       "    }\n",
       "\n",
       "    .dataframe tbody tr th {\n",
       "        vertical-align: top;\n",
       "    }\n",
       "\n",
       "    .dataframe thead th {\n",
       "        text-align: right;\n",
       "    }\n",
       "</style>\n",
       "<table border=\"1\" class=\"dataframe\">\n",
       "  <thead>\n",
       "    <tr style=\"text-align: right;\">\n",
       "      <th></th>\n",
       "      <th>post_id</th>\n",
       "      <th>target</th>\n",
       "      <th>implied_statement</th>\n",
       "    </tr>\n",
       "  </thead>\n",
       "  <tbody>\n",
       "    <tr>\n",
       "      <th>160</th>\n",
       "      <td>20739</td>\n",
       "      <td>illegal immigrants</td>\n",
       "      <td>Illegal immigrants should be targeted.</td>\n",
       "    </tr>\n",
       "    <tr>\n",
       "      <th>864</th>\n",
       "      <td>14451</td>\n",
       "      <td>illegal aliens</td>\n",
       "      <td>Illegal aliens are criminals.</td>\n",
       "    </tr>\n",
       "    <tr>\n",
       "      <th>822</th>\n",
       "      <td>19837</td>\n",
       "      <td>minorities</td>\n",
       "      <td>Minorities are not good at math.</td>\n",
       "    </tr>\n",
       "    <tr>\n",
       "      <th>27</th>\n",
       "      <td>5711</td>\n",
       "      <td>third world people</td>\n",
       "      <td>Third world people are unintelligent.</td>\n",
       "    </tr>\n",
       "    <tr>\n",
       "      <th>11</th>\n",
       "      <td>19941</td>\n",
       "      <td>religious or cultural group</td>\n",
       "      <td>Religious or cultural group is desperate and f...</td>\n",
       "    </tr>\n",
       "    <tr>\n",
       "      <th>599</th>\n",
       "      <td>20255</td>\n",
       "      <td>unspecified</td>\n",
       "      <td>Unspecified group should be eliminated</td>\n",
       "    </tr>\n",
       "    <tr>\n",
       "      <th>279</th>\n",
       "      <td>19921</td>\n",
       "      <td>non-indian migrants</td>\n",
       "      <td>non-Indian migrants are not family-focused, ha...</td>\n",
       "    </tr>\n",
       "    <tr>\n",
       "      <th>600</th>\n",
       "      <td>20219</td>\n",
       "      <td>illegal immigrants</td>\n",
       "      <td>Illegal Immigrants are exploitative.</td>\n",
       "    </tr>\n",
       "    <tr>\n",
       "      <th>683</th>\n",
       "      <td>19699</td>\n",
       "      <td>poor people</td>\n",
       "      <td>Poor people are violent.</td>\n",
       "    </tr>\n",
       "    <tr>\n",
       "      <th>452</th>\n",
       "      <td>14597</td>\n",
       "      <td>non-white people</td>\n",
       "      <td>non-white people are unwanted</td>\n",
       "    </tr>\n",
       "  </tbody>\n",
       "</table>\n",
       "</div>"
      ],
      "text/plain": [
       "     post_id                       target  \\\n",
       "160    20739           illegal immigrants   \n",
       "864    14451               illegal aliens   \n",
       "822    19837                   minorities   \n",
       "27      5711           third world people   \n",
       "11     19941  religious or cultural group   \n",
       "599    20255                  unspecified   \n",
       "279    19921          non-indian migrants   \n",
       "600    20219           illegal immigrants   \n",
       "683    19699                  poor people   \n",
       "452    14597             non-white people   \n",
       "\n",
       "                                     implied_statement  \n",
       "160             Illegal immigrants should be targeted.  \n",
       "864                      Illegal aliens are criminals.  \n",
       "822                   Minorities are not good at math.  \n",
       "27               Third world people are unintelligent.  \n",
       "11   Religious or cultural group is desperate and f...  \n",
       "599             Unspecified group should be eliminated  \n",
       "279  non-Indian migrants are not family-focused, ha...  \n",
       "600               Illegal Immigrants are exploitative.  \n",
       "683                           Poor people are violent.  \n",
       "452                      non-white people are unwanted  "
      ]
     },
     "execution_count": 59,
     "metadata": {},
     "output_type": "execute_result"
    }
   ],
   "source": [
    "df_pred_immigrants[df_pred_immigrants['target'] != 'immigrants'].sample(10)"
   ]
  },
  {
   "cell_type": "code",
   "execution_count": null,
   "id": "a59f0af9-02b0-4d62-a877-a5b697b76407",
   "metadata": {},
   "outputs": [],
   "source": []
  },
  {
   "cell_type": "code",
   "execution_count": 81,
   "id": "80e9d4d5-9998-4864-ab71-c36230ebc9d1",
   "metadata": {},
   "outputs": [],
   "source": [
    "df_merge_stg3 = pd.merge(df_gold_stg3, df_pred_stg3.rename(columns={'target': 'target_pred', 'implied_statement': 'implied_statement_pred'}), on = 'post_id')"
   ]
  },
  {
   "cell_type": "code",
   "execution_count": 82,
   "id": "add9b9b0-a28e-41d5-b5a1-4ae9c0139587",
   "metadata": {},
   "outputs": [],
   "source": [
    "df_whites = df_merge_stg3[(df_merge_stg3['target'] == 'white people') & (df_merge_stg3['target_pred'] == 'black people')]"
   ]
  },
  {
   "cell_type": "code",
   "execution_count": 87,
   "id": "35d0884a-0bf2-48b6-8250-5fab4476500b",
   "metadata": {},
   "outputs": [
    {
     "name": "stdout",
     "output_type": "stream",
     "text": [
      "\n",
      "Post: 3372 - maybe you should build your thriving black communities far away where white people can't get to them\n",
      "Implied statement gold: White people try to take over black communities\n",
      "Implied statement pred: Black people are harmful.\n",
      "\n",
      "Post: 12077 -  new video :  \" madness at #mizzou : black hysteria and white cowardice \" \" #tcot #altright \"\n",
      "Implied statement gold: White people are scared of blacks.\n",
      "Implied statement pred: Black people are irrational.\n",
      "\n",
      "Post: 14800 -   \" american \" \" means nothing . whites need to start looking out for themselves . u want \" \" america \" \" to end up like south africa ? \"\n",
      "Implied statement gold: White people need to stick together.\n",
      "Implied statement pred: Black people are a threat to whites.\n",
      "\n",
      "Post: 456 - i have an ultra liberal next door who says there is no such thing as black racist only white people can be racist unbelievable\n",
      "Implied statement gold: White people are racist.\n",
      "Implied statement pred: Black people are racist.\n",
      "\n",
      "Post: 13488 - no  white women are on average closer to white men in intelligence than black men or women .\n",
      "Implied statement gold: White people are smarter than black people.\n",
      "Implied statement pred: Black people are less intelligent.\n",
      "\n",
      "Post: 2974 - : guess i'll tell all my successful southern friends they owe it all to a slave they've never owned\n",
      "Implied statement gold: White people don't all owe their success to owning slaves\n",
      "Implied statement pred: Black people blame whites for their problems.\n",
      "\n",
      "Post: 7963 - maybe you should go to black lives matter and whine about your white guilt\n",
      "Implied statement gold: White people don't like Black Lives Matter.\n",
      "Implied statement pred: Black people are hostile.\n",
      "\n",
      "Post: 15307 - millions of africans every year leave lands controlled by blacks to live in lands controlled by whites . come on  man\n",
      "Implied statement gold: White people control blacks.\n",
      "Implied statement pred: Black people are inferior.\n",
      "\n",
      "Post: 6651 - ' gentrification ' or ' white flight ' : whites can't win via blacks working to maintain their lands and culture ? fine . white people working to maintain their lands and culture ? ... well  you know how this goes .\n",
      "Implied statement gold: White people are being oppressed.\n",
      "Implied statement pred: Black people are hypocrites.\n",
      "\n",
      "Post: 3541 - the first college was built in africa . the second college of the world was built in spain by africans . u will say africans are white . lol\n",
      "Implied statement gold: White people think black people are stupid\n",
      "Implied statement pred: Black people are uneducated.\n"
     ]
    }
   ],
   "source": [
    "for idx, row in df_whites.sample(10).iterrows():\n",
    "    print('\\nPost: ' + str(row['post_id']) + ' - ' + row['post'])\n",
    "    #print('Gold target: ' + row['target'] +' - Pred target: ' + row['target_pred'])\n",
    "    print('Implied statement gold: ' + row['implied_statement'])\n",
    "    print('Implied statement pred: ' + row['implied_statement_pred'])"
   ]
  },
  {
   "cell_type": "markdown",
   "id": "d87b8c01-6ff6-4c0b-a18f-a5d370eff930",
   "metadata": {},
   "source": [
    "#### Example of post correctly classified by Tree of Thought Graph"
   ]
  },
  {
   "cell_type": "code",
   "execution_count": 62,
   "id": "153f4185-6f06-4649-90f0-20c822f6df8b",
   "metadata": {},
   "outputs": [],
   "source": [
    "correct_stg1 = df_merge_stg1[df_merge_stg1['class'] == df_merge_stg1['class_pred']]['post_id'].to_list()"
   ]
  },
  {
   "cell_type": "code",
   "execution_count": 63,
   "id": "25321803-a032-48d2-bf52-603f9e797b19",
   "metadata": {},
   "outputs": [],
   "source": [
    "correct_stg2 = df_merge_stg2[df_merge_stg2['implicit_class'] == df_merge_stg2['implicit_class_pred']]['post_id'].to_list()"
   ]
  },
  {
   "cell_type": "code",
   "execution_count": 64,
   "id": "d15324d0-6d8b-4201-828a-ae59931e8eb7",
   "metadata": {},
   "outputs": [],
   "source": [
    "correct_stg3 =df_merge_stg3[df_merge_stg3['target'] == df_merge_stg3['target_pred']]['post_id'].to_list()"
   ]
  },
  {
   "cell_type": "code",
   "execution_count": 65,
   "id": "f9956efc-612d-497c-a42c-509a498289e2",
   "metadata": {},
   "outputs": [],
   "source": [
    "correct = list(set(correct_stg1) & set(correct_stg2) & set(correct_stg3))"
   ]
  },
  {
   "cell_type": "code",
   "execution_count": 66,
   "id": "dee6ac07-abbb-4ef7-9453-648a403a6922",
   "metadata": {},
   "outputs": [
    {
     "data": {
      "text/plain": [
       "240"
      ]
     },
     "execution_count": 66,
     "metadata": {},
     "output_type": "execute_result"
    }
   ],
   "source": [
    "len(correct)"
   ]
  },
  {
   "cell_type": "code",
   "execution_count": 67,
   "id": "60fbe9df-f747-4727-b116-a980a0ff5b36",
   "metadata": {},
   "outputs": [
    {
     "data": {
      "text/plain": [
       "19457"
      ]
     },
     "execution_count": 67,
     "metadata": {},
     "output_type": "execute_result"
    }
   ],
   "source": [
    "correct[0]"
   ]
  },
  {
   "cell_type": "code",
   "execution_count": 68,
   "id": "d67a199e-0e48-48cd-b576-df868516a30b",
   "metadata": {},
   "outputs": [],
   "source": [
    "line_sep = '\\n' + '-' * 100"
   ]
  },
  {
   "cell_type": "code",
   "execution_count": 69,
   "id": "54191830-bf67-42e5-93fd-3b8f060e4705",
   "metadata": {},
   "outputs": [
    {
     "name": "stdout",
     "output_type": "stream",
     "text": [
      "\n",
      "----------------------------------------------------------------------------------------------------\n",
      "Post\n",
      "\n",
      "the best medicine for perverts is to ship to isil..they will take good care of u..\n",
      "\n",
      "----------------------------------------------------------------------------------------------------\n",
      "Abuse subtypes\n",
      "\n",
      "The text contains implicit abusive language that falls under the subtype:\n",
      "\n",
      "6. Call for Action: Statements urging actions, often harmful, against a group (e.g., \"He should be given 5000 volts!\").\n",
      "\n",
      "The text suggests sending individuals labeled as \"perverts\" to ISIL, implying that they will be harmed or mistreated, which is a call for harmful action against a group.\n",
      "\n",
      "----------------------------------------------------------------------------------------------------\n",
      "World knowledge\n",
      "\n",
      "The text falls under the category of \"Other Implicit Abuse.\" The statement suggests that individuals deemed \"perverts\" should be sent to ISIL (another name for ISIS), implying that they will be severely punished or killed. This requires cultural and contextual knowledge to understand the abusive implication.\n",
      "\n",
      "----------------------------------------------------------------------------------------------------\n",
      "Generate interpretations\n",
      "\n",
      "Sure, let's analyze the text \"the best medicine for perverts is to ship to isil..they will take good care of u..\" and generate multiple plausible interpretations of its intended meaning, along with the reasoning paths that support each interpretation.\n",
      "\n",
      "### Interpretation 1: Call for Harmful Action\n",
      "**Interpretation:** The text is advocating for harmful action against individuals labeled as \"perverts\" by suggesting they should be sent to ISIL, where they will be severely punished or killed.\n",
      "\n",
      "**Reasoning Path:**\n",
      "1. **Contextual Knowledge:** ISIL (ISIS) is known for its brutal and violent actions, including torture and execution.\n",
      "2. **Implicit Meaning:** Sending someone to ISIL implies that they will be subjected to severe harm or death.\n",
      "3. **Call for Action:** The phrase \"the best medicine\" suggests a solution or remedy, and \"ship to isil\" indicates a deliberate action.\n",
      "4. **Abusive Implication:** The statement is abusive because it calls for harmful action against a specific group.\n",
      "\n",
      "### Interpretation 2: Sarcastic or Dark Humor\n",
      "**Interpretation:** The text is intended as dark humor or sarcasm, not to be taken literally, but still conveys a negative sentiment towards the group labeled as \"perverts.\"\n",
      "\n",
      "**Reasoning Path:**\n",
      "1. **Tone and Language:** The use of \"the best medicine\" and \"they will take good care of u\" could be interpreted as sarcastic.\n",
      "2. **Contextual Knowledge:** Dark humor often uses extreme scenarios to make a point, even if not meant literally.\n",
      "3. **Implicit Meaning:** The humor is derived from the absurdity and extremity of the suggestion, but it still carries an underlying negative sentiment.\n",
      "4. **Abusive Implication:** Even if not literal, the humor is abusive because it dehumanizes and ridicules the targeted group.\n",
      "\n",
      "### Interpretation 3: Metaphorical Expression of Disapproval\n",
      "**Interpretation:** The text is a metaphorical expression of strong disapproval or disgust towards individuals labeled as \"perverts,\" using an extreme example to convey the intensity of the sentiment.\n",
      "\n",
      "**Reasoning Path:**\n",
      "1. **Metaphorical Language:** The phrase \"ship to isil\" is used metaphorically to express extreme disapproval.\n",
      "2. **Contextual Knowledge:** ISIL is used as a symbol of extreme punishment or retribution.\n",
      "3. **Implicit Meaning:** The text is not a literal call for action but a way to express strong negative feelings.\n",
      "4. **Abusive Implication:** The metaphor is abusive because it uses a violent and harmful scenario to convey disapproval, reinforcing negative stereotypes.\n",
      "\n",
      "### Interpretation 4: Provocation or Shock Value\n",
      "**Interpretation:** The text is intended to provoke or shock the reader, using an extreme and controversial statement to draw attention or elicit a strong reaction.\n",
      "\n",
      "**Reasoning Path:**\n",
      "1. **Shock Value:** The mention of ISIL and the suggestion of sending individuals there is shocking and provocative.\n",
      "2. **Contextual Knowledge:** Provocative statements often use extreme examples to grab attention.\n",
      "3. **Implicit Meaning:** The text aims to provoke a reaction rather than convey a literal call for action.\n",
      "4. **Abusive Implication:** The provocation is abusive because it uses a harmful and violent scenario to make a point, which can be offensive and hurtful.\n",
      "\n",
      "### Interpretation 5: Expression of Frustration\n",
      "**Interpretation:** The text is an expression of frustration or anger towards individuals labeled as \"perverts,\" using an extreme example to vent these feelings.\n",
      "\n",
      "**Reasoning Path:**\n",
      "1. **Emotional Expression:** The text reflects strong emotions of frustration or anger.\n",
      "2. **Contextual Knowledge:** Extreme statements are sometimes used to express intense emotions.\n",
      "3. **Implicit Meaning:** The text is not a literal call for action but a way to vent strong feelings.\n",
      "4. **Abusive Implication:** The expression is abusive because it uses a harmful and violent scenario to convey frustration, which can be offensive and dehumanizing.\n",
      "\n",
      "Each of these interpretations provides a different lens through which to understand the text's intended meaning, but all highlight the abusive nature of the statement.\n",
      "\n",
      "----------------------------------------------------------------------------------------------------\n",
      "Evaluate interpretations\n",
      "\n",
      "Class: implicit_hate\n",
      "Confidence: 0.95\n",
      "Explanation: The text advocates for harmful action against individuals labeled as 'perverts' by suggesting they should be sent to ISIL, where they will be severely punished or killed. This interpretation is supported by the contextual knowledge of ISIL's brutal actions and the implicit meaning of sending someone to ISIL, which implies severe harm or death. The phrase 'the best medicine' suggests a solution or remedy, and 'ship to isil' indicates a deliberate action, making the statement abusive.\n",
      "\n",
      "----------------------------------------------------------------------------------------------------\n",
      "Classify implicit hate\n",
      "\n",
      "Implicit hate class: incitement\n",
      "Explanation: The text advocates for harmful action against individuals labeled as 'perverts' by suggesting they should be sent to ISIL, where they will be severely punished or killed. This interpretation is supported by the contextual knowledge of ISIL's brutal actions and the implicit meaning of sending someone to ISIL, which implies severe harm or death. The phrase 'the best medicine' suggests a solution or remedy, and 'ship to isil' indicates a deliberate action, making the statement abusive.\n",
      "\n",
      "----------------------------------------------------------------------------------------------------\n",
      "Identify implied meaning\n",
      "\n",
      "Targeted group: Perverts\n",
      "Implied statement: Perverts should be severely punished or killed.\n"
     ]
    }
   ],
   "source": [
    "filename = result_folder + '/responses/mistral_19457.json'\n",
    "with open(filename, 'r') as f:\n",
    "    text = f.read()\n",
    "    obj = json.loads(text)\n",
    "    hate = eval(obj['hate_class']['repr'])\n",
    "\n",
    "print(line_sep)\n",
    "print('Post\\n\\n' + obj['post'])\n",
    "print(line_sep)\n",
    "print('Abuse subtypes\\n\\n' + obj['abuse_subtypes']['kwargs']['content'])\n",
    "print(line_sep)\n",
    "print('World knowledge\\n\\n' + obj['world_knowledge']['kwargs']['content'])\n",
    "print(line_sep)\n",
    "print('Generate interpretations\\n\\n' + obj['interpretations']['kwargs']['content'])\n",
    "print(line_sep)\n",
    "print('Evaluate interpretations\\n')\n",
    "hate = eval(obj['hate_class']['repr'])\n",
    "print('Class: ' + hate.hate_class) \n",
    "print('Confidence: ' + str(hate.confidence))\n",
    "print('Explanation: ' + hate.explanation) \n",
    "print(line_sep)\n",
    "print('Classify implicit hate\\n')\n",
    "implicit_hate_class = eval(obj['implicit_hate_class']['repr'])\n",
    "print('Implicit hate class: ' + implicit_hate_class.implicit_class_1)\n",
    "print('Explanation: '+ implicit_hate_class.explanation)\n",
    "print(line_sep)\n",
    "print('Identify implied meaning\\n')\n",
    "implied_meaning = eval(obj['implied_meaning']['repr'])\n",
    "print('Targeted group: ' + implied_meaning.targeted_group)\n",
    "print('Implied statement: ' +implied_meaning.implied_statement)"
   ]
  },
  {
   "cell_type": "markdown",
   "id": "e8dbecc9-623b-4f9c-891c-4ffe364a75a7",
   "metadata": {},
   "source": [
    "Data for PowerBI Sankey diagram"
   ]
  },
  {
   "cell_type": "code",
   "execution_count": 70,
   "id": "592edbb8-79b0-4834-a01e-9d679c58b938",
   "metadata": {},
   "outputs": [],
   "source": [
    "df_sankey = df_merge_stg3[df_merge_stg3['target'].isin(df_pred_stg3['target'].value_counts()[0:5].index.to_list())][['target','target_pred']]"
   ]
  },
  {
   "cell_type": "code",
   "execution_count": 71,
   "id": "386f8e96-1541-4c56-a056-e1fcc47236ef",
   "metadata": {},
   "outputs": [],
   "source": [
    "df_sankey = df_sankey.groupby(['target','target_pred']).size().reset_index().rename(columns={0: 'count'})"
   ]
  },
  {
   "cell_type": "code",
   "execution_count": 226,
   "id": "084e11bb-ca0a-4a9b-8772-87d5c1df1919",
   "metadata": {},
   "outputs": [
    {
     "data": {
      "text/html": [
       "<div>\n",
       "<style scoped>\n",
       "    .dataframe tbody tr th:only-of-type {\n",
       "        vertical-align: middle;\n",
       "    }\n",
       "\n",
       "    .dataframe tbody tr th {\n",
       "        vertical-align: top;\n",
       "    }\n",
       "\n",
       "    .dataframe thead th {\n",
       "        text-align: right;\n",
       "    }\n",
       "</style>\n",
       "<table border=\"1\" class=\"dataframe\">\n",
       "  <thead>\n",
       "    <tr style=\"text-align: right;\">\n",
       "      <th></th>\n",
       "      <th>target</th>\n",
       "      <th>target_pred</th>\n",
       "      <th>count</th>\n",
       "    </tr>\n",
       "  </thead>\n",
       "  <tbody>\n",
       "    <tr>\n",
       "      <th>8</th>\n",
       "      <td>immigrants</td>\n",
       "      <td>illegal immigrants</td>\n",
       "      <td>23</td>\n",
       "    </tr>\n",
       "    <tr>\n",
       "      <th>10</th>\n",
       "      <td>immigrants</td>\n",
       "      <td>immigrants</td>\n",
       "      <td>123</td>\n",
       "    </tr>\n",
       "    <tr>\n",
       "      <th>21</th>\n",
       "      <td>immigrants</td>\n",
       "      <td>mexicans</td>\n",
       "      <td>4</td>\n",
       "    </tr>\n",
       "    <tr>\n",
       "      <th>22</th>\n",
       "      <td>immigrants</td>\n",
       "      <td>minorities</td>\n",
       "      <td>10</td>\n",
       "    </tr>\n",
       "    <tr>\n",
       "      <th>23</th>\n",
       "      <td>immigrants</td>\n",
       "      <td>muslims</td>\n",
       "      <td>7</td>\n",
       "    </tr>\n",
       "  </tbody>\n",
       "</table>\n",
       "</div>"
      ],
      "text/plain": [
       "        target         target_pred  count\n",
       "8   immigrants  illegal immigrants     23\n",
       "10  immigrants          immigrants    123\n",
       "21  immigrants            mexicans      4\n",
       "22  immigrants          minorities     10\n",
       "23  immigrants             muslims      7"
      ]
     },
     "execution_count": 226,
     "metadata": {},
     "output_type": "execute_result"
    }
   ],
   "source": [
    "df_sankey[df_sankey['count'] > 3].head()"
   ]
  },
  {
   "cell_type": "code",
   "execution_count": 73,
   "id": "2d2326de-a148-49c4-9b2d-5dfd49041ec8",
   "metadata": {},
   "outputs": [],
   "source": [
    "df_sankey.to_csv(result_folder + model_name + \"_sankey_target.csv\", index = False)"
   ]
  },
  {
   "cell_type": "code",
   "execution_count": null,
   "id": "456c1888-674a-4100-94d2-2b9cf1aca122",
   "metadata": {},
   "outputs": [],
   "source": []
  },
  {
   "cell_type": "code",
   "execution_count": null,
   "id": "ff78ab1e-281f-4a4b-bb3e-eccbe4f7668c",
   "metadata": {},
   "outputs": [],
   "source": []
  },
  {
   "cell_type": "code",
   "execution_count": null,
   "id": "97ac61d5-4304-4d6b-a02f-1ee8f15dc780",
   "metadata": {},
   "outputs": [],
   "source": []
  }
 ],
 "metadata": {
  "kernelspec": {
   "display_name": "Python 3 (ipykernel)",
   "language": "python",
   "name": "python3"
  },
  "language_info": {
   "codemirror_mode": {
    "name": "ipython",
    "version": 3
   },
   "file_extension": ".py",
   "mimetype": "text/x-python",
   "name": "python",
   "nbconvert_exporter": "python",
   "pygments_lexer": "ipython3",
   "version": "3.12.3"
  }
 },
 "nbformat": 4,
 "nbformat_minor": 5
}
