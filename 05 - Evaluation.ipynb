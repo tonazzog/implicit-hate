{
 "cells": [
  {
   "cell_type": "markdown",
   "id": "a2378a39-1324-40e5-8338-5decf4e01f5b",
   "metadata": {},
   "source": [
    "# Evaluation"
   ]
  },
  {
   "cell_type": "markdown",
   "id": "9940154d-0bcd-4023-9e64-d6f311d741e0",
   "metadata": {},
   "source": [
    "References for text similarity metrics: \\\n",
    "[BLEU Score](https://towardsdatascience.com/foundations-of-nlp-explained-bleu-score-and-wer-metrics-1a5ba06d812b) -\n",
    "[ROUGE Score](https://medium.com/@eren9677/text-summarization-387836c9e178) -\n",
    "[NIST Score](https://aclanthology.org/www.mt-archive.info/HLT-2002-Doddington.pdf) -\n",
    "[METEOR Score](https://aclanthology.org/W05-0909.pdf) -\n",
    "[BERT Score](https://arxiv.org/pdf/1904.09675) -\n",
    "[BLEURT Score](https://aclanthology.org/2020.acl-main.704.pdf)"
   ]
  },
  {
   "cell_type": "markdown",
   "id": "995db7df-1f92-4a33-84ce-0f2cb9912b0f",
   "metadata": {},
   "source": [
    "[BLEURT installation](https://github.com/google-research/bleurt)"
   ]
  },
  {
   "cell_type": "code",
   "execution_count": null,
   "id": "2fc9c82c-106a-445d-9bbb-74f80e7f42c7",
   "metadata": {},
   "outputs": [],
   "source": [
    "#import os\n",
    "#!git clone https://github.com/google-research/bleurt.git\n",
    "#os.chdir('bleurt')\n",
    "#!pip install .\n",
    "#os.chdir('..')\n",
    "#!wget https://storage.googleapis.com/bleurt-oss-21/BLEURT-20.zip .\n",
    "#!unzip BLEURT-20.zip"
   ]
  },
  {
   "cell_type": "code",
   "execution_count": 244,
   "id": "fdc157eb-5d58-4c53-a3c2-0dbffd9caa6e",
   "metadata": {},
   "outputs": [],
   "source": [
    "import pandas as pd\n",
    "from sklearn import metrics\n",
    "from sklearn.metrics import f1_score, precision_score, recall_score, accuracy_score, classification_report\n",
    "import nltk\n",
    "from nltk.translate.bleu_score import sentence_bleu, SmoothingFunction\n",
    "from nltk.translate.meteor_score import meteor_score\n",
    "from nltk.translate.nist_score import sentence_nist\n",
    "from rouge_score import rouge_scorer\n",
    "import bert_score\n",
    "from bleurt import score as bleurt_score\n",
    "import numpy as np\n",
    "import matplotlib.pyplot as plt\n",
    "import seaborn as sns\n",
    "import glob\n",
    "import json\n",
    "import warnings\n",
    "from pydantic import BaseModel, Field\n",
    "from typing import Optional, TypedDict, Literal\n",
    "from transformers import logging"
   ]
  },
  {
   "cell_type": "markdown",
   "id": "044a2b07-854a-4177-af6f-3b5ff9ac7f61",
   "metadata": {},
   "source": [
    "#### Settings"
   ]
  },
  {
   "cell_type": "code",
   "execution_count": 245,
   "id": "0a81500d-e1a5-44f2-9d9b-5c0003d4dd95",
   "metadata": {},
   "outputs": [],
   "source": [
    "warnings.filterwarnings(\"ignore\")\n",
    "logging.set_verbosity_error()"
   ]
  },
  {
   "cell_type": "code",
   "execution_count": 246,
   "id": "e63ee9dc-572a-4299-aa8b-a9c73fd7fd61",
   "metadata": {},
   "outputs": [],
   "source": [
    "data_folder = './data/'\n",
    "result_folder = './results/'"
   ]
  },
  {
   "cell_type": "code",
   "execution_count": 247,
   "id": "2f331345-6713-4a5f-a6bb-22bb340a7bac",
   "metadata": {},
   "outputs": [],
   "source": [
    "debug_mode = False # set to True to test evaluation of stage 3"
   ]
  },
  {
   "cell_type": "markdown",
   "id": "4a9b4ace-ba65-41c9-9c22-464e979805d0",
   "metadata": {},
   "source": [
    "#### LLM"
   ]
  },
  {
   "cell_type": "code",
   "execution_count": 215,
   "id": "f5c98b04-90c7-415b-b37d-110ae6408531",
   "metadata": {},
   "outputs": [],
   "source": [
    "model_name = 'mistral'"
   ]
  },
  {
   "cell_type": "code",
   "execution_count": 9,
   "id": "9f7d6132-435c-4f04-b71b-3818a19e901d",
   "metadata": {},
   "outputs": [],
   "source": [
    "#model_name = 'deepseek'"
   ]
  },
  {
   "cell_type": "markdown",
   "id": "be5f0a78-9a8d-46e6-9afd-102876f415b4",
   "metadata": {},
   "source": [
    "#### Classes to reload answers from Tree of Thought Graph"
   ]
  },
  {
   "cell_type": "code",
   "execution_count": 216,
   "id": "0fbba831-83e0-4ea6-87fa-d74a017f88e2",
   "metadata": {},
   "outputs": [],
   "source": [
    "class HateClassification(BaseModel):\n",
    "    hate_class: Literal['implicit_hate','not_hate']\n",
    "    interpretations : Optional[str]\n",
    "    explanation : Optional[str]\n",
    "    confidence : Optional[float]\n",
    "    recursion_level : int = 0\n",
    "\n",
    "class ImplicitHateClassification(BaseModel):\n",
    "    implicit_class_1: Literal['white_grievance', 'irony', 'stereotypical', 'incitement', 'other', 'threatening', 'inferiority', 'other']\n",
    "    confidence_class_1: float\n",
    "    explanation : str\n",
    "\n",
    "class ImpliedMeaning(BaseModel):\n",
    "    targeted_group: str\n",
    "    implied_statement: str"
   ]
  },
  {
   "cell_type": "code",
   "execution_count": null,
   "id": "8d41b0c2-845f-4bc0-af29-79fffa08f4c4",
   "metadata": {},
   "outputs": [],
   "source": []
  },
  {
   "cell_type": "markdown",
   "id": "3034b6f0-6ac7-4584-a895-be145627153e",
   "metadata": {},
   "source": [
    "# Evaluation Stage 1"
   ]
  },
  {
   "cell_type": "code",
   "execution_count": 217,
   "id": "b937d923-ec23-4606-a799-7330bffcc994",
   "metadata": {},
   "outputs": [],
   "source": [
    "test_file_stg1 = data_folder + \"implicit_hate_test_stg1.csv\""
   ]
  },
  {
   "cell_type": "code",
   "execution_count": 218,
   "id": "8c5e9e61-cfb6-4351-8553-dc64da8cfe92",
   "metadata": {},
   "outputs": [],
   "source": [
    "def evaluate_stage_1(strategy, gold_file, pred_file):\n",
    "    \n",
    "    df_gold = pd.read_csv(gold_file, encoding = 'utf-8')\n",
    "    df_pred = pd.read_csv(pred_file, encoding = 'utf-8')\n",
    "\n",
    "    label_selector = ['implicit_hate', 'not_hate' ]\n",
    "    \n",
    "    df_gold = df_gold[df_gold['post_id'].isin(df_pred['post_id'])]\n",
    "    df_pred = df_pred[df_pred['post_id'].isin(df_gold['post_id'])]\n",
    "    \n",
    "    df_gold.sort_values(\"post_id\", axis=0, ascending=True, inplace=True)\n",
    "    df_pred.sort_values(\"post_id\", axis=0, ascending=True, inplace=True)\n",
    "    \n",
    "    labels_gold = df_gold['class']\n",
    "    predictions = df_pred['class']\n",
    "\n",
    "    f1_macro = f1_score(labels_gold, predictions, average = \"macro\")\n",
    "    accuracy = accuracy_score(labels_gold, predictions)\n",
    "    precision = precision_score(labels_gold, predictions, average = \"macro\")\n",
    "    recall = recall_score(labels_gold, predictions, average = \"macro\")\n",
    "    \n",
    "    clf_report = classification_report(labels_gold, predictions, labels = label_selector, target_names = label_selector, digits=4)\n",
    "    clf_report_dict = classification_report(labels_gold, predictions, labels = label_selector, target_names = label_selector,\n",
    "                                            digits=4, output_dict=True)\n",
    "    clf_report_df = pd.DataFrame(clf_report_dict)\n",
    "    \n",
    "    values_export = clf_report_df.loc[\"f1-score\", label_selector].T.values\n",
    "    values_export = \"\\t\".join([str(round(v,4)) for v in values_export])\n",
    "    \n",
    "    report = f\"\"\"F1-macro: {str(round(f1_macro, 4))} accuracy: {str(round(accuracy, 4))} precision: {str(round(precision, 4))} recall: {str(round(recall, 4))} \\n\\n{clf_report}\"\"\"\n",
    "\n",
    "    print(strategy + \": \" + report)    \n",
    "\n",
    "    confusion_matrix = metrics.confusion_matrix(labels_gold, predictions,labels = label_selector)\n",
    "    cm_display = metrics.ConfusionMatrixDisplay(confusion_matrix = confusion_matrix, display_labels = label_selector)\n",
    "    cm_display.plot(cmap=plt.cm.Blues)\n",
    "    plt.show()\n",
    "\n",
    "    return pd.DataFrame([{'Strategy' : strategy, \"F1-macro\" : f1_macro, 'Precision' : precision, 'Recall' : recall, 'Accuracy' : accuracy}])\n",
    "\n",
    "    "
   ]
  },
  {
   "cell_type": "markdown",
   "id": "d3fbe81c-8b7d-4f3b-8306-acc0223c055f",
   "metadata": {},
   "source": [
    "### Baseline"
   ]
  },
  {
   "cell_type": "code",
   "execution_count": 219,
   "id": "caa22017-5e2e-4616-9364-5b46d17837ce",
   "metadata": {},
   "outputs": [
    {
     "name": "stdout",
     "output_type": "stream",
     "text": [
      "Baseline: F1-macro: 0.6004 accuracy: 0.6017 precision: 0.7014 recall: 0.6829 \n",
      "\n",
      "               precision    recall  f1-score   support\n",
      "\n",
      "implicit_hate     0.4641    0.9488    0.6233      1036\n",
      "     not_hate     0.9387    0.4171    0.5775      1947\n",
      "\n",
      "     accuracy                         0.6017      2983\n",
      "    macro avg     0.7014    0.6829    0.6004      2983\n",
      " weighted avg     0.7739    0.6017    0.5934      2983\n",
      "\n"
     ]
    },
    {
     "data": {
      "image/png": "[encoded data removed]",
      "text/plain": [
       "<Figure size 640x480 with 2 Axes>"
      ]
     },
     "metadata": {},
     "output_type": "display_data"
    }
   ],
   "source": [
    "result_file_stg1 = result_folder + model_name + \"_result_baseline_stg1.csv\"\n",
    "df_baseline_stg1 = evaluate_stage_1(\n",
    "    'Baseline', \n",
    "    test_file_stg1, \n",
    "    result_file_stg1\n",
    ")"
   ]
  },
  {
   "cell_type": "markdown",
   "id": "82f31f69-a521-4794-b7f0-74f926e58d3d",
   "metadata": {},
   "source": [
    "### Prompt Tree of Thoughts"
   ]
  },
  {
   "cell_type": "code",
   "execution_count": 227,
   "id": "c60f45e4-b4bb-4680-804f-86575377141c",
   "metadata": {},
   "outputs": [
    {
     "name": "stdout",
     "output_type": "stream",
     "text": [
      "Prompt ToT: F1-macro: 0.6414 accuracy: 0.6414 precision: 0.7103 recall: 0.7091 \n",
      "\n",
      "               precision    recall  f1-score   support\n",
      "\n",
      "implicit_hate     0.4911    0.9304    0.6428      1034\n",
      "     not_hate     0.9295    0.4879    0.6399      1947\n",
      "\n",
      "     accuracy                         0.6414      2981\n",
      "    macro avg     0.7103    0.7091    0.6414      2981\n",
      " weighted avg     0.7775    0.6414    0.6409      2981\n",
      "\n"
     ]
    },
    {
     "data": {
      "image/png": "[encoded data removed]",
      "text/plain": [
       "<Figure size 640x480 with 2 Axes>"
      ]
     },
     "metadata": {},
     "output_type": "display_data"
    }
   ],
   "source": [
    "result_file_stg1 = result_folder + model_name + \"_result_prompt_tot_stg1.csv\"\n",
    "df_prompt_tot_stg1 = evaluate_stage_1(\n",
    "    \"Prompt ToT\",\n",
    "    test_file_stg1, \n",
    "    result_file_stg1 \n",
    ")"
   ]
  },
  {
   "cell_type": "markdown",
   "id": "a8930f88-b71d-4d03-a59c-e7baa7405b47",
   "metadata": {},
   "source": [
    "### Graph Tree of Thoughts"
   ]
  },
  {
   "cell_type": "code",
   "execution_count": 228,
   "id": "07b02310-a28e-4056-b3ef-c7ecb455fd5a",
   "metadata": {
    "scrolled": true
   },
   "outputs": [
    {
     "name": "stdout",
     "output_type": "stream",
     "text": [
      "Graph ToT: F1-macro: 0.6755 accuracy: 0.6762 precision: 0.7188 recall: 0.7304 \n",
      "\n",
      "               precision    recall  f1-score   support\n",
      "\n",
      "implicit_hate     0.5192    0.9076    0.6605      1028\n",
      "     not_hate     0.9185    0.5533    0.6905      1934\n",
      "\n",
      "     accuracy                         0.6762      2962\n",
      "    macro avg     0.7188    0.7304    0.6755      2962\n",
      " weighted avg     0.7799    0.6762    0.6801      2962\n",
      "\n"
     ]
    },
    {
     "data": {
      "image/png": "[encoded data removed]",
      "text/plain": [
       "<Figure size 640x480 with 2 Axes>"
      ]
     },
     "metadata": {},
     "output_type": "display_data"
    }
   ],
   "source": [
    "result_file_stg1 = result_folder + model_name + \"_result_graph_stg1.csv\"\n",
    "df_graph_stg1 = evaluate_stage_1(\n",
    "    \"Graph ToT\", \n",
    "    test_file_stg1, \n",
    "    result_file_stg1\n",
    ")"
   ]
  },
  {
   "cell_type": "markdown",
   "id": "b444abe4-7b06-4359-9cc7-aa9229846f23",
   "metadata": {},
   "source": [
    "### Optimizer MIPRO"
   ]
  },
  {
   "cell_type": "code",
   "execution_count": 222,
   "id": "87ece41c-ea61-473c-8e28-70c66a5fa0a7",
   "metadata": {},
   "outputs": [
    {
     "name": "stdout",
     "output_type": "stream",
     "text": [
      "Optimized: F1-macro: 0.7293 accuracy: 0.7357 precision: 0.7353 recall: 0.7591 \n",
      "\n",
      "               precision    recall  f1-score   support\n",
      "\n",
      "implicit_hate     0.5842    0.8364    0.6879      1045\n",
      "     not_hate     0.8863    0.6818    0.7707      1955\n",
      "\n",
      "     accuracy                         0.7357      3000\n",
      "    macro avg     0.7353    0.7591    0.7293      3000\n",
      " weighted avg     0.7811    0.7357    0.7419      3000\n",
      "\n"
     ]
    },
    {
     "data": {
      "image/png": "[encoded data removed]",
      "text/plain": [
       "<Figure size 640x480 with 2 Axes>"
      ]
     },
     "metadata": {},
     "output_type": "display_data"
    }
   ],
   "source": [
    "result_file_stg1 = result_folder + model_name + \"_result_optimizer_stg1.csv\"\n",
    "df_optim_stg1 = evaluate_stage_1(\n",
    "    \"Optimized\", \n",
    "    test_file_stg1, \n",
    "    result_file_stg1\n",
    ")"
   ]
  },
  {
   "cell_type": "markdown",
   "id": "b7019f85-d29c-4362-850a-45bad2782a3c",
   "metadata": {},
   "source": [
    "## Results Stage 1"
   ]
  },
  {
   "cell_type": "code",
   "execution_count": 229,
   "id": "ee6dc29f-b53c-48f8-b15d-25c09f7ffdcc",
   "metadata": {},
   "outputs": [],
   "source": [
    "df_result_stg1 = pd.concat([df_baseline_stg1, df_prompt_tot_stg1, df_graph_stg1, df_optim_stg1])"
   ]
  },
  {
   "cell_type": "code",
   "execution_count": 230,
   "id": "92fff1ce-9e91-4a43-b8a3-4c3e3d1794f4",
   "metadata": {},
   "outputs": [],
   "source": [
    "df_result_stg1.to_excel(result_folder + model_name + '_evaluation_stg1.xlsx', index = False)"
   ]
  },
  {
   "cell_type": "code",
   "execution_count": 231,
   "id": "0d0da37a-3193-40ef-bf27-843c89b16dd8",
   "metadata": {},
   "outputs": [],
   "source": [
    "df_result_stg1 = pd.read_excel(result_folder + model_name + '_evaluation_stg1.xlsx')"
   ]
  },
  {
   "cell_type": "code",
   "execution_count": 232,
   "id": "3e3ecc56-4d2d-41ad-9e8c-88eea714a4cc",
   "metadata": {},
   "outputs": [
    {
     "data": {
      "text/html": [
       "<div>\n",
       "<style scoped>\n",
       "    .dataframe tbody tr th:only-of-type {\n",
       "        vertical-align: middle;\n",
       "    }\n",
       "\n",
       "    .dataframe tbody tr th {\n",
       "        vertical-align: top;\n",
       "    }\n",
       "\n",
       "    .dataframe thead th {\n",
       "        text-align: right;\n",
       "    }\n",
       "</style>\n",
       "<table border=\"1\" class=\"dataframe\">\n",
       "  <thead>\n",
       "    <tr style=\"text-align: right;\">\n",
       "      <th></th>\n",
       "      <th>Strategy</th>\n",
       "      <th>F1-macro</th>\n",
       "      <th>Precision</th>\n",
       "      <th>Recall</th>\n",
       "      <th>Accuracy</th>\n",
       "    </tr>\n",
       "  </thead>\n",
       "  <tbody>\n",
       "    <tr>\n",
       "      <th>0</th>\n",
       "      <td>Baseline</td>\n",
       "      <td>0.6004</td>\n",
       "      <td>0.7014</td>\n",
       "      <td>0.6829</td>\n",
       "      <td>0.6017</td>\n",
       "    </tr>\n",
       "    <tr>\n",
       "      <th>1</th>\n",
       "      <td>Prompt ToT</td>\n",
       "      <td>0.6414</td>\n",
       "      <td>0.7103</td>\n",
       "      <td>0.7091</td>\n",
       "      <td>0.6414</td>\n",
       "    </tr>\n",
       "    <tr>\n",
       "      <th>2</th>\n",
       "      <td>Graph ToT</td>\n",
       "      <td>0.6755</td>\n",
       "      <td>0.7188</td>\n",
       "      <td>0.7304</td>\n",
       "      <td>0.6762</td>\n",
       "    </tr>\n",
       "    <tr>\n",
       "      <th>3</th>\n",
       "      <td>Optimized</td>\n",
       "      <td>0.7293</td>\n",
       "      <td>0.7353</td>\n",
       "      <td>0.7591</td>\n",
       "      <td>0.7357</td>\n",
       "    </tr>\n",
       "  </tbody>\n",
       "</table>\n",
       "</div>"
      ],
      "text/plain": [
       "     Strategy  F1-macro  Precision  Recall  Accuracy\n",
       "0    Baseline    0.6004     0.7014  0.6829    0.6017\n",
       "1  Prompt ToT    0.6414     0.7103  0.7091    0.6414\n",
       "2   Graph ToT    0.6755     0.7188  0.7304    0.6762\n",
       "3   Optimized    0.7293     0.7353  0.7591    0.7357"
      ]
     },
     "execution_count": 232,
     "metadata": {},
     "output_type": "execute_result"
    }
   ],
   "source": [
    "df_result_stg1.round(4).head()"
   ]
  },
  {
   "cell_type": "markdown",
   "id": "9023f19e-3a98-4ba0-a2a4-c7605f092075",
   "metadata": {},
   "source": [
    "### Qualitative analysis (MIPRO results)"
   ]
  },
  {
   "cell_type": "code",
   "execution_count": 23,
   "id": "376785e8-5c1a-4a96-b044-c45bbd2b457c",
   "metadata": {},
   "outputs": [],
   "source": [
    "df_gold_stg1 = pd.read_csv(data_folder + \"implicit_hate_test_stg1.csv\", encoding = 'utf-8')\n",
    "df_pred_stg1 = pd.read_csv(result_folder + model_name + \"_result_optimizer_stg1.csv\", encoding = 'utf-8')"
   ]
  },
  {
   "cell_type": "markdown",
   "id": "aa97510e-8c1e-45cb-a904-0e68a8803bbb",
   "metadata": {},
   "source": [
    "#### Confidence"
   ]
  },
  {
   "cell_type": "code",
   "execution_count": 24,
   "id": "a4ec5992-6b09-4589-92d7-eb0123c2a5e8",
   "metadata": {},
   "outputs": [
    {
     "name": "stdout",
     "output_type": "stream",
     "text": [
      "0.8368633333333334\n"
     ]
    }
   ],
   "source": [
    "print(df_pred_stg1['confidence'].mean())"
   ]
  },
  {
   "cell_type": "code",
   "execution_count": 25,
   "id": "52579b1b-9e3f-41c1-a2e6-33b04d8b0177",
   "metadata": {},
   "outputs": [],
   "source": [
    "df_pred_stg1.rename(columns={'class': 'class_pred'}, inplace=True)"
   ]
  },
  {
   "cell_type": "code",
   "execution_count": 26,
   "id": "1a24767a-e33c-49d0-bb60-aeb023e07139",
   "metadata": {},
   "outputs": [
    {
     "data": {
      "text/html": [
       "<div>\n",
       "<style scoped>\n",
       "    .dataframe tbody tr th:only-of-type {\n",
       "        vertical-align: middle;\n",
       "    }\n",
       "\n",
       "    .dataframe tbody tr th {\n",
       "        vertical-align: top;\n",
       "    }\n",
       "\n",
       "    .dataframe thead th {\n",
       "        text-align: right;\n",
       "    }\n",
       "</style>\n",
       "<table border=\"1\" class=\"dataframe\">\n",
       "  <thead>\n",
       "    <tr style=\"text-align: right;\">\n",
       "      <th></th>\n",
       "      <th>post_id</th>\n",
       "      <th>class_pred</th>\n",
       "      <th>confidence</th>\n",
       "      <th>explanation</th>\n",
       "    </tr>\n",
       "  </thead>\n",
       "  <tbody>\n",
       "    <tr>\n",
       "      <th>0</th>\n",
       "      <td>8044</td>\n",
       "      <td>not_hate</td>\n",
       "      <td>0.90</td>\n",
       "      <td>The post is a neutral request for someone to w...</td>\n",
       "    </tr>\n",
       "    <tr>\n",
       "      <th>1</th>\n",
       "      <td>1709</td>\n",
       "      <td>not_hate</td>\n",
       "      <td>0.80</td>\n",
       "      <td>The post discusses political dynamics and does...</td>\n",
       "    </tr>\n",
       "    <tr>\n",
       "      <th>2</th>\n",
       "      <td>8898</td>\n",
       "      <td>not_hate</td>\n",
       "      <td>0.90</td>\n",
       "      <td>The post is a general comment about \"fake news...</td>\n",
       "    </tr>\n",
       "    <tr>\n",
       "      <th>3</th>\n",
       "      <td>6860</td>\n",
       "      <td>not_hate</td>\n",
       "      <td>0.90</td>\n",
       "      <td>The post is a factual statement about a legal ...</td>\n",
       "    </tr>\n",
       "    <tr>\n",
       "      <th>4</th>\n",
       "      <td>15379</td>\n",
       "      <td>implicit_hate</td>\n",
       "      <td>0.75</td>\n",
       "      <td>The post suggests that Hindus are suffering wh...</td>\n",
       "    </tr>\n",
       "  </tbody>\n",
       "</table>\n",
       "</div>"
      ],
      "text/plain": [
       "   post_id     class_pred  confidence  \\\n",
       "0     8044       not_hate        0.90   \n",
       "1     1709       not_hate        0.80   \n",
       "2     8898       not_hate        0.90   \n",
       "3     6860       not_hate        0.90   \n",
       "4    15379  implicit_hate        0.75   \n",
       "\n",
       "                                         explanation  \n",
       "0  The post is a neutral request for someone to w...  \n",
       "1  The post discusses political dynamics and does...  \n",
       "2  The post is a general comment about \"fake news...  \n",
       "3  The post is a factual statement about a legal ...  \n",
       "4  The post suggests that Hindus are suffering wh...  "
      ]
     },
     "execution_count": 26,
     "metadata": {},
     "output_type": "execute_result"
    }
   ],
   "source": [
    "df_pred_stg1.head()"
   ]
  },
  {
   "cell_type": "code",
   "execution_count": 27,
   "id": "599eed8e-5e1d-479e-a6dd-079bbb290df4",
   "metadata": {},
   "outputs": [],
   "source": [
    "df_merge_stg1 = pd.merge(df_gold_stg1, df_pred_stg1, on = 'post_id')"
   ]
  },
  {
   "cell_type": "code",
   "execution_count": 28,
   "id": "44704930-e596-434f-bd56-e81e2e17adb4",
   "metadata": {},
   "outputs": [
    {
     "data": {
      "text/html": [
       "<div>\n",
       "<style scoped>\n",
       "    .dataframe tbody tr th:only-of-type {\n",
       "        vertical-align: middle;\n",
       "    }\n",
       "\n",
       "    .dataframe tbody tr th {\n",
       "        vertical-align: top;\n",
       "    }\n",
       "\n",
       "    .dataframe thead th {\n",
       "        text-align: right;\n",
       "    }\n",
       "</style>\n",
       "<table border=\"1\" class=\"dataframe\">\n",
       "  <thead>\n",
       "    <tr style=\"text-align: right;\">\n",
       "      <th></th>\n",
       "      <th>post_id</th>\n",
       "      <th>post</th>\n",
       "      <th>class</th>\n",
       "      <th>class_pred</th>\n",
       "      <th>confidence</th>\n",
       "      <th>explanation</th>\n",
       "    </tr>\n",
       "  </thead>\n",
       "  <tbody>\n",
       "    <tr>\n",
       "      <th>0</th>\n",
       "      <td>8044</td>\n",
       "      <td>pl . watch odessa file on youtube and say sorr...</td>\n",
       "      <td>not_hate</td>\n",
       "      <td>not_hate</td>\n",
       "      <td>0.90</td>\n",
       "      <td>The post is a neutral request for someone to w...</td>\n",
       "    </tr>\n",
       "    <tr>\n",
       "      <th>1</th>\n",
       "      <td>1709</td>\n",
       "      <td>the left is losing their exalted status as def...</td>\n",
       "      <td>not_hate</td>\n",
       "      <td>not_hate</td>\n",
       "      <td>0.80</td>\n",
       "      <td>The post discusses political dynamics and does...</td>\n",
       "    </tr>\n",
       "    <tr>\n",
       "      <th>2</th>\n",
       "      <td>8898</td>\n",
       "      <td>more fake news</td>\n",
       "      <td>not_hate</td>\n",
       "      <td>not_hate</td>\n",
       "      <td>0.90</td>\n",
       "      <td>The post is a general comment about \"fake news...</td>\n",
       "    </tr>\n",
       "    <tr>\n",
       "      <th>3</th>\n",
       "      <td>6860</td>\n",
       "      <td>dr . goebbels ' estate sues publisher for prin...</td>\n",
       "      <td>not_hate</td>\n",
       "      <td>not_hate</td>\n",
       "      <td>0.90</td>\n",
       "      <td>The post is a factual statement about a legal ...</td>\n",
       "    </tr>\n",
       "    <tr>\n",
       "      <th>4</th>\n",
       "      <td>15379</td>\n",
       "      <td>poor hindus are suffering ; not kcr or owasis</td>\n",
       "      <td>not_hate</td>\n",
       "      <td>implicit_hate</td>\n",
       "      <td>0.75</td>\n",
       "      <td>The post suggests that Hindus are suffering wh...</td>\n",
       "    </tr>\n",
       "  </tbody>\n",
       "</table>\n",
       "</div>"
      ],
      "text/plain": [
       "   post_id                                               post     class  \\\n",
       "0     8044  pl . watch odessa file on youtube and say sorr...  not_hate   \n",
       "1     1709  the left is losing their exalted status as def...  not_hate   \n",
       "2     8898                                     more fake news  not_hate   \n",
       "3     6860  dr . goebbels ' estate sues publisher for prin...  not_hate   \n",
       "4    15379      poor hindus are suffering ; not kcr or owasis  not_hate   \n",
       "\n",
       "      class_pred  confidence  \\\n",
       "0       not_hate        0.90   \n",
       "1       not_hate        0.80   \n",
       "2       not_hate        0.90   \n",
       "3       not_hate        0.90   \n",
       "4  implicit_hate        0.75   \n",
       "\n",
       "                                         explanation  \n",
       "0  The post is a neutral request for someone to w...  \n",
       "1  The post discusses political dynamics and does...  \n",
       "2  The post is a general comment about \"fake news...  \n",
       "3  The post is a factual statement about a legal ...  \n",
       "4  The post suggests that Hindus are suffering wh...  "
      ]
     },
     "execution_count": 28,
     "metadata": {},
     "output_type": "execute_result"
    }
   ],
   "source": [
    "df_merge_stg1.head()"
   ]
  },
  {
   "cell_type": "markdown",
   "id": "07908a3a-6161-4b0b-9bf2-6e219c1a35a5",
   "metadata": {},
   "source": [
    "#### Confidence of correct predictions"
   ]
  },
  {
   "cell_type": "code",
   "execution_count": 29,
   "id": "1f9a642f-d513-4fc6-8f9f-ae13728e3a57",
   "metadata": {},
   "outputs": [
    {
     "name": "stdout",
     "output_type": "stream",
     "text": [
      "0.8530539193475306\n"
     ]
    }
   ],
   "source": [
    "print(df_merge_stg1[df_merge_stg1['class'] == df_merge_stg1['class_pred']]['confidence'].mean())"
   ]
  },
  {
   "cell_type": "markdown",
   "id": "83fca75c-2f54-4645-826d-3dc8df177475",
   "metadata": {},
   "source": [
    "#### Confidence of wrong predictions"
   ]
  },
  {
   "cell_type": "code",
   "execution_count": 30,
   "id": "2e15b298-6104-492c-8368-101b2092d2f1",
   "metadata": {},
   "outputs": [
    {
     "name": "stdout",
     "output_type": "stream",
     "text": [
      "0.7918032786885247\n"
     ]
    }
   ],
   "source": [
    "print(df_merge_stg1[df_merge_stg1['class'] != df_merge_stg1['class_pred']]['confidence'].mean())"
   ]
  },
  {
   "cell_type": "markdown",
   "id": "c3505d3e-919d-4a2d-b6b9-e94f800e3b1d",
   "metadata": {},
   "source": [
    "#### Examples of misclassified not hate posts with explanation"
   ]
  },
  {
   "cell_type": "code",
   "execution_count": 31,
   "id": "f29e6cd5-2db1-4e33-87a6-f15da96faca1",
   "metadata": {},
   "outputs": [],
   "source": [
    "df_fp = df_merge_stg1[(df_merge_stg1['class'] == 'not_hate') & (df_merge_stg1['class_pred'] == 'implicit_hate')]"
   ]
  },
  {
   "cell_type": "code",
   "execution_count": 32,
   "id": "e7390581-1914-4652-916f-4822c88e73b8",
   "metadata": {},
   "outputs": [
    {
     "name": "stdout",
     "output_type": "stream",
     "text": [
      "\n",
      "Post: idea of holding events on private property ( so antifa would be aggressors  trespassing ) is great way of\n",
      "Confidence: 0.75\n",
      "Explanation: The post suggests a strategy to make \"antifa\" appear as aggressors by holding events on private property, thereby framing them as trespassers. This implies a negative and potentially hateful attitude towards the \"antifa\" group, although it is not explicitly stated. The confidence level is moderately high due to the indirect but clear implication of animosity.\n",
      "\n",
      "Post: more federal money for real americans !\n",
      "Confidence: 0.75\n",
      "Explanation: The phrase \"real Americans\" implies an exclusionary view, suggesting that certain groups may not be considered \"real\" Americans. This can be interpreted as implicit hate speech, as it indirectly targets and excludes specific groups based on their perceived lack of belonging.\n",
      "\n",
      "Post: but to say it is 1000  000 times better to kill a jew than a palestinian is false . they are equal\n",
      "Confidence: 0.9\n",
      "Explanation: The post discusses the value of killing individuals based on their ethnic or religious background, specifically Jews and Palestinians. Although it does not explicitly promote violence, the comparison itself is dehumanizing and implies a hateful sentiment. The use of the word \"kill\" in this context contributes to a narrative of violence and hate.\n",
      "\n",
      "Post: that looks like white people kicking . sorry pal .\n",
      "Confidence: 0.75\n",
      "Explanation: The post contains a stereotypical assumption about \"white people kicking,\" which could be interpreted as a derogatory remark based on race. The use of \"sorry pal\" adds a dismissive tone, contributing to the implicit hate speech. The confidence level is moderately high due to the implied racial stereotype.\n",
      "\n",
      "Post: more white britons believe that multiculturalism makes the country worse - not better  says poll via\n",
      "Confidence: 0.75\n",
      "Explanation: The post suggests a negative sentiment towards multiculturalism, implying that the presence of diverse cultures is detrimental to the country. This can be seen as implicit hate speech because it fosters a divisive narrative and indirectly targets minority groups. The confidence level is moderately high due to the implied negative attitude towards cultural diversity.\n",
      "\n",
      "Post: you and me both brother . someday we'll have franchises all across the ethnostate\n",
      "Confidence: 0.8\n",
      "Explanation: The use of the term \"ethnostate\" suggests a desire for a state based on ethnic or racial segregation, which is a common theme in white supremacist ideologies. This implies a form of implicit hate speech by advocating for a society structured around racial division.\n",
      "\n",
      "Post: note : says funding ( not building ) the wall is good enough ( once a cuck ... ) want fight over obama care will surrender on wall .\n",
      "Confidence: 0.75\n",
      "Explanation: The post contains derogatory language with the term \"cuck,\" which is often used as a slur to imply weakness or betrayal of one's values. The context suggests a divisive and dismissive attitude towards certain political stances, contributing to an implicitly hateful narrative.\n",
      "\n",
      "Post: even the identitarian groups like vangard america and identity europa prefer their members don't have t\n",
      "Confidence: 0.75\n",
      "Explanation: The post mentions \"identitarian groups\" such as \"Vanguard America\" and \"Identity Europa,\" which are known for their white nationalist and far-right ideologies. The implication that these groups have preferences for their members suggests an underlying discriminatory and exclusionary mindset, which is characteristic of implicit hate speech.\n",
      "\n",
      "Post: since your great white hope is already backpedaling  will you go back to being silent ? #trump #workingclass #14words\n",
      "Confidence: 0.8\n",
      "Explanation: The post contains several elements that imply hate speech:\n",
      "- The phrase \"great white hope\" has historical racial connotations.\n",
      "- The hashtag \"#14words\" is a known reference to a white supremacist slogan (\"We must secure the existence of our people and a future for white children\").\n",
      "- The overall tone of the post suggests a divisive and racially charged narrative.\n",
      "\n",
      "Post: lol purim isn't pro white\n",
      "Confidence: 0.75\n",
      "Explanation: The post suggests a divisive narrative by implying that Purim, a Jewish holiday, is not supportive of white people. This insinuation can be interpreted as promoting racial tension and division, which is characteristic of implicit hate speech. The use of \"lol\" (laugh out loud) also adds a layer of sarcasm or mockery to the statement.\n"
     ]
    }
   ],
   "source": [
    "for idx, row in df_fp.sample(10).iterrows():\n",
    "    print('\\nPost: ' + row['post'])\n",
    "    print('Confidence: ' + str(row['confidence']))\n",
    "    print('Explanation: ' + row['explanation'])"
   ]
  },
  {
   "cell_type": "markdown",
   "id": "a75b2691-9e7f-4d0f-81d8-71e283a43020",
   "metadata": {},
   "source": [
    "#### Was deepening used?"
   ]
  },
  {
   "cell_type": "code",
   "execution_count": 34,
   "id": "e2667af2-ad62-42b0-aadc-933487c97160",
   "metadata": {},
   "outputs": [],
   "source": [
    "df_resp = pd.DataFrame(columns = ['post', 'explanation', 'recursion_level'])\n",
    "files = glob.glob(result_folder + '/responses/*.json')\n",
    "\n",
    "for filename in files:\n",
    "    try: \n",
    "        with open(filename, 'r') as f:\n",
    "            text = f.read()\n",
    "            obj = json.loads(text)\n",
    "            hate = eval(obj['hate_class']['repr'])\n",
    "            new_row = {\n",
    "                'post': obj['post'], \n",
    "                'explanation' : hate.explanation, \n",
    "                'recursion_level' : hate.recursion_level\n",
    "            }\n",
    "            df_resp = pd.concat([df_resp, pd.DataFrame([new_row])])\n",
    "    except:\n",
    "        print(filename)\n"
   ]
  },
  {
   "cell_type": "markdown",
   "id": "94f497c0-9e32-40cd-9f19-c2c547cfe385",
   "metadata": {},
   "source": [
    "#### Deepening was never used :("
   ]
  },
  {
   "cell_type": "code",
   "execution_count": 35,
   "id": "50b4dc84-5acc-42f6-9e32-f07e7251c149",
   "metadata": {},
   "outputs": [
    {
     "data": {
      "text/html": [
       "<div>\n",
       "<style scoped>\n",
       "    .dataframe tbody tr th:only-of-type {\n",
       "        vertical-align: middle;\n",
       "    }\n",
       "\n",
       "    .dataframe tbody tr th {\n",
       "        vertical-align: top;\n",
       "    }\n",
       "\n",
       "    .dataframe thead th {\n",
       "        text-align: right;\n",
       "    }\n",
       "</style>\n",
       "<table border=\"1\" class=\"dataframe\">\n",
       "  <thead>\n",
       "    <tr style=\"text-align: right;\">\n",
       "      <th></th>\n",
       "      <th>post</th>\n",
       "      <th>explanation</th>\n",
       "      <th>recursion_level</th>\n",
       "    </tr>\n",
       "  </thead>\n",
       "  <tbody>\n",
       "  </tbody>\n",
       "</table>\n",
       "</div>"
      ],
      "text/plain": [
       "Empty DataFrame\n",
       "Columns: [post, explanation, recursion_level]\n",
       "Index: []"
      ]
     },
     "execution_count": 35,
     "metadata": {},
     "output_type": "execute_result"
    }
   ],
   "source": [
    "df_resp[df_resp['recursion_level'] > 1]"
   ]
  },
  {
   "cell_type": "code",
   "execution_count": 82,
   "id": "6643cc4b-a894-4105-a683-0fdfe73de9a1",
   "metadata": {},
   "outputs": [],
   "source": []
  },
  {
   "cell_type": "code",
   "execution_count": null,
   "id": "15ff0812-616a-400c-afea-55ab8040f647",
   "metadata": {},
   "outputs": [],
   "source": []
  },
  {
   "cell_type": "markdown",
   "id": "84e12011-31bd-4581-bc8d-6b6e76550a09",
   "metadata": {},
   "source": [
    "# Evaluation Stage 2"
   ]
  },
  {
   "cell_type": "code",
   "execution_count": 36,
   "id": "f99f8349-0493-40ee-8109-ed221b6bee1f",
   "metadata": {},
   "outputs": [],
   "source": [
    "test_file_stg2 = data_folder + \"implicit_hate_test_stg2.csv\""
   ]
  },
  {
   "cell_type": "code",
   "execution_count": 235,
   "id": "5f27edc7-e200-40e2-8eaf-b8f9b47e3b05",
   "metadata": {},
   "outputs": [],
   "source": [
    "def evaluate_stage_2(strategy, gold_file, pred_file):\n",
    "\n",
    "    df_gold = pd.read_csv(gold_file, encoding = \"utf-8\")\n",
    "    df_pred = pd.read_csv(pred_file, encoding = \"utf-8\")\n",
    "    \n",
    "    label_selector = ['incitement', 'white_grievance', 'inferiority', 'stereotypical', 'irony', 'threatening', 'other']\n",
    "    \n",
    "    df_gold = df_gold[df_gold['post_id'].isin(df_pred['post_id'])]\n",
    "    df_pred = df_pred[df_pred['post_id'].isin(df_gold['post_id'])]\n",
    "    \n",
    "    df_gold.sort_values(\"post_id\", axis=0, ascending=True, inplace=True)\n",
    "    df_pred.sort_values(\"post_id\", axis=0, ascending=True, inplace=True)\n",
    "        \n",
    "    labels_gold = df_gold['implicit_class']\n",
    "    predictions = df_pred['implicit_class']\n",
    "    \n",
    "    f1_macro = f1_score(labels_gold, predictions, average = \"macro\")\n",
    "    accuracy = accuracy_score(labels_gold, predictions)\n",
    "    precision = precision_score(labels_gold, predictions, average = \"macro\")\n",
    "    recall = recall_score(labels_gold, predictions, average = \"macro\")\n",
    "    \n",
    "    clf_report = classification_report(labels_gold, predictions, labels = label_selector, target_names = label_selector, digits=4)\n",
    "    clf_report_dict = classification_report(labels_gold, predictions, labels = label_selector, target_names = label_selector,\n",
    "                                            digits=4, output_dict=True)\n",
    "    clf_report_df = pd.DataFrame(clf_report_dict)\n",
    "    \n",
    "    values_export = clf_report_df.loc[\"f1-score\", label_selector].T.values\n",
    "    values_export = \"\\t\".join([str(round(v,4)) for v in values_export])\n",
    "    \n",
    "    report = f\"\"\"F1-macro: {str(round(f1_macro, 4))} accuracy: {str(round(accuracy, 4))} precision: {str(round(precision, 4))} recall: {str(round(recall, 4))} \\n\\n{clf_report}\n",
    "    \"\"\"\n",
    "    print(strategy + \": \" + report)\n",
    "    print(values_export)\n",
    "    print(\"\\n\\n\")\n",
    "    \n",
    "    # Compute the confusion matrix\n",
    "    cm = metrics.confusion_matrix(labels_gold, predictions, labels = label_selector)\n",
    "    \n",
    "    # Plot the confusion matrix with percentages\n",
    "    fig, ax = plt.subplots()\n",
    "    im = ax.imshow(cm, interpolation='nearest', cmap=plt.cm.Blues)\n",
    "    ax.figure.colorbar(im, ax=ax)\n",
    "    \n",
    "    # We want to show all ticks and label them with the respective list entries\n",
    "    ax.set(xticks=np.arange(cm.shape[1]),\n",
    "           yticks=np.arange(cm.shape[0]),\n",
    "           xticklabels=label_selector, yticklabels=label_selector,\n",
    "           title='Implicit hate classification\\n',\n",
    "           ylabel='True label',\n",
    "           xlabel='Predicted label')\n",
    "    \n",
    "    # Rotate the tick labels and set their alignment\n",
    "    plt.setp(ax.get_xticklabels(), rotation=45, ha=\"right\",\n",
    "             rotation_mode=\"anchor\")\n",
    "    \n",
    "    # Loop over data dimensions and create text annotations\n",
    "    fmt = '.0f'\n",
    "    thresh = cm.max() / 2.\n",
    "    for i in range(cm.shape[0]):\n",
    "        for j in range(cm.shape[1]):\n",
    "            ax.text(j, i, format(cm[i, j], fmt),\n",
    "                    ha=\"center\", va=\"center\",\n",
    "                    color=\"white\" if cm[i, j] > thresh else \"#274c81\")\n",
    "    #fig.tight_layout()\n",
    "    plt.show()\n",
    "\n",
    "    return pd.DataFrame([{'Strategy' : strategy, \"F1-macro\" : f1_macro, 'Precision' : precision, 'Recall' : recall, 'Accuracy' : accuracy}])\n"
   ]
  },
  {
   "cell_type": "markdown",
   "id": "f6331dd2-84ce-46f8-8273-05f62b24327e",
   "metadata": {},
   "source": [
    "### Baseline"
   ]
  },
  {
   "cell_type": "code",
   "execution_count": 236,
   "id": "77e5c4ba-7d07-48dd-bc91-c52f138a49f4",
   "metadata": {},
   "outputs": [
    {
     "name": "stdout",
     "output_type": "stream",
     "text": [
      "Baseline: F1-macro: 0.4699 accuracy: 0.5522 precision: 0.4934 recall: 0.4679 \n",
      "\n",
      "                 precision    recall  f1-score   support\n",
      "\n",
      "     incitement     0.5082    0.3464    0.4120       179\n",
      "white_grievance     0.5962    0.7054    0.6462       224\n",
      "    inferiority     0.5135    0.6230    0.5630       122\n",
      "  stereotypical     0.4798    0.6257    0.5431       171\n",
      "          irony     0.6100    0.5259    0.5648       116\n",
      "    threatening     0.7458    0.4490    0.5605        98\n",
      "          other     0.0000    0.0000    0.0000        10\n",
      "\n",
      "       accuracy                         0.5522       920\n",
      "      macro avg     0.4934    0.4679    0.4699       920\n",
      "   weighted avg     0.5577    0.5522    0.5440       920\n",
      "\n",
      "    \n",
      "0.412\t0.6462\t0.563\t0.5431\t0.5648\t0.5605\t0.0\n",
      "\n",
      "\n",
      "\n"
     ]
    },
    {
     "data": {
      "image/png": "[encoded data removed]",
      "text/plain": [
       "<Figure size 640x480 with 2 Axes>"
      ]
     },
     "metadata": {},
     "output_type": "display_data"
    }
   ],
   "source": [
    "result_file_stg2 = result_folder + model_name + \"_result_baseline_stg2.csv\"\n",
    "df_baseline_stg2 = evaluate_stage_2(\n",
    "    \"Baseline\",\n",
    "    test_file_stg2,\n",
    "    result_file_stg2\n",
    ")"
   ]
  },
  {
   "cell_type": "markdown",
   "id": "6da9ee69-20e0-4877-aaaf-fd04e7efa76d",
   "metadata": {},
   "source": [
    "### Prompt Tree of Thoughts"
   ]
  },
  {
   "cell_type": "code",
   "execution_count": 237,
   "id": "a3daa11a-0c07-46d9-9ae0-534258159789",
   "metadata": {},
   "outputs": [
    {
     "name": "stdout",
     "output_type": "stream",
     "text": [
      "Prompt ToT: F1-macro: 0.4083 accuracy: 0.4919 precision: 0.4175 recall: 0.4186 \n",
      "\n",
      "                 precision    recall  f1-score   support\n",
      "\n",
      "     incitement     0.4815    0.2155    0.2977       181\n",
      "white_grievance     0.5567    0.7389    0.6350       226\n",
      "    inferiority     0.4748    0.5410    0.5057       122\n",
      "  stereotypical     0.4302    0.4503    0.4400       171\n",
      "          irony     0.4462    0.5000    0.4715       116\n",
      "    threatening     0.5333    0.4848    0.5079        99\n",
      "          other     0.0000    0.0000    0.0000        10\n",
      "\n",
      "       accuracy                         0.4919       925\n",
      "      macro avg     0.4175    0.4186    0.4083       925\n",
      "   weighted avg     0.4854    0.4919    0.4749       925\n",
      "\n",
      "    \n",
      "0.2977\t0.635\t0.5057\t0.44\t0.4715\t0.5079\t0.0\n",
      "\n",
      "\n",
      "\n"
     ]
    },
    {
     "data": {
      "image/png": "[encoded data removed]",
      "text/plain": [
       "<Figure size 640x480 with 2 Axes>"
      ]
     },
     "metadata": {},
     "output_type": "display_data"
    }
   ],
   "source": [
    "result_file_stg2 = result_folder + model_name + \"_result_prompt_tot_stg2.csv\"\n",
    "df_prompt_tot_stg2 = evaluate_stage_2(\n",
    "    \"Prompt ToT\",\n",
    "    test_file_stg2,\n",
    "    result_file_stg2\n",
    ")"
   ]
  },
  {
   "cell_type": "markdown",
   "id": "e5b2d590-346b-4e22-9c14-4bcbe1829958",
   "metadata": {},
   "source": [
    "### Graph Tree of Thoughts"
   ]
  },
  {
   "cell_type": "code",
   "execution_count": 238,
   "id": "ea1404f3-7f33-4244-b889-3dd528777142",
   "metadata": {},
   "outputs": [
    {
     "name": "stdout",
     "output_type": "stream",
     "text": [
      "Graph ToT: F1-macro: 0.3674 accuracy: 0.4477 precision: 0.4244 recall: 0.3822 \n",
      "\n",
      "                 precision    recall  f1-score   support\n",
      "\n",
      "     incitement     0.3707    0.2638    0.3082       163\n",
      "white_grievance     0.7843    0.3774    0.5096       212\n",
      "    inferiority     0.3651    0.6389    0.4646       108\n",
      "  stereotypical     0.4140    0.8075    0.5474       161\n",
      "          irony     0.3784    0.2772    0.3200       101\n",
      "    threatening     0.6585    0.3103    0.4219        87\n",
      "          other     0.0000    0.0000    0.0000        10\n",
      "\n",
      "       accuracy                         0.4477       842\n",
      "      macro avg     0.4244    0.3822    0.3674       842\n",
      "   weighted avg     0.5087    0.4477    0.4342       842\n",
      "\n",
      "    \n",
      "0.3082\t0.5096\t0.4646\t0.5474\t0.32\t0.4219\t0.0\n",
      "\n",
      "\n",
      "\n"
     ]
    },
    {
     "data": {
      "image/png": "[encoded data removed]",
      "text/plain": [
       "<Figure size 640x480 with 2 Axes>"
      ]
     },
     "metadata": {},
     "output_type": "display_data"
    }
   ],
   "source": [
    "result_file_stg2 = result_folder + model_name + \"_result_graph_stg2.csv\"\n",
    "df_graph_stg2 = evaluate_stage_2(\n",
    "    \"Graph ToT\",\n",
    "    test_file_stg2,\n",
    "    result_file_stg2\n",
    ")"
   ]
  },
  {
   "cell_type": "markdown",
   "id": "e01ce36e-94be-4d87-8cfb-f830e4424afd",
   "metadata": {},
   "source": [
    "### Optimizer MIPRO"
   ]
  },
  {
   "cell_type": "code",
   "execution_count": 239,
   "id": "d6539378-52aa-4908-9992-5a35e79e4914",
   "metadata": {},
   "outputs": [
    {
     "name": "stdout",
     "output_type": "stream",
     "text": [
      "Optimized: F1-macro: 0.5164 accuracy: 0.5805 precision: 0.5579 recall: 0.5099 \n",
      "\n",
      "                 precision    recall  f1-score   support\n",
      "\n",
      "     incitement     0.7692    0.3867    0.5147       181\n",
      "white_grievance     0.6189    0.7832    0.6914       226\n",
      "    inferiority     0.6061    0.4918    0.5430       122\n",
      "  stereotypical     0.5917    0.5848    0.5882       171\n",
      "          irony     0.6000    0.4655    0.5243       116\n",
      "    threatening     0.7075    0.7576    0.7317        99\n",
      "          other     0.0119    0.1000    0.0213        10\n",
      "\n",
      "       accuracy                         0.5805       925\n",
      "      macro avg     0.5579    0.5099    0.5164       925\n",
      "   weighted avg     0.6421    0.5805    0.5943       925\n",
      "\n",
      "    \n",
      "0.5147\t0.6914\t0.543\t0.5882\t0.5243\t0.7317\t0.0213\n",
      "\n",
      "\n",
      "\n"
     ]
    },
    {
     "data": {
      "image/png": "[encoded data removed]",
      "text/plain": [
       "<Figure size 640x480 with 2 Axes>"
      ]
     },
     "metadata": {},
     "output_type": "display_data"
    }
   ],
   "source": [
    "result_file_stg2 = result_folder + model_name + \"_result_optimizer_stg2.csv\"\n",
    "df_optim_stg2 = evaluate_stage_2(\n",
    "    \"Optimized\",\n",
    "    test_file_stg2,\n",
    "    result_file_stg2\n",
    ")"
   ]
  },
  {
   "cell_type": "markdown",
   "id": "56da2c35-d054-45dc-b2bb-0c603b2515d1",
   "metadata": {},
   "source": [
    "## Final results Stage 2"
   ]
  },
  {
   "cell_type": "code",
   "execution_count": 240,
   "id": "a9b440f0-b116-4698-895e-ee2f819f6ce5",
   "metadata": {},
   "outputs": [],
   "source": [
    "df_result_stg2 = pd.concat([df_baseline_stg2, df_prompt_tot_stg2, df_graph_stg2, df_optim_stg2])"
   ]
  },
  {
   "cell_type": "code",
   "execution_count": 241,
   "id": "78205a67-683b-491a-b6ca-34787185adf4",
   "metadata": {},
   "outputs": [],
   "source": [
    "df_result_stg2.to_excel(result_folder +  model_name + '_evaluation_stg2.xlsx', index = False)"
   ]
  },
  {
   "cell_type": "code",
   "execution_count": 242,
   "id": "e0bed0f2-6154-4e16-a297-622c8fd8b5a7",
   "metadata": {},
   "outputs": [],
   "source": [
    "df_result_stg2 = pd.read_excel(result_folder + model_name + '_evaluation_stg2.xlsx')"
   ]
  },
  {
   "cell_type": "code",
   "execution_count": 243,
   "id": "a9ed4ddb-0c53-41fd-8e64-85b267a4c739",
   "metadata": {},
   "outputs": [
    {
     "data": {
      "text/html": [
       "<div>\n",
       "<style scoped>\n",
       "    .dataframe tbody tr th:only-of-type {\n",
       "        vertical-align: middle;\n",
       "    }\n",
       "\n",
       "    .dataframe tbody tr th {\n",
       "        vertical-align: top;\n",
       "    }\n",
       "\n",
       "    .dataframe thead th {\n",
       "        text-align: right;\n",
       "    }\n",
       "</style>\n",
       "<table border=\"1\" class=\"dataframe\">\n",
       "  <thead>\n",
       "    <tr style=\"text-align: right;\">\n",
       "      <th></th>\n",
       "      <th>Strategy</th>\n",
       "      <th>F1-macro</th>\n",
       "      <th>Precision</th>\n",
       "      <th>Recall</th>\n",
       "      <th>Accuracy</th>\n",
       "    </tr>\n",
       "  </thead>\n",
       "  <tbody>\n",
       "    <tr>\n",
       "      <th>0</th>\n",
       "      <td>Baseline</td>\n",
       "      <td>0.4699</td>\n",
       "      <td>0.4934</td>\n",
       "      <td>0.4679</td>\n",
       "      <td>0.5522</td>\n",
       "    </tr>\n",
       "    <tr>\n",
       "      <th>1</th>\n",
       "      <td>Prompt ToT</td>\n",
       "      <td>0.4083</td>\n",
       "      <td>0.4175</td>\n",
       "      <td>0.4186</td>\n",
       "      <td>0.4919</td>\n",
       "    </tr>\n",
       "    <tr>\n",
       "      <th>2</th>\n",
       "      <td>Graph ToT</td>\n",
       "      <td>0.3674</td>\n",
       "      <td>0.4244</td>\n",
       "      <td>0.3822</td>\n",
       "      <td>0.4477</td>\n",
       "    </tr>\n",
       "    <tr>\n",
       "      <th>3</th>\n",
       "      <td>Optimized</td>\n",
       "      <td>0.5164</td>\n",
       "      <td>0.5579</td>\n",
       "      <td>0.5099</td>\n",
       "      <td>0.5805</td>\n",
       "    </tr>\n",
       "  </tbody>\n",
       "</table>\n",
       "</div>"
      ],
      "text/plain": [
       "     Strategy  F1-macro  Precision  Recall  Accuracy\n",
       "0    Baseline    0.4699     0.4934  0.4679    0.5522\n",
       "1  Prompt ToT    0.4083     0.4175  0.4186    0.4919\n",
       "2   Graph ToT    0.3674     0.4244  0.3822    0.4477\n",
       "3   Optimized    0.5164     0.5579  0.5099    0.5805"
      ]
     },
     "execution_count": 243,
     "metadata": {},
     "output_type": "execute_result"
    }
   ],
   "source": [
    "df_result_stg2.round(4).head()"
   ]
  },
  {
   "cell_type": "code",
   "execution_count": null,
   "id": "c93875ab-9530-4d61-83eb-1fd8ff00abb0",
   "metadata": {},
   "outputs": [],
   "source": []
  },
  {
   "cell_type": "markdown",
   "id": "2191abcc-b6d3-4361-a62b-ab4d6c105f1f",
   "metadata": {},
   "source": [
    "### Qualitative analysis (results of MIPRO optimizer)"
   ]
  },
  {
   "cell_type": "code",
   "execution_count": 45,
   "id": "b23aa4e4-177c-496e-b3a0-a74afa012413",
   "metadata": {},
   "outputs": [],
   "source": [
    "df_gold_stg2 = pd.read_csv(data_folder + \"implicit_hate_test_stg2.csv\", encoding = 'utf-8')\n",
    "df_pred_stg2 = pd.read_csv(result_folder + model_name + \"_result_optimizer_stg2.csv\", encoding = 'utf-8')"
   ]
  },
  {
   "cell_type": "markdown",
   "id": "db199d5c-08c3-472d-8925-188a5968a7f0",
   "metadata": {},
   "source": [
    "#### Overall confidence"
   ]
  },
  {
   "cell_type": "code",
   "execution_count": 46,
   "id": "9e28c357-51c3-4cd8-8de2-6e40be392978",
   "metadata": {},
   "outputs": [
    {
     "name": "stdout",
     "output_type": "stream",
     "text": [
      "0.8525729729729729\n"
     ]
    }
   ],
   "source": [
    "print(df_pred_stg2['confidence'].mean())"
   ]
  },
  {
   "cell_type": "code",
   "execution_count": 47,
   "id": "ee378ddc-e90a-41d4-8cbf-da2b5fbf0093",
   "metadata": {},
   "outputs": [],
   "source": [
    "df_pred_stg2.rename(columns={'implicit_class': 'implicit_class_pred'}, inplace=True)"
   ]
  },
  {
   "cell_type": "code",
   "execution_count": 48,
   "id": "2635c7a6-a89a-499f-9938-5f01955b7c26",
   "metadata": {},
   "outputs": [
    {
     "data": {
      "text/html": [
       "<div>\n",
       "<style scoped>\n",
       "    .dataframe tbody tr th:only-of-type {\n",
       "        vertical-align: middle;\n",
       "    }\n",
       "\n",
       "    .dataframe tbody tr th {\n",
       "        vertical-align: top;\n",
       "    }\n",
       "\n",
       "    .dataframe thead th {\n",
       "        text-align: right;\n",
       "    }\n",
       "</style>\n",
       "<table border=\"1\" class=\"dataframe\">\n",
       "  <thead>\n",
       "    <tr style=\"text-align: right;\">\n",
       "      <th></th>\n",
       "      <th>post_id</th>\n",
       "      <th>implicit_class_pred</th>\n",
       "      <th>confidence</th>\n",
       "      <th>explanation</th>\n",
       "    </tr>\n",
       "  </thead>\n",
       "  <tbody>\n",
       "    <tr>\n",
       "      <th>0</th>\n",
       "      <td>9275</td>\n",
       "      <td>stereotypical</td>\n",
       "      <td>0.90</td>\n",
       "      <td>The post perpetuates negative stereotypes abou...</td>\n",
       "    </tr>\n",
       "    <tr>\n",
       "      <th>1</th>\n",
       "      <td>1006</td>\n",
       "      <td>white_grievance</td>\n",
       "      <td>0.85</td>\n",
       "      <td>The post discusses a \"white privilege tax\" sup...</td>\n",
       "    </tr>\n",
       "    <tr>\n",
       "      <th>2</th>\n",
       "      <td>20335</td>\n",
       "      <td>inferiority</td>\n",
       "      <td>0.75</td>\n",
       "      <td>The post uses the derogatory term \"hermangutie...</td>\n",
       "    </tr>\n",
       "    <tr>\n",
       "      <th>3</th>\n",
       "      <td>1173</td>\n",
       "      <td>white_grievance</td>\n",
       "      <td>0.90</td>\n",
       "      <td>The post expresses frustration and resentment ...</td>\n",
       "    </tr>\n",
       "    <tr>\n",
       "      <th>4</th>\n",
       "      <td>4917</td>\n",
       "      <td>stereotypical</td>\n",
       "      <td>0.90</td>\n",
       "      <td>The post perpetuates negative stereotypes abou...</td>\n",
       "    </tr>\n",
       "  </tbody>\n",
       "</table>\n",
       "</div>"
      ],
      "text/plain": [
       "   post_id implicit_class_pred  confidence  \\\n",
       "0     9275       stereotypical        0.90   \n",
       "1     1006     white_grievance        0.85   \n",
       "2    20335         inferiority        0.75   \n",
       "3     1173     white_grievance        0.90   \n",
       "4     4917       stereotypical        0.90   \n",
       "\n",
       "                                         explanation  \n",
       "0  The post perpetuates negative stereotypes abou...  \n",
       "1  The post discusses a \"white privilege tax\" sup...  \n",
       "2  The post uses the derogatory term \"hermangutie...  \n",
       "3  The post expresses frustration and resentment ...  \n",
       "4  The post perpetuates negative stereotypes abou...  "
      ]
     },
     "execution_count": 48,
     "metadata": {},
     "output_type": "execute_result"
    }
   ],
   "source": [
    "df_pred_stg2.head()"
   ]
  },
  {
   "cell_type": "code",
   "execution_count": 49,
   "id": "cbe1dd13-ff2b-4811-885d-3194ec1cc01e",
   "metadata": {},
   "outputs": [],
   "source": [
    "df_merge_stg2 = pd.merge(df_gold_stg2, df_pred_stg2, on = 'post_id')"
   ]
  },
  {
   "cell_type": "code",
   "execution_count": 50,
   "id": "7e11bf26-3dab-4b73-83d3-df1f53ae9ec7",
   "metadata": {},
   "outputs": [
    {
     "data": {
      "text/html": [
       "<div>\n",
       "<style scoped>\n",
       "    .dataframe tbody tr th:only-of-type {\n",
       "        vertical-align: middle;\n",
       "    }\n",
       "\n",
       "    .dataframe tbody tr th {\n",
       "        vertical-align: top;\n",
       "    }\n",
       "\n",
       "    .dataframe thead th {\n",
       "        text-align: right;\n",
       "    }\n",
       "</style>\n",
       "<table border=\"1\" class=\"dataframe\">\n",
       "  <thead>\n",
       "    <tr style=\"text-align: right;\">\n",
       "      <th></th>\n",
       "      <th>post_id</th>\n",
       "      <th>post</th>\n",
       "      <th>implicit_class</th>\n",
       "      <th>implicit_class_pred</th>\n",
       "      <th>confidence</th>\n",
       "      <th>explanation</th>\n",
       "    </tr>\n",
       "  </thead>\n",
       "  <tbody>\n",
       "    <tr>\n",
       "      <th>0</th>\n",
       "      <td>9275</td>\n",
       "      <td>\" : racist black thugs shoot white baby in t...</td>\n",
       "      <td>stereotypical</td>\n",
       "      <td>stereotypical</td>\n",
       "      <td>0.90</td>\n",
       "      <td>The post perpetuates negative stereotypes abou...</td>\n",
       "    </tr>\n",
       "    <tr>\n",
       "      <th>1</th>\n",
       "      <td>1006</td>\n",
       "      <td>new  \" white privilege tax \" \" for all white ...</td>\n",
       "      <td>white_grievance</td>\n",
       "      <td>white_grievance</td>\n",
       "      <td>0.85</td>\n",
       "      <td>The post discusses a \"white privilege tax\" sup...</td>\n",
       "    </tr>\n",
       "    <tr>\n",
       "      <th>2</th>\n",
       "      <td>20335</td>\n",
       "      <td>if you even pay taxes, hermangutierr.</td>\n",
       "      <td>stereotypical</td>\n",
       "      <td>inferiority</td>\n",
       "      <td>0.75</td>\n",
       "      <td>The post uses the derogatory term \"hermangutie...</td>\n",
       "    </tr>\n",
       "    <tr>\n",
       "      <th>3</th>\n",
       "      <td>1173</td>\n",
       "      <td>agree . i'm sick of these self-hating behavior...</td>\n",
       "      <td>white_grievance</td>\n",
       "      <td>white_grievance</td>\n",
       "      <td>0.90</td>\n",
       "      <td>The post expresses frustration and resentment ...</td>\n",
       "    </tr>\n",
       "    <tr>\n",
       "      <th>4</th>\n",
       "      <td>4917</td>\n",
       "      <td>blacks have the best party time in white count...</td>\n",
       "      <td>stereotypical</td>\n",
       "      <td>stereotypical</td>\n",
       "      <td>0.90</td>\n",
       "      <td>The post perpetuates negative stereotypes abou...</td>\n",
       "    </tr>\n",
       "  </tbody>\n",
       "</table>\n",
       "</div>"
      ],
      "text/plain": [
       "   post_id                                               post  \\\n",
       "0     9275    \" : racist black thugs shoot white baby in t...   \n",
       "1     1006   new  \" white privilege tax \" \" for all white ...   \n",
       "2    20335              if you even pay taxes, hermangutierr.   \n",
       "3     1173  agree . i'm sick of these self-hating behavior...   \n",
       "4     4917  blacks have the best party time in white count...   \n",
       "\n",
       "    implicit_class implicit_class_pred  confidence  \\\n",
       "0    stereotypical       stereotypical        0.90   \n",
       "1  white_grievance     white_grievance        0.85   \n",
       "2    stereotypical         inferiority        0.75   \n",
       "3  white_grievance     white_grievance        0.90   \n",
       "4    stereotypical       stereotypical        0.90   \n",
       "\n",
       "                                         explanation  \n",
       "0  The post perpetuates negative stereotypes abou...  \n",
       "1  The post discusses a \"white privilege tax\" sup...  \n",
       "2  The post uses the derogatory term \"hermangutie...  \n",
       "3  The post expresses frustration and resentment ...  \n",
       "4  The post perpetuates negative stereotypes abou...  "
      ]
     },
     "execution_count": 50,
     "metadata": {},
     "output_type": "execute_result"
    }
   ],
   "source": [
    "df_merge_stg2.head()"
   ]
  },
  {
   "cell_type": "markdown",
   "id": "fd75a5d9-44e4-4190-b611-7ba190d2fb45",
   "metadata": {},
   "source": [
    "#### Confidence of correct predictions"
   ]
  },
  {
   "cell_type": "code",
   "execution_count": 51,
   "id": "943949d5-9bd8-4a80-a05a-c2ebb891071e",
   "metadata": {},
   "outputs": [
    {
     "name": "stdout",
     "output_type": "stream",
     "text": [
      "0.8525729729729729\n"
     ]
    }
   ],
   "source": [
    "print(df_merge_stg2[df_merge_stg2['implicit_class'] == df_merge_stg2['implicit_class']]['confidence'].mean())"
   ]
  },
  {
   "cell_type": "markdown",
   "id": "e7bac4df-ec1f-4e61-b557-ff0108f37359",
   "metadata": {},
   "source": [
    "#### Confidence of wrong predictions"
   ]
  },
  {
   "cell_type": "code",
   "execution_count": 52,
   "id": "b92c375f-7a58-4136-86ee-4c8b2747da0b",
   "metadata": {},
   "outputs": [
    {
     "name": "stdout",
     "output_type": "stream",
     "text": [
      "0.833840206185567\n"
     ]
    }
   ],
   "source": [
    "print(df_merge_stg2[df_merge_stg2['implicit_class'] != df_merge_stg2['implicit_class_pred']]['confidence'].mean())"
   ]
  },
  {
   "cell_type": "markdown",
   "id": "3c579e51-1ec6-49b0-8ed5-ce97af3c2e47",
   "metadata": {},
   "source": [
    "#### Examples of misclassified posts"
   ]
  },
  {
   "cell_type": "code",
   "execution_count": 53,
   "id": "b922d889-6387-4987-ad26-dc2ed98559ec",
   "metadata": {},
   "outputs": [],
   "source": [
    "df_errors = df_merge_stg2[df_merge_stg2['implicit_class'] != df_merge_stg2['implicit_class_pred']]"
   ]
  },
  {
   "cell_type": "code",
   "execution_count": 54,
   "id": "7acb713b-a118-457d-a90e-946cb93565aa",
   "metadata": {},
   "outputs": [
    {
     "name": "stdout",
     "output_type": "stream",
     "text": [
      "\n",
      "Post: tony abbott : europe is being invaded by non-whites | read more : via\n",
      "Confidence: 0.9 - Gold class: inferiority - Pred class: incitement\n",
      "Explanation: This post quotes a public figure stating that Europe is being \"invaded by non-whites,\" which uses alarmist language to suggest a threat from non-white individuals. This aligns with the \"incitement\" category, as it attempts to elevate a sense of ingroup unity and power by portraying an outgroup as a threat. The high confidence level reflects the clear and direct nature of the inciting language used in the post.\n",
      "\n",
      "Post: kill your just set white people back a 100 yrs and made race baiters look great !\n",
      "Confidence: 0.8 - Gold class: threatening - Pred class: white_grievance\n",
      "Explanation: This post expresses frustration and a sense of grievance towards a perceived setback for white people. The phrase \"set white people back a 100 yrs\" suggests a belief that white people are being unfairly targeted or disadvantaged, which aligns with the \"white grievance\" category. The mention of \"race baiters\" further emphasizes this sentiment. The confidence level is 0.8 as the post clearly conveys a sense of white victimhood, but there is some room for interpretation based on the broader context.\n",
      "\n",
      "Post: no green cards, legal immigration and citizen ship under our rules and laws and retain the right to deport ,terrorist\n",
      "Confidence: 0.85 - Gold class: incitement - Pred class: threatening\n",
      "Explanation: The post advocates for strict control over immigration and the retention of the right to deport individuals, specifically mentioning \"terrorists.\" This implies a threat to the rights and freedoms of certain groups, particularly immigrants, by suggesting that they could be subject to deportation. The language used conveys a commitment to denying opportunities and enforcing strict measures, which aligns with the \"threatening\" class. The confidence level is 0.85 as the intent to threaten is clear, but there is some room for interpretation based on the broader context.\n",
      "\n",
      "Post: why i don't care for the jews :\n",
      "Confidence: 0.8 - Gold class: stereotypical - Pred class: other\n",
      "Explanation: The post expresses a negative sentiment towards Jews but does not provide enough context to classify it into one of the specific categories of implicit hate speech. It does not explicitly use irony, stereotypes, threats, or any other clear indicator from the taxonomy. Therefore, it is categorized as \"other.\" The confidence level is 0.8 as there is some ambiguity due to the lack of additional context.\n",
      "\n",
      "Post: come to america legally with respect for our laws  tax / debt payers  and citizens ! and if you did not then respect our laws by leaving !\n",
      "Confidence: 0.85 - Gold class: stereotypical - Pred class: threatening\n",
      "Explanation: The post demands that individuals who have not entered the country legally should leave, conveying a speaker commitment to a target's loss or violation of rights. This aligns with the \"threatening\" class, as it implies a form of intimidation or forced removal. The confidence level is 0.85, as the intent to threaten is clear, but there is some room for interpretation based on the broader context.\n",
      "\n",
      "Post: unless white america will step up & have more kids our total economy will tank trying to pay ss for baby boomer retirees w / o daca\n",
      "Confidence: 0.85 - Gold class: incitement - Pred class: white_grievance\n",
      "Explanation: The post expresses concern about the economic impact of a declining white population in America and the need for white Americans to have more children to maintain economic stability. This aligns with the \"white grievance\" category, as it implies a sense of loss or threat to the white majority and a need to preserve its status. While it does not explicitly blame minority groups, the underlying sentiment is one of white grievance.\n",
      "\n",
      "Post: white guy attacked by illegal alienaccused of being racist by a mexican .\n",
      "Confidence: 0.85 - Gold class: stereotypical - Pred class: white_grievance\n",
      "Explanation: The post describes a white person being attacked by an \"illegal alien\" and then accused of racism by a Mexican. This narrative fits the \"white_grievance\" category, which includes frustration over perceived privileges of minority groups and the idea that majority groups are the real victims of racism. The use of the term \"illegal alien\" and the accusation of racism reinforce this classification.\n",
      "\n",
      "Post:  rt : will a  \" collapse \" \" lead to a resurgence in white identity ? #tcot #race \"\n",
      "Confidence: 0.85 - Gold class: incitement - Pred class: white_grievance\n",
      "Explanation: The post suggests that a collapse might lead to a resurgence in white identity, implying a sense of white victimhood and a need for white empowerment. This aligns with the \"white grievance\" category, which includes frustration over perceived privileges of minority groups and the idea that majority groups are the real victims of racism. The use of hashtags like #tcot (Top Conservatives on Twitter) and #race further supports this classification.\n",
      "\n",
      "Post: one of bo unvetted criminals. bastard!!! send him back to the hellhole where he came from.\n",
      "Confidence: 0.85 - Gold class: threatening - Pred class: inferiority\n",
      "Explanation: The post refers to an individual as a \"criminal\" and a \"bastard,\" and suggests sending them back to a \"hellhole.\" This language implies that the individual and their place of origin are inferior. The use of derogatory terms and the suggestion of removal align with the \"inferiority\" class, which includes dehumanization and the denial of a person's humanity. The confidence level is 0.85 as the language used clearly conveys a sense of inferiority, although there is some room for interpretation based on the broader context.\n",
      "\n",
      "Post: very true ! if they do not trust indians and india they should move out ! individual choice ! no sweat ! extreme views ! sad\n",
      "Confidence: 0.75 - Gold class: incitement - Pred class: other\n",
      "Explanation: This post does not fit neatly into any of the predefined classes of implicit hate speech. While it expresses a strong opinion and some frustration, it does not clearly fall into white grievance, irony, stereotypical, incitement, threatening, or inferiority categories. The post discusses trust issues with Indians and India but does not dehumanize, threaten, or incite violence. Therefore, it is classified as \"other.\"\n"
     ]
    }
   ],
   "source": [
    "for idx, row in df_errors.sample(10).iterrows():\n",
    "    print('\\nPost: ' + row['post'])\n",
    "    print('Confidence: ' + str(row['confidence']) + ' - Gold class: ' + row['implicit_class'] +' - Pred class: ' + row['implicit_class_pred'])\n",
    "    print('Explanation: ' + row['explanation'])"
   ]
  },
  {
   "cell_type": "code",
   "execution_count": null,
   "id": "36cfd6da-11f7-4700-9d4c-927e4e7fa3a9",
   "metadata": {},
   "outputs": [],
   "source": []
  },
  {
   "cell_type": "code",
   "execution_count": null,
   "id": "1d9f4742-f02b-4fe9-8238-f6996d8a0694",
   "metadata": {},
   "outputs": [],
   "source": []
  },
  {
   "cell_type": "markdown",
   "id": "64ffb179-8774-4568-97cd-b91eed1906c9",
   "metadata": {},
   "source": [
    "# Evaluation Stage 3"
   ]
  },
  {
   "cell_type": "code",
   "execution_count": 248,
   "id": "be1ff5ed-107e-4b41-ad0b-6ca7725d01e7",
   "metadata": {},
   "outputs": [
    {
     "name": "stdout",
     "output_type": "stream",
     "text": [
      "WARNING:tensorflow:From c:\\gio\\NLP\\implicit-hate\\env\\Lib\\site-packages\\bleurt\\score.py:160: The name tf.logging.info is deprecated. Please use tf.compat.v1.logging.info instead.\n",
      "\n",
      "INFO:tensorflow:Reading checkpoint BLEURT-20.\n",
      "INFO:tensorflow:Config file found, reading.\n",
      "INFO:tensorflow:Will load checkpoint BLEURT-20\n",
      "INFO:tensorflow:Loads full paths and checks that files exists.\n",
      "INFO:tensorflow:... name:BLEURT-20\n",
      "INFO:tensorflow:... bert_config_file:bert_config.json\n",
      "INFO:tensorflow:... max_seq_length:512\n",
      "INFO:tensorflow:... vocab_file:None\n",
      "INFO:tensorflow:... do_lower_case:None\n",
      "INFO:tensorflow:... sp_model:sent_piece\n",
      "INFO:tensorflow:... dynamic_seq_length:True\n",
      "INFO:tensorflow:Creating BLEURT scorer.\n",
      "INFO:tensorflow:Creating SentencePiece tokenizer.\n",
      "INFO:tensorflow:Creating SentencePiece tokenizer.\n",
      "INFO:tensorflow:Will load model: BLEURT-20\\sent_piece.model.\n",
      "INFO:tensorflow:SentencePiece tokenizer created.\n",
      "INFO:tensorflow:Creating Eager Mode predictor.\n",
      "INFO:tensorflow:Loading model.\n",
      "INFO:tensorflow:BLEURT initialized.\n"
     ]
    },
    {
     "name": "stderr",
     "output_type": "stream",
     "text": [
      "INFO:tensorflow:BLEURT initialized.\n"
     ]
    }
   ],
   "source": [
    "# Initialize BLEURT Scorer\n",
    "checkpoint =  \"BLEURT-20\"\n",
    "bleurt_scorer = bleurt_score.BleurtScorer(checkpoint)"
   ]
  },
  {
   "cell_type": "code",
   "execution_count": null,
   "id": "dd99f3ce-d435-4460-90b6-a82de7588517",
   "metadata": {},
   "outputs": [],
   "source": [
    "result_file_stg3 = data_folder + 'implicit_hate_test_stg3.csv'"
   ]
  },
  {
   "cell_type": "markdown",
   "id": "bf2181f5-125b-4f72-9a29-0708efbeb4b6",
   "metadata": {},
   "source": [
    "### Text similarity metrics"
   ]
  },
  {
   "cell_type": "code",
   "execution_count": null,
   "id": "c2e35137-45bf-4369-8b6b-82b4056b32a2",
   "metadata": {},
   "outputs": [],
   "source": [
    "def compute_similarity_metrics(generated, reference, bleurt_scorer, bert_lang='en'):\n",
    "\n",
    "    generated_tokens = nltk.word_tokenize(generated.lower())\n",
    "    reference_tokens = nltk.word_tokenize(reference.lower())\n",
    "\n",
    "    # Compute BLEU Score\n",
    "\n",
    "    # Smoothing method1: adds 1 to the numerator and denominator for higher-order n-grams with no matches, akin to additive smoothing.\n",
    "    # Works well for very short sentences or cases with few matches.\n",
    "    smoothing = SmoothingFunction().method1\n",
    "\n",
    "    bleu = sentence_bleu([reference_tokens], generated_tokens, smoothing_function = smoothing)\n",
    "    bleu_1 = sentence_bleu([reference_tokens], generated_tokens, weights=(1, 0, 0, 0), smoothing_function = smoothing)\n",
    "    bleu_2 = sentence_bleu([reference_tokens], generated_tokens, weights=(0.5, 0.5, 0, 0), smoothing_function = smoothing) # Cumulative\n",
    "\n",
    "    # Compute ROUGE Score (F1)\n",
    "    rouge_scorer_obj = rouge_scorer.RougeScorer(['rouge1', 'rouge2', 'rougeL'], use_stemmer=True)\n",
    "    rouge_scores = rouge_scorer_obj.score(reference, generated)\n",
    "    rouge_f1 = {\n",
    "        'ROUGE-1': rouge_scores['rouge1'].fmeasure,\n",
    "        'ROUGE-2': rouge_scores['rouge2'].fmeasure,\n",
    "        'ROUGE-L': rouge_scores['rougeL'].fmeasure\n",
    "    }\n",
    "    # Compute METEOR Score\n",
    "    meteor = meteor_score([reference_tokens], generated_tokens)\n",
    "\n",
    "    # Compute NIST Score\n",
    "    n = np.min((len(reference_tokens),len(generated_tokens),2))\n",
    "    nist = sentence_nist([reference_tokens], generated_tokens, n = n)\n",
    "\n",
    "    # Compute BERTScore (F1)\n",
    "    P, R, F1 = bert_score.score([generated], [reference], lang=bert_lang, verbose=False)\n",
    "    bert_f1 = F1.mean().item()\n",
    "\n",
    "    # Compute BLUERT score\n",
    "    bleurt_scores = bleurt_scorer.score(references = [reference], candidates = [generated])\n",
    "    if isinstance(bleurt_scores, list) and len(bleurt_scores) == 1:\n",
    "        bleurt = bleurt_scores[0]\n",
    "    else:\n",
    "        0\n",
    "\n",
    "    # Combine scores\n",
    "    return {\n",
    "        'BLEU-1' : bleu_1,\n",
    "        'BLEU-2' : bleu_2,\n",
    "        'BLEU': bleu,\n",
    "        **rouge_f1,\n",
    "        'METEOR' : meteor,\n",
    "        'NIST' : nist,\n",
    "        'BERTScore': bert_f1,\n",
    "        'BLEURTScore' : bleurt\n",
    "    }\n",
    "    "
   ]
  },
  {
   "cell_type": "markdown",
   "id": "4426eae2-b1b7-4c89-8e39-1da02b78fbde",
   "metadata": {},
   "source": [
    "## Target similarity"
   ]
  },
  {
   "cell_type": "code",
   "execution_count": null,
   "id": "6c017020-9273-4533-a6de-f8f77ec2d371",
   "metadata": {},
   "outputs": [],
   "source": [
    "def compute_target_similarity(strategy, gold_file, pred_file, bleurt_scorer, debug_mode = False):\n",
    "\n",
    "    df_gold = pd.read_csv(gold_file, encoding=\"utf-8\")\n",
    "    df_pred = pd.read_csv(pred_file, encoding=\"utf-8\")    \n",
    "    \n",
    "    df_pred = df_pred[df_pred['target'].notnull()]\n",
    "    df_pred = df_pred[df_pred['target'].notna()] \n",
    "    \n",
    "    if debug_mode:\n",
    "        df_pred = df_pred.sample(2)\n",
    "    \n",
    "    df_gold.rename(columns={'target': 'target_gold'}, inplace=True)\n",
    "    df_pred.rename(columns={'target': 'target_pred'}, inplace=True)\n",
    "    \n",
    "    df_gold = df_gold[df_gold['post_id'].isin(df_pred['post_id'])]\n",
    "    df_pred = df_pred[df_pred['post_id'].isin(df_gold['post_id'])]\n",
    "    \n",
    "    df_gold.sort_values(\"post_id\", axis=0, ascending=True, inplace=True)\n",
    "    df_pred.sort_values(\"post_id\", axis=0, ascending=True, inplace=True)\n",
    "    \n",
    "    df_merge = pd.merge(df_gold, df_pred, on = \"post_id\")\n",
    "    df_target = df_merge[['post_id', 'post', 'target_gold', 'target_pred']]\n",
    "    \n",
    "    # Compute metrics\n",
    "    similarity_metrics = df_target.apply(lambda row: compute_similarity_metrics(row['target_pred'], row['target_gold'], bleurt_scorer), axis=1)\n",
    "    \n",
    "    # Flatten the metrics into separate columns\n",
    "    metrics_df = pd.DataFrame(similarity_metrics.tolist())\n",
    "    \n",
    "    # Combine the original DataFrame with the metrics\n",
    "    df_target_result = pd.concat([df_target, metrics_df], axis=1)\n",
    "    df_target_result_max = df_target_result.groupby('post_id')[df_target_result.columns[4: ].tolist()].max()\n",
    "    \n",
    "    # Average results\n",
    "    df_result = df_target_result_max[1: ].mean().to_frame().T\n",
    "    df_result.insert(loc = 0, column = 'Strategy', value = strategy)\n",
    "    \n",
    "    return df_result"
   ]
  },
  {
   "cell_type": "markdown",
   "id": "3a5e9c05-962b-468f-bb3b-da0c8d1fec18",
   "metadata": {},
   "source": [
    "### Baseline"
   ]
  },
  {
   "cell_type": "code",
   "execution_count": null,
   "id": "b72029af-00d0-4d99-bc73-69a34b106728",
   "metadata": {},
   "outputs": [],
   "source": [
    "target_similiarty_baseline = compute_target_similarity(\n",
    "    'Baseline',\n",
    "    result_file_stg3,\n",
    "    result_folder + model_name + '_result_baseline_stg3.csv',\n",
    "    bleurt_scorer,\n",
    "    debug_mode\n",
    ")"
   ]
  },
  {
   "cell_type": "markdown",
   "id": "443245d0-859e-4530-91ad-fe3decb9b69a",
   "metadata": {},
   "source": [
    "### Prompt Tree of Thoughts"
   ]
  },
  {
   "cell_type": "code",
   "execution_count": null,
   "id": "eed52458-45eb-49f8-8a9a-18fb9388e94a",
   "metadata": {},
   "outputs": [],
   "source": [
    "target_similiarty_prompt_tot = compute_target_similarity(\n",
    "    'Prompt ToT',\n",
    "    result_file_stg3,\n",
    "    result_folder + model_name + '_result_prompt_tot_stg3.csv',\n",
    "    bleurt_scorer,\n",
    "    debug_mode\n",
    ")"
   ]
  },
  {
   "cell_type": "markdown",
   "id": "187987ec-71e1-45d2-8144-f48a3c547c3a",
   "metadata": {},
   "source": [
    "### Graph Tree of Thoughts"
   ]
  },
  {
   "cell_type": "code",
   "execution_count": null,
   "id": "3adc6bf4-279b-42c4-b2cc-0474f0fde9b6",
   "metadata": {},
   "outputs": [],
   "source": [
    "target_similiarty_graph = compute_target_similarity(\n",
    "    'Graph ToT',\n",
    "    result_file_stg3,\n",
    "    result_folder + model_name + '_result_graph_stg3.csv',\n",
    "    bleurt_scorer,\n",
    "    debug_mode\n",
    ")"
   ]
  },
  {
   "cell_type": "markdown",
   "id": "e2301587-5a5a-484d-9635-5ecbbcd3f20f",
   "metadata": {},
   "source": [
    "### Otimizer MIPRO"
   ]
  },
  {
   "cell_type": "code",
   "execution_count": null,
   "id": "b1466f9d-f9d8-4570-9490-dc09cb1ca8fb",
   "metadata": {},
   "outputs": [],
   "source": [
    "target_similiarty_optimized = compute_target_similarity(\n",
    "    'Optimized',\n",
    "    result_file_stg3,\n",
    "    result_folder + model_name + '_result_optimizer_stg3.csv',\n",
    "    bleurt_scorer,\n",
    "    debug_mode\n",
    ")"
   ]
  },
  {
   "cell_type": "markdown",
   "id": "092bf7d1-ec4e-4e19-a19e-9b996de14db6",
   "metadata": {},
   "source": [
    "## Result Target similarity"
   ]
  },
  {
   "cell_type": "code",
   "execution_count": null,
   "id": "419e62a8-820d-49e5-aa7c-23d4c6f8ce9d",
   "metadata": {},
   "outputs": [],
   "source": [
    "target_similarity_result = pd.concat(\n",
    "    [target_similiarty_baseline, \n",
    "     target_similiarty_prompt_tot, \n",
    "     target_similiarty_graph, \n",
    "     target_similiarty_optimized]\n",
    ")"
   ]
  },
  {
   "cell_type": "code",
   "execution_count": null,
   "id": "1608e9c2-4b5d-42c5-aa4e-cd52e795baad",
   "metadata": {},
   "outputs": [],
   "source": [
    "if debug_mode == False:\n",
    "    target_similarity_result.to_excel(result_folder + model_name + '_evaluation_stg3_target.xlsx', index = False)"
   ]
  },
  {
   "cell_type": "code",
   "execution_count": 55,
   "id": "f671faae-b8bc-401c-8f69-27a3b14065b2",
   "metadata": {},
   "outputs": [],
   "source": [
    "target_similarity_result = pd.read_excel(result_folder + model_name + '_evaluation_stg3_target.xlsx')"
   ]
  },
  {
   "cell_type": "code",
   "execution_count": 198,
   "id": "388ddab5-0934-4630-a26b-7492ccd63413",
   "metadata": {},
   "outputs": [
    {
     "data": {
      "text/html": [
       "<div>\n",
       "<style scoped>\n",
       "    .dataframe tbody tr th:only-of-type {\n",
       "        vertical-align: middle;\n",
       "    }\n",
       "\n",
       "    .dataframe tbody tr th {\n",
       "        vertical-align: top;\n",
       "    }\n",
       "\n",
       "    .dataframe thead th {\n",
       "        text-align: right;\n",
       "    }\n",
       "</style>\n",
       "<table border=\"1\" class=\"dataframe\">\n",
       "  <thead>\n",
       "    <tr style=\"text-align: right;\">\n",
       "      <th></th>\n",
       "      <th>Strategy</th>\n",
       "      <th>BLEU-1</th>\n",
       "      <th>BLEU-2</th>\n",
       "      <th>BLEU</th>\n",
       "      <th>ROUGE-1</th>\n",
       "      <th>ROUGE-2</th>\n",
       "      <th>ROUGE-L</th>\n",
       "      <th>METEOR</th>\n",
       "      <th>NIST</th>\n",
       "      <th>BERT</th>\n",
       "      <th>BLEURT</th>\n",
       "    </tr>\n",
       "  </thead>\n",
       "  <tbody>\n",
       "    <tr>\n",
       "      <th>0</th>\n",
       "      <td>Baseline</td>\n",
       "      <td>0.5578</td>\n",
       "      <td>0.2640</td>\n",
       "      <td>0.1263</td>\n",
       "      <td>0.6482</td>\n",
       "      <td>0.1687</td>\n",
       "      <td>0.6477</td>\n",
       "      <td>0.3651</td>\n",
       "      <td>0.2067</td>\n",
       "      <td>0.9470</td>\n",
       "      <td>0.5997</td>\n",
       "    </tr>\n",
       "    <tr>\n",
       "      <th>1</th>\n",
       "      <td>Prompt ToT</td>\n",
       "      <td>0.5139</td>\n",
       "      <td>0.2543</td>\n",
       "      <td>0.1204</td>\n",
       "      <td>0.5980</td>\n",
       "      <td>0.1616</td>\n",
       "      <td>0.5974</td>\n",
       "      <td>0.3537</td>\n",
       "      <td>0.2016</td>\n",
       "      <td>0.9385</td>\n",
       "      <td>0.5532</td>\n",
       "    </tr>\n",
       "    <tr>\n",
       "      <th>2</th>\n",
       "      <td>Graph ToT</td>\n",
       "      <td>0.4931</td>\n",
       "      <td>0.2344</td>\n",
       "      <td>0.1138</td>\n",
       "      <td>0.5930</td>\n",
       "      <td>0.1427</td>\n",
       "      <td>0.5924</td>\n",
       "      <td>0.3423</td>\n",
       "      <td>0.1803</td>\n",
       "      <td>0.9349</td>\n",
       "      <td>0.5531</td>\n",
       "    </tr>\n",
       "    <tr>\n",
       "      <th>3</th>\n",
       "      <td>Optimized</td>\n",
       "      <td>0.5996</td>\n",
       "      <td>0.3279</td>\n",
       "      <td>0.1425</td>\n",
       "      <td>0.6822</td>\n",
       "      <td>0.2529</td>\n",
       "      <td>0.6819</td>\n",
       "      <td>0.4165</td>\n",
       "      <td>0.2639</td>\n",
       "      <td>0.9535</td>\n",
       "      <td>0.5931</td>\n",
       "    </tr>\n",
       "  </tbody>\n",
       "</table>\n",
       "</div>"
      ],
      "text/plain": [
       "     Strategy  BLEU-1  BLEU-2    BLEU  ROUGE-1  ROUGE-2  ROUGE-L  METEOR  \\\n",
       "0    Baseline  0.5578  0.2640  0.1263   0.6482   0.1687   0.6477  0.3651   \n",
       "1  Prompt ToT  0.5139  0.2543  0.1204   0.5980   0.1616   0.5974  0.3537   \n",
       "2   Graph ToT  0.4931  0.2344  0.1138   0.5930   0.1427   0.5924  0.3423   \n",
       "3   Optimized  0.5996  0.3279  0.1425   0.6822   0.2529   0.6819  0.4165   \n",
       "\n",
       "     NIST    BERT  BLEURT  \n",
       "0  0.2067  0.9470  0.5997  \n",
       "1  0.2016  0.9385  0.5532  \n",
       "2  0.1803  0.9349  0.5531  \n",
       "3  0.2639  0.9535  0.5931  "
      ]
     },
     "execution_count": 198,
     "metadata": {},
     "output_type": "execute_result"
    }
   ],
   "source": [
    "target_similarity_result.rename(columns={'BERTScore': 'BERT', 'BLEURTScore': 'BLEURT'}).round(4).head()"
   ]
  },
  {
   "cell_type": "markdown",
   "id": "2588d02b-b695-4764-9ddf-a2959cb80363",
   "metadata": {},
   "source": [
    "## Meaning similarity"
   ]
  },
  {
   "cell_type": "code",
   "execution_count": null,
   "id": "7b83c97d-6754-4362-af1c-63edb834b260",
   "metadata": {},
   "outputs": [],
   "source": [
    "def compute_meaning_similarity(strategy, gold_file, pred_file, bleurt_scorer, debug_mode = False):\n",
    "\n",
    "    df_gold = pd.read_csv(gold_file, encoding=\"utf-8\")\n",
    "    df_pred = pd.read_csv(pred_file, encoding=\"utf-8\")\n",
    "\n",
    "    df_pred = df_pred[df_pred['implied_statement'].notnull()]\n",
    "    df_pred = df_pred[df_pred['implied_statement'].notna()]    \n",
    "    \n",
    "    if debug_mode:\n",
    "        df_pred = df_pred.sample(2)\n",
    "        \n",
    "    df_gold.rename(columns={'implied_statement': 'implied_statement_gold'}, inplace=True)\n",
    "    df_pred.rename(columns={'implied_statement': 'implied_statement_pred'}, inplace=True)\n",
    "    \n",
    "    df_gold = df_gold[df_gold['post_id'].isin(df_pred['post_id'])]\n",
    "    df_pred = df_pred[df_pred['post_id'].isin(df_gold['post_id'])]\n",
    "    \n",
    "    df_gold.sort_values(\"post_id\", axis=0, ascending=True, inplace=True)\n",
    "    df_pred.sort_values(\"post_id\", axis=0, ascending=True, inplace=True)\n",
    "    \n",
    "    df_merge = pd.merge(df_gold, df_pred, on = \"post_id\")\n",
    "    df_meaning = df_merge[['post_id', 'post', 'implied_statement_gold', 'implied_statement_pred']]\n",
    "    \n",
    "    # Compute metrics\n",
    "    similarity_metrics = df_meaning.apply(lambda row: compute_similarity_metrics(row['implied_statement_pred'], row['implied_statement_gold'], bleurt_scorer), axis=1)\n",
    "    \n",
    "    # Flatten the metrics into separate columns\n",
    "    metrics_df = pd.DataFrame(similarity_metrics.tolist())\n",
    "    \n",
    "    # Combine the original DataFrame with the metrics\n",
    "    df_meaning_result = pd.concat([df_meaning, metrics_df], axis=1)\n",
    "    df_meaning_result_max = df_meaning_result.groupby('post_id')[df_meaning_result.columns[4: ].tolist()].max()\n",
    "    \n",
    "    # Average results\n",
    "    df_result = df_meaning_result_max[1: ].mean().to_frame().T\n",
    "    df_result.insert(loc = 0, column = 'Strategy', value = strategy)\n",
    "\n",
    "    return df_result\n",
    "    "
   ]
  },
  {
   "cell_type": "markdown",
   "id": "e9e6d1e7-c3f1-442e-b8a2-90be626e64d4",
   "metadata": {},
   "source": [
    "### Baseline"
   ]
  },
  {
   "cell_type": "code",
   "execution_count": null,
   "id": "7a5b0b48-ee9f-4a3d-a0b5-38c1be53c17c",
   "metadata": {},
   "outputs": [],
   "source": [
    "meaning_similiarty_baseline = compute_meaning_similarity(\n",
    "    'Baseline',\n",
    "    result_file_stg3,\n",
    "    result_folder + model_name + '_result_baseline_stg3.csv',\n",
    "    bleurt_scorer,\n",
    "    debug_mode\n",
    ")"
   ]
  },
  {
   "cell_type": "markdown",
   "id": "9fb403e0-3845-4848-b13d-b3160310a6eb",
   "metadata": {},
   "source": [
    "### Prompt Tree of Thoughts"
   ]
  },
  {
   "cell_type": "code",
   "execution_count": null,
   "id": "db7490d0-da71-44e1-ab00-f622db808b48",
   "metadata": {},
   "outputs": [],
   "source": [
    "meaning_similiarty_prompt_tot = compute_meaning_similarity(\n",
    "    'Prompt ToT',\n",
    "    result_file_stg3,\n",
    "    result_folder +  model_name + '_result_prompt_tot_stg3.csv',\n",
    "    bleurt_scorer,\n",
    "    debug_mode\n",
    ")"
   ]
  },
  {
   "cell_type": "markdown",
   "id": "cd6dd427-7b38-4b90-b537-1926f5803f3a",
   "metadata": {},
   "source": [
    "### Graph Tree of Thoughts"
   ]
  },
  {
   "cell_type": "code",
   "execution_count": null,
   "id": "47a34976-ce55-4b3b-8d40-2281d2922e30",
   "metadata": {},
   "outputs": [],
   "source": [
    "meaning_similiarty_graph = compute_meaning_similarity(\n",
    "    'Graph ToT',\n",
    "    result_file_stg3,\n",
    "    result_folder + model_name + '_result_graph_stg3.csv',\n",
    "    bleurt_scorer,\n",
    "    debug_mode\n",
    ")"
   ]
  },
  {
   "cell_type": "markdown",
   "id": "bfea9527-6f8c-4362-bd8c-a11691d9bc7c",
   "metadata": {},
   "source": [
    "### Optimizer MIPRO"
   ]
  },
  {
   "cell_type": "code",
   "execution_count": null,
   "id": "3bd18703-5278-4645-abd9-c47b0d6265f7",
   "metadata": {},
   "outputs": [],
   "source": [
    "meaning_similiarty_optimized = compute_meaning_similarity(\n",
    "    'Optimized',\n",
    "    result_file_stg3,\n",
    "    result_folder + model_name + '_result_optimizer_stg3.csv',\n",
    "    bleurt_scorer,\n",
    "    debug_mode\n",
    ")"
   ]
  },
  {
   "cell_type": "markdown",
   "id": "efc03852-ec38-4bf2-a052-58e89ff0a8a9",
   "metadata": {},
   "source": [
    "## Results Meaning similarity"
   ]
  },
  {
   "cell_type": "code",
   "execution_count": null,
   "id": "d524b153-d01f-4a1c-8348-a315f31f204e",
   "metadata": {},
   "outputs": [],
   "source": [
    "meaning_similarity_result = pd.concat(\n",
    "    [meaning_similiarty_baseline,\n",
    "     meaning_similiarty_prompt_tot, \n",
    "     meaning_similiarty_graph, \n",
    "     meaning_similiarty_optimized]\n",
    ")"
   ]
  },
  {
   "cell_type": "code",
   "execution_count": null,
   "id": "76531402-cfcf-4e02-87f1-975253bd8a90",
   "metadata": {},
   "outputs": [],
   "source": [
    "if debug_mode == False:\n",
    "    meaning_similarity_result.to_excel(result_folder + model_name + '_evaluation_stg3_meaning.xlsx', index = False)"
   ]
  },
  {
   "cell_type": "code",
   "execution_count": 57,
   "id": "4373e25a-0d17-42c8-8a1a-814643049a1d",
   "metadata": {},
   "outputs": [],
   "source": [
    "meaning_similarity_result = pd.read_excel(result_folder + model_name + '_evaluation_stg3_meaning.xlsx')"
   ]
  },
  {
   "cell_type": "code",
   "execution_count": 199,
   "id": "344e1eeb-95be-4129-8c3d-fec3e0030163",
   "metadata": {},
   "outputs": [
    {
     "data": {
      "text/html": [
       "<div>\n",
       "<style scoped>\n",
       "    .dataframe tbody tr th:only-of-type {\n",
       "        vertical-align: middle;\n",
       "    }\n",
       "\n",
       "    .dataframe tbody tr th {\n",
       "        vertical-align: top;\n",
       "    }\n",
       "\n",
       "    .dataframe thead th {\n",
       "        text-align: right;\n",
       "    }\n",
       "</style>\n",
       "<table border=\"1\" class=\"dataframe\">\n",
       "  <thead>\n",
       "    <tr style=\"text-align: right;\">\n",
       "      <th></th>\n",
       "      <th>Strategy</th>\n",
       "      <th>BLEU-1</th>\n",
       "      <th>BLEU-2</th>\n",
       "      <th>BLEU</th>\n",
       "      <th>ROUGE-1</th>\n",
       "      <th>ROUGE-2</th>\n",
       "      <th>ROUGE-L</th>\n",
       "      <th>METEOR</th>\n",
       "      <th>NIST</th>\n",
       "      <th>BERT</th>\n",
       "      <th>BLEURT</th>\n",
       "    </tr>\n",
       "  </thead>\n",
       "  <tbody>\n",
       "    <tr>\n",
       "      <th>0</th>\n",
       "      <td>Baseline</td>\n",
       "      <td>0.3123</td>\n",
       "      <td>0.2013</td>\n",
       "      <td>0.1105</td>\n",
       "      <td>0.4253</td>\n",
       "      <td>0.1903</td>\n",
       "      <td>0.4132</td>\n",
       "      <td>0.3083</td>\n",
       "      <td>0.6514</td>\n",
       "      <td>0.9135</td>\n",
       "      <td>0.4863</td>\n",
       "    </tr>\n",
       "    <tr>\n",
       "      <th>1</th>\n",
       "      <td>Prompt ToT</td>\n",
       "      <td>0.2762</td>\n",
       "      <td>0.1699</td>\n",
       "      <td>0.0842</td>\n",
       "      <td>0.3762</td>\n",
       "      <td>0.1583</td>\n",
       "      <td>0.3645</td>\n",
       "      <td>0.3037</td>\n",
       "      <td>0.6085</td>\n",
       "      <td>0.9049</td>\n",
       "      <td>0.4676</td>\n",
       "    </tr>\n",
       "    <tr>\n",
       "      <th>2</th>\n",
       "      <td>Graph ToT</td>\n",
       "      <td>0.2715</td>\n",
       "      <td>0.1673</td>\n",
       "      <td>0.0829</td>\n",
       "      <td>0.3765</td>\n",
       "      <td>0.1547</td>\n",
       "      <td>0.3632</td>\n",
       "      <td>0.2965</td>\n",
       "      <td>0.5925</td>\n",
       "      <td>0.9055</td>\n",
       "      <td>0.4734</td>\n",
       "    </tr>\n",
       "    <tr>\n",
       "      <th>3</th>\n",
       "      <td>Optimized</td>\n",
       "      <td>0.4101</td>\n",
       "      <td>0.2864</td>\n",
       "      <td>0.1637</td>\n",
       "      <td>0.5017</td>\n",
       "      <td>0.3028</td>\n",
       "      <td>0.4893</td>\n",
       "      <td>0.4200</td>\n",
       "      <td>0.8954</td>\n",
       "      <td>0.9247</td>\n",
       "      <td>0.5212</td>\n",
       "    </tr>\n",
       "  </tbody>\n",
       "</table>\n",
       "</div>"
      ],
      "text/plain": [
       "     Strategy  BLEU-1  BLEU-2    BLEU  ROUGE-1  ROUGE-2  ROUGE-L  METEOR  \\\n",
       "0    Baseline  0.3123  0.2013  0.1105   0.4253   0.1903   0.4132  0.3083   \n",
       "1  Prompt ToT  0.2762  0.1699  0.0842   0.3762   0.1583   0.3645  0.3037   \n",
       "2   Graph ToT  0.2715  0.1673  0.0829   0.3765   0.1547   0.3632  0.2965   \n",
       "3   Optimized  0.4101  0.2864  0.1637   0.5017   0.3028   0.4893  0.4200   \n",
       "\n",
       "     NIST    BERT  BLEURT  \n",
       "0  0.6514  0.9135  0.4863  \n",
       "1  0.6085  0.9049  0.4676  \n",
       "2  0.5925  0.9055  0.4734  \n",
       "3  0.8954  0.9247  0.5212  "
      ]
     },
     "execution_count": 199,
     "metadata": {},
     "output_type": "execute_result"
    }
   ],
   "source": [
    "meaning_similarity_result.rename(columns={'BERTScore': 'BERT', 'BLEURTScore': 'BLEURT'}).round(4).head()"
   ]
  },
  {
   "cell_type": "code",
   "execution_count": null,
   "id": "af345a03-6ed9-4ef7-92f4-fc6c6d34c556",
   "metadata": {},
   "outputs": [],
   "source": []
  },
  {
   "cell_type": "markdown",
   "id": "4794d84f-236d-4940-9fb1-f0c1c00284ca",
   "metadata": {},
   "source": [
    "### Qualitative analysis (target, MIPRO results)"
   ]
  },
  {
   "cell_type": "code",
   "execution_count": 207,
   "id": "6e49e73e-370d-4455-a4a2-b8b7ba90e009",
   "metadata": {},
   "outputs": [],
   "source": [
    "df_gold_stg3 = pd.read_csv(data_folder + \"implicit_hate_test_stg3.csv\", encoding = 'utf-8')\n",
    "df_pred_stg3 = pd.read_csv(result_folder + model_name + \"_result_optimizer_stg3.csv\", encoding = 'utf-8')"
   ]
  },
  {
   "cell_type": "code",
   "execution_count": 208,
   "id": "a567797a-2761-46ee-9928-01d13a5989a0",
   "metadata": {},
   "outputs": [],
   "source": [
    "df_gold_stg3['target'] = df_gold_stg3['target'].str.lower()\n",
    "df_pred_stg3['target'] = df_pred_stg3['target'].str.lower()"
   ]
  },
  {
   "cell_type": "code",
   "execution_count": 209,
   "id": "b9b22d91-9fb2-4de3-96ab-fa8bd91a5024",
   "metadata": {},
   "outputs": [
    {
     "data": {
      "image/png": "[encoded data removed]",
      "text/plain": [
       "<Figure size 640x480 with 1 Axes>"
      ]
     },
     "metadata": {},
     "output_type": "display_data"
    }
   ],
   "source": [
    "p = df_gold_stg3.groupby(['target'])['post_id'].count().div(len(df_gold_stg3)).multiply(100).sort_values().tail(10).plot(\n",
    "    kind = 'barh', \n",
    "    xlabel='Number of posts (%)', \n",
    "    ylabel = 'Target',  \n",
    "    title = 'Most frequent targets \\n'\n",
    ")                                                                               "
   ]
  },
  {
   "cell_type": "code",
   "execution_count": 210,
   "id": "20806c92-a1ff-4887-9685-8f1389cbe851",
   "metadata": {},
   "outputs": [
    {
     "data": {
      "image/png": "[encoded data removed]",
      "text/plain": [
       "<Figure size 640x480 with 1 Axes>"
      ]
     },
     "metadata": {},
     "output_type": "display_data"
    }
   ],
   "source": [
    "p = df_pred_stg3.groupby(['target'])['post_id'].count().div(len(df_pred_stg3)).multiply(100).sort_values().tail(10).plot(\n",
    "    kind = 'barh', \n",
    "    xlabel='Number of posts (%)', \n",
    "    ylabel = 'Target',  \n",
    "    title = 'Most predicted targets \\n'\n",
    ")"
   ]
  },
  {
   "cell_type": "markdown",
   "id": "5072a6fc-d37d-45be-aada-883d463d43c5",
   "metadata": {},
   "source": [
    "#### Immigrants"
   ]
  },
  {
   "cell_type": "code",
   "execution_count": 63,
   "id": "0d46341d-3ed9-42c2-bbf8-6cc2c1471e79",
   "metadata": {},
   "outputs": [],
   "source": [
    "df_immigrants = df_gold_stg3[df_gold_stg3['target'] == 'immigrants']"
   ]
  },
  {
   "cell_type": "code",
   "execution_count": 64,
   "id": "ac1047f0-611d-4563-ba69-f737a7cef973",
   "metadata": {},
   "outputs": [],
   "source": [
    "df_pred_immigrants = df_pred_stg3[df_pred_stg3['post_id'].isin(df_immigrants['post_id'])]\n",
    "df_pred_immigrants = df_pred_immigrants[df_pred_immigrants['target'] != 'immigrants']"
   ]
  },
  {
   "cell_type": "code",
   "execution_count": 65,
   "id": "08873fa1-a29e-4a0b-bb90-5d963402e2eb",
   "metadata": {},
   "outputs": [
    {
     "data": {
      "image/png": "[encoded data removed]",
      "text/plain": [
       "<Figure size 640x480 with 1 Axes>"
      ]
     },
     "metadata": {},
     "output_type": "display_data"
    }
   ],
   "source": [
    "p = df_pred_immigrants.groupby(['target'])['post_id'].count().sort_values().tail(10).plot(\n",
    "    kind = 'barh', \n",
    "    xlabel='Number of posts', \n",
    "    ylabel = 'Target',  \n",
    "    title = 'Most frequent targets \\n'\n",
    ") "
   ]
  },
  {
   "cell_type": "code",
   "execution_count": 110,
   "id": "7d8f58dd-11d5-481e-ada6-2f6f10ad8ce3",
   "metadata": {},
   "outputs": [
    {
     "data": {
      "text/html": [
       "<div>\n",
       "<style scoped>\n",
       "    .dataframe tbody tr th:only-of-type {\n",
       "        vertical-align: middle;\n",
       "    }\n",
       "\n",
       "    .dataframe tbody tr th {\n",
       "        vertical-align: top;\n",
       "    }\n",
       "\n",
       "    .dataframe thead th {\n",
       "        text-align: right;\n",
       "    }\n",
       "</style>\n",
       "<table border=\"1\" class=\"dataframe\">\n",
       "  <thead>\n",
       "    <tr style=\"text-align: right;\">\n",
       "      <th></th>\n",
       "      <th>post_id</th>\n",
       "      <th>target</th>\n",
       "      <th>implied_statement</th>\n",
       "    </tr>\n",
       "  </thead>\n",
       "  <tbody>\n",
       "    <tr>\n",
       "      <th>554</th>\n",
       "      <td>20333</td>\n",
       "      <td>indigenous people</td>\n",
       "      <td>Indigenous people are harmful and deserve reta...</td>\n",
       "    </tr>\n",
       "    <tr>\n",
       "      <th>455</th>\n",
       "      <td>121</td>\n",
       "      <td>african refugees</td>\n",
       "      <td>African refugees are rapists.</td>\n",
       "    </tr>\n",
       "    <tr>\n",
       "      <th>129</th>\n",
       "      <td>19171</td>\n",
       "      <td>muslims</td>\n",
       "      <td>Muslims are uncivilized.</td>\n",
       "    </tr>\n",
       "    <tr>\n",
       "      <th>302</th>\n",
       "      <td>11267</td>\n",
       "      <td>illegal immigrants</td>\n",
       "      <td>Illegal Immigrants are a problem.</td>\n",
       "    </tr>\n",
       "    <tr>\n",
       "      <th>413</th>\n",
       "      <td>20724</td>\n",
       "      <td>black people</td>\n",
       "      <td>Black people are uncivilized.</td>\n",
       "    </tr>\n",
       "    <tr>\n",
       "      <th>27</th>\n",
       "      <td>5711</td>\n",
       "      <td>third world people</td>\n",
       "      <td>Third world people are unintelligent.</td>\n",
       "    </tr>\n",
       "    <tr>\n",
       "      <th>543</th>\n",
       "      <td>20261</td>\n",
       "      <td>mexicans</td>\n",
       "      <td>Mexicans are illegal immigrants.</td>\n",
       "    </tr>\n",
       "    <tr>\n",
       "      <th>726</th>\n",
       "      <td>6730</td>\n",
       "      <td>illegal immigrants</td>\n",
       "      <td>Illegal Immigrants are invading.</td>\n",
       "    </tr>\n",
       "    <tr>\n",
       "      <th>558</th>\n",
       "      <td>19189</td>\n",
       "      <td>minorities</td>\n",
       "      <td>Minorities are animals.</td>\n",
       "    </tr>\n",
       "    <tr>\n",
       "      <th>5</th>\n",
       "      <td>20730</td>\n",
       "      <td>unspecified</td>\n",
       "      <td>The unspecified group should be harmed.</td>\n",
       "    </tr>\n",
       "  </tbody>\n",
       "</table>\n",
       "</div>"
      ],
      "text/plain": [
       "     post_id              target  \\\n",
       "554    20333   indigenous people   \n",
       "455      121    african refugees   \n",
       "129    19171             muslims   \n",
       "302    11267  illegal immigrants   \n",
       "413    20724        black people   \n",
       "27      5711  third world people   \n",
       "543    20261            mexicans   \n",
       "726     6730  illegal immigrants   \n",
       "558    19189          minorities   \n",
       "5      20730         unspecified   \n",
       "\n",
       "                                     implied_statement  \n",
       "554  Indigenous people are harmful and deserve reta...  \n",
       "455                      African refugees are rapists.  \n",
       "129                           Muslims are uncivilized.  \n",
       "302                  Illegal Immigrants are a problem.  \n",
       "413                      Black people are uncivilized.  \n",
       "27               Third world people are unintelligent.  \n",
       "543                   Mexicans are illegal immigrants.  \n",
       "726                   Illegal Immigrants are invading.  \n",
       "558                            Minorities are animals.  \n",
       "5              The unspecified group should be harmed.  "
      ]
     },
     "execution_count": 110,
     "metadata": {},
     "output_type": "execute_result"
    }
   ],
   "source": [
    "df_pred_immigrants[df_pred_immigrants['target'] != 'immigrants'].sample(10)"
   ]
  },
  {
   "cell_type": "code",
   "execution_count": null,
   "id": "80e9d4d5-9998-4864-ab71-c36230ebc9d1",
   "metadata": {},
   "outputs": [],
   "source": []
  },
  {
   "cell_type": "markdown",
   "id": "d87b8c01-6ff6-4c0b-a18f-a5d370eff930",
   "metadata": {},
   "source": [
    "#### Example of post correctly classified by Tree of Thought Graph"
   ]
  },
  {
   "cell_type": "code",
   "execution_count": 113,
   "id": "1d2e344c-2257-44e1-9d68-98d3ed3ca51b",
   "metadata": {},
   "outputs": [],
   "source": [
    "df_merge_stg3 = pd.merge(df_gold_stg3, df_pred_stg3.rename(columns={'target': 'target_pred', 'implied_statement': 'implied_statemen_pred'}), on = 'post_id')"
   ]
  },
  {
   "cell_type": "code",
   "execution_count": 115,
   "id": "3233499a-168b-4871-b91e-6ab392b69f3d",
   "metadata": {},
   "outputs": [
    {
     "data": {
      "text/html": [
       "<div>\n",
       "<style scoped>\n",
       "    .dataframe tbody tr th:only-of-type {\n",
       "        vertical-align: middle;\n",
       "    }\n",
       "\n",
       "    .dataframe tbody tr th {\n",
       "        vertical-align: top;\n",
       "    }\n",
       "\n",
       "    .dataframe thead th {\n",
       "        text-align: right;\n",
       "    }\n",
       "</style>\n",
       "<table border=\"1\" class=\"dataframe\">\n",
       "  <thead>\n",
       "    <tr style=\"text-align: right;\">\n",
       "      <th></th>\n",
       "      <th>post_id</th>\n",
       "      <th>post</th>\n",
       "      <th>target</th>\n",
       "      <th>implied_statement</th>\n",
       "      <th>target_pred</th>\n",
       "      <th>implied_statemen_pred</th>\n",
       "    </tr>\n",
       "  </thead>\n",
       "  <tbody>\n",
       "    <tr>\n",
       "      <th>0</th>\n",
       "      <td>1006</td>\n",
       "      <td>new  \" white privilege tax \" \" for all white ...</td>\n",
       "      <td>minorities</td>\n",
       "      <td>Minorities promote racism.</td>\n",
       "      <td>white people</td>\n",
       "      <td>White people are privileged.</td>\n",
       "    </tr>\n",
       "    <tr>\n",
       "      <th>1</th>\n",
       "      <td>1006</td>\n",
       "      <td>new  \" white privilege tax \" \" for all white ...</td>\n",
       "      <td>minorities</td>\n",
       "      <td>Minorities are oppressors</td>\n",
       "      <td>white people</td>\n",
       "      <td>White people are privileged.</td>\n",
       "    </tr>\n",
       "    <tr>\n",
       "      <th>2</th>\n",
       "      <td>1173</td>\n",
       "      <td>agree . i'm sick of these self-hating behavior...</td>\n",
       "      <td>white people</td>\n",
       "      <td>White people hate other white people.</td>\n",
       "      <td>white people</td>\n",
       "      <td>White people are self-destructive.</td>\n",
       "    </tr>\n",
       "    <tr>\n",
       "      <th>3</th>\n",
       "      <td>1173</td>\n",
       "      <td>agree . i'm sick of these self-hating behavior...</td>\n",
       "      <td>minorities</td>\n",
       "      <td>Minorities push shame on to whites.</td>\n",
       "      <td>white people</td>\n",
       "      <td>White people are self-destructive.</td>\n",
       "    </tr>\n",
       "    <tr>\n",
       "      <th>4</th>\n",
       "      <td>4917</td>\n",
       "      <td>blacks have the best party time in white count...</td>\n",
       "      <td>black people</td>\n",
       "      <td>Black people are on welfare.</td>\n",
       "      <td>black people</td>\n",
       "      <td>Black people are exploitative.</td>\n",
       "    </tr>\n",
       "  </tbody>\n",
       "</table>\n",
       "</div>"
      ],
      "text/plain": [
       "   post_id                                               post        target  \\\n",
       "0     1006   new  \" white privilege tax \" \" for all white ...    minorities   \n",
       "1     1006   new  \" white privilege tax \" \" for all white ...    minorities   \n",
       "2     1173  agree . i'm sick of these self-hating behavior...  white people   \n",
       "3     1173  agree . i'm sick of these self-hating behavior...    minorities   \n",
       "4     4917  blacks have the best party time in white count...  black people   \n",
       "\n",
       "                       implied_statement   target_pred  \\\n",
       "0             Minorities promote racism.  white people   \n",
       "1              Minorities are oppressors  white people   \n",
       "2  White people hate other white people.  white people   \n",
       "3    Minorities push shame on to whites.  white people   \n",
       "4           Black people are on welfare.  black people   \n",
       "\n",
       "                implied_statemen_pred  \n",
       "0        White people are privileged.  \n",
       "1        White people are privileged.  \n",
       "2  White people are self-destructive.  \n",
       "3  White people are self-destructive.  \n",
       "4      Black people are exploitative.  "
      ]
     },
     "execution_count": 115,
     "metadata": {},
     "output_type": "execute_result"
    }
   ],
   "source": [
    "df_merge_stg3.head()"
   ]
  },
  {
   "cell_type": "code",
   "execution_count": 116,
   "id": "153f4185-6f06-4649-90f0-20c822f6df8b",
   "metadata": {},
   "outputs": [],
   "source": [
    "correct_stg1 = df_merge_stg1[df_merge_stg1['class'] == df_merge_stg1['class_pred']]['post_id'].to_list()"
   ]
  },
  {
   "cell_type": "code",
   "execution_count": 117,
   "id": "25321803-a032-48d2-bf52-603f9e797b19",
   "metadata": {},
   "outputs": [],
   "source": [
    "correct_stg2 = df_merge_stg2[df_merge_stg2['implicit_class'] == df_merge_stg2['implicit_class_pred']]['post_id'].to_list()"
   ]
  },
  {
   "cell_type": "code",
   "execution_count": 118,
   "id": "d15324d0-6d8b-4201-828a-ae59931e8eb7",
   "metadata": {},
   "outputs": [],
   "source": [
    "correct_stg3 =df_merge_stg3[df_merge_stg3['target'] == df_merge_stg3['target_pred']]['post_id'].to_list()"
   ]
  },
  {
   "cell_type": "code",
   "execution_count": 119,
   "id": "f9956efc-612d-497c-a42c-509a498289e2",
   "metadata": {},
   "outputs": [],
   "source": [
    "correct = list(set(correct_stg1) & set(correct_stg2) & set(correct_stg3))"
   ]
  },
  {
   "cell_type": "code",
   "execution_count": 120,
   "id": "dee6ac07-abbb-4ef7-9453-648a403a6922",
   "metadata": {},
   "outputs": [
    {
     "data": {
      "text/plain": [
       "240"
      ]
     },
     "execution_count": 120,
     "metadata": {},
     "output_type": "execute_result"
    }
   ],
   "source": [
    "len(correct)"
   ]
  },
  {
   "cell_type": "code",
   "execution_count": 121,
   "id": "60fbe9df-f747-4727-b116-a980a0ff5b36",
   "metadata": {},
   "outputs": [
    {
     "data": {
      "text/plain": [
       "19457"
      ]
     },
     "execution_count": 121,
     "metadata": {},
     "output_type": "execute_result"
    }
   ],
   "source": [
    "correct[0]"
   ]
  },
  {
   "cell_type": "code",
   "execution_count": 192,
   "id": "d67a199e-0e48-48cd-b576-df868516a30b",
   "metadata": {},
   "outputs": [],
   "source": [
    "line_sep = '\\n' + '-' * 100"
   ]
  },
  {
   "cell_type": "code",
   "execution_count": 193,
   "id": "54191830-bf67-42e5-93fd-3b8f060e4705",
   "metadata": {},
   "outputs": [
    {
     "name": "stdout",
     "output_type": "stream",
     "text": [
      "\n",
      "----------------------------------------------------------------------------------------------------\n",
      "Post\n",
      "\n",
      "the best medicine for perverts is to ship to isil..they will take good care of u..\n",
      "\n",
      "----------------------------------------------------------------------------------------------------\n",
      "Abuse subtypes\n",
      "\n",
      "The text contains implicit abusive language that falls under the subtype:\n",
      "\n",
      "6. Call for Action: Statements urging actions, often harmful, against a group (e.g., \"He should be given 5000 volts!\").\n",
      "\n",
      "The text suggests sending individuals labeled as \"perverts\" to ISIL, implying that they will be harmed or mistreated, which is a call for harmful action against a group.\n",
      "\n",
      "----------------------------------------------------------------------------------------------------\n",
      "World knowledge\n",
      "\n",
      "The text falls under the category of \"Other Implicit Abuse.\" The statement suggests that individuals deemed \"perverts\" should be sent to ISIL (another name for ISIS), implying that they will be severely punished or killed. This requires cultural and contextual knowledge to understand the abusive implication.\n",
      "\n",
      "----------------------------------------------------------------------------------------------------\n",
      "Generate interpretations\n",
      "\n",
      "Sure, let's analyze the text \"the best medicine for perverts is to ship to isil..they will take good care of u..\" and generate multiple plausible interpretations of its intended meaning, along with the reasoning paths that support each interpretation.\n",
      "\n",
      "### Interpretation 1: Call for Harmful Action\n",
      "**Interpretation:** The text is advocating for harmful action against individuals labeled as \"perverts\" by suggesting they should be sent to ISIL, where they will be severely punished or killed.\n",
      "\n",
      "**Reasoning Path:**\n",
      "1. **Contextual Knowledge:** ISIL (ISIS) is known for its brutal and violent actions, including torture and execution.\n",
      "2. **Implicit Meaning:** Sending someone to ISIL implies that they will be subjected to severe harm or death.\n",
      "3. **Call for Action:** The phrase \"the best medicine\" suggests a solution or remedy, and \"ship to isil\" indicates a deliberate action.\n",
      "4. **Abusive Implication:** The statement is abusive because it calls for harmful action against a specific group.\n",
      "\n",
      "### Interpretation 2: Sarcastic or Dark Humor\n",
      "**Interpretation:** The text is intended as dark humor or sarcasm, not to be taken literally, but still conveys a negative sentiment towards the group labeled as \"perverts.\"\n",
      "\n",
      "**Reasoning Path:**\n",
      "1. **Tone and Language:** The use of \"the best medicine\" and \"they will take good care of u\" could be interpreted as sarcastic.\n",
      "2. **Contextual Knowledge:** Dark humor often uses extreme scenarios to make a point, even if not meant literally.\n",
      "3. **Implicit Meaning:** The humor is derived from the absurdity and extremity of the suggestion, but it still carries an underlying negative sentiment.\n",
      "4. **Abusive Implication:** Even if not literal, the humor is abusive because it dehumanizes and ridicules the targeted group.\n",
      "\n",
      "### Interpretation 3: Metaphorical Expression of Disapproval\n",
      "**Interpretation:** The text is a metaphorical expression of strong disapproval or disgust towards individuals labeled as \"perverts,\" using an extreme example to convey the intensity of the sentiment.\n",
      "\n",
      "**Reasoning Path:**\n",
      "1. **Metaphorical Language:** The phrase \"ship to isil\" is used metaphorically to express extreme disapproval.\n",
      "2. **Contextual Knowledge:** ISIL is used as a symbol of extreme punishment or retribution.\n",
      "3. **Implicit Meaning:** The text is not a literal call for action but a way to express strong negative feelings.\n",
      "4. **Abusive Implication:** The metaphor is abusive because it uses a violent and harmful scenario to convey disapproval, reinforcing negative stereotypes.\n",
      "\n",
      "### Interpretation 4: Provocation or Shock Value\n",
      "**Interpretation:** The text is intended to provoke or shock the reader, using an extreme and controversial statement to draw attention or elicit a strong reaction.\n",
      "\n",
      "**Reasoning Path:**\n",
      "1. **Shock Value:** The mention of ISIL and the suggestion of sending individuals there is shocking and provocative.\n",
      "2. **Contextual Knowledge:** Provocative statements often use extreme examples to grab attention.\n",
      "3. **Implicit Meaning:** The text aims to provoke a reaction rather than convey a literal call for action.\n",
      "4. **Abusive Implication:** The provocation is abusive because it uses a harmful and violent scenario to make a point, which can be offensive and hurtful.\n",
      "\n",
      "### Interpretation 5: Expression of Frustration\n",
      "**Interpretation:** The text is an expression of frustration or anger towards individuals labeled as \"perverts,\" using an extreme example to vent these feelings.\n",
      "\n",
      "**Reasoning Path:**\n",
      "1. **Emotional Expression:** The text reflects strong emotions of frustration or anger.\n",
      "2. **Contextual Knowledge:** Extreme statements are sometimes used to express intense emotions.\n",
      "3. **Implicit Meaning:** The text is not a literal call for action but a way to vent strong feelings.\n",
      "4. **Abusive Implication:** The expression is abusive because it uses a harmful and violent scenario to convey frustration, which can be offensive and dehumanizing.\n",
      "\n",
      "Each of these interpretations provides a different lens through which to understand the text's intended meaning, but all highlight the abusive nature of the statement.\n",
      "\n",
      "----------------------------------------------------------------------------------------------------\n",
      "Evaluate interpretations\n",
      "\n",
      "Class: implicit_hate\n",
      "Confidence: 0.95\n",
      "Explanation: The text advocates for harmful action against individuals labeled as 'perverts' by suggesting they should be sent to ISIL, where they will be severely punished or killed. This interpretation is supported by the contextual knowledge of ISIL's brutal actions and the implicit meaning of sending someone to ISIL, which implies severe harm or death. The phrase 'the best medicine' suggests a solution or remedy, and 'ship to isil' indicates a deliberate action, making the statement abusive.\n",
      "\n",
      "----------------------------------------------------------------------------------------------------\n",
      "Classify implicit hate\n",
      "\n",
      "Implicit hate class: incitement\n",
      "Explanation: The text advocates for harmful action against individuals labeled as 'perverts' by suggesting they should be sent to ISIL, where they will be severely punished or killed. This interpretation is supported by the contextual knowledge of ISIL's brutal actions and the implicit meaning of sending someone to ISIL, which implies severe harm or death. The phrase 'the best medicine' suggests a solution or remedy, and 'ship to isil' indicates a deliberate action, making the statement abusive.\n",
      "\n",
      "----------------------------------------------------------------------------------------------------\n",
      "Identify implied meaning\n",
      "\n",
      "Targeted group: Perverts\n",
      "Implied statement: Perverts should be severely punished or killed.\n"
     ]
    }
   ],
   "source": [
    "filename = result_folder + '/responses/mistral_19457.json'\n",
    "with open(filename, 'r') as f:\n",
    "    text = f.read()\n",
    "    obj = json.loads(text)\n",
    "    hate = eval(obj['hate_class']['repr'])\n",
    "\n",
    "print(line_sep)\n",
    "print('Post\\n\\n' + obj['post'])\n",
    "print(line_sep)\n",
    "print('Abuse subtypes\\n\\n' + obj['abuse_subtypes']['kwargs']['content'])\n",
    "print(line_sep)\n",
    "print('World knowledge\\n\\n' + obj['world_knowledge']['kwargs']['content'])\n",
    "print(line_sep)\n",
    "print('Generate interpretations\\n\\n' + obj['interpretations']['kwargs']['content'])\n",
    "print(line_sep)\n",
    "print('Evaluate interpretations\\n')\n",
    "hate = eval(obj['hate_class']['repr'])\n",
    "print('Class: ' + hate.hate_class) \n",
    "print('Confidence: ' + str(hate.confidence))\n",
    "print('Explanation: ' + hate.explanation) \n",
    "print(line_sep)\n",
    "print('Classify implicit hate\\n')\n",
    "implicit_hate_class = eval(obj['implicit_hate_class']['repr'])\n",
    "print('Implicit hate class: ' + implicit_hate_class.implicit_class_1)\n",
    "print('Explanation: '+ implicit_hate_class.explanation)\n",
    "print(line_sep)\n",
    "print('Identify implied meaning\\n')\n",
    "implied_meaning = eval(obj['implied_meaning']['repr'])\n",
    "print('Targeted group: ' + implied_meaning.targeted_group)\n",
    "print('Implied statement: ' +implied_meaning.implied_statement)"
   ]
  },
  {
   "cell_type": "code",
   "execution_count": null,
   "id": "3be77474-c67b-4206-afd8-9b1079a4b964",
   "metadata": {},
   "outputs": [],
   "source": []
  },
  {
   "cell_type": "code",
   "execution_count": 148,
   "id": "592edbb8-79b0-4834-a01e-9d679c58b938",
   "metadata": {},
   "outputs": [],
   "source": []
  },
  {
   "cell_type": "code",
   "execution_count": 133,
   "id": "9bf1c3dc-8978-42ee-8d4d-92219a9f2ea2",
   "metadata": {},
   "outputs": [],
   "source": [
    "    "
   ]
  },
  {
   "cell_type": "code",
   "execution_count": null,
   "id": "2d2326de-a148-49c4-9b2d-5dfd49041ec8",
   "metadata": {},
   "outputs": [],
   "source": []
  },
  {
   "cell_type": "code",
   "execution_count": null,
   "id": "456c1888-674a-4100-94d2-2b9cf1aca122",
   "metadata": {},
   "outputs": [],
   "source": []
  },
  {
   "cell_type": "code",
   "execution_count": null,
   "id": "ff78ab1e-281f-4a4b-bb3e-eccbe4f7668c",
   "metadata": {},
   "outputs": [],
   "source": []
  },
  {
   "cell_type": "code",
   "execution_count": null,
   "id": "97ac61d5-4304-4d6b-a02f-1ee8f15dc780",
   "metadata": {},
   "outputs": [],
   "source": []
  }
 ],
 "metadata": {
  "kernelspec": {
   "display_name": "Python 3 (ipykernel)",
   "language": "python",
   "name": "python3"
  },
  "language_info": {
   "codemirror_mode": {
    "name": "ipython",
    "version": 3
   },
   "file_extension": ".py",
   "mimetype": "text/x-python",
   "name": "python",
   "nbconvert_exporter": "python",
   "pygments_lexer": "ipython3",
   "version": "3.12.3"
  }
 },
 "nbformat": 4,
 "nbformat_minor": 5
}
